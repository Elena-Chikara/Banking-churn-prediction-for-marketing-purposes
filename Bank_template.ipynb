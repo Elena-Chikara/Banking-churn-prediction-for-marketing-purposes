{
 "cells": [
  {
   "cell_type": "markdown",
   "metadata": {
    "id": "RarNoE4PSXyr"
   },
   "source": [
    "# Bank data analysis\n",
    "\n",
    "The goal of your project is to create a robust classifier and use the data, where you will build a model that will recognize whether specific client will leave/unsubscribe the bank services.\n",
    "Make feature engineering but also try differnet models in order to get as much accuracy as possible.\n",
    "\n",
    "\n",
    "\n",
    "\n",
    "    "
   ]
  },
  {
   "cell_type": "markdown",
   "metadata": {
    "id": "ZfCA9MCqxs55"
   },
   "source": [
    "## Dataset Info\n",
    "\n",
    "* CLIENTNUM\n",
    "  - Client number. Unique identifier for the customer holding the account\n",
    "\n",
    "* Attrition_Flag\n",
    "  - Internal event (customer activity) variable - if the account is closed then 1 else 0\n",
    "\n",
    "* Customer_Age\n",
    "  - Demographic variable - Customer's Age in Years\n",
    "\n",
    "* Gender\n",
    "  - Demographic variable - M=Male, F=Female\n",
    "\n",
    "* Dependent_count\n",
    "  - Demographic variable - Number of dependents\n",
    "\n",
    "* Education_Level\n",
    "  - Demographic variable - Educational Qualification of the account holder (example: high school, college graduate, etc.)\n",
    "\n",
    "\n",
    "* Marital_Status\n",
    "  - Demographic variable - Married, Single, Divorced, Unknown\n",
    "\n",
    "* Income_Category\n",
    "  - Demographic variable - Annual Income Category of the account holder (< $40K, $40K - 60K, $60K - $80K, $80K-$120K, > $120K, Unknown)\n",
    "\n",
    "\n",
    "* Card_Category\n",
    "  - Product Variable - Type of Card (Blue, Silver, Gold, Platinum)\n",
    "\n",
    "* Months_on_book\n",
    "  - Period of relationship with bank\n",
    "\n",
    "\n",
    "* Total_Relationship_Count\n",
    "  - Total no. of products held by the customer\n",
    "\n",
    "* Months_Inactive_12_mon\n",
    "  - No. of months inactive in the last 12 months\n",
    "\n",
    "* Contacts_Count_12_mon\n",
    "  - No. of Contacts in the last 12 months\n",
    "\n",
    "* Credit_Limit\n",
    "  - Credit Limit on the Credit Card\n",
    "\n",
    "* Total_Revolving_Bal\n",
    "  - Total Revolving Balance on the Credit Card\n",
    "\n",
    "* Avg_Open_To_Buy\n",
    "  - Open to Buy Credit Line (Average of last 12 months)\n",
    "\n",
    "* Total_Amt_Chng_Q4_Q1\n",
    "  - Change in Transaction Amount (Q4 over Q1)\n",
    "\n",
    "* Total_Trans_Amt\n",
    "  - Total Transaction Amount (Last 12 months)\n",
    "\n",
    "* Total_Trans_Ct\n",
    "  - Total Transaction Count (Last 12 months)\n",
    "\n",
    "* Total_Ct_Chng_Q4_Q1\n",
    "  - Change in Transaction Count (Q4 over Q1)\n",
    "\n",
    "* Avg_Utilization_Ratio\n",
    "  - Average Card Utilization Ratio\n",
    "\n",
    "\n"
   ]
  },
  {
   "cell_type": "markdown",
   "metadata": {
    "id": "u823cXPI0QNc"
   },
   "source": [
    "# Working Plan\n",
    "\n",
    "\n",
    "\n",
    "1. Phase 1 : Dataset\n",
    "    * Team Planning\n",
    "    * Full git project Integration\n",
    "    * General Project Research\n",
    "    * Dataset Preparation\n",
    "    * Dataset Feature Engineering\n",
    "\n",
    "2. Phase 2 : Training\n",
    "    * Make Research about your model\n",
    "    * Compose your model (try different models) \n",
    "    * Ping Pong phase with Dataset feature engineers\n",
    "    * Generate more data if needed\n",
    "    * Fine tunning of your model\n",
    "\n",
    "3. Phase 3 : Deployment\n",
    "    * Perform benchmark (precision/recall), ROC curve\n",
    "    * Model Deploy (Git)\n",
    "    * Write git Readme.md file\n",
    "    * Receive Feedback from PM"
   ]
  },
  {
   "cell_type": "markdown",
   "metadata": {
    "id": "vIGo_fGNSXys"
   },
   "source": [
    "## 0. Read data, visualize, basic statistics, understand it"
   ]
  },
  {
   "cell_type": "code",
   "execution_count": 29,
   "metadata": {
    "id": "Xj5WSaLYSXys"
   },
   "outputs": [],
   "source": [
    "import pandas as pd\n",
    "import numpy as np\n",
    "import matplotlib.pyplot as plt\n",
    "import seaborn as sns\n",
    "import sklearn"
   ]
  },
  {
   "cell_type": "code",
   "execution_count": 30,
   "metadata": {},
   "outputs": [],
   "source": [
    "dataset = pd.read_csv('dataset_bank.csv')"
   ]
  },
  {
   "cell_type": "code",
   "execution_count": 31,
   "metadata": {},
   "outputs": [
    {
     "data": {
      "text/plain": [
       "array(['$60K - $80K', 'Less than $40K', '$80K - $120K', '$40K - $60K',\n",
       "       '$120K +', 'Unknown'], dtype=object)"
      ]
     },
     "execution_count": 31,
     "metadata": {},
     "output_type": "execute_result"
    }
   ],
   "source": [
    "dataset['Income_Category'].unique()"
   ]
  },
  {
   "cell_type": "code",
   "execution_count": 32,
   "metadata": {},
   "outputs": [
    {
     "data": {
      "text/html": [
       "<div>\n",
       "<style scoped>\n",
       "    .dataframe tbody tr th:only-of-type {\n",
       "        vertical-align: middle;\n",
       "    }\n",
       "\n",
       "    .dataframe tbody tr th {\n",
       "        vertical-align: top;\n",
       "    }\n",
       "\n",
       "    .dataframe thead th {\n",
       "        text-align: right;\n",
       "    }\n",
       "</style>\n",
       "<table border=\"1\" class=\"dataframe\">\n",
       "  <thead>\n",
       "    <tr style=\"text-align: right;\">\n",
       "      <th></th>\n",
       "      <th>CLIENTNUM</th>\n",
       "      <th>Attrition_Flag</th>\n",
       "      <th>Customer_Age</th>\n",
       "      <th>Gender</th>\n",
       "      <th>Dependent_count</th>\n",
       "      <th>Education_Level</th>\n",
       "      <th>Marital_Status</th>\n",
       "      <th>Income_Category</th>\n",
       "      <th>Card_Category</th>\n",
       "      <th>Months_on_book</th>\n",
       "      <th>...</th>\n",
       "      <th>Months_Inactive_12_mon</th>\n",
       "      <th>Contacts_Count_12_mon</th>\n",
       "      <th>Credit_Limit</th>\n",
       "      <th>Total_Revolving_Bal</th>\n",
       "      <th>Avg_Open_To_Buy</th>\n",
       "      <th>Total_Amt_Chng_Q4_Q1</th>\n",
       "      <th>Total_Trans_Amt</th>\n",
       "      <th>Total_Trans_Ct</th>\n",
       "      <th>Total_Ct_Chng_Q4_Q1</th>\n",
       "      <th>Avg_Utilization_Ratio</th>\n",
       "    </tr>\n",
       "  </thead>\n",
       "  <tbody>\n",
       "    <tr>\n",
       "      <td>0</td>\n",
       "      <td>768805383</td>\n",
       "      <td>Existing Customer</td>\n",
       "      <td>45</td>\n",
       "      <td>M</td>\n",
       "      <td>3</td>\n",
       "      <td>High School</td>\n",
       "      <td>Married</td>\n",
       "      <td>$60K - $80K</td>\n",
       "      <td>Blue</td>\n",
       "      <td>39.0</td>\n",
       "      <td>...</td>\n",
       "      <td>1</td>\n",
       "      <td>3</td>\n",
       "      <td>12691.0</td>\n",
       "      <td>777</td>\n",
       "      <td>11914.0</td>\n",
       "      <td>1.335</td>\n",
       "      <td>1144</td>\n",
       "      <td>42</td>\n",
       "      <td>1.625</td>\n",
       "      <td>0.061</td>\n",
       "    </tr>\n",
       "    <tr>\n",
       "      <td>1</td>\n",
       "      <td>818770008</td>\n",
       "      <td>Existing Customer</td>\n",
       "      <td>49</td>\n",
       "      <td>F</td>\n",
       "      <td>5</td>\n",
       "      <td>Graduate</td>\n",
       "      <td>Single</td>\n",
       "      <td>Less than $40K</td>\n",
       "      <td>Blue</td>\n",
       "      <td>44.0</td>\n",
       "      <td>...</td>\n",
       "      <td>1</td>\n",
       "      <td>2</td>\n",
       "      <td>8256.0</td>\n",
       "      <td>864</td>\n",
       "      <td>7392.0</td>\n",
       "      <td>1.541</td>\n",
       "      <td>1291</td>\n",
       "      <td>33</td>\n",
       "      <td>3.714</td>\n",
       "      <td>0.105</td>\n",
       "    </tr>\n",
       "    <tr>\n",
       "      <td>2</td>\n",
       "      <td>713982108</td>\n",
       "      <td>Existing Customer</td>\n",
       "      <td>51</td>\n",
       "      <td>M</td>\n",
       "      <td>3</td>\n",
       "      <td>Graduate</td>\n",
       "      <td>Married</td>\n",
       "      <td>$80K - $120K</td>\n",
       "      <td>Blue</td>\n",
       "      <td>36.0</td>\n",
       "      <td>...</td>\n",
       "      <td>1</td>\n",
       "      <td>0</td>\n",
       "      <td>3418.0</td>\n",
       "      <td>0</td>\n",
       "      <td>3418.0</td>\n",
       "      <td>2.594</td>\n",
       "      <td>1887</td>\n",
       "      <td>20</td>\n",
       "      <td>2.333</td>\n",
       "      <td>0.000</td>\n",
       "    </tr>\n",
       "    <tr>\n",
       "      <td>3</td>\n",
       "      <td>769911858</td>\n",
       "      <td>Existing Customer</td>\n",
       "      <td>40</td>\n",
       "      <td>F</td>\n",
       "      <td>4</td>\n",
       "      <td>High School</td>\n",
       "      <td>Unknown</td>\n",
       "      <td>Less than $40K</td>\n",
       "      <td>Blue</td>\n",
       "      <td>34.0</td>\n",
       "      <td>...</td>\n",
       "      <td>4</td>\n",
       "      <td>1</td>\n",
       "      <td>3313.0</td>\n",
       "      <td>2517</td>\n",
       "      <td>796.0</td>\n",
       "      <td>1.405</td>\n",
       "      <td>1171</td>\n",
       "      <td>20</td>\n",
       "      <td>2.333</td>\n",
       "      <td>0.760</td>\n",
       "    </tr>\n",
       "    <tr>\n",
       "      <td>4</td>\n",
       "      <td>709106358</td>\n",
       "      <td>Existing Customer</td>\n",
       "      <td>40</td>\n",
       "      <td>M</td>\n",
       "      <td>3</td>\n",
       "      <td>Uneducated</td>\n",
       "      <td>Married</td>\n",
       "      <td>$60K - $80K</td>\n",
       "      <td>Blue</td>\n",
       "      <td>21.0</td>\n",
       "      <td>...</td>\n",
       "      <td>1</td>\n",
       "      <td>0</td>\n",
       "      <td>4716.0</td>\n",
       "      <td>0</td>\n",
       "      <td>4716.0</td>\n",
       "      <td>2.175</td>\n",
       "      <td>816</td>\n",
       "      <td>28</td>\n",
       "      <td>2.500</td>\n",
       "      <td>0.000</td>\n",
       "    </tr>\n",
       "    <tr>\n",
       "      <td>5</td>\n",
       "      <td>713061558</td>\n",
       "      <td>Existing Customer</td>\n",
       "      <td>44</td>\n",
       "      <td>M</td>\n",
       "      <td>2</td>\n",
       "      <td>Graduate</td>\n",
       "      <td>Married</td>\n",
       "      <td>$40K - $60K</td>\n",
       "      <td>Blue</td>\n",
       "      <td>36.0</td>\n",
       "      <td>...</td>\n",
       "      <td>1</td>\n",
       "      <td>2</td>\n",
       "      <td>4010.0</td>\n",
       "      <td>1247</td>\n",
       "      <td>2763.0</td>\n",
       "      <td>1.376</td>\n",
       "      <td>1088</td>\n",
       "      <td>24</td>\n",
       "      <td>0.846</td>\n",
       "      <td>0.311</td>\n",
       "    </tr>\n",
       "    <tr>\n",
       "      <td>6</td>\n",
       "      <td>810347208</td>\n",
       "      <td>Existing Customer</td>\n",
       "      <td>51</td>\n",
       "      <td>M</td>\n",
       "      <td>4</td>\n",
       "      <td>Unknown</td>\n",
       "      <td>Married</td>\n",
       "      <td>$120K +</td>\n",
       "      <td>Gold</td>\n",
       "      <td>46.0</td>\n",
       "      <td>...</td>\n",
       "      <td>1</td>\n",
       "      <td>3</td>\n",
       "      <td>34516.0</td>\n",
       "      <td>2264</td>\n",
       "      <td>32252.0</td>\n",
       "      <td>1.975</td>\n",
       "      <td>1330</td>\n",
       "      <td>31</td>\n",
       "      <td>0.722</td>\n",
       "      <td>0.066</td>\n",
       "    </tr>\n",
       "    <tr>\n",
       "      <td>7</td>\n",
       "      <td>818906208</td>\n",
       "      <td>Existing Customer</td>\n",
       "      <td>32</td>\n",
       "      <td>M</td>\n",
       "      <td>0</td>\n",
       "      <td>High School</td>\n",
       "      <td>Unknown</td>\n",
       "      <td>$60K - $80K</td>\n",
       "      <td>Silver</td>\n",
       "      <td>27.0</td>\n",
       "      <td>...</td>\n",
       "      <td>2</td>\n",
       "      <td>2</td>\n",
       "      <td>29081.0</td>\n",
       "      <td>1396</td>\n",
       "      <td>27685.0</td>\n",
       "      <td>2.204</td>\n",
       "      <td>1538</td>\n",
       "      <td>36</td>\n",
       "      <td>0.714</td>\n",
       "      <td>0.048</td>\n",
       "    </tr>\n",
       "    <tr>\n",
       "      <td>8</td>\n",
       "      <td>710930508</td>\n",
       "      <td>Existing Customer</td>\n",
       "      <td>37</td>\n",
       "      <td>M</td>\n",
       "      <td>3</td>\n",
       "      <td>Uneducated</td>\n",
       "      <td>Single</td>\n",
       "      <td>$60K - $80K</td>\n",
       "      <td>Blue</td>\n",
       "      <td>36.0</td>\n",
       "      <td>...</td>\n",
       "      <td>2</td>\n",
       "      <td>0</td>\n",
       "      <td>22352.0</td>\n",
       "      <td>2517</td>\n",
       "      <td>19835.0</td>\n",
       "      <td>3.355</td>\n",
       "      <td>1350</td>\n",
       "      <td>24</td>\n",
       "      <td>1.182</td>\n",
       "      <td>0.113</td>\n",
       "    </tr>\n",
       "    <tr>\n",
       "      <td>9</td>\n",
       "      <td>719661558</td>\n",
       "      <td>Existing Customer</td>\n",
       "      <td>48</td>\n",
       "      <td>M</td>\n",
       "      <td>2</td>\n",
       "      <td>Graduate</td>\n",
       "      <td>Single</td>\n",
       "      <td>$80K - $120K</td>\n",
       "      <td>Blue</td>\n",
       "      <td>36.0</td>\n",
       "      <td>...</td>\n",
       "      <td>3</td>\n",
       "      <td>3</td>\n",
       "      <td>11656.0</td>\n",
       "      <td>1677</td>\n",
       "      <td>9979.0</td>\n",
       "      <td>1.524</td>\n",
       "      <td>1441</td>\n",
       "      <td>32</td>\n",
       "      <td>0.882</td>\n",
       "      <td>0.144</td>\n",
       "    </tr>\n",
       "  </tbody>\n",
       "</table>\n",
       "<p>10 rows × 21 columns</p>\n",
       "</div>"
      ],
      "text/plain": [
       "   CLIENTNUM     Attrition_Flag  Customer_Age Gender  Dependent_count  \\\n",
       "0  768805383  Existing Customer            45      M                3   \n",
       "1  818770008  Existing Customer            49      F                5   \n",
       "2  713982108  Existing Customer            51      M                3   \n",
       "3  769911858  Existing Customer            40      F                4   \n",
       "4  709106358  Existing Customer            40      M                3   \n",
       "5  713061558  Existing Customer            44      M                2   \n",
       "6  810347208  Existing Customer            51      M                4   \n",
       "7  818906208  Existing Customer            32      M                0   \n",
       "8  710930508  Existing Customer            37      M                3   \n",
       "9  719661558  Existing Customer            48      M                2   \n",
       "\n",
       "  Education_Level Marital_Status Income_Category Card_Category  \\\n",
       "0     High School        Married     $60K - $80K          Blue   \n",
       "1        Graduate         Single  Less than $40K          Blue   \n",
       "2        Graduate        Married    $80K - $120K          Blue   \n",
       "3     High School        Unknown  Less than $40K          Blue   \n",
       "4      Uneducated        Married     $60K - $80K          Blue   \n",
       "5        Graduate        Married     $40K - $60K          Blue   \n",
       "6         Unknown        Married         $120K +          Gold   \n",
       "7     High School        Unknown     $60K - $80K        Silver   \n",
       "8      Uneducated         Single     $60K - $80K          Blue   \n",
       "9        Graduate         Single    $80K - $120K          Blue   \n",
       "\n",
       "   Months_on_book  ...  Months_Inactive_12_mon  Contacts_Count_12_mon  \\\n",
       "0            39.0  ...                       1                      3   \n",
       "1            44.0  ...                       1                      2   \n",
       "2            36.0  ...                       1                      0   \n",
       "3            34.0  ...                       4                      1   \n",
       "4            21.0  ...                       1                      0   \n",
       "5            36.0  ...                       1                      2   \n",
       "6            46.0  ...                       1                      3   \n",
       "7            27.0  ...                       2                      2   \n",
       "8            36.0  ...                       2                      0   \n",
       "9            36.0  ...                       3                      3   \n",
       "\n",
       "   Credit_Limit  Total_Revolving_Bal  Avg_Open_To_Buy  Total_Amt_Chng_Q4_Q1  \\\n",
       "0       12691.0                  777          11914.0                 1.335   \n",
       "1        8256.0                  864           7392.0                 1.541   \n",
       "2        3418.0                    0           3418.0                 2.594   \n",
       "3        3313.0                 2517            796.0                 1.405   \n",
       "4        4716.0                    0           4716.0                 2.175   \n",
       "5        4010.0                 1247           2763.0                 1.376   \n",
       "6       34516.0                 2264          32252.0                 1.975   \n",
       "7       29081.0                 1396          27685.0                 2.204   \n",
       "8       22352.0                 2517          19835.0                 3.355   \n",
       "9       11656.0                 1677           9979.0                 1.524   \n",
       "\n",
       "   Total_Trans_Amt  Total_Trans_Ct  Total_Ct_Chng_Q4_Q1  Avg_Utilization_Ratio  \n",
       "0             1144              42                1.625                  0.061  \n",
       "1             1291              33                3.714                  0.105  \n",
       "2             1887              20                2.333                  0.000  \n",
       "3             1171              20                2.333                  0.760  \n",
       "4              816              28                2.500                  0.000  \n",
       "5             1088              24                0.846                  0.311  \n",
       "6             1330              31                0.722                  0.066  \n",
       "7             1538              36                0.714                  0.048  \n",
       "8             1350              24                1.182                  0.113  \n",
       "9             1441              32                0.882                  0.144  \n",
       "\n",
       "[10 rows x 21 columns]"
      ]
     },
     "execution_count": 32,
     "metadata": {},
     "output_type": "execute_result"
    }
   ],
   "source": [
    "dataset.head(10)"
   ]
  },
  {
   "cell_type": "markdown",
   "metadata": {},
   "source": [
    "## EDA - Univariate Analysis of Categorical Variables (imbalance detection)"
   ]
  },
  {
   "cell_type": "code",
   "execution_count": 33,
   "metadata": {
    "id": "f1QIHDpbSXy0"
   },
   "outputs": [
    {
     "data": {
      "text/plain": [
       "<matplotlib.axes._subplots.AxesSubplot at 0x27ddf0968c8>"
      ]
     },
     "execution_count": 33,
     "metadata": {},
     "output_type": "execute_result"
    },
    {
     "data": {
      "image/png": "[encoded data removed]",
      "text/plain": [
       "<Figure size 432x288 with 1 Axes>"
      ]
     },
     "metadata": {
      "needs_background": "light"
     },
     "output_type": "display_data"
    }
   ],
   "source": [
    "plt.title(\"Attrition_Flag class Bar plot Description\")\n",
    "plt.xlabel(\"Attrition_Flag information\")\n",
    "plt.ylabel(\"Attrition_Flag class proportion\")\n",
    "dataset['Attrition_Flag'].value_counts(normalize=True).plot.bar(title='class')"
   ]
  },
  {
   "cell_type": "code",
   "execution_count": 34,
   "metadata": {},
   "outputs": [
    {
     "data": {
      "text/plain": [
       "<matplotlib.axes._subplots.AxesSubplot at 0x27ddf3a6648>"
      ]
     },
     "execution_count": 34,
     "metadata": {},
     "output_type": "execute_result"
    },
    {
     "data": {
      "image/png": "[encoded data removed]",
      "text/plain": [
       "<Figure size 432x288 with 1 Axes>"
      ]
     },
     "metadata": {
      "needs_background": "light"
     },
     "output_type": "display_data"
    }
   ],
   "source": [
    "sns.countplot(dataset['Education_Level'])"
   ]
  },
  {
   "cell_type": "code",
   "execution_count": 35,
   "metadata": {},
   "outputs": [
    {
     "data": {
      "text/plain": [
       "<matplotlib.axes._subplots.AxesSubplot at 0x27ddf41d5c8>"
      ]
     },
     "execution_count": 35,
     "metadata": {},
     "output_type": "execute_result"
    },
    {
     "data": {
      "image/png": "[encoded data removed]",
      "text/plain": [
       "<Figure size 432x288 with 1 Axes>"
      ]
     },
     "metadata": {
      "needs_background": "light"
     },
     "output_type": "display_data"
    }
   ],
   "source": [
    "sns.countplot(dataset['Income_Category'])"
   ]
  },
  {
   "cell_type": "code",
   "execution_count": 36,
   "metadata": {},
   "outputs": [
    {
     "data": {
      "text/plain": [
       "<matplotlib.axes._subplots.AxesSubplot at 0x27ddf5936c8>"
      ]
     },
     "execution_count": 36,
     "metadata": {},
     "output_type": "execute_result"
    },
    {
     "data": {
      "image/png": "[encoded data removed]",
      "text/plain": [
       "<Figure size 432x288 with 1 Axes>"
      ]
     },
     "metadata": {
      "needs_background": "light"
     },
     "output_type": "display_data"
    }
   ],
   "source": [
    "sns.countplot(dataset['Gender'])"
   ]
  },
  {
   "cell_type": "code",
   "execution_count": 37,
   "metadata": {},
   "outputs": [
    {
     "data": {
      "text/plain": [
       "<matplotlib.axes._subplots.AxesSubplot at 0x27ddf4c0d48>"
      ]
     },
     "execution_count": 37,
     "metadata": {},
     "output_type": "execute_result"
    },
    {
     "data": {
      "image/png": "[encoded data removed]",
      "text/plain": [
       "<Figure size 432x288 with 1 Axes>"
      ]
     },
     "metadata": {
      "needs_background": "light"
     },
     "output_type": "display_data"
    }
   ],
   "source": [
    "sns.countplot(dataset['Marital_Status'])"
   ]
  },
  {
   "cell_type": "code",
   "execution_count": 38,
   "metadata": {},
   "outputs": [
    {
     "data": {
      "text/plain": [
       "<matplotlib.axes._subplots.AxesSubplot at 0x27ddf552e88>"
      ]
     },
     "execution_count": 38,
     "metadata": {},
     "output_type": "execute_result"
    },
    {
     "data": {
      "image/png": "[encoded data removed]",
      "text/plain": [
       "<Figure size 432x288 with 1 Axes>"
      ]
     },
     "metadata": {
      "needs_background": "light"
     },
     "output_type": "display_data"
    }
   ],
   "source": [
    "sns.countplot(dataset['Card_Category'])"
   ]
  },
  {
   "cell_type": "markdown",
   "metadata": {},
   "source": [
    "## EDA - Univariate Analysis of Numerical Variables (imbalance detection)"
   ]
  },
  {
   "cell_type": "code",
   "execution_count": 39,
   "metadata": {},
   "outputs": [
    {
     "data": {
      "text/plain": [
       "<matplotlib.axes._subplots.AxesSubplot at 0x27ddf669948>"
      ]
     },
     "execution_count": 39,
     "metadata": {},
     "output_type": "execute_result"
    },
    {
     "data": {
      "image/png": "[encoded data removed]",
      "text/plain": [
       "<Figure size 1440x360 with 2 Axes>"
      ]
     },
     "metadata": {
      "needs_background": "light"
     },
     "output_type": "display_data"
    }
   ],
   "source": [
    "plt.figure(figsize=(20,5))\n",
    "\n",
    "plt.subplot(121)\n",
    "sns.distplot(dataset['Customer_Age'], label='Customer_Age')\n",
    "\n",
    "plt.subplot(122)\n",
    "dataset['Customer_Age'].plot(kind='box', label=\"Customer_Age\")"
   ]
  },
  {
   "cell_type": "code",
   "execution_count": 40,
   "metadata": {},
   "outputs": [
    {
     "data": {
      "text/plain": [
       "44    500\n",
       "49    495\n",
       "46    490\n",
       "45    486\n",
       "47    479\n",
       "43    473\n",
       "48    472\n",
       "50    452\n",
       "42    426\n",
       "51    398\n",
       "53    387\n",
       "41    379\n",
       "52    376\n",
       "40    361\n",
       "39    333\n",
       "54    307\n",
       "38    303\n",
       "55    279\n",
       "56    262\n",
       "37    260\n",
       "57    223\n",
       "36    221\n",
       "35    184\n",
       "59    157\n",
       "58    157\n",
       "34    146\n",
       "60    127\n",
       "33    127\n",
       "32    106\n",
       "65    101\n",
       "61     93\n",
       "62     93\n",
       "31     91\n",
       "26     78\n",
       "30     70\n",
       "63     65\n",
       "29     56\n",
       "64     43\n",
       "27     32\n",
       "28     29\n",
       "67      4\n",
       "66      2\n",
       "68      2\n",
       "73      1\n",
       "70      1\n",
       "Name: Customer_Age, dtype: int64"
      ]
     },
     "execution_count": 40,
     "metadata": {},
     "output_type": "execute_result"
    }
   ],
   "source": [
    "dataset['Customer_Age'].value_counts()"
   ]
  },
  {
   "cell_type": "code",
   "execution_count": 46,
   "metadata": {},
   "outputs": [
    {
     "data": {
      "text/plain": [
       "<matplotlib.axes._subplots.AxesSubplot at 0x27de8129cc8>"
      ]
     },
     "execution_count": 46,
     "metadata": {},
     "output_type": "execute_result"
    },
    {
     "data": {
      "image/png": "[encoded data removed]",
      "text/plain": [
       "<Figure size 1440x360 with 2 Axes>"
      ]
     },
     "metadata": {
      "needs_background": "light"
     },
     "output_type": "display_data"
    }
   ],
   "source": [
    "plt.figure(figsize=(20,5))\n",
    "\n",
    "plt.subplot(121)\n",
    "sns.distplot(dataset['Dependent_count'], label='Dependent_count')\n",
    "\n",
    "plt.subplot(122)\n",
    "dataset['Dependent_count'].plot(kind='box', label=\"Dependent_count\")"
   ]
  },
  {
   "cell_type": "code",
   "execution_count": 47,
   "metadata": {},
   "outputs": [
    {
     "data": {
      "text/plain": [
       "<matplotlib.axes._subplots.AxesSubplot at 0x27de93eb388>"
      ]
     },
     "execution_count": 47,
     "metadata": {},
     "output_type": "execute_result"
    },
    {
     "data": {
      "image/png": "[encoded data removed]",
      "text/plain": [
       "<Figure size 1440x720 with 1 Axes>"
      ]
     },
     "metadata": {
      "needs_background": "light"
     },
     "output_type": "display_data"
    }
   ],
   "source": [
    "dataset['Months_on_book'].value_counts().plot.bar(figsize=(20,10),title='Months_on_book')"
   ]
  },
  {
   "cell_type": "code",
   "execution_count": 61,
   "metadata": {},
   "outputs": [
    {
     "data": {
      "text/plain": [
       "<matplotlib.axes._subplots.AxesSubplot at 0x27de96d8b48>"
      ]
     },
     "execution_count": 61,
     "metadata": {},
     "output_type": "execute_result"
    },
    {
     "data": {
      "image/png": "[encoded data removed]",
      "text/plain": [
       "<Figure size 1440x360 with 2 Axes>"
      ]
     },
     "metadata": {
      "needs_background": "light"
     },
     "output_type": "display_data"
    }
   ],
   "source": [
    "plt.figure(figsize=(20,5))\n",
    "\n",
    "plt.subplot(121)\n",
    "sns.distplot(dataset['Total_Relationship_Count'], label='Total_Relationship_Count')\n",
    "\n",
    "plt.subplot(122)\n",
    "dataset['Total_Relationship_Count'].plot(kind='box', label=\"Total_Relationship_Count\")"
   ]
  },
  {
   "cell_type": "code",
   "execution_count": 62,
   "metadata": {},
   "outputs": [
    {
     "data": {
      "text/plain": [
       "<matplotlib.axes._subplots.AxesSubplot at 0x27dea219188>"
      ]
     },
     "execution_count": 62,
     "metadata": {},
     "output_type": "execute_result"
    },
    {
     "data": {
      "image/png": "[encoded data removed]",
      "text/plain": [
       "<Figure size 1440x360 with 2 Axes>"
      ]
     },
     "metadata": {
      "needs_background": "light"
     },
     "output_type": "display_data"
    }
   ],
   "source": [
    "plt.figure(figsize=(20,5))\n",
    "\n",
    "plt.subplot(121)\n",
    "sns.distplot(dataset['Months_Inactive_12_mon'], label='Months_Inactive_12_mon')\n",
    "\n",
    "plt.subplot(122)\n",
    "dataset['Months_Inactive_12_mon'].plot(kind='box', label=\"Months_Inactive_12_mon\")"
   ]
  },
  {
   "cell_type": "code",
   "execution_count": 63,
   "metadata": {},
   "outputs": [
    {
     "data": {
      "text/plain": [
       "<matplotlib.axes._subplots.AxesSubplot at 0x27dea679a48>"
      ]
     },
     "execution_count": 63,
     "metadata": {},
     "output_type": "execute_result"
    },
    {
     "data": {
      "image/png": "[encoded data removed]",
      "text/plain": [
       "<Figure size 1440x360 with 2 Axes>"
      ]
     },
     "metadata": {
      "needs_background": "light"
     },
     "output_type": "display_data"
    }
   ],
   "source": [
    "plt.figure(figsize=(20,5))\n",
    "\n",
    "plt.subplot(121)\n",
    "sns.distplot(dataset['Contacts_Count_12_mon'], label='Contacts_Count_12_mon')\n",
    "\n",
    "plt.subplot(122)\n",
    "dataset['Contacts_Count_12_mon'].plot(kind='box', label=\"Contacts_Count_12_mon\")"
   ]
  },
  {
   "cell_type": "code",
   "execution_count": 64,
   "metadata": {},
   "outputs": [
    {
     "data": {
      "text/plain": [
       "<matplotlib.axes._subplots.AxesSubplot at 0x27deaca8048>"
      ]
     },
     "execution_count": 64,
     "metadata": {},
     "output_type": "execute_result"
    },
    {
     "data": {
      "image/png": "[encoded data removed]",
      "text/plain": [
       "<Figure size 1440x360 with 2 Axes>"
      ]
     },
     "metadata": {
      "needs_background": "light"
     },
     "output_type": "display_data"
    }
   ],
   "source": [
    "plt.figure(figsize=(20,5))\n",
    "\n",
    "plt.subplot(121)\n",
    "sns.distplot(dataset['Credit_Limit'], label='Credit_Limit')\n",
    "\n",
    "plt.subplot(122)\n",
    "dataset['Credit_Limit'].plot(kind='box', label=\"Credit_Limit\")"
   ]
  },
  {
   "cell_type": "code",
   "execution_count": 65,
   "metadata": {},
   "outputs": [
    {
     "data": {
      "text/plain": [
       "<matplotlib.axes._subplots.AxesSubplot at 0x27deabdd048>"
      ]
     },
     "execution_count": 65,
     "metadata": {},
     "output_type": "execute_result"
    },
    {
     "data": {
      "image/png": "[encoded data removed]",
      "text/plain": [
       "<Figure size 1440x360 with 2 Axes>"
      ]
     },
     "metadata": {
      "needs_background": "light"
     },
     "output_type": "display_data"
    }
   ],
   "source": [
    "plt.figure(figsize=(20,5))\n",
    "\n",
    "plt.subplot(121)\n",
    "sns.distplot(dataset['Total_Revolving_Bal'], label='Total_Revolving_Bal')\n",
    "\n",
    "plt.subplot(122)\n",
    "dataset['Total_Revolving_Bal'].plot(kind='box', label=\"Total_Revolving_Bal\")"
   ]
  },
  {
   "cell_type": "code",
   "execution_count": 66,
   "metadata": {},
   "outputs": [
    {
     "data": {
      "text/plain": [
       "<matplotlib.axes._subplots.AxesSubplot at 0x27deb239c88>"
      ]
     },
     "execution_count": 66,
     "metadata": {},
     "output_type": "execute_result"
    },
    {
     "data": {
      "image/png": "[encoded data removed]",
      "text/plain": [
       "<Figure size 1440x360 with 2 Axes>"
      ]
     },
     "metadata": {
      "needs_background": "light"
     },
     "output_type": "display_data"
    }
   ],
   "source": [
    "plt.figure(figsize=(20,5))\n",
    "\n",
    "plt.subplot(121)\n",
    "sns.distplot(dataset['Avg_Open_To_Buy'], label='Avg_Open_To_Buy')\n",
    "\n",
    "plt.subplot(122)\n",
    "dataset['Avg_Open_To_Buy'].plot(kind='box', label=\"Avg_Open_To_Buy\")"
   ]
  },
  {
   "cell_type": "code",
   "execution_count": 67,
   "metadata": {},
   "outputs": [
    {
     "data": {
      "text/plain": [
       "<matplotlib.axes._subplots.AxesSubplot at 0x27deaf7da08>"
      ]
     },
     "execution_count": 67,
     "metadata": {},
     "output_type": "execute_result"
    },
    {
     "data": {
      "image/png": "[encoded data removed]",
      "text/plain": [
       "<Figure size 1440x360 with 2 Axes>"
      ]
     },
     "metadata": {
      "needs_background": "light"
     },
     "output_type": "display_data"
    }
   ],
   "source": [
    "plt.figure(figsize=(20,5))\n",
    "\n",
    "plt.subplot(121)\n",
    "sns.distplot(dataset['Total_Amt_Chng_Q4_Q1'], label='Total_Amt_Chng_Q4_Q1')\n",
    "\n",
    "plt.subplot(122)\n",
    "dataset['Total_Amt_Chng_Q4_Q1'].plot(kind='box', label=\"Total_Amt_Chng_Q4_Q1\")"
   ]
  },
  {
   "cell_type": "code",
   "execution_count": 68,
   "metadata": {},
   "outputs": [
    {
     "data": {
      "text/plain": [
       "<matplotlib.axes._subplots.AxesSubplot at 0x27deb758d88>"
      ]
     },
     "execution_count": 68,
     "metadata": {},
     "output_type": "execute_result"
    },
    {
     "data": {
      "image/png": "[encoded data removed]",
      "text/plain": [
       "<Figure size 1440x360 with 2 Axes>"
      ]
     },
     "metadata": {
      "needs_background": "light"
     },
     "output_type": "display_data"
    }
   ],
   "source": [
    "plt.figure(figsize=(20,5))\n",
    "\n",
    "plt.subplot(121)\n",
    "sns.distplot(dataset['Total_Trans_Amt'], label='Total_Trans_Amt')\n",
    "\n",
    "plt.subplot(122)\n",
    "dataset['Total_Trans_Amt'].plot(kind='box', label=\"Total_Trans_Amt\")"
   ]
  },
  {
   "cell_type": "code",
   "execution_count": 69,
   "metadata": {},
   "outputs": [
    {
     "data": {
      "text/plain": [
       "<matplotlib.axes._subplots.AxesSubplot at 0x27deaf3fe48>"
      ]
     },
     "execution_count": 69,
     "metadata": {},
     "output_type": "execute_result"
    },
    {
     "data": {
      "image/png": "[encoded data removed]",
      "text/plain": [
       "<Figure size 1440x360 with 2 Axes>"
      ]
     },
     "metadata": {
      "needs_background": "light"
     },
     "output_type": "display_data"
    }
   ],
   "source": [
    "plt.figure(figsize=(20,5))\n",
    "\n",
    "plt.subplot(121)\n",
    "sns.distplot(dataset['Total_Trans_Ct'], label='Total_Trans_Ct')\n",
    "\n",
    "plt.subplot(122)\n",
    "dataset['Total_Trans_Ct'].plot(kind='box', label=\"Total_Trans_Ct\")"
   ]
  },
  {
   "cell_type": "code",
   "execution_count": 70,
   "metadata": {},
   "outputs": [
    {
     "data": {
      "text/plain": [
       "<matplotlib.axes._subplots.AxesSubplot at 0x27deb96bc08>"
      ]
     },
     "execution_count": 70,
     "metadata": {},
     "output_type": "execute_result"
    },
    {
     "data": {
      "image/png": "[encoded data removed]",
      "text/plain": [
       "<Figure size 1440x360 with 2 Axes>"
      ]
     },
     "metadata": {
      "needs_background": "light"
     },
     "output_type": "display_data"
    }
   ],
   "source": [
    "plt.figure(figsize=(20,5))\n",
    "\n",
    "plt.subplot(121)\n",
    "sns.distplot(dataset['Total_Ct_Chng_Q4_Q1'], label='Total_Ct_Chng_Q4_Q1')\n",
    "\n",
    "plt.subplot(122)\n",
    "dataset['Total_Ct_Chng_Q4_Q1'].plot(kind='box', label=\"Total_Ct_Chng_Q4_Q1\")"
   ]
  },
  {
   "cell_type": "code",
   "execution_count": 71,
   "metadata": {},
   "outputs": [
    {
     "data": {
      "text/plain": [
       "<matplotlib.axes._subplots.AxesSubplot at 0x27debcc7108>"
      ]
     },
     "execution_count": 71,
     "metadata": {},
     "output_type": "execute_result"
    },
    {
     "data": {
      "image/png": "[encoded data removed]",
      "text/plain": [
       "<Figure size 1440x360 with 2 Axes>"
      ]
     },
     "metadata": {
      "needs_background": "light"
     },
     "output_type": "display_data"
    }
   ],
   "source": [
    "plt.figure(figsize=(20,5))\n",
    "\n",
    "plt.subplot(121)\n",
    "sns.distplot(dataset['Avg_Utilization_Ratio'], label='Avg_Utilization_Ratio')\n",
    "\n",
    "plt.subplot(122)\n",
    "dataset['Avg_Utilization_Ratio'].plot(kind='box', label=\"Avg_Utilization_Ratio\")"
   ]
  },
  {
   "cell_type": "markdown",
   "metadata": {},
   "source": [
    "## Bivariate Analysis "
   ]
  },
  {
   "cell_type": "markdown",
   "metadata": {
    "id": "qcK1sU4iSXyw"
   },
   "source": [
    "## 1. Data preprocessing, normalization, missing data, categorical data"
   ]
  },
  {
   "cell_type": "code",
   "execution_count": 50,
   "metadata": {},
   "outputs": [
    {
     "name": "stdout",
     "output_type": "stream",
     "text": [
      "Numeric columns\n",
      "CLIENTNUM\n",
      "Customer_Age\n",
      "Dependent_count\n",
      "Months_on_book\n",
      "Total_Relationship_Count\n",
      "Months_Inactive_12_mon\n",
      "Contacts_Count_12_mon\n",
      "Credit_Limit\n",
      "Total_Revolving_Bal\n",
      "Avg_Open_To_Buy\n",
      "Total_Amt_Chng_Q4_Q1\n",
      "Total_Trans_Amt\n",
      "Total_Trans_Ct\n",
      "Total_Ct_Chng_Q4_Q1\n",
      "Avg_Utilization_Ratio\n",
      "----------------------------------\n",
      "Category columns\n",
      "Attrition_Flag\n",
      "Gender\n",
      "Education_Level\n",
      "Marital_Status\n",
      "Income_Category\n",
      "Card_Category\n"
     ]
    }
   ],
   "source": [
    "# Which columns are numeric, which are category.\n",
    "\n",
    "from pandas.api.types import is_string_dtype\n",
    "from pandas.api.types import is_numeric_dtype\n",
    "\n",
    "\n",
    "print(\"Numeric columns\")\n",
    "for column in dataset.columns:\n",
    "    if is_numeric_dtype(dataset[column]):\n",
    "        print(column)\n",
    "print(\"----------------------------------\")        \n",
    "print(\"Category columns\")        \n",
    "for column in dataset.columns:\n",
    "    if is_string_dtype(dataset[column]):\n",
    "        print(column)"
   ]
  },
  {
   "cell_type": "code",
   "execution_count": 51,
   "metadata": {
    "id": "kgOelHW2SXyx"
   },
   "outputs": [],
   "source": [
    "# Check if there are missing data\n",
    "\n",
    "for column in dataset.columns:\n",
    "    if dataset[column].isnull().values.any():\n",
    "        print(column)"
   ]
  },
  {
   "cell_type": "code",
   "execution_count": 52,
   "metadata": {},
   "outputs": [
    {
     "data": {
      "text/plain": [
       "array([ 3.90000000e+01,  4.40000000e+01,  3.60000000e+01,  3.40000000e+01,\n",
       "        2.10000000e+01,  4.60000000e+01,  2.70000000e+01,  3.10000000e+01,\n",
       "        5.40000000e+01,  3.00000000e+01,  4.80000000e+01,  3.70000000e+01,\n",
       "        5.60000000e+01,  4.20000000e+01,  4.90000000e+01,  3.30000000e+01,\n",
       "        2.80000000e+01,  3.80000000e+01,  4.10000000e+01,  4.30000000e+01,\n",
       "        4.50000000e+01,  5.20000000e+01,  4.00000000e+01,  5.00000000e+01,\n",
       "        3.50000000e+01,  4.70000000e+01,  3.20000000e+01,  2.00000000e+01,\n",
       "        2.90000000e+01,  2.50000000e+01,  5.30000000e+01,  2.40000000e+01,\n",
       "        5.50000000e+01,  2.30000000e+01,  2.20000000e+01,  2.60000000e+01,\n",
       "        2.14748365e+09,  1.30000000e+01,  5.10000000e+01,  1.90000000e+01,\n",
       "        1.50000000e+01,  1.70000000e+01,  1.80000000e+01, -2.14748365e+09,\n",
       "        1.60000000e+01,  1.40000000e+01,  3.21000000e+11])"
      ]
     },
     "execution_count": 52,
     "metadata": {},
     "output_type": "execute_result"
    }
   ],
   "source": [
    "dataset['Months_on_book'].unique()"
   ]
  },
  {
   "cell_type": "code",
   "execution_count": 53,
   "metadata": {},
   "outputs": [],
   "source": [
    "dataset['Months_on_book'] = dataset.Months_on_book.replace({-2147483647: 'None', \n",
    "                                                              2147483647: 'None', \n",
    "                                                              3.21E+11: 'None'})"
   ]
  },
  {
   "cell_type": "code",
   "execution_count": 54,
   "metadata": {},
   "outputs": [
    {
     "data": {
      "text/plain": [
       "array([39.0, 44.0, 36.0, 34.0, 21.0, 46.0, 27.0, 31.0, 54.0, 30.0, 48.0,\n",
       "       37.0, 56.0, 42.0, 49.0, 33.0, 28.0, 38.0, 41.0, 43.0, 45.0, 52.0,\n",
       "       40.0, 50.0, 35.0, 47.0, 32.0, 20.0, 29.0, 25.0, 53.0, 24.0, 55.0,\n",
       "       23.0, 22.0, 26.0, 'None', 13.0, 51.0, 19.0, 15.0, 17.0, 18.0, 16.0,\n",
       "       14.0], dtype=object)"
      ]
     },
     "execution_count": 54,
     "metadata": {},
     "output_type": "execute_result"
    }
   ],
   "source": [
    "dataset['Months_on_book'].unique()"
   ]
  },
  {
   "cell_type": "code",
   "execution_count": 55,
   "metadata": {},
   "outputs": [
    {
     "data": {
      "text/plain": [
       "36.0    2417\n",
       "37.0     358\n",
       "34.0     351\n",
       "38.0     347\n",
       "39.0     341\n",
       "40.0     333\n",
       "31.0     318\n",
       "35.0     314\n",
       "33.0     304\n",
       "30.0     300\n",
       "41.0     297\n",
       "32.0     289\n",
       "28.0     275\n",
       "43.0     273\n",
       "42.0     271\n",
       "29.0     241\n",
       "44.0     230\n",
       "45.0     227\n",
       "27.0     206\n",
       "46.0     197\n",
       "26.0     186\n",
       "47.0     171\n",
       "25.0     165\n",
       "48.0     162\n",
       "24.0     160\n",
       "49.0     141\n",
       "23.0     116\n",
       "22.0     105\n",
       "56.0     103\n",
       "50.0      96\n",
       "21.0      83\n",
       "51.0      80\n",
       "53.0      78\n",
       "20.0      74\n",
       "13.0      70\n",
       "19.0      63\n",
       "52.0      62\n",
       "18.0      58\n",
       "54.0      53\n",
       "None      52\n",
       "55.0      42\n",
       "17.0      39\n",
       "15.0      34\n",
       "16.0      29\n",
       "14.0      16\n",
       "Name: Months_on_book, dtype: int64"
      ]
     },
     "execution_count": 55,
     "metadata": {},
     "output_type": "execute_result"
    }
   ],
   "source": [
    "dataset['Months_on_book'].value_counts()"
   ]
  },
  {
   "cell_type": "code",
   "execution_count": 56,
   "metadata": {},
   "outputs": [],
   "source": [
    "dataset['Months_on_book'] = dataset['Months_on_book'].replace('None', np.nan)"
   ]
  },
  {
   "cell_type": "code",
   "execution_count": 57,
   "metadata": {},
   "outputs": [],
   "source": [
    "from sklearn.impute import KNNImputer\n",
    "\n",
    "transformer = KNNImputer(n_neighbors=2)\n",
    "\n",
    "columns = ['Months_on_book']\n",
    "dataset[columns] = transformer.fit_transform(dataset[columns])"
   ]
  },
  {
   "cell_type": "code",
   "execution_count": 58,
   "metadata": {},
   "outputs": [
    {
     "data": {
      "text/plain": [
       "array([39.        , 44.        , 36.        , 34.        , 21.        ,\n",
       "       46.        , 27.        , 31.        , 54.        , 30.        ,\n",
       "       48.        , 37.        , 56.        , 42.        , 49.        ,\n",
       "       33.        , 28.        , 38.        , 41.        , 43.        ,\n",
       "       45.        , 52.        , 40.        , 50.        , 35.        ,\n",
       "       47.        , 32.        , 20.        , 29.        , 25.        ,\n",
       "       53.        , 24.        , 55.        , 23.        , 22.        ,\n",
       "       26.        , 35.92903226, 13.        , 51.        , 19.        ,\n",
       "       15.        , 17.        , 18.        , 16.        , 14.        ])"
      ]
     },
     "execution_count": 58,
     "metadata": {},
     "output_type": "execute_result"
    }
   ],
   "source": [
    "dataset['Months_on_book'].unique()"
   ]
  },
  {
   "cell_type": "code",
   "execution_count": 72,
   "metadata": {},
   "outputs": [
    {
     "data": {
      "text/plain": [
       "<matplotlib.axes._subplots.AxesSubplot at 0x27dec2bf948>"
      ]
     },
     "execution_count": 72,
     "metadata": {},
     "output_type": "execute_result"
    },
    {
     "data": {
      "image/png": "[encoded data removed]",
      "text/plain": [
       "<Figure size 1440x720 with 1 Axes>"
      ]
     },
     "metadata": {
      "needs_background": "light"
     },
     "output_type": "display_data"
    }
   ],
   "source": [
    "dataset['Months_on_book'].value_counts().plot.bar(figsize=(20,10),title='Months_on_book')"
   ]
  },
  {
   "cell_type": "code",
   "execution_count": 59,
   "metadata": {},
   "outputs": [
    {
     "data": {
      "text/plain": [
       "<matplotlib.axes._subplots.AxesSubplot at 0x27de9b30308>"
      ]
     },
     "execution_count": 59,
     "metadata": {},
     "output_type": "execute_result"
    },
    {
     "data": {
      "image/png": "[encoded data removed]",
      "text/plain": [
       "<Figure size 1440x360 with 2 Axes>"
      ]
     },
     "metadata": {
      "needs_background": "light"
     },
     "output_type": "display_data"
    }
   ],
   "source": [
    "plt.figure(figsize=(20,5))\n",
    "\n",
    "plt.subplot(121)\n",
    "sns.distplot(dataset['Months_on_book'], label='Months_on_book')\n",
    "\n",
    "plt.subplot(122)\n",
    "dataset['Months_on_book'].plot(kind='box', label=\"Months_on_book\")"
   ]
  },
  {
   "cell_type": "code",
   "execution_count": 60,
   "metadata": {},
   "outputs": [
    {
     "data": {
      "text/plain": [
       "36.000000    2417\n",
       "37.000000     358\n",
       "34.000000     351\n",
       "38.000000     347\n",
       "39.000000     341\n",
       "40.000000     333\n",
       "31.000000     318\n",
       "35.000000     314\n",
       "33.000000     304\n",
       "30.000000     300\n",
       "41.000000     297\n",
       "32.000000     289\n",
       "28.000000     275\n",
       "43.000000     273\n",
       "42.000000     271\n",
       "29.000000     241\n",
       "44.000000     230\n",
       "45.000000     227\n",
       "27.000000     206\n",
       "46.000000     197\n",
       "26.000000     186\n",
       "47.000000     171\n",
       "25.000000     165\n",
       "48.000000     162\n",
       "24.000000     160\n",
       "49.000000     141\n",
       "23.000000     116\n",
       "22.000000     105\n",
       "56.000000     103\n",
       "50.000000      96\n",
       "21.000000      83\n",
       "51.000000      80\n",
       "53.000000      78\n",
       "20.000000      74\n",
       "13.000000      70\n",
       "19.000000      63\n",
       "52.000000      62\n",
       "18.000000      58\n",
       "54.000000      53\n",
       "35.929032      52\n",
       "55.000000      42\n",
       "17.000000      39\n",
       "15.000000      34\n",
       "16.000000      29\n",
       "14.000000      16\n",
       "Name: Months_on_book, dtype: int64"
      ]
     },
     "execution_count": 60,
     "metadata": {},
     "output_type": "execute_result"
    }
   ],
   "source": [
    "dataset['Months_on_book'].value_counts()"
   ]
  },
  {
   "cell_type": "code",
   "execution_count": null,
   "metadata": {},
   "outputs": [],
   "source": [
    "# Conclusion: According to the plots and numbers, the outliers of the feature Months_on book would be: 13, 14, 15, 16, 17, \n",
    "# 18, 19, 52, 54 and 55. Number of months 35.929 is not taken as an outlier because is a product of KNNImputer. As a \n",
    "# rounded number it is 36, and it is the majority of data."
   ]
  },
  {
   "cell_type": "code",
   "execution_count": 13,
   "metadata": {},
   "outputs": [],
   "source": [
    "# Nan replacement with SimpleImputer\n",
    "\n",
    "# from sklearn.impute import SimpleImputer\n",
    "\n",
    "# def input_values_nominal(strategy, dataset, columns):\n",
    "#     dataset_new = dataset.copy()\n",
    "#     simple_imputer = SimpleImputer(strategy=strategy)\n",
    "#     dataset_new[columns] = simple_imputer.fit_transform(dataset_new[columns])\n",
    "#     return dataset_new\n",
    "\n",
    "# dataset_without_missing_values = input_values_nominal(strategy='mean', \n",
    "#                                                       dataset=dataset, \n",
    "#                                                       columns=['Months_on_book'])"
   ]
  },
  {
   "cell_type": "code",
   "execution_count": 14,
   "metadata": {},
   "outputs": [],
   "source": [
    "# dataset_without_missing_values['Months_on_book'].unique()"
   ]
  },
  {
   "cell_type": "code",
   "execution_count": 15,
   "metadata": {},
   "outputs": [],
   "source": [
    "# dataset_without_missing_values['Months_on_book'].value_counts()"
   ]
  },
  {
   "cell_type": "code",
   "execution_count": 16,
   "metadata": {},
   "outputs": [],
   "source": [
    "# Remove ID values\n",
    "\n",
    "dataset.drop(['CLIENTNUM'], inplace=True, axis='columns')"
   ]
  },
  {
   "cell_type": "code",
   "execution_count": 17,
   "metadata": {},
   "outputs": [
    {
     "data": {
      "text/html": [
       "<div>\n",
       "<style scoped>\n",
       "    .dataframe tbody tr th:only-of-type {\n",
       "        vertical-align: middle;\n",
       "    }\n",
       "\n",
       "    .dataframe tbody tr th {\n",
       "        vertical-align: top;\n",
       "    }\n",
       "\n",
       "    .dataframe thead th {\n",
       "        text-align: right;\n",
       "    }\n",
       "</style>\n",
       "<table border=\"1\" class=\"dataframe\">\n",
       "  <thead>\n",
       "    <tr style=\"text-align: right;\">\n",
       "      <th></th>\n",
       "      <th>Attrition_Flag</th>\n",
       "      <th>Customer_Age</th>\n",
       "      <th>Gender</th>\n",
       "      <th>Dependent_count</th>\n",
       "      <th>Education_Level</th>\n",
       "      <th>Marital_Status</th>\n",
       "      <th>Income_Category</th>\n",
       "      <th>Card_Category</th>\n",
       "      <th>Months_on_book</th>\n",
       "      <th>Total_Relationship_Count</th>\n",
       "      <th>Months_Inactive_12_mon</th>\n",
       "      <th>Contacts_Count_12_mon</th>\n",
       "      <th>Credit_Limit</th>\n",
       "      <th>Total_Revolving_Bal</th>\n",
       "      <th>Avg_Open_To_Buy</th>\n",
       "      <th>Total_Amt_Chng_Q4_Q1</th>\n",
       "      <th>Total_Trans_Amt</th>\n",
       "      <th>Total_Trans_Ct</th>\n",
       "      <th>Total_Ct_Chng_Q4_Q1</th>\n",
       "      <th>Avg_Utilization_Ratio</th>\n",
       "    </tr>\n",
       "  </thead>\n",
       "  <tbody>\n",
       "    <tr>\n",
       "      <td>0</td>\n",
       "      <td>Existing Customer</td>\n",
       "      <td>45</td>\n",
       "      <td>M</td>\n",
       "      <td>3</td>\n",
       "      <td>High School</td>\n",
       "      <td>Married</td>\n",
       "      <td>$60K - $80K</td>\n",
       "      <td>Blue</td>\n",
       "      <td>39.0</td>\n",
       "      <td>5</td>\n",
       "      <td>1</td>\n",
       "      <td>3</td>\n",
       "      <td>12691.0</td>\n",
       "      <td>777</td>\n",
       "      <td>11914.0</td>\n",
       "      <td>1.335</td>\n",
       "      <td>1144</td>\n",
       "      <td>42</td>\n",
       "      <td>1.625</td>\n",
       "      <td>0.061</td>\n",
       "    </tr>\n",
       "    <tr>\n",
       "      <td>1</td>\n",
       "      <td>Existing Customer</td>\n",
       "      <td>49</td>\n",
       "      <td>F</td>\n",
       "      <td>5</td>\n",
       "      <td>Graduate</td>\n",
       "      <td>Single</td>\n",
       "      <td>Less than $40K</td>\n",
       "      <td>Blue</td>\n",
       "      <td>44.0</td>\n",
       "      <td>6</td>\n",
       "      <td>1</td>\n",
       "      <td>2</td>\n",
       "      <td>8256.0</td>\n",
       "      <td>864</td>\n",
       "      <td>7392.0</td>\n",
       "      <td>1.541</td>\n",
       "      <td>1291</td>\n",
       "      <td>33</td>\n",
       "      <td>3.714</td>\n",
       "      <td>0.105</td>\n",
       "    </tr>\n",
       "    <tr>\n",
       "      <td>2</td>\n",
       "      <td>Existing Customer</td>\n",
       "      <td>51</td>\n",
       "      <td>M</td>\n",
       "      <td>3</td>\n",
       "      <td>Graduate</td>\n",
       "      <td>Married</td>\n",
       "      <td>$80K - $120K</td>\n",
       "      <td>Blue</td>\n",
       "      <td>36.0</td>\n",
       "      <td>4</td>\n",
       "      <td>1</td>\n",
       "      <td>0</td>\n",
       "      <td>3418.0</td>\n",
       "      <td>0</td>\n",
       "      <td>3418.0</td>\n",
       "      <td>2.594</td>\n",
       "      <td>1887</td>\n",
       "      <td>20</td>\n",
       "      <td>2.333</td>\n",
       "      <td>0.000</td>\n",
       "    </tr>\n",
       "    <tr>\n",
       "      <td>3</td>\n",
       "      <td>Existing Customer</td>\n",
       "      <td>40</td>\n",
       "      <td>F</td>\n",
       "      <td>4</td>\n",
       "      <td>High School</td>\n",
       "      <td>Unknown</td>\n",
       "      <td>Less than $40K</td>\n",
       "      <td>Blue</td>\n",
       "      <td>34.0</td>\n",
       "      <td>3</td>\n",
       "      <td>4</td>\n",
       "      <td>1</td>\n",
       "      <td>3313.0</td>\n",
       "      <td>2517</td>\n",
       "      <td>796.0</td>\n",
       "      <td>1.405</td>\n",
       "      <td>1171</td>\n",
       "      <td>20</td>\n",
       "      <td>2.333</td>\n",
       "      <td>0.760</td>\n",
       "    </tr>\n",
       "    <tr>\n",
       "      <td>4</td>\n",
       "      <td>Existing Customer</td>\n",
       "      <td>40</td>\n",
       "      <td>M</td>\n",
       "      <td>3</td>\n",
       "      <td>Uneducated</td>\n",
       "      <td>Married</td>\n",
       "      <td>$60K - $80K</td>\n",
       "      <td>Blue</td>\n",
       "      <td>21.0</td>\n",
       "      <td>5</td>\n",
       "      <td>1</td>\n",
       "      <td>0</td>\n",
       "      <td>4716.0</td>\n",
       "      <td>0</td>\n",
       "      <td>4716.0</td>\n",
       "      <td>2.175</td>\n",
       "      <td>816</td>\n",
       "      <td>28</td>\n",
       "      <td>2.500</td>\n",
       "      <td>0.000</td>\n",
       "    </tr>\n",
       "  </tbody>\n",
       "</table>\n",
       "</div>"
      ],
      "text/plain": [
       "      Attrition_Flag  Customer_Age Gender  Dependent_count Education_Level  \\\n",
       "0  Existing Customer            45      M                3     High School   \n",
       "1  Existing Customer            49      F                5        Graduate   \n",
       "2  Existing Customer            51      M                3        Graduate   \n",
       "3  Existing Customer            40      F                4     High School   \n",
       "4  Existing Customer            40      M                3      Uneducated   \n",
       "\n",
       "  Marital_Status Income_Category Card_Category  Months_on_book  \\\n",
       "0        Married     $60K - $80K          Blue            39.0   \n",
       "1         Single  Less than $40K          Blue            44.0   \n",
       "2        Married    $80K - $120K          Blue            36.0   \n",
       "3        Unknown  Less than $40K          Blue            34.0   \n",
       "4        Married     $60K - $80K          Blue            21.0   \n",
       "\n",
       "   Total_Relationship_Count  Months_Inactive_12_mon  Contacts_Count_12_mon  \\\n",
       "0                         5                       1                      3   \n",
       "1                         6                       1                      2   \n",
       "2                         4                       1                      0   \n",
       "3                         3                       4                      1   \n",
       "4                         5                       1                      0   \n",
       "\n",
       "   Credit_Limit  Total_Revolving_Bal  Avg_Open_To_Buy  Total_Amt_Chng_Q4_Q1  \\\n",
       "0       12691.0                  777          11914.0                 1.335   \n",
       "1        8256.0                  864           7392.0                 1.541   \n",
       "2        3418.0                    0           3418.0                 2.594   \n",
       "3        3313.0                 2517            796.0                 1.405   \n",
       "4        4716.0                    0           4716.0                 2.175   \n",
       "\n",
       "   Total_Trans_Amt  Total_Trans_Ct  Total_Ct_Chng_Q4_Q1  Avg_Utilization_Ratio  \n",
       "0             1144              42                1.625                  0.061  \n",
       "1             1291              33                3.714                  0.105  \n",
       "2             1887              20                2.333                  0.000  \n",
       "3             1171              20                2.333                  0.760  \n",
       "4              816              28                2.500                  0.000  "
      ]
     },
     "execution_count": 17,
     "metadata": {},
     "output_type": "execute_result"
    }
   ],
   "source": [
    "dataset.head()"
   ]
  },
  {
   "cell_type": "code",
   "execution_count": 18,
   "metadata": {},
   "outputs": [
    {
     "data": {
      "text/plain": [
       "array([45, 49, 51, 40, 44, 32, 37, 48, 42, 65, 56, 35, 57, 41, 61, 47, 62,\n",
       "       54, 59, 63, 53, 58, 55, 66, 50, 38, 46, 52, 39, 43, 64, 68, 67, 60,\n",
       "       73, 70, 36, 34, 33, 26, 31, 29, 30, 28, 27], dtype=int64)"
      ]
     },
     "execution_count": 18,
     "metadata": {},
     "output_type": "execute_result"
    }
   ],
   "source": [
    "dataset['Customer_Age'].unique()"
   ]
  },
  {
   "cell_type": "code",
   "execution_count": 19,
   "metadata": {},
   "outputs": [],
   "source": [
    "from sklearn.preprocessing import StandardScaler\n",
    "\n",
    "\n",
    "def scale(dataset, columns):\n",
    "    dataset_new = dataset.copy()\n",
    "    standard_scaller = StandardScaler() \n",
    "    dataset_new[columns] = standard_scaller.fit_transform(dataset_new[columns])\n",
    "\n",
    "    \n",
    "    return dataset_new\n",
    "\n",
    "dataset_scaled = scale(dataset, columns=['Customer_Age', 'Dependent_count', 'Months_on_book', 'Total_Relationship_Count', \n",
    "                                         'Months_Inactive_12_mon', 'Contacts_Count_12_mon', 'Credit_Limit', \n",
    "                                         'Total_Revolving_Bal', 'Avg_Open_To_Buy', 'Total_Amt_Chng_Q4_Q1', \n",
    "                                         'Total_Trans_Amt', 'Total_Trans_Ct', 'Total_Ct_Chng_Q4_Q1', \n",
    "                                         'Avg_Utilization_Ratio'])"
   ]
  },
  {
   "cell_type": "code",
   "execution_count": 20,
   "metadata": {
    "scrolled": true
   },
   "outputs": [
    {
     "data": {
      "text/html": [
       "<div>\n",
       "<style scoped>\n",
       "    .dataframe tbody tr th:only-of-type {\n",
       "        vertical-align: middle;\n",
       "    }\n",
       "\n",
       "    .dataframe tbody tr th {\n",
       "        vertical-align: top;\n",
       "    }\n",
       "\n",
       "    .dataframe thead th {\n",
       "        text-align: right;\n",
       "    }\n",
       "</style>\n",
       "<table border=\"1\" class=\"dataframe\">\n",
       "  <thead>\n",
       "    <tr style=\"text-align: right;\">\n",
       "      <th></th>\n",
       "      <th>Attrition_Flag</th>\n",
       "      <th>Customer_Age</th>\n",
       "      <th>Gender</th>\n",
       "      <th>Dependent_count</th>\n",
       "      <th>Education_Level</th>\n",
       "      <th>Marital_Status</th>\n",
       "      <th>Income_Category</th>\n",
       "      <th>Card_Category</th>\n",
       "      <th>Months_on_book</th>\n",
       "      <th>Total_Relationship_Count</th>\n",
       "      <th>Months_Inactive_12_mon</th>\n",
       "      <th>Contacts_Count_12_mon</th>\n",
       "      <th>Credit_Limit</th>\n",
       "      <th>Total_Revolving_Bal</th>\n",
       "      <th>Avg_Open_To_Buy</th>\n",
       "      <th>Total_Amt_Chng_Q4_Q1</th>\n",
       "      <th>Total_Trans_Amt</th>\n",
       "      <th>Total_Trans_Ct</th>\n",
       "      <th>Total_Ct_Chng_Q4_Q1</th>\n",
       "      <th>Avg_Utilization_Ratio</th>\n",
       "    </tr>\n",
       "  </thead>\n",
       "  <tbody>\n",
       "    <tr>\n",
       "      <td>0</td>\n",
       "      <td>Existing Customer</td>\n",
       "      <td>-0.165406</td>\n",
       "      <td>M</td>\n",
       "      <td>0.503368</td>\n",
       "      <td>High School</td>\n",
       "      <td>Married</td>\n",
       "      <td>$60K - $80K</td>\n",
       "      <td>Blue</td>\n",
       "      <td>0.383560</td>\n",
       "      <td>0.763943</td>\n",
       "      <td>-1.327136</td>\n",
       "      <td>0.492404</td>\n",
       "      <td>0.446622</td>\n",
       "      <td>-0.473422</td>\n",
       "      <td>0.488971</td>\n",
       "      <td>2.623494</td>\n",
       "      <td>-0.959707</td>\n",
       "      <td>-0.973895</td>\n",
       "      <td>3.834003</td>\n",
       "      <td>-0.775882</td>\n",
       "    </tr>\n",
       "    <tr>\n",
       "      <td>1</td>\n",
       "      <td>Existing Customer</td>\n",
       "      <td>0.333570</td>\n",
       "      <td>F</td>\n",
       "      <td>2.043199</td>\n",
       "      <td>Graduate</td>\n",
       "      <td>Single</td>\n",
       "      <td>Less than $40K</td>\n",
       "      <td>Blue</td>\n",
       "      <td>1.008053</td>\n",
       "      <td>1.407306</td>\n",
       "      <td>-1.327136</td>\n",
       "      <td>-0.411616</td>\n",
       "      <td>-0.041367</td>\n",
       "      <td>-0.366667</td>\n",
       "      <td>-0.008486</td>\n",
       "      <td>3.563293</td>\n",
       "      <td>-0.916433</td>\n",
       "      <td>-1.357340</td>\n",
       "      <td>12.608573</td>\n",
       "      <td>-0.616276</td>\n",
       "    </tr>\n",
       "    <tr>\n",
       "      <td>2</td>\n",
       "      <td>Existing Customer</td>\n",
       "      <td>0.583058</td>\n",
       "      <td>M</td>\n",
       "      <td>0.503368</td>\n",
       "      <td>Graduate</td>\n",
       "      <td>Married</td>\n",
       "      <td>$80K - $120K</td>\n",
       "      <td>Blue</td>\n",
       "      <td>0.008864</td>\n",
       "      <td>0.120579</td>\n",
       "      <td>-1.327136</td>\n",
       "      <td>-2.219655</td>\n",
       "      <td>-0.573698</td>\n",
       "      <td>-1.426858</td>\n",
       "      <td>-0.445658</td>\n",
       "      <td>8.367214</td>\n",
       "      <td>-0.740982</td>\n",
       "      <td>-1.911206</td>\n",
       "      <td>6.807864</td>\n",
       "      <td>-0.997155</td>\n",
       "    </tr>\n",
       "    <tr>\n",
       "      <td>3</td>\n",
       "      <td>Existing Customer</td>\n",
       "      <td>-0.789126</td>\n",
       "      <td>F</td>\n",
       "      <td>1.273283</td>\n",
       "      <td>High School</td>\n",
       "      <td>Unknown</td>\n",
       "      <td>Less than $40K</td>\n",
       "      <td>Blue</td>\n",
       "      <td>-0.240934</td>\n",
       "      <td>-0.522785</td>\n",
       "      <td>1.641478</td>\n",
       "      <td>-1.315636</td>\n",
       "      <td>-0.585251</td>\n",
       "      <td>1.661686</td>\n",
       "      <td>-0.734100</td>\n",
       "      <td>2.942843</td>\n",
       "      <td>-0.951758</td>\n",
       "      <td>-1.911206</td>\n",
       "      <td>6.807864</td>\n",
       "      <td>1.759686</td>\n",
       "    </tr>\n",
       "    <tr>\n",
       "      <td>4</td>\n",
       "      <td>Existing Customer</td>\n",
       "      <td>-0.789126</td>\n",
       "      <td>M</td>\n",
       "      <td>0.503368</td>\n",
       "      <td>Uneducated</td>\n",
       "      <td>Married</td>\n",
       "      <td>$60K - $80K</td>\n",
       "      <td>Blue</td>\n",
       "      <td>-1.864617</td>\n",
       "      <td>0.763943</td>\n",
       "      <td>-1.327136</td>\n",
       "      <td>-2.219655</td>\n",
       "      <td>-0.430877</td>\n",
       "      <td>-1.426858</td>\n",
       "      <td>-0.302868</td>\n",
       "      <td>6.455682</td>\n",
       "      <td>-1.056263</td>\n",
       "      <td>-1.570365</td>\n",
       "      <td>7.509325</td>\n",
       "      <td>-0.997155</td>\n",
       "    </tr>\n",
       "  </tbody>\n",
       "</table>\n",
       "</div>"
      ],
      "text/plain": [
       "      Attrition_Flag  Customer_Age Gender  Dependent_count Education_Level  \\\n",
       "0  Existing Customer     -0.165406      M         0.503368     High School   \n",
       "1  Existing Customer      0.333570      F         2.043199        Graduate   \n",
       "2  Existing Customer      0.583058      M         0.503368        Graduate   \n",
       "3  Existing Customer     -0.789126      F         1.273283     High School   \n",
       "4  Existing Customer     -0.789126      M         0.503368      Uneducated   \n",
       "\n",
       "  Marital_Status Income_Category Card_Category  Months_on_book  \\\n",
       "0        Married     $60K - $80K          Blue        0.383560   \n",
       "1         Single  Less than $40K          Blue        1.008053   \n",
       "2        Married    $80K - $120K          Blue        0.008864   \n",
       "3        Unknown  Less than $40K          Blue       -0.240934   \n",
       "4        Married     $60K - $80K          Blue       -1.864617   \n",
       "\n",
       "   Total_Relationship_Count  Months_Inactive_12_mon  Contacts_Count_12_mon  \\\n",
       "0                  0.763943               -1.327136               0.492404   \n",
       "1                  1.407306               -1.327136              -0.411616   \n",
       "2                  0.120579               -1.327136              -2.219655   \n",
       "3                 -0.522785                1.641478              -1.315636   \n",
       "4                  0.763943               -1.327136              -2.219655   \n",
       "\n",
       "   Credit_Limit  Total_Revolving_Bal  Avg_Open_To_Buy  Total_Amt_Chng_Q4_Q1  \\\n",
       "0      0.446622            -0.473422         0.488971              2.623494   \n",
       "1     -0.041367            -0.366667        -0.008486              3.563293   \n",
       "2     -0.573698            -1.426858        -0.445658              8.367214   \n",
       "3     -0.585251             1.661686        -0.734100              2.942843   \n",
       "4     -0.430877            -1.426858        -0.302868              6.455682   \n",
       "\n",
       "   Total_Trans_Amt  Total_Trans_Ct  Total_Ct_Chng_Q4_Q1  Avg_Utilization_Ratio  \n",
       "0        -0.959707       -0.973895             3.834003              -0.775882  \n",
       "1        -0.916433       -1.357340            12.608573              -0.616276  \n",
       "2        -0.740982       -1.911206             6.807864              -0.997155  \n",
       "3        -0.951758       -1.911206             6.807864               1.759686  \n",
       "4        -1.056263       -1.570365             7.509325              -0.997155  "
      ]
     },
     "execution_count": 20,
     "metadata": {},
     "output_type": "execute_result"
    }
   ],
   "source": [
    "dataset_scaled.head()"
   ]
  },
  {
   "cell_type": "code",
   "execution_count": 21,
   "metadata": {},
   "outputs": [
    {
     "name": "stdout",
     "output_type": "stream",
     "text": [
      "Attrition_Flag 2\n",
      "Gender 2\n",
      "Education_Level 7\n",
      "Marital_Status 4\n",
      "Income_Category 6\n",
      "Card_Category 4\n"
     ]
    }
   ],
   "source": [
    "# List the categorical features and their number of categories\n",
    "\n",
    "from pandas.api.types import is_string_dtype\n",
    "\n",
    "for i in dataset_scaled.columns:\n",
    "    if is_string_dtype(dataset_scaled[i]):\n",
    "        print(i, len(dataset_scaled[i].unique()))"
   ]
  },
  {
   "cell_type": "code",
   "execution_count": 22,
   "metadata": {},
   "outputs": [],
   "source": [
    "from sklearn.preprocessing import LabelEncoder\n",
    "\n",
    "def label_encoding_notordinal(dataset, columns):\n",
    "    dataset_ = dataset.copy()\n",
    "    transformer = LabelEncoder()\n",
    "    for column in columns:\n",
    "        dataset_[column]  = transformer.fit_transform(dataset_[column])\n",
    "    return dataset_"
   ]
  },
  {
   "cell_type": "code",
   "execution_count": 23,
   "metadata": {},
   "outputs": [],
   "source": [
    "dataset_label_encoded = label_encoding_notordinal(dataset_scaled, columns=['Education_Level', 'Income_Category', \n",
    "                                                                           'Attrition_Flag'])"
   ]
  },
  {
   "cell_type": "code",
   "execution_count": 24,
   "metadata": {},
   "outputs": [
    {
     "data": {
      "text/html": [
       "<div>\n",
       "<style scoped>\n",
       "    .dataframe tbody tr th:only-of-type {\n",
       "        vertical-align: middle;\n",
       "    }\n",
       "\n",
       "    .dataframe tbody tr th {\n",
       "        vertical-align: top;\n",
       "    }\n",
       "\n",
       "    .dataframe thead th {\n",
       "        text-align: right;\n",
       "    }\n",
       "</style>\n",
       "<table border=\"1\" class=\"dataframe\">\n",
       "  <thead>\n",
       "    <tr style=\"text-align: right;\">\n",
       "      <th></th>\n",
       "      <th>Attrition_Flag</th>\n",
       "      <th>Customer_Age</th>\n",
       "      <th>Gender</th>\n",
       "      <th>Dependent_count</th>\n",
       "      <th>Education_Level</th>\n",
       "      <th>Marital_Status</th>\n",
       "      <th>Income_Category</th>\n",
       "      <th>Card_Category</th>\n",
       "      <th>Months_on_book</th>\n",
       "      <th>Total_Relationship_Count</th>\n",
       "      <th>Months_Inactive_12_mon</th>\n",
       "      <th>Contacts_Count_12_mon</th>\n",
       "      <th>Credit_Limit</th>\n",
       "      <th>Total_Revolving_Bal</th>\n",
       "      <th>Avg_Open_To_Buy</th>\n",
       "      <th>Total_Amt_Chng_Q4_Q1</th>\n",
       "      <th>Total_Trans_Amt</th>\n",
       "      <th>Total_Trans_Ct</th>\n",
       "      <th>Total_Ct_Chng_Q4_Q1</th>\n",
       "      <th>Avg_Utilization_Ratio</th>\n",
       "    </tr>\n",
       "  </thead>\n",
       "  <tbody>\n",
       "    <tr>\n",
       "      <td>0</td>\n",
       "      <td>1</td>\n",
       "      <td>-0.165406</td>\n",
       "      <td>M</td>\n",
       "      <td>0.503368</td>\n",
       "      <td>3</td>\n",
       "      <td>Married</td>\n",
       "      <td>2</td>\n",
       "      <td>Blue</td>\n",
       "      <td>0.383560</td>\n",
       "      <td>0.763943</td>\n",
       "      <td>-1.327136</td>\n",
       "      <td>0.492404</td>\n",
       "      <td>0.446622</td>\n",
       "      <td>-0.473422</td>\n",
       "      <td>0.488971</td>\n",
       "      <td>2.623494</td>\n",
       "      <td>-0.959707</td>\n",
       "      <td>-0.973895</td>\n",
       "      <td>3.834003</td>\n",
       "      <td>-0.775882</td>\n",
       "    </tr>\n",
       "    <tr>\n",
       "      <td>1</td>\n",
       "      <td>1</td>\n",
       "      <td>0.333570</td>\n",
       "      <td>F</td>\n",
       "      <td>2.043199</td>\n",
       "      <td>2</td>\n",
       "      <td>Single</td>\n",
       "      <td>4</td>\n",
       "      <td>Blue</td>\n",
       "      <td>1.008053</td>\n",
       "      <td>1.407306</td>\n",
       "      <td>-1.327136</td>\n",
       "      <td>-0.411616</td>\n",
       "      <td>-0.041367</td>\n",
       "      <td>-0.366667</td>\n",
       "      <td>-0.008486</td>\n",
       "      <td>3.563293</td>\n",
       "      <td>-0.916433</td>\n",
       "      <td>-1.357340</td>\n",
       "      <td>12.608573</td>\n",
       "      <td>-0.616276</td>\n",
       "    </tr>\n",
       "    <tr>\n",
       "      <td>2</td>\n",
       "      <td>1</td>\n",
       "      <td>0.583058</td>\n",
       "      <td>M</td>\n",
       "      <td>0.503368</td>\n",
       "      <td>2</td>\n",
       "      <td>Married</td>\n",
       "      <td>3</td>\n",
       "      <td>Blue</td>\n",
       "      <td>0.008864</td>\n",
       "      <td>0.120579</td>\n",
       "      <td>-1.327136</td>\n",
       "      <td>-2.219655</td>\n",
       "      <td>-0.573698</td>\n",
       "      <td>-1.426858</td>\n",
       "      <td>-0.445658</td>\n",
       "      <td>8.367214</td>\n",
       "      <td>-0.740982</td>\n",
       "      <td>-1.911206</td>\n",
       "      <td>6.807864</td>\n",
       "      <td>-0.997155</td>\n",
       "    </tr>\n",
       "    <tr>\n",
       "      <td>3</td>\n",
       "      <td>1</td>\n",
       "      <td>-0.789126</td>\n",
       "      <td>F</td>\n",
       "      <td>1.273283</td>\n",
       "      <td>3</td>\n",
       "      <td>Unknown</td>\n",
       "      <td>4</td>\n",
       "      <td>Blue</td>\n",
       "      <td>-0.240934</td>\n",
       "      <td>-0.522785</td>\n",
       "      <td>1.641478</td>\n",
       "      <td>-1.315636</td>\n",
       "      <td>-0.585251</td>\n",
       "      <td>1.661686</td>\n",
       "      <td>-0.734100</td>\n",
       "      <td>2.942843</td>\n",
       "      <td>-0.951758</td>\n",
       "      <td>-1.911206</td>\n",
       "      <td>6.807864</td>\n",
       "      <td>1.759686</td>\n",
       "    </tr>\n",
       "    <tr>\n",
       "      <td>4</td>\n",
       "      <td>1</td>\n",
       "      <td>-0.789126</td>\n",
       "      <td>M</td>\n",
       "      <td>0.503368</td>\n",
       "      <td>5</td>\n",
       "      <td>Married</td>\n",
       "      <td>2</td>\n",
       "      <td>Blue</td>\n",
       "      <td>-1.864617</td>\n",
       "      <td>0.763943</td>\n",
       "      <td>-1.327136</td>\n",
       "      <td>-2.219655</td>\n",
       "      <td>-0.430877</td>\n",
       "      <td>-1.426858</td>\n",
       "      <td>-0.302868</td>\n",
       "      <td>6.455682</td>\n",
       "      <td>-1.056263</td>\n",
       "      <td>-1.570365</td>\n",
       "      <td>7.509325</td>\n",
       "      <td>-0.997155</td>\n",
       "    </tr>\n",
       "  </tbody>\n",
       "</table>\n",
       "</div>"
      ],
      "text/plain": [
       "   Attrition_Flag  Customer_Age Gender  Dependent_count  Education_Level  \\\n",
       "0               1     -0.165406      M         0.503368                3   \n",
       "1               1      0.333570      F         2.043199                2   \n",
       "2               1      0.583058      M         0.503368                2   \n",
       "3               1     -0.789126      F         1.273283                3   \n",
       "4               1     -0.789126      M         0.503368                5   \n",
       "\n",
       "  Marital_Status  Income_Category Card_Category  Months_on_book  \\\n",
       "0        Married                2          Blue        0.383560   \n",
       "1         Single                4          Blue        1.008053   \n",
       "2        Married                3          Blue        0.008864   \n",
       "3        Unknown                4          Blue       -0.240934   \n",
       "4        Married                2          Blue       -1.864617   \n",
       "\n",
       "   Total_Relationship_Count  Months_Inactive_12_mon  Contacts_Count_12_mon  \\\n",
       "0                  0.763943               -1.327136               0.492404   \n",
       "1                  1.407306               -1.327136              -0.411616   \n",
       "2                  0.120579               -1.327136              -2.219655   \n",
       "3                 -0.522785                1.641478              -1.315636   \n",
       "4                  0.763943               -1.327136              -2.219655   \n",
       "\n",
       "   Credit_Limit  Total_Revolving_Bal  Avg_Open_To_Buy  Total_Amt_Chng_Q4_Q1  \\\n",
       "0      0.446622            -0.473422         0.488971              2.623494   \n",
       "1     -0.041367            -0.366667        -0.008486              3.563293   \n",
       "2     -0.573698            -1.426858        -0.445658              8.367214   \n",
       "3     -0.585251             1.661686        -0.734100              2.942843   \n",
       "4     -0.430877            -1.426858        -0.302868              6.455682   \n",
       "\n",
       "   Total_Trans_Amt  Total_Trans_Ct  Total_Ct_Chng_Q4_Q1  Avg_Utilization_Ratio  \n",
       "0        -0.959707       -0.973895             3.834003              -0.775882  \n",
       "1        -0.916433       -1.357340            12.608573              -0.616276  \n",
       "2        -0.740982       -1.911206             6.807864              -0.997155  \n",
       "3        -0.951758       -1.911206             6.807864               1.759686  \n",
       "4        -1.056263       -1.570365             7.509325              -0.997155  "
      ]
     },
     "execution_count": 24,
     "metadata": {},
     "output_type": "execute_result"
    }
   ],
   "source": [
    "dataset_label_encoded.head()"
   ]
  },
  {
   "cell_type": "code",
   "execution_count": 25,
   "metadata": {},
   "outputs": [],
   "source": [
    "def one_hot_encoding(dataset, columns):\n",
    "    dataset_new = dataset.copy()\n",
    "    data_dummies =  pd.get_dummies(dataset[columns])\n",
    "    dataset_new = pd.concat([dataset_new, data_dummies],  axis='columns')\n",
    "    dataset_new.drop(columns, axis='columns', inplace=True)\n",
    "\n",
    "    return dataset_new"
   ]
  },
  {
   "cell_type": "code",
   "execution_count": 26,
   "metadata": {},
   "outputs": [],
   "source": [
    "dataset_one_hot_encoded = one_hot_encoding(dataset_label_encoded, columns=['Gender', 'Marital_Status', 'Card_Category'])"
   ]
  },
  {
   "cell_type": "code",
   "execution_count": 27,
   "metadata": {},
   "outputs": [
    {
     "data": {
      "text/html": [
       "<div>\n",
       "<style scoped>\n",
       "    .dataframe tbody tr th:only-of-type {\n",
       "        vertical-align: middle;\n",
       "    }\n",
       "\n",
       "    .dataframe tbody tr th {\n",
       "        vertical-align: top;\n",
       "    }\n",
       "\n",
       "    .dataframe thead th {\n",
       "        text-align: right;\n",
       "    }\n",
       "</style>\n",
       "<table border=\"1\" class=\"dataframe\">\n",
       "  <thead>\n",
       "    <tr style=\"text-align: right;\">\n",
       "      <th></th>\n",
       "      <th>Attrition_Flag</th>\n",
       "      <th>Customer_Age</th>\n",
       "      <th>Dependent_count</th>\n",
       "      <th>Education_Level</th>\n",
       "      <th>Income_Category</th>\n",
       "      <th>Months_on_book</th>\n",
       "      <th>Total_Relationship_Count</th>\n",
       "      <th>Months_Inactive_12_mon</th>\n",
       "      <th>Contacts_Count_12_mon</th>\n",
       "      <th>Credit_Limit</th>\n",
       "      <th>...</th>\n",
       "      <th>Gender_F</th>\n",
       "      <th>Gender_M</th>\n",
       "      <th>Marital_Status_Divorced</th>\n",
       "      <th>Marital_Status_Married</th>\n",
       "      <th>Marital_Status_Single</th>\n",
       "      <th>Marital_Status_Unknown</th>\n",
       "      <th>Card_Category_Blue</th>\n",
       "      <th>Card_Category_Gold</th>\n",
       "      <th>Card_Category_Platinum</th>\n",
       "      <th>Card_Category_Silver</th>\n",
       "    </tr>\n",
       "  </thead>\n",
       "  <tbody>\n",
       "    <tr>\n",
       "      <td>0</td>\n",
       "      <td>1</td>\n",
       "      <td>-0.165406</td>\n",
       "      <td>0.503368</td>\n",
       "      <td>3</td>\n",
       "      <td>2</td>\n",
       "      <td>0.383560</td>\n",
       "      <td>0.763943</td>\n",
       "      <td>-1.327136</td>\n",
       "      <td>0.492404</td>\n",
       "      <td>0.446622</td>\n",
       "      <td>...</td>\n",
       "      <td>0</td>\n",
       "      <td>1</td>\n",
       "      <td>0</td>\n",
       "      <td>1</td>\n",
       "      <td>0</td>\n",
       "      <td>0</td>\n",
       "      <td>1</td>\n",
       "      <td>0</td>\n",
       "      <td>0</td>\n",
       "      <td>0</td>\n",
       "    </tr>\n",
       "    <tr>\n",
       "      <td>1</td>\n",
       "      <td>1</td>\n",
       "      <td>0.333570</td>\n",
       "      <td>2.043199</td>\n",
       "      <td>2</td>\n",
       "      <td>4</td>\n",
       "      <td>1.008053</td>\n",
       "      <td>1.407306</td>\n",
       "      <td>-1.327136</td>\n",
       "      <td>-0.411616</td>\n",
       "      <td>-0.041367</td>\n",
       "      <td>...</td>\n",
       "      <td>1</td>\n",
       "      <td>0</td>\n",
       "      <td>0</td>\n",
       "      <td>0</td>\n",
       "      <td>1</td>\n",
       "      <td>0</td>\n",
       "      <td>1</td>\n",
       "      <td>0</td>\n",
       "      <td>0</td>\n",
       "      <td>0</td>\n",
       "    </tr>\n",
       "    <tr>\n",
       "      <td>2</td>\n",
       "      <td>1</td>\n",
       "      <td>0.583058</td>\n",
       "      <td>0.503368</td>\n",
       "      <td>2</td>\n",
       "      <td>3</td>\n",
       "      <td>0.008864</td>\n",
       "      <td>0.120579</td>\n",
       "      <td>-1.327136</td>\n",
       "      <td>-2.219655</td>\n",
       "      <td>-0.573698</td>\n",
       "      <td>...</td>\n",
       "      <td>0</td>\n",
       "      <td>1</td>\n",
       "      <td>0</td>\n",
       "      <td>1</td>\n",
       "      <td>0</td>\n",
       "      <td>0</td>\n",
       "      <td>1</td>\n",
       "      <td>0</td>\n",
       "      <td>0</td>\n",
       "      <td>0</td>\n",
       "    </tr>\n",
       "    <tr>\n",
       "      <td>3</td>\n",
       "      <td>1</td>\n",
       "      <td>-0.789126</td>\n",
       "      <td>1.273283</td>\n",
       "      <td>3</td>\n",
       "      <td>4</td>\n",
       "      <td>-0.240934</td>\n",
       "      <td>-0.522785</td>\n",
       "      <td>1.641478</td>\n",
       "      <td>-1.315636</td>\n",
       "      <td>-0.585251</td>\n",
       "      <td>...</td>\n",
       "      <td>1</td>\n",
       "      <td>0</td>\n",
       "      <td>0</td>\n",
       "      <td>0</td>\n",
       "      <td>0</td>\n",
       "      <td>1</td>\n",
       "      <td>1</td>\n",
       "      <td>0</td>\n",
       "      <td>0</td>\n",
       "      <td>0</td>\n",
       "    </tr>\n",
       "    <tr>\n",
       "      <td>4</td>\n",
       "      <td>1</td>\n",
       "      <td>-0.789126</td>\n",
       "      <td>0.503368</td>\n",
       "      <td>5</td>\n",
       "      <td>2</td>\n",
       "      <td>-1.864617</td>\n",
       "      <td>0.763943</td>\n",
       "      <td>-1.327136</td>\n",
       "      <td>-2.219655</td>\n",
       "      <td>-0.430877</td>\n",
       "      <td>...</td>\n",
       "      <td>0</td>\n",
       "      <td>1</td>\n",
       "      <td>0</td>\n",
       "      <td>1</td>\n",
       "      <td>0</td>\n",
       "      <td>0</td>\n",
       "      <td>1</td>\n",
       "      <td>0</td>\n",
       "      <td>0</td>\n",
       "      <td>0</td>\n",
       "    </tr>\n",
       "  </tbody>\n",
       "</table>\n",
       "<p>5 rows × 27 columns</p>\n",
       "</div>"
      ],
      "text/plain": [
       "   Attrition_Flag  Customer_Age  Dependent_count  Education_Level  \\\n",
       "0               1     -0.165406         0.503368                3   \n",
       "1               1      0.333570         2.043199                2   \n",
       "2               1      0.583058         0.503368                2   \n",
       "3               1     -0.789126         1.273283                3   \n",
       "4               1     -0.789126         0.503368                5   \n",
       "\n",
       "   Income_Category  Months_on_book  Total_Relationship_Count  \\\n",
       "0                2        0.383560                  0.763943   \n",
       "1                4        1.008053                  1.407306   \n",
       "2                3        0.008864                  0.120579   \n",
       "3                4       -0.240934                 -0.522785   \n",
       "4                2       -1.864617                  0.763943   \n",
       "\n",
       "   Months_Inactive_12_mon  Contacts_Count_12_mon  Credit_Limit  ...  Gender_F  \\\n",
       "0               -1.327136               0.492404      0.446622  ...         0   \n",
       "1               -1.327136              -0.411616     -0.041367  ...         1   \n",
       "2               -1.327136              -2.219655     -0.573698  ...         0   \n",
       "3                1.641478              -1.315636     -0.585251  ...         1   \n",
       "4               -1.327136              -2.219655     -0.430877  ...         0   \n",
       "\n",
       "   Gender_M  Marital_Status_Divorced  Marital_Status_Married  \\\n",
       "0         1                        0                       1   \n",
       "1         0                        0                       0   \n",
       "2         1                        0                       1   \n",
       "3         0                        0                       0   \n",
       "4         1                        0                       1   \n",
       "\n",
       "   Marital_Status_Single  Marital_Status_Unknown  Card_Category_Blue  \\\n",
       "0                      0                       0                   1   \n",
       "1                      1                       0                   1   \n",
       "2                      0                       0                   1   \n",
       "3                      0                       1                   1   \n",
       "4                      0                       0                   1   \n",
       "\n",
       "   Card_Category_Gold  Card_Category_Platinum  Card_Category_Silver  \n",
       "0                   0                       0                     0  \n",
       "1                   0                       0                     0  \n",
       "2                   0                       0                     0  \n",
       "3                   0                       0                     0  \n",
       "4                   0                       0                     0  \n",
       "\n",
       "[5 rows x 27 columns]"
      ]
     },
     "execution_count": 27,
     "metadata": {},
     "output_type": "execute_result"
    }
   ],
   "source": [
    "dataset_one_hot_encoded.head()"
   ]
  },
  {
   "cell_type": "code",
   "execution_count": null,
   "metadata": {},
   "outputs": [],
   "source": []
  },
  {
   "cell_type": "markdown",
   "metadata": {
    "id": "XiazHmxRSXy0"
   },
   "source": [
    "## 2. Feature Anaysis, Extraction & Selection\n",
    "(you may need to perform feature selection after creating default models and compare to them)"
   ]
  },
  {
   "cell_type": "code",
   "execution_count": null,
   "metadata": {},
   "outputs": [],
   "source": []
  },
  {
   "cell_type": "markdown",
   "metadata": {
    "id": "92THQSXGSXy3"
   },
   "source": [
    "## 3. Classification models\n",
    "- classical classification models\n",
    "- deep neural networks"
   ]
  },
  {
   "cell_type": "code",
   "execution_count": null,
   "metadata": {
    "id": "ve5_cjilSXy4"
   },
   "outputs": [],
   "source": []
  },
  {
   "cell_type": "markdown",
   "metadata": {
    "id": "JGyhoU96SXy7"
   },
   "source": [
    "## 4. Evaluation and comparisons, various metrics"
   ]
  },
  {
   "cell_type": "code",
   "execution_count": null,
   "metadata": {
    "id": "L0_vsmimSXy8"
   },
   "outputs": [],
   "source": []
  },
  {
   "cell_type": "markdown",
   "metadata": {
    "id": "C4TYzMqQSXy_"
   },
   "source": [
    "## 5. Hyperparameter Optimization"
   ]
  },
  {
   "cell_type": "code",
   "execution_count": null,
   "metadata": {
    "id": "b5DpSTA-SXy_"
   },
   "outputs": [],
   "source": []
  },
  {
   "cell_type": "markdown",
   "metadata": {
    "id": "c1Uyu5APSXzD"
   },
   "source": [
    "## 6. Final evaluations and comparisons\n",
    "- the best model - analyze it in details, evaluate it with different train/test splits. Is it robust enough"
   ]
  },
  {
   "cell_type": "code",
   "execution_count": null,
   "metadata": {
    "id": "BJYe6t-oSXzD"
   },
   "outputs": [],
   "source": []
  },
  {
   "cell_type": "markdown",
   "metadata": {
    "id": "-yo2Rs_5SXzG"
   },
   "source": [
    "## 7. Discussion, Concusions, Future improvements\n",
    "- which features are the most important\n",
    "- how will you explain the model to the management of the bank\n",
    "- how much benefit/improvement should the bank expect"
   ]
  },
  {
   "cell_type": "code",
   "execution_count": null,
   "metadata": {
    "id": "HSU-oBptSXzG"
   },
   "outputs": [],
   "source": []
  }
 ],
 "metadata": {
  "colab": {
   "collapsed_sections": [],
   "name": "Bank_template.ipynb",
   "provenance": []
  },
  "kernelspec": {
   "display_name": "Python 3",
   "language": "python",
   "name": "python3"
  },
  "language_info": {
   "codemirror_mode": {
    "name": "ipython",
    "version": 3
   },
   "file_extension": ".py",
   "mimetype": "text/x-python",
   "name": "python",
   "nbconvert_exporter": "python",
   "pygments_lexer": "ipython3",
   "version": "3.7.4"
  }
 },
 "nbformat": 4,
 "nbformat_minor": 1
}
