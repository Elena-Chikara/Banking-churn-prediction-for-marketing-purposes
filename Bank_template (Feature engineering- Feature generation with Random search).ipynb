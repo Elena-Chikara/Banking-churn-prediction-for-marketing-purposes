{
 "cells": [
  {
   "cell_type": "markdown",
   "metadata": {
    "id": "RarNoE4PSXyr"
   },
   "source": [
    "# Bank data analysis\n",
    "\n",
    "The goal of your project is to create a robust classifier and use the data, where you will build a model that will recognize whether specific client will leave/unsubscribe the bank services.\n",
    "Make feature engineering but also try differnet models in order to get as much accuracy as possible.\n",
    "\n",
    "\n",
    "\n",
    "\n",
    "    "
   ]
  },
  {
   "cell_type": "markdown",
   "metadata": {
    "id": "ZfCA9MCqxs55"
   },
   "source": [
    "## Dataset Info\n",
    "\n",
    "* CLIENTNUM\n",
    "  - Client number. Unique identifier for the customer holding the account\n",
    "\n",
    "* Attrition_Flag\n",
    "  - Internal event (customer activity) variable - if the account is closed then 1 else 0\n",
    "\n",
    "* Customer_Age\n",
    "  - Demographic variable - Customer's Age in Years\n",
    "\n",
    "* Gender\n",
    "  - Demographic variable - M=Male, F=Female\n",
    "\n",
    "* Dependent_count\n",
    "  - Demographic variable - Number of dependents\n",
    "\n",
    "* Education_Level\n",
    "  - Demographic variable - Educational Qualification of the account holder (example: high school, college graduate, etc.)\n",
    "\n",
    "\n",
    "* Marital_Status\n",
    "  - Demographic variable - Married, Single, Divorced, Unknown\n",
    "\n",
    "* Income_Category\n",
    "  - Demographic variable - Annual Income Category of the account holder (< $40K, $40K - 60K, $60K - $80K, $80K-$120K, > $120K, Unknown)\n",
    "\n",
    "\n",
    "* Card_Category\n",
    "  - Product Variable - Type of Card (Blue, Silver, Gold, Platinum)\n",
    "\n",
    "* Months_on_book\n",
    "  - Period of relationship with bank\n",
    "\n",
    "\n",
    "* Total_Relationship_Count\n",
    "  - Total no. of products held by the customer\n",
    "\n",
    "* Months_Inactive_12_mon\n",
    "  - No. of months inactive in the last 12 months\n",
    "\n",
    "* Contacts_Count_12_mon\n",
    "  - No. of Contacts in the last 12 months\n",
    "\n",
    "* Credit_Limit\n",
    "  - Credit Limit on the Credit Card\n",
    "\n",
    "* Total_Revolving_Bal\n",
    "  - Total Revolving Balance on the Credit Card\n",
    "\n",
    "* Avg_Open_To_Buy\n",
    "  - Open to Buy Credit Line (Average of last 12 months)\n",
    "\n",
    "* Total_Amt_Chng_Q4_Q1\n",
    "  - Change in Transaction Amount (Q4 over Q1)\n",
    "\n",
    "* Total_Trans_Amt\n",
    "  - Total Transaction Amount (Last 12 months)\n",
    "\n",
    "* Total_Trans_Ct\n",
    "  - Total Transaction Count (Last 12 months)\n",
    "\n",
    "* Total_Ct_Chng_Q4_Q1\n",
    "  - Change in Transaction Count (Q4 over Q1)\n",
    "\n",
    "* Avg_Utilization_Ratio\n",
    "  - Average Card Utilization Ratio\n",
    "\n",
    "\n"
   ]
  },
  {
   "cell_type": "markdown",
   "metadata": {
    "id": "u823cXPI0QNc"
   },
   "source": [
    "# Working Plan\n",
    "\n",
    "\n",
    "\n",
    "1. Phase 1 : Dataset\n",
    "    * Team Planning\n",
    "    * Full git project Integration\n",
    "    * General Project Research\n",
    "    * Dataset Preparation\n",
    "    * Dataset Feature Engineering\n",
    "\n",
    "2. Phase 2 : Training\n",
    "    * Make Research about your model\n",
    "    * Compose your model (try different models) \n",
    "    * Ping Pong phase with Dataset feature engineers\n",
    "    * Generate more data if needed\n",
    "    * Fine tunning of your model\n",
    "\n",
    "3. Phase 3 : Deployment\n",
    "    * Perform benchmark (precision/recall), ROC curve\n",
    "    * Model Deploy (Git)\n",
    "    * Write git Readme.md file\n",
    "    * Receive Feedback from PM"
   ]
  },
  {
   "cell_type": "markdown",
   "metadata": {
    "id": "vIGo_fGNSXys"
   },
   "source": [
    "## 0. Read data, visualize, basic statistics, understand it"
   ]
  },
  {
   "cell_type": "code",
   "execution_count": 1,
   "metadata": {
    "id": "Xj5WSaLYSXys"
   },
   "outputs": [],
   "source": [
    "import pandas as pd\n",
    "import numpy as np\n",
    "import matplotlib.pyplot as plt\n",
    "import seaborn as sns\n",
    "import sklearn\n",
    "import xgboost as xgb\n",
    "import warnings\n",
    "warnings.filterwarnings('ignore')\n",
    "from sklearn.metrics import roc_curve, plot_roc_curve, auc, RocCurveDisplay, confusion_matrix, ConfusionMatrixDisplay\n",
    "from sklearn.metrics import classification_report\n",
    "from sklearn.model_selection import RandomizedSearchCV, GridSearchCV\n",
    "from sklearn.naive_bayes import GaussianNB\n",
    "from sklearn.svm import SVC\n",
    "from sklearn.tree import DecisionTreeClassifier\n",
    "from sklearn.ensemble import RandomForestClassifier, GradientBoostingClassifier\n",
    "from sklearn.neighbors import KNeighborsClassifier\n",
    "from xgboost import XGBClassifier\n",
    "from sklearn.calibration import CalibratedClassifierCV\n",
    "from sklearn.preprocessing import StandardScaler, LabelEncoder\n",
    "from pandas.api.types import is_string_dtype"
   ]
  },
  {
   "cell_type": "code",
   "execution_count": 2,
   "metadata": {},
   "outputs": [],
   "source": [
    "dataset = pd.read_csv('dataset_bank.csv')"
   ]
  },
  {
   "cell_type": "code",
   "execution_count": 3,
   "metadata": {
    "scrolled": false
   },
   "outputs": [
    {
     "data": {
      "text/html": [
       "<div>\n",
       "<style scoped>\n",
       "    .dataframe tbody tr th:only-of-type {\n",
       "        vertical-align: middle;\n",
       "    }\n",
       "\n",
       "    .dataframe tbody tr th {\n",
       "        vertical-align: top;\n",
       "    }\n",
       "\n",
       "    .dataframe thead th {\n",
       "        text-align: right;\n",
       "    }\n",
       "</style>\n",
       "<table border=\"1\" class=\"dataframe\">\n",
       "  <thead>\n",
       "    <tr style=\"text-align: right;\">\n",
       "      <th></th>\n",
       "      <th>CLIENTNUM</th>\n",
       "      <th>Attrition_Flag</th>\n",
       "      <th>Customer_Age</th>\n",
       "      <th>Gender</th>\n",
       "      <th>Dependent_count</th>\n",
       "      <th>Education_Level</th>\n",
       "      <th>Marital_Status</th>\n",
       "      <th>Income_Category</th>\n",
       "      <th>Card_Category</th>\n",
       "      <th>Months_on_book</th>\n",
       "      <th>...</th>\n",
       "      <th>Months_Inactive_12_mon</th>\n",
       "      <th>Contacts_Count_12_mon</th>\n",
       "      <th>Credit_Limit</th>\n",
       "      <th>Total_Revolving_Bal</th>\n",
       "      <th>Avg_Open_To_Buy</th>\n",
       "      <th>Total_Amt_Chng_Q4_Q1</th>\n",
       "      <th>Total_Trans_Amt</th>\n",
       "      <th>Total_Trans_Ct</th>\n",
       "      <th>Total_Ct_Chng_Q4_Q1</th>\n",
       "      <th>Avg_Utilization_Ratio</th>\n",
       "    </tr>\n",
       "  </thead>\n",
       "  <tbody>\n",
       "    <tr>\n",
       "      <td>0</td>\n",
       "      <td>768805383</td>\n",
       "      <td>Existing Customer</td>\n",
       "      <td>45</td>\n",
       "      <td>M</td>\n",
       "      <td>3</td>\n",
       "      <td>High School</td>\n",
       "      <td>Married</td>\n",
       "      <td>$60K - $80K</td>\n",
       "      <td>Blue</td>\n",
       "      <td>39.0</td>\n",
       "      <td>...</td>\n",
       "      <td>1</td>\n",
       "      <td>3</td>\n",
       "      <td>12691.0</td>\n",
       "      <td>777</td>\n",
       "      <td>11914.0</td>\n",
       "      <td>1.335</td>\n",
       "      <td>1144</td>\n",
       "      <td>42</td>\n",
       "      <td>1.625</td>\n",
       "      <td>0.061</td>\n",
       "    </tr>\n",
       "    <tr>\n",
       "      <td>1</td>\n",
       "      <td>818770008</td>\n",
       "      <td>Existing Customer</td>\n",
       "      <td>49</td>\n",
       "      <td>F</td>\n",
       "      <td>5</td>\n",
       "      <td>Graduate</td>\n",
       "      <td>Single</td>\n",
       "      <td>Less than $40K</td>\n",
       "      <td>Blue</td>\n",
       "      <td>44.0</td>\n",
       "      <td>...</td>\n",
       "      <td>1</td>\n",
       "      <td>2</td>\n",
       "      <td>8256.0</td>\n",
       "      <td>864</td>\n",
       "      <td>7392.0</td>\n",
       "      <td>1.541</td>\n",
       "      <td>1291</td>\n",
       "      <td>33</td>\n",
       "      <td>3.714</td>\n",
       "      <td>0.105</td>\n",
       "    </tr>\n",
       "    <tr>\n",
       "      <td>2</td>\n",
       "      <td>713982108</td>\n",
       "      <td>Existing Customer</td>\n",
       "      <td>51</td>\n",
       "      <td>M</td>\n",
       "      <td>3</td>\n",
       "      <td>Graduate</td>\n",
       "      <td>Married</td>\n",
       "      <td>$80K - $120K</td>\n",
       "      <td>Blue</td>\n",
       "      <td>36.0</td>\n",
       "      <td>...</td>\n",
       "      <td>1</td>\n",
       "      <td>0</td>\n",
       "      <td>3418.0</td>\n",
       "      <td>0</td>\n",
       "      <td>3418.0</td>\n",
       "      <td>2.594</td>\n",
       "      <td>1887</td>\n",
       "      <td>20</td>\n",
       "      <td>2.333</td>\n",
       "      <td>0.000</td>\n",
       "    </tr>\n",
       "    <tr>\n",
       "      <td>3</td>\n",
       "      <td>769911858</td>\n",
       "      <td>Existing Customer</td>\n",
       "      <td>40</td>\n",
       "      <td>F</td>\n",
       "      <td>4</td>\n",
       "      <td>High School</td>\n",
       "      <td>Unknown</td>\n",
       "      <td>Less than $40K</td>\n",
       "      <td>Blue</td>\n",
       "      <td>34.0</td>\n",
       "      <td>...</td>\n",
       "      <td>4</td>\n",
       "      <td>1</td>\n",
       "      <td>3313.0</td>\n",
       "      <td>2517</td>\n",
       "      <td>796.0</td>\n",
       "      <td>1.405</td>\n",
       "      <td>1171</td>\n",
       "      <td>20</td>\n",
       "      <td>2.333</td>\n",
       "      <td>0.760</td>\n",
       "    </tr>\n",
       "    <tr>\n",
       "      <td>4</td>\n",
       "      <td>709106358</td>\n",
       "      <td>Existing Customer</td>\n",
       "      <td>40</td>\n",
       "      <td>M</td>\n",
       "      <td>3</td>\n",
       "      <td>Uneducated</td>\n",
       "      <td>Married</td>\n",
       "      <td>$60K - $80K</td>\n",
       "      <td>Blue</td>\n",
       "      <td>21.0</td>\n",
       "      <td>...</td>\n",
       "      <td>1</td>\n",
       "      <td>0</td>\n",
       "      <td>4716.0</td>\n",
       "      <td>0</td>\n",
       "      <td>4716.0</td>\n",
       "      <td>2.175</td>\n",
       "      <td>816</td>\n",
       "      <td>28</td>\n",
       "      <td>2.500</td>\n",
       "      <td>0.000</td>\n",
       "    </tr>\n",
       "    <tr>\n",
       "      <td>5</td>\n",
       "      <td>713061558</td>\n",
       "      <td>Existing Customer</td>\n",
       "      <td>44</td>\n",
       "      <td>M</td>\n",
       "      <td>2</td>\n",
       "      <td>Graduate</td>\n",
       "      <td>Married</td>\n",
       "      <td>$40K - $60K</td>\n",
       "      <td>Blue</td>\n",
       "      <td>36.0</td>\n",
       "      <td>...</td>\n",
       "      <td>1</td>\n",
       "      <td>2</td>\n",
       "      <td>4010.0</td>\n",
       "      <td>1247</td>\n",
       "      <td>2763.0</td>\n",
       "      <td>1.376</td>\n",
       "      <td>1088</td>\n",
       "      <td>24</td>\n",
       "      <td>0.846</td>\n",
       "      <td>0.311</td>\n",
       "    </tr>\n",
       "    <tr>\n",
       "      <td>6</td>\n",
       "      <td>810347208</td>\n",
       "      <td>Existing Customer</td>\n",
       "      <td>51</td>\n",
       "      <td>M</td>\n",
       "      <td>4</td>\n",
       "      <td>Unknown</td>\n",
       "      <td>Married</td>\n",
       "      <td>$120K +</td>\n",
       "      <td>Gold</td>\n",
       "      <td>46.0</td>\n",
       "      <td>...</td>\n",
       "      <td>1</td>\n",
       "      <td>3</td>\n",
       "      <td>34516.0</td>\n",
       "      <td>2264</td>\n",
       "      <td>32252.0</td>\n",
       "      <td>1.975</td>\n",
       "      <td>1330</td>\n",
       "      <td>31</td>\n",
       "      <td>0.722</td>\n",
       "      <td>0.066</td>\n",
       "    </tr>\n",
       "    <tr>\n",
       "      <td>7</td>\n",
       "      <td>818906208</td>\n",
       "      <td>Existing Customer</td>\n",
       "      <td>32</td>\n",
       "      <td>M</td>\n",
       "      <td>0</td>\n",
       "      <td>High School</td>\n",
       "      <td>Unknown</td>\n",
       "      <td>$60K - $80K</td>\n",
       "      <td>Silver</td>\n",
       "      <td>27.0</td>\n",
       "      <td>...</td>\n",
       "      <td>2</td>\n",
       "      <td>2</td>\n",
       "      <td>29081.0</td>\n",
       "      <td>1396</td>\n",
       "      <td>27685.0</td>\n",
       "      <td>2.204</td>\n",
       "      <td>1538</td>\n",
       "      <td>36</td>\n",
       "      <td>0.714</td>\n",
       "      <td>0.048</td>\n",
       "    </tr>\n",
       "    <tr>\n",
       "      <td>8</td>\n",
       "      <td>710930508</td>\n",
       "      <td>Existing Customer</td>\n",
       "      <td>37</td>\n",
       "      <td>M</td>\n",
       "      <td>3</td>\n",
       "      <td>Uneducated</td>\n",
       "      <td>Single</td>\n",
       "      <td>$60K - $80K</td>\n",
       "      <td>Blue</td>\n",
       "      <td>36.0</td>\n",
       "      <td>...</td>\n",
       "      <td>2</td>\n",
       "      <td>0</td>\n",
       "      <td>22352.0</td>\n",
       "      <td>2517</td>\n",
       "      <td>19835.0</td>\n",
       "      <td>3.355</td>\n",
       "      <td>1350</td>\n",
       "      <td>24</td>\n",
       "      <td>1.182</td>\n",
       "      <td>0.113</td>\n",
       "    </tr>\n",
       "    <tr>\n",
       "      <td>9</td>\n",
       "      <td>719661558</td>\n",
       "      <td>Existing Customer</td>\n",
       "      <td>48</td>\n",
       "      <td>M</td>\n",
       "      <td>2</td>\n",
       "      <td>Graduate</td>\n",
       "      <td>Single</td>\n",
       "      <td>$80K - $120K</td>\n",
       "      <td>Blue</td>\n",
       "      <td>36.0</td>\n",
       "      <td>...</td>\n",
       "      <td>3</td>\n",
       "      <td>3</td>\n",
       "      <td>11656.0</td>\n",
       "      <td>1677</td>\n",
       "      <td>9979.0</td>\n",
       "      <td>1.524</td>\n",
       "      <td>1441</td>\n",
       "      <td>32</td>\n",
       "      <td>0.882</td>\n",
       "      <td>0.144</td>\n",
       "    </tr>\n",
       "  </tbody>\n",
       "</table>\n",
       "<p>10 rows × 21 columns</p>\n",
       "</div>"
      ],
      "text/plain": [
       "   CLIENTNUM     Attrition_Flag  Customer_Age Gender  Dependent_count  \\\n",
       "0  768805383  Existing Customer            45      M                3   \n",
       "1  818770008  Existing Customer            49      F                5   \n",
       "2  713982108  Existing Customer            51      M                3   \n",
       "3  769911858  Existing Customer            40      F                4   \n",
       "4  709106358  Existing Customer            40      M                3   \n",
       "5  713061558  Existing Customer            44      M                2   \n",
       "6  810347208  Existing Customer            51      M                4   \n",
       "7  818906208  Existing Customer            32      M                0   \n",
       "8  710930508  Existing Customer            37      M                3   \n",
       "9  719661558  Existing Customer            48      M                2   \n",
       "\n",
       "  Education_Level Marital_Status Income_Category Card_Category  \\\n",
       "0     High School        Married     $60K - $80K          Blue   \n",
       "1        Graduate         Single  Less than $40K          Blue   \n",
       "2        Graduate        Married    $80K - $120K          Blue   \n",
       "3     High School        Unknown  Less than $40K          Blue   \n",
       "4      Uneducated        Married     $60K - $80K          Blue   \n",
       "5        Graduate        Married     $40K - $60K          Blue   \n",
       "6         Unknown        Married         $120K +          Gold   \n",
       "7     High School        Unknown     $60K - $80K        Silver   \n",
       "8      Uneducated         Single     $60K - $80K          Blue   \n",
       "9        Graduate         Single    $80K - $120K          Blue   \n",
       "\n",
       "   Months_on_book  ...  Months_Inactive_12_mon  Contacts_Count_12_mon  \\\n",
       "0            39.0  ...                       1                      3   \n",
       "1            44.0  ...                       1                      2   \n",
       "2            36.0  ...                       1                      0   \n",
       "3            34.0  ...                       4                      1   \n",
       "4            21.0  ...                       1                      0   \n",
       "5            36.0  ...                       1                      2   \n",
       "6            46.0  ...                       1                      3   \n",
       "7            27.0  ...                       2                      2   \n",
       "8            36.0  ...                       2                      0   \n",
       "9            36.0  ...                       3                      3   \n",
       "\n",
       "   Credit_Limit  Total_Revolving_Bal  Avg_Open_To_Buy  Total_Amt_Chng_Q4_Q1  \\\n",
       "0       12691.0                  777          11914.0                 1.335   \n",
       "1        8256.0                  864           7392.0                 1.541   \n",
       "2        3418.0                    0           3418.0                 2.594   \n",
       "3        3313.0                 2517            796.0                 1.405   \n",
       "4        4716.0                    0           4716.0                 2.175   \n",
       "5        4010.0                 1247           2763.0                 1.376   \n",
       "6       34516.0                 2264          32252.0                 1.975   \n",
       "7       29081.0                 1396          27685.0                 2.204   \n",
       "8       22352.0                 2517          19835.0                 3.355   \n",
       "9       11656.0                 1677           9979.0                 1.524   \n",
       "\n",
       "   Total_Trans_Amt  Total_Trans_Ct  Total_Ct_Chng_Q4_Q1  Avg_Utilization_Ratio  \n",
       "0             1144              42                1.625                  0.061  \n",
       "1             1291              33                3.714                  0.105  \n",
       "2             1887              20                2.333                  0.000  \n",
       "3             1171              20                2.333                  0.760  \n",
       "4              816              28                2.500                  0.000  \n",
       "5             1088              24                0.846                  0.311  \n",
       "6             1330              31                0.722                  0.066  \n",
       "7             1538              36                0.714                  0.048  \n",
       "8             1350              24                1.182                  0.113  \n",
       "9             1441              32                0.882                  0.144  \n",
       "\n",
       "[10 rows x 21 columns]"
      ]
     },
     "execution_count": 3,
     "metadata": {},
     "output_type": "execute_result"
    }
   ],
   "source": [
    "dataset.head(10)"
   ]
  },
  {
   "cell_type": "markdown",
   "metadata": {},
   "source": [
    "### 0.1 Feature generation"
   ]
  },
  {
   "cell_type": "code",
   "execution_count": 4,
   "metadata": {},
   "outputs": [],
   "source": [
    "generation1 = dataset['Gender']+\"_\"+dataset['Card_Category']"
   ]
  },
  {
   "cell_type": "code",
   "execution_count": 5,
   "metadata": {},
   "outputs": [
    {
     "data": {
      "text/plain": [
       "array(['M_Blue', 'F_Blue', 'M_Gold', 'M_Silver', 'F_Gold', 'F_Silver',\n",
       "       'M_Platinum', 'F_Platinum'], dtype=object)"
      ]
     },
     "execution_count": 5,
     "metadata": {},
     "output_type": "execute_result"
    }
   ],
   "source": [
    "generation1.unique()"
   ]
  },
  {
   "cell_type": "code",
   "execution_count": 6,
   "metadata": {},
   "outputs": [],
   "source": [
    "generation2 = dataset['Education_Level']+\"_\"+dataset['Card_Category']"
   ]
  },
  {
   "cell_type": "code",
   "execution_count": 7,
   "metadata": {},
   "outputs": [
    {
     "data": {
      "text/plain": [
       "array(['High School_Blue', 'Graduate_Blue', 'Uneducated_Blue',\n",
       "       'Unknown_Gold', 'High School_Silver', 'Unknown_Blue',\n",
       "       'College_Blue', 'Post-Graduate_Blue', 'Doctorate_Blue',\n",
       "       'High School_Gold', 'College_Silver', 'Graduate_Silver',\n",
       "       'Uneducated_Silver', 'Unknown_Silver', 'College_Gold',\n",
       "       'Graduate_Platinum', 'Post-Graduate_Platinum',\n",
       "       'Post-Graduate_Silver', 'Graduate_Gold', 'Doctorate_Silver',\n",
       "       'Post-Graduate_Gold', 'Uneducated_Gold', 'Doctorate_Platinum',\n",
       "       'Doctorate_Gold', 'Unknown_Platinum', 'Uneducated_Platinum',\n",
       "       'High School_Platinum'], dtype=object)"
      ]
     },
     "execution_count": 7,
     "metadata": {},
     "output_type": "execute_result"
    }
   ],
   "source": [
    "generation2.unique()"
   ]
  },
  {
   "cell_type": "code",
   "execution_count": 8,
   "metadata": {},
   "outputs": [],
   "source": [
    "generation3 = dataset['Marital_Status']+\"_\"+dataset['Card_Category']"
   ]
  },
  {
   "cell_type": "code",
   "execution_count": 9,
   "metadata": {},
   "outputs": [
    {
     "data": {
      "text/plain": [
       "array(['Married_Blue', 'Single_Blue', 'Unknown_Blue', 'Married_Gold',\n",
       "       'Unknown_Silver', 'Divorced_Blue', 'Single_Silver',\n",
       "       'Married_Silver', 'Divorced_Silver', 'Single_Gold',\n",
       "       'Unknown_Platinum', 'Divorced_Gold', 'Divorced_Platinum',\n",
       "       'Unknown_Gold', 'Married_Platinum', 'Single_Platinum'],\n",
       "      dtype=object)"
      ]
     },
     "execution_count": 9,
     "metadata": {},
     "output_type": "execute_result"
    }
   ],
   "source": [
    "generation3.unique()"
   ]
  },
  {
   "cell_type": "code",
   "execution_count": 10,
   "metadata": {},
   "outputs": [],
   "source": [
    "generation4 = dataset['Income_Category']+\"_\"+dataset['Card_Category']"
   ]
  },
  {
   "cell_type": "code",
   "execution_count": 11,
   "metadata": {},
   "outputs": [
    {
     "data": {
      "text/plain": [
       "array(['$60K - $80K_Blue', 'Less than $40K_Blue', '$80K - $120K_Blue',\n",
       "       '$40K - $60K_Blue', '$120K +_Gold', '$60K - $80K_Silver',\n",
       "       '$120K +_Blue', 'Unknown_Blue', 'Less than $40K_Gold',\n",
       "       '$40K - $60K_Silver', '$80K - $120K_Silver', 'Unknown_Silver',\n",
       "       '$120K +_Silver', 'Less than $40K_Silver', '$60K - $80K_Gold',\n",
       "       '$80K - $120K_Platinum', '$80K - $120K_Gold', '$40K - $60K_Gold',\n",
       "       'Unknown_Platinum', 'Unknown_Gold', 'Less than $40K_Platinum',\n",
       "       '$120K +_Platinum', '$40K - $60K_Platinum', '$60K - $80K_Platinum'],\n",
       "      dtype=object)"
      ]
     },
     "execution_count": 11,
     "metadata": {},
     "output_type": "execute_result"
    }
   ],
   "source": [
    "generation4.unique()"
   ]
  },
  {
   "cell_type": "code",
   "execution_count": 12,
   "metadata": {},
   "outputs": [],
   "source": [
    "dataset = dataset.assign(gender_card=generation1, education_card=generation2, maritalStatus_card=generation3, \n",
    "                         income_card=generation4)"
   ]
  },
  {
   "cell_type": "code",
   "execution_count": 13,
   "metadata": {},
   "outputs": [
    {
     "data": {
      "text/html": [
       "<div>\n",
       "<style scoped>\n",
       "    .dataframe tbody tr th:only-of-type {\n",
       "        vertical-align: middle;\n",
       "    }\n",
       "\n",
       "    .dataframe tbody tr th {\n",
       "        vertical-align: top;\n",
       "    }\n",
       "\n",
       "    .dataframe thead th {\n",
       "        text-align: right;\n",
       "    }\n",
       "</style>\n",
       "<table border=\"1\" class=\"dataframe\">\n",
       "  <thead>\n",
       "    <tr style=\"text-align: right;\">\n",
       "      <th></th>\n",
       "      <th>CLIENTNUM</th>\n",
       "      <th>Attrition_Flag</th>\n",
       "      <th>Customer_Age</th>\n",
       "      <th>Gender</th>\n",
       "      <th>Dependent_count</th>\n",
       "      <th>Education_Level</th>\n",
       "      <th>Marital_Status</th>\n",
       "      <th>Income_Category</th>\n",
       "      <th>Card_Category</th>\n",
       "      <th>Months_on_book</th>\n",
       "      <th>...</th>\n",
       "      <th>Avg_Open_To_Buy</th>\n",
       "      <th>Total_Amt_Chng_Q4_Q1</th>\n",
       "      <th>Total_Trans_Amt</th>\n",
       "      <th>Total_Trans_Ct</th>\n",
       "      <th>Total_Ct_Chng_Q4_Q1</th>\n",
       "      <th>Avg_Utilization_Ratio</th>\n",
       "      <th>gender_card</th>\n",
       "      <th>education_card</th>\n",
       "      <th>maritalStatus_card</th>\n",
       "      <th>income_card</th>\n",
       "    </tr>\n",
       "  </thead>\n",
       "  <tbody>\n",
       "    <tr>\n",
       "      <td>0</td>\n",
       "      <td>768805383</td>\n",
       "      <td>Existing Customer</td>\n",
       "      <td>45</td>\n",
       "      <td>M</td>\n",
       "      <td>3</td>\n",
       "      <td>High School</td>\n",
       "      <td>Married</td>\n",
       "      <td>$60K - $80K</td>\n",
       "      <td>Blue</td>\n",
       "      <td>39.0</td>\n",
       "      <td>...</td>\n",
       "      <td>11914.0</td>\n",
       "      <td>1.335</td>\n",
       "      <td>1144</td>\n",
       "      <td>42</td>\n",
       "      <td>1.625</td>\n",
       "      <td>0.061</td>\n",
       "      <td>M_Blue</td>\n",
       "      <td>High School_Blue</td>\n",
       "      <td>Married_Blue</td>\n",
       "      <td>$60K - $80K_Blue</td>\n",
       "    </tr>\n",
       "    <tr>\n",
       "      <td>1</td>\n",
       "      <td>818770008</td>\n",
       "      <td>Existing Customer</td>\n",
       "      <td>49</td>\n",
       "      <td>F</td>\n",
       "      <td>5</td>\n",
       "      <td>Graduate</td>\n",
       "      <td>Single</td>\n",
       "      <td>Less than $40K</td>\n",
       "      <td>Blue</td>\n",
       "      <td>44.0</td>\n",
       "      <td>...</td>\n",
       "      <td>7392.0</td>\n",
       "      <td>1.541</td>\n",
       "      <td>1291</td>\n",
       "      <td>33</td>\n",
       "      <td>3.714</td>\n",
       "      <td>0.105</td>\n",
       "      <td>F_Blue</td>\n",
       "      <td>Graduate_Blue</td>\n",
       "      <td>Single_Blue</td>\n",
       "      <td>Less than $40K_Blue</td>\n",
       "    </tr>\n",
       "    <tr>\n",
       "      <td>2</td>\n",
       "      <td>713982108</td>\n",
       "      <td>Existing Customer</td>\n",
       "      <td>51</td>\n",
       "      <td>M</td>\n",
       "      <td>3</td>\n",
       "      <td>Graduate</td>\n",
       "      <td>Married</td>\n",
       "      <td>$80K - $120K</td>\n",
       "      <td>Blue</td>\n",
       "      <td>36.0</td>\n",
       "      <td>...</td>\n",
       "      <td>3418.0</td>\n",
       "      <td>2.594</td>\n",
       "      <td>1887</td>\n",
       "      <td>20</td>\n",
       "      <td>2.333</td>\n",
       "      <td>0.000</td>\n",
       "      <td>M_Blue</td>\n",
       "      <td>Graduate_Blue</td>\n",
       "      <td>Married_Blue</td>\n",
       "      <td>$80K - $120K_Blue</td>\n",
       "    </tr>\n",
       "    <tr>\n",
       "      <td>3</td>\n",
       "      <td>769911858</td>\n",
       "      <td>Existing Customer</td>\n",
       "      <td>40</td>\n",
       "      <td>F</td>\n",
       "      <td>4</td>\n",
       "      <td>High School</td>\n",
       "      <td>Unknown</td>\n",
       "      <td>Less than $40K</td>\n",
       "      <td>Blue</td>\n",
       "      <td>34.0</td>\n",
       "      <td>...</td>\n",
       "      <td>796.0</td>\n",
       "      <td>1.405</td>\n",
       "      <td>1171</td>\n",
       "      <td>20</td>\n",
       "      <td>2.333</td>\n",
       "      <td>0.760</td>\n",
       "      <td>F_Blue</td>\n",
       "      <td>High School_Blue</td>\n",
       "      <td>Unknown_Blue</td>\n",
       "      <td>Less than $40K_Blue</td>\n",
       "    </tr>\n",
       "    <tr>\n",
       "      <td>4</td>\n",
       "      <td>709106358</td>\n",
       "      <td>Existing Customer</td>\n",
       "      <td>40</td>\n",
       "      <td>M</td>\n",
       "      <td>3</td>\n",
       "      <td>Uneducated</td>\n",
       "      <td>Married</td>\n",
       "      <td>$60K - $80K</td>\n",
       "      <td>Blue</td>\n",
       "      <td>21.0</td>\n",
       "      <td>...</td>\n",
       "      <td>4716.0</td>\n",
       "      <td>2.175</td>\n",
       "      <td>816</td>\n",
       "      <td>28</td>\n",
       "      <td>2.500</td>\n",
       "      <td>0.000</td>\n",
       "      <td>M_Blue</td>\n",
       "      <td>Uneducated_Blue</td>\n",
       "      <td>Married_Blue</td>\n",
       "      <td>$60K - $80K_Blue</td>\n",
       "    </tr>\n",
       "  </tbody>\n",
       "</table>\n",
       "<p>5 rows × 25 columns</p>\n",
       "</div>"
      ],
      "text/plain": [
       "   CLIENTNUM     Attrition_Flag  Customer_Age Gender  Dependent_count  \\\n",
       "0  768805383  Existing Customer            45      M                3   \n",
       "1  818770008  Existing Customer            49      F                5   \n",
       "2  713982108  Existing Customer            51      M                3   \n",
       "3  769911858  Existing Customer            40      F                4   \n",
       "4  709106358  Existing Customer            40      M                3   \n",
       "\n",
       "  Education_Level Marital_Status Income_Category Card_Category  \\\n",
       "0     High School        Married     $60K - $80K          Blue   \n",
       "1        Graduate         Single  Less than $40K          Blue   \n",
       "2        Graduate        Married    $80K - $120K          Blue   \n",
       "3     High School        Unknown  Less than $40K          Blue   \n",
       "4      Uneducated        Married     $60K - $80K          Blue   \n",
       "\n",
       "   Months_on_book  ...  Avg_Open_To_Buy  Total_Amt_Chng_Q4_Q1  \\\n",
       "0            39.0  ...          11914.0                 1.335   \n",
       "1            44.0  ...           7392.0                 1.541   \n",
       "2            36.0  ...           3418.0                 2.594   \n",
       "3            34.0  ...            796.0                 1.405   \n",
       "4            21.0  ...           4716.0                 2.175   \n",
       "\n",
       "   Total_Trans_Amt  Total_Trans_Ct  Total_Ct_Chng_Q4_Q1  \\\n",
       "0             1144              42                1.625   \n",
       "1             1291              33                3.714   \n",
       "2             1887              20                2.333   \n",
       "3             1171              20                2.333   \n",
       "4              816              28                2.500   \n",
       "\n",
       "   Avg_Utilization_Ratio  gender_card    education_card  maritalStatus_card  \\\n",
       "0                  0.061       M_Blue  High School_Blue        Married_Blue   \n",
       "1                  0.105       F_Blue     Graduate_Blue         Single_Blue   \n",
       "2                  0.000       M_Blue     Graduate_Blue        Married_Blue   \n",
       "3                  0.760       F_Blue  High School_Blue        Unknown_Blue   \n",
       "4                  0.000       M_Blue   Uneducated_Blue        Married_Blue   \n",
       "\n",
       "           income_card  \n",
       "0     $60K - $80K_Blue  \n",
       "1  Less than $40K_Blue  \n",
       "2    $80K - $120K_Blue  \n",
       "3  Less than $40K_Blue  \n",
       "4     $60K - $80K_Blue  \n",
       "\n",
       "[5 rows x 25 columns]"
      ]
     },
     "execution_count": 13,
     "metadata": {},
     "output_type": "execute_result"
    }
   ],
   "source": [
    "dataset.head()"
   ]
  },
  {
   "cell_type": "code",
   "execution_count": 14,
   "metadata": {},
   "outputs": [],
   "source": [
    "dataset['Amt_Per_Trans'] = round((dataset.Total_Trans_Amt / dataset.Total_Trans_Ct), 2)"
   ]
  },
  {
   "cell_type": "code",
   "execution_count": 15,
   "metadata": {},
   "outputs": [],
   "source": [
    "dataset['Amt_Per_Person'] = round((dataset.Total_Trans_Amt / (dataset.Dependent_count + 1)), 2)"
   ]
  },
  {
   "cell_type": "code",
   "execution_count": 16,
   "metadata": {},
   "outputs": [
    {
     "data": {
      "text/html": [
       "<div>\n",
       "<style scoped>\n",
       "    .dataframe tbody tr th:only-of-type {\n",
       "        vertical-align: middle;\n",
       "    }\n",
       "\n",
       "    .dataframe tbody tr th {\n",
       "        vertical-align: top;\n",
       "    }\n",
       "\n",
       "    .dataframe thead th {\n",
       "        text-align: right;\n",
       "    }\n",
       "</style>\n",
       "<table border=\"1\" class=\"dataframe\">\n",
       "  <thead>\n",
       "    <tr style=\"text-align: right;\">\n",
       "      <th></th>\n",
       "      <th>CLIENTNUM</th>\n",
       "      <th>Attrition_Flag</th>\n",
       "      <th>Customer_Age</th>\n",
       "      <th>Gender</th>\n",
       "      <th>Dependent_count</th>\n",
       "      <th>Education_Level</th>\n",
       "      <th>Marital_Status</th>\n",
       "      <th>Income_Category</th>\n",
       "      <th>Card_Category</th>\n",
       "      <th>Months_on_book</th>\n",
       "      <th>...</th>\n",
       "      <th>Total_Trans_Amt</th>\n",
       "      <th>Total_Trans_Ct</th>\n",
       "      <th>Total_Ct_Chng_Q4_Q1</th>\n",
       "      <th>Avg_Utilization_Ratio</th>\n",
       "      <th>gender_card</th>\n",
       "      <th>education_card</th>\n",
       "      <th>maritalStatus_card</th>\n",
       "      <th>income_card</th>\n",
       "      <th>Amt_Per_Trans</th>\n",
       "      <th>Amt_Per_Person</th>\n",
       "    </tr>\n",
       "  </thead>\n",
       "  <tbody>\n",
       "    <tr>\n",
       "      <td>0</td>\n",
       "      <td>768805383</td>\n",
       "      <td>Existing Customer</td>\n",
       "      <td>45</td>\n",
       "      <td>M</td>\n",
       "      <td>3</td>\n",
       "      <td>High School</td>\n",
       "      <td>Married</td>\n",
       "      <td>$60K - $80K</td>\n",
       "      <td>Blue</td>\n",
       "      <td>39.0</td>\n",
       "      <td>...</td>\n",
       "      <td>1144</td>\n",
       "      <td>42</td>\n",
       "      <td>1.625</td>\n",
       "      <td>0.061</td>\n",
       "      <td>M_Blue</td>\n",
       "      <td>High School_Blue</td>\n",
       "      <td>Married_Blue</td>\n",
       "      <td>$60K - $80K_Blue</td>\n",
       "      <td>27.24</td>\n",
       "      <td>286.00</td>\n",
       "    </tr>\n",
       "    <tr>\n",
       "      <td>1</td>\n",
       "      <td>818770008</td>\n",
       "      <td>Existing Customer</td>\n",
       "      <td>49</td>\n",
       "      <td>F</td>\n",
       "      <td>5</td>\n",
       "      <td>Graduate</td>\n",
       "      <td>Single</td>\n",
       "      <td>Less than $40K</td>\n",
       "      <td>Blue</td>\n",
       "      <td>44.0</td>\n",
       "      <td>...</td>\n",
       "      <td>1291</td>\n",
       "      <td>33</td>\n",
       "      <td>3.714</td>\n",
       "      <td>0.105</td>\n",
       "      <td>F_Blue</td>\n",
       "      <td>Graduate_Blue</td>\n",
       "      <td>Single_Blue</td>\n",
       "      <td>Less than $40K_Blue</td>\n",
       "      <td>39.12</td>\n",
       "      <td>215.17</td>\n",
       "    </tr>\n",
       "    <tr>\n",
       "      <td>2</td>\n",
       "      <td>713982108</td>\n",
       "      <td>Existing Customer</td>\n",
       "      <td>51</td>\n",
       "      <td>M</td>\n",
       "      <td>3</td>\n",
       "      <td>Graduate</td>\n",
       "      <td>Married</td>\n",
       "      <td>$80K - $120K</td>\n",
       "      <td>Blue</td>\n",
       "      <td>36.0</td>\n",
       "      <td>...</td>\n",
       "      <td>1887</td>\n",
       "      <td>20</td>\n",
       "      <td>2.333</td>\n",
       "      <td>0.000</td>\n",
       "      <td>M_Blue</td>\n",
       "      <td>Graduate_Blue</td>\n",
       "      <td>Married_Blue</td>\n",
       "      <td>$80K - $120K_Blue</td>\n",
       "      <td>94.35</td>\n",
       "      <td>471.75</td>\n",
       "    </tr>\n",
       "    <tr>\n",
       "      <td>3</td>\n",
       "      <td>769911858</td>\n",
       "      <td>Existing Customer</td>\n",
       "      <td>40</td>\n",
       "      <td>F</td>\n",
       "      <td>4</td>\n",
       "      <td>High School</td>\n",
       "      <td>Unknown</td>\n",
       "      <td>Less than $40K</td>\n",
       "      <td>Blue</td>\n",
       "      <td>34.0</td>\n",
       "      <td>...</td>\n",
       "      <td>1171</td>\n",
       "      <td>20</td>\n",
       "      <td>2.333</td>\n",
       "      <td>0.760</td>\n",
       "      <td>F_Blue</td>\n",
       "      <td>High School_Blue</td>\n",
       "      <td>Unknown_Blue</td>\n",
       "      <td>Less than $40K_Blue</td>\n",
       "      <td>58.55</td>\n",
       "      <td>234.20</td>\n",
       "    </tr>\n",
       "    <tr>\n",
       "      <td>4</td>\n",
       "      <td>709106358</td>\n",
       "      <td>Existing Customer</td>\n",
       "      <td>40</td>\n",
       "      <td>M</td>\n",
       "      <td>3</td>\n",
       "      <td>Uneducated</td>\n",
       "      <td>Married</td>\n",
       "      <td>$60K - $80K</td>\n",
       "      <td>Blue</td>\n",
       "      <td>21.0</td>\n",
       "      <td>...</td>\n",
       "      <td>816</td>\n",
       "      <td>28</td>\n",
       "      <td>2.500</td>\n",
       "      <td>0.000</td>\n",
       "      <td>M_Blue</td>\n",
       "      <td>Uneducated_Blue</td>\n",
       "      <td>Married_Blue</td>\n",
       "      <td>$60K - $80K_Blue</td>\n",
       "      <td>29.14</td>\n",
       "      <td>204.00</td>\n",
       "    </tr>\n",
       "  </tbody>\n",
       "</table>\n",
       "<p>5 rows × 27 columns</p>\n",
       "</div>"
      ],
      "text/plain": [
       "   CLIENTNUM     Attrition_Flag  Customer_Age Gender  Dependent_count  \\\n",
       "0  768805383  Existing Customer            45      M                3   \n",
       "1  818770008  Existing Customer            49      F                5   \n",
       "2  713982108  Existing Customer            51      M                3   \n",
       "3  769911858  Existing Customer            40      F                4   \n",
       "4  709106358  Existing Customer            40      M                3   \n",
       "\n",
       "  Education_Level Marital_Status Income_Category Card_Category  \\\n",
       "0     High School        Married     $60K - $80K          Blue   \n",
       "1        Graduate         Single  Less than $40K          Blue   \n",
       "2        Graduate        Married    $80K - $120K          Blue   \n",
       "3     High School        Unknown  Less than $40K          Blue   \n",
       "4      Uneducated        Married     $60K - $80K          Blue   \n",
       "\n",
       "   Months_on_book  ...  Total_Trans_Amt  Total_Trans_Ct  Total_Ct_Chng_Q4_Q1  \\\n",
       "0            39.0  ...             1144              42                1.625   \n",
       "1            44.0  ...             1291              33                3.714   \n",
       "2            36.0  ...             1887              20                2.333   \n",
       "3            34.0  ...             1171              20                2.333   \n",
       "4            21.0  ...              816              28                2.500   \n",
       "\n",
       "   Avg_Utilization_Ratio  gender_card    education_card  maritalStatus_card  \\\n",
       "0                  0.061       M_Blue  High School_Blue        Married_Blue   \n",
       "1                  0.105       F_Blue     Graduate_Blue         Single_Blue   \n",
       "2                  0.000       M_Blue     Graduate_Blue        Married_Blue   \n",
       "3                  0.760       F_Blue  High School_Blue        Unknown_Blue   \n",
       "4                  0.000       M_Blue   Uneducated_Blue        Married_Blue   \n",
       "\n",
       "           income_card  Amt_Per_Trans  Amt_Per_Person  \n",
       "0     $60K - $80K_Blue          27.24          286.00  \n",
       "1  Less than $40K_Blue          39.12          215.17  \n",
       "2    $80K - $120K_Blue          94.35          471.75  \n",
       "3  Less than $40K_Blue          58.55          234.20  \n",
       "4     $60K - $80K_Blue          29.14          204.00  \n",
       "\n",
       "[5 rows x 27 columns]"
      ]
     },
     "execution_count": 16,
     "metadata": {},
     "output_type": "execute_result"
    }
   ],
   "source": [
    "dataset.head()"
   ]
  },
  {
   "cell_type": "markdown",
   "metadata": {
    "id": "qcK1sU4iSXyw"
   },
   "source": [
    "## 1. Data preprocessing, normalization, missing data, categorical data"
   ]
  },
  {
   "cell_type": "code",
   "execution_count": 17,
   "metadata": {},
   "outputs": [
    {
     "name": "stdout",
     "output_type": "stream",
     "text": [
      "Numeric columns\n",
      "CLIENTNUM\n",
      "Customer_Age\n",
      "Dependent_count\n",
      "Months_on_book\n",
      "Total_Relationship_Count\n",
      "Months_Inactive_12_mon\n",
      "Contacts_Count_12_mon\n",
      "Credit_Limit\n",
      "Total_Revolving_Bal\n",
      "Avg_Open_To_Buy\n",
      "Total_Amt_Chng_Q4_Q1\n",
      "Total_Trans_Amt\n",
      "Total_Trans_Ct\n",
      "Total_Ct_Chng_Q4_Q1\n",
      "Avg_Utilization_Ratio\n",
      "Amt_Per_Trans\n",
      "Amt_Per_Person\n",
      "----------------------------------\n",
      "Category columns\n",
      "Attrition_Flag\n",
      "Gender\n",
      "Education_Level\n",
      "Marital_Status\n",
      "Income_Category\n",
      "Card_Category\n",
      "gender_card\n",
      "education_card\n",
      "maritalStatus_card\n",
      "income_card\n"
     ]
    }
   ],
   "source": [
    "# Which columns are numeric, which are category.\n",
    "\n",
    "from pandas.api.types import is_string_dtype\n",
    "from pandas.api.types import is_numeric_dtype\n",
    "\n",
    "\n",
    "print(\"Numeric columns\")\n",
    "for column in dataset.columns:\n",
    "    if is_numeric_dtype(dataset[column]):\n",
    "        print(column)\n",
    "print(\"----------------------------------\")        \n",
    "print(\"Category columns\")        \n",
    "for column in dataset.columns:\n",
    "    if is_string_dtype(dataset[column]):\n",
    "        print(column)"
   ]
  },
  {
   "cell_type": "code",
   "execution_count": 18,
   "metadata": {
    "id": "kgOelHW2SXyx"
   },
   "outputs": [],
   "source": [
    "# Check if there are missing data\n",
    "\n",
    "for column in dataset.columns:\n",
    "    if dataset[column].isnull().values.any():\n",
    "        print(column)"
   ]
  },
  {
   "cell_type": "code",
   "execution_count": 19,
   "metadata": {},
   "outputs": [
    {
     "data": {
      "text/plain": [
       "array([ 3.90000000e+01,  4.40000000e+01,  3.60000000e+01,  3.40000000e+01,\n",
       "        2.10000000e+01,  4.60000000e+01,  2.70000000e+01,  3.10000000e+01,\n",
       "        5.40000000e+01,  3.00000000e+01,  4.80000000e+01,  3.70000000e+01,\n",
       "        5.60000000e+01,  4.20000000e+01,  4.90000000e+01,  3.30000000e+01,\n",
       "        2.80000000e+01,  3.80000000e+01,  4.10000000e+01,  4.30000000e+01,\n",
       "        4.50000000e+01,  5.20000000e+01,  4.00000000e+01,  5.00000000e+01,\n",
       "        3.50000000e+01,  4.70000000e+01,  3.20000000e+01,  2.00000000e+01,\n",
       "        2.90000000e+01,  2.50000000e+01,  5.30000000e+01,  2.40000000e+01,\n",
       "        5.50000000e+01,  2.30000000e+01,  2.20000000e+01,  2.60000000e+01,\n",
       "        2.14748365e+09,  1.30000000e+01,  5.10000000e+01,  1.90000000e+01,\n",
       "        1.50000000e+01,  1.70000000e+01,  1.80000000e+01, -2.14748365e+09,\n",
       "        1.60000000e+01,  1.40000000e+01,  3.21000000e+11])"
      ]
     },
     "execution_count": 19,
     "metadata": {},
     "output_type": "execute_result"
    }
   ],
   "source": [
    "dataset['Months_on_book'].unique()"
   ]
  },
  {
   "cell_type": "code",
   "execution_count": 20,
   "metadata": {},
   "outputs": [],
   "source": [
    "dataset['Months_on_book'] = dataset.Months_on_book.replace({-2147483647: 'None', \n",
    "                                                              2147483647: 'None', \n",
    "                                                              3.21E+11: 'None'})"
   ]
  },
  {
   "cell_type": "code",
   "execution_count": 21,
   "metadata": {},
   "outputs": [
    {
     "data": {
      "text/plain": [
       "array([39.0, 44.0, 36.0, 34.0, 21.0, 46.0, 27.0, 31.0, 54.0, 30.0, 48.0,\n",
       "       37.0, 56.0, 42.0, 49.0, 33.0, 28.0, 38.0, 41.0, 43.0, 45.0, 52.0,\n",
       "       40.0, 50.0, 35.0, 47.0, 32.0, 20.0, 29.0, 25.0, 53.0, 24.0, 55.0,\n",
       "       23.0, 22.0, 26.0, 'None', 13.0, 51.0, 19.0, 15.0, 17.0, 18.0, 16.0,\n",
       "       14.0], dtype=object)"
      ]
     },
     "execution_count": 21,
     "metadata": {},
     "output_type": "execute_result"
    }
   ],
   "source": [
    "dataset['Months_on_book'].unique()"
   ]
  },
  {
   "cell_type": "code",
   "execution_count": 22,
   "metadata": {},
   "outputs": [
    {
     "data": {
      "text/plain": [
       "36.0    2417\n",
       "37.0     358\n",
       "34.0     351\n",
       "38.0     347\n",
       "39.0     341\n",
       "40.0     333\n",
       "31.0     318\n",
       "35.0     314\n",
       "33.0     304\n",
       "30.0     300\n",
       "41.0     297\n",
       "32.0     289\n",
       "28.0     275\n",
       "43.0     273\n",
       "42.0     271\n",
       "29.0     241\n",
       "44.0     230\n",
       "45.0     227\n",
       "27.0     206\n",
       "46.0     197\n",
       "26.0     186\n",
       "47.0     171\n",
       "25.0     165\n",
       "48.0     162\n",
       "24.0     160\n",
       "49.0     141\n",
       "23.0     116\n",
       "22.0     105\n",
       "56.0     103\n",
       "50.0      96\n",
       "21.0      83\n",
       "51.0      80\n",
       "53.0      78\n",
       "20.0      74\n",
       "13.0      70\n",
       "19.0      63\n",
       "52.0      62\n",
       "18.0      58\n",
       "54.0      53\n",
       "None      52\n",
       "55.0      42\n",
       "17.0      39\n",
       "15.0      34\n",
       "16.0      29\n",
       "14.0      16\n",
       "Name: Months_on_book, dtype: int64"
      ]
     },
     "execution_count": 22,
     "metadata": {},
     "output_type": "execute_result"
    }
   ],
   "source": [
    "dataset['Months_on_book'].value_counts()"
   ]
  },
  {
   "cell_type": "code",
   "execution_count": 23,
   "metadata": {},
   "outputs": [],
   "source": [
    "dataset['Months_on_book'] = dataset['Months_on_book'].replace('None', np.nan)"
   ]
  },
  {
   "cell_type": "code",
   "execution_count": 24,
   "metadata": {},
   "outputs": [],
   "source": [
    "from sklearn.impute import KNNImputer\n",
    "\n",
    "transformer = KNNImputer(n_neighbors=2)\n",
    "\n",
    "columns = ['Months_on_book']\n",
    "dataset[columns] = transformer.fit_transform(dataset[columns])"
   ]
  },
  {
   "cell_type": "code",
   "execution_count": 25,
   "metadata": {},
   "outputs": [
    {
     "data": {
      "text/plain": [
       "array([39.        , 44.        , 36.        , 34.        , 21.        ,\n",
       "       46.        , 27.        , 31.        , 54.        , 30.        ,\n",
       "       48.        , 37.        , 56.        , 42.        , 49.        ,\n",
       "       33.        , 28.        , 38.        , 41.        , 43.        ,\n",
       "       45.        , 52.        , 40.        , 50.        , 35.        ,\n",
       "       47.        , 32.        , 20.        , 29.        , 25.        ,\n",
       "       53.        , 24.        , 55.        , 23.        , 22.        ,\n",
       "       26.        , 35.92903226, 13.        , 51.        , 19.        ,\n",
       "       15.        , 17.        , 18.        , 16.        , 14.        ])"
      ]
     },
     "execution_count": 25,
     "metadata": {},
     "output_type": "execute_result"
    }
   ],
   "source": [
    "dataset['Months_on_book'].unique()"
   ]
  },
  {
   "cell_type": "code",
   "execution_count": 26,
   "metadata": {},
   "outputs": [
    {
     "data": {
      "text/plain": [
       "<matplotlib.axes._subplots.AxesSubplot at 0x1d9e9eb4148>"
      ]
     },
     "execution_count": 26,
     "metadata": {},
     "output_type": "execute_result"
    },
    {
     "data": {
      "image/png": "[encoded data removed]",
      "text/plain": [
       "<Figure size 1440x720 with 1 Axes>"
      ]
     },
     "metadata": {
      "needs_background": "light"
     },
     "output_type": "display_data"
    }
   ],
   "source": [
    "dataset['Months_on_book'].value_counts().plot.bar(figsize=(20,10),title='Months_on_book')"
   ]
  },
  {
   "cell_type": "code",
   "execution_count": 27,
   "metadata": {},
   "outputs": [
    {
     "data": {
      "text/plain": [
       "<matplotlib.axes._subplots.AxesSubplot at 0x1d9e9de4d48>"
      ]
     },
     "execution_count": 27,
     "metadata": {},
     "output_type": "execute_result"
    },
    {
     "data": {
      "image/png": "[encoded data removed]",
      "text/plain": [
       "<Figure size 1440x360 with 2 Axes>"
      ]
     },
     "metadata": {
      "needs_background": "light"
     },
     "output_type": "display_data"
    }
   ],
   "source": [
    "plt.figure(figsize=(20,5))\n",
    "\n",
    "plt.subplot(121)\n",
    "sns.distplot(dataset['Months_on_book'], label='Months_on_book')\n",
    "\n",
    "plt.subplot(122)\n",
    "dataset['Months_on_book'].plot(kind='box', label=\"Months_on_book\")"
   ]
  },
  {
   "cell_type": "code",
   "execution_count": 28,
   "metadata": {},
   "outputs": [
    {
     "data": {
      "text/plain": [
       "36.000000    2417\n",
       "37.000000     358\n",
       "34.000000     351\n",
       "38.000000     347\n",
       "39.000000     341\n",
       "40.000000     333\n",
       "31.000000     318\n",
       "35.000000     314\n",
       "33.000000     304\n",
       "30.000000     300\n",
       "41.000000     297\n",
       "32.000000     289\n",
       "28.000000     275\n",
       "43.000000     273\n",
       "42.000000     271\n",
       "29.000000     241\n",
       "44.000000     230\n",
       "45.000000     227\n",
       "27.000000     206\n",
       "46.000000     197\n",
       "26.000000     186\n",
       "47.000000     171\n",
       "25.000000     165\n",
       "48.000000     162\n",
       "24.000000     160\n",
       "49.000000     141\n",
       "23.000000     116\n",
       "22.000000     105\n",
       "56.000000     103\n",
       "50.000000      96\n",
       "21.000000      83\n",
       "51.000000      80\n",
       "53.000000      78\n",
       "20.000000      74\n",
       "13.000000      70\n",
       "19.000000      63\n",
       "52.000000      62\n",
       "18.000000      58\n",
       "54.000000      53\n",
       "35.929032      52\n",
       "55.000000      42\n",
       "17.000000      39\n",
       "15.000000      34\n",
       "16.000000      29\n",
       "14.000000      16\n",
       "Name: Months_on_book, dtype: int64"
      ]
     },
     "execution_count": 28,
     "metadata": {},
     "output_type": "execute_result"
    }
   ],
   "source": [
    "dataset['Months_on_book'].value_counts()"
   ]
  },
  {
   "cell_type": "code",
   "execution_count": 29,
   "metadata": {},
   "outputs": [],
   "source": [
    "# Conclusion: According to the plots and numbers, the outliers of the feature Months_on book would be: 13, 14, 15, 16, 17, \n",
    "# 18, 19, 52, 54 and 55. Number of months 35,929 is not taken as an outlier because is a product of KNNImputer. As a \n",
    "# rounded number it is 36, and it is the majority of data."
   ]
  },
  {
   "cell_type": "code",
   "execution_count": 30,
   "metadata": {},
   "outputs": [],
   "source": [
    "# Remove ID values\n",
    "\n",
    "dataset.drop(['CLIENTNUM'], inplace=True, axis='columns')"
   ]
  },
  {
   "cell_type": "code",
   "execution_count": 31,
   "metadata": {},
   "outputs": [
    {
     "data": {
      "text/html": [
       "<div>\n",
       "<style scoped>\n",
       "    .dataframe tbody tr th:only-of-type {\n",
       "        vertical-align: middle;\n",
       "    }\n",
       "\n",
       "    .dataframe tbody tr th {\n",
       "        vertical-align: top;\n",
       "    }\n",
       "\n",
       "    .dataframe thead th {\n",
       "        text-align: right;\n",
       "    }\n",
       "</style>\n",
       "<table border=\"1\" class=\"dataframe\">\n",
       "  <thead>\n",
       "    <tr style=\"text-align: right;\">\n",
       "      <th></th>\n",
       "      <th>Attrition_Flag</th>\n",
       "      <th>Customer_Age</th>\n",
       "      <th>Gender</th>\n",
       "      <th>Dependent_count</th>\n",
       "      <th>Education_Level</th>\n",
       "      <th>Marital_Status</th>\n",
       "      <th>Income_Category</th>\n",
       "      <th>Card_Category</th>\n",
       "      <th>Months_on_book</th>\n",
       "      <th>Total_Relationship_Count</th>\n",
       "      <th>...</th>\n",
       "      <th>Total_Trans_Amt</th>\n",
       "      <th>Total_Trans_Ct</th>\n",
       "      <th>Total_Ct_Chng_Q4_Q1</th>\n",
       "      <th>Avg_Utilization_Ratio</th>\n",
       "      <th>gender_card</th>\n",
       "      <th>education_card</th>\n",
       "      <th>maritalStatus_card</th>\n",
       "      <th>income_card</th>\n",
       "      <th>Amt_Per_Trans</th>\n",
       "      <th>Amt_Per_Person</th>\n",
       "    </tr>\n",
       "  </thead>\n",
       "  <tbody>\n",
       "    <tr>\n",
       "      <td>0</td>\n",
       "      <td>Existing Customer</td>\n",
       "      <td>45</td>\n",
       "      <td>M</td>\n",
       "      <td>3</td>\n",
       "      <td>High School</td>\n",
       "      <td>Married</td>\n",
       "      <td>$60K - $80K</td>\n",
       "      <td>Blue</td>\n",
       "      <td>39.0</td>\n",
       "      <td>5</td>\n",
       "      <td>...</td>\n",
       "      <td>1144</td>\n",
       "      <td>42</td>\n",
       "      <td>1.625</td>\n",
       "      <td>0.061</td>\n",
       "      <td>M_Blue</td>\n",
       "      <td>High School_Blue</td>\n",
       "      <td>Married_Blue</td>\n",
       "      <td>$60K - $80K_Blue</td>\n",
       "      <td>27.24</td>\n",
       "      <td>286.00</td>\n",
       "    </tr>\n",
       "    <tr>\n",
       "      <td>1</td>\n",
       "      <td>Existing Customer</td>\n",
       "      <td>49</td>\n",
       "      <td>F</td>\n",
       "      <td>5</td>\n",
       "      <td>Graduate</td>\n",
       "      <td>Single</td>\n",
       "      <td>Less than $40K</td>\n",
       "      <td>Blue</td>\n",
       "      <td>44.0</td>\n",
       "      <td>6</td>\n",
       "      <td>...</td>\n",
       "      <td>1291</td>\n",
       "      <td>33</td>\n",
       "      <td>3.714</td>\n",
       "      <td>0.105</td>\n",
       "      <td>F_Blue</td>\n",
       "      <td>Graduate_Blue</td>\n",
       "      <td>Single_Blue</td>\n",
       "      <td>Less than $40K_Blue</td>\n",
       "      <td>39.12</td>\n",
       "      <td>215.17</td>\n",
       "    </tr>\n",
       "    <tr>\n",
       "      <td>2</td>\n",
       "      <td>Existing Customer</td>\n",
       "      <td>51</td>\n",
       "      <td>M</td>\n",
       "      <td>3</td>\n",
       "      <td>Graduate</td>\n",
       "      <td>Married</td>\n",
       "      <td>$80K - $120K</td>\n",
       "      <td>Blue</td>\n",
       "      <td>36.0</td>\n",
       "      <td>4</td>\n",
       "      <td>...</td>\n",
       "      <td>1887</td>\n",
       "      <td>20</td>\n",
       "      <td>2.333</td>\n",
       "      <td>0.000</td>\n",
       "      <td>M_Blue</td>\n",
       "      <td>Graduate_Blue</td>\n",
       "      <td>Married_Blue</td>\n",
       "      <td>$80K - $120K_Blue</td>\n",
       "      <td>94.35</td>\n",
       "      <td>471.75</td>\n",
       "    </tr>\n",
       "    <tr>\n",
       "      <td>3</td>\n",
       "      <td>Existing Customer</td>\n",
       "      <td>40</td>\n",
       "      <td>F</td>\n",
       "      <td>4</td>\n",
       "      <td>High School</td>\n",
       "      <td>Unknown</td>\n",
       "      <td>Less than $40K</td>\n",
       "      <td>Blue</td>\n",
       "      <td>34.0</td>\n",
       "      <td>3</td>\n",
       "      <td>...</td>\n",
       "      <td>1171</td>\n",
       "      <td>20</td>\n",
       "      <td>2.333</td>\n",
       "      <td>0.760</td>\n",
       "      <td>F_Blue</td>\n",
       "      <td>High School_Blue</td>\n",
       "      <td>Unknown_Blue</td>\n",
       "      <td>Less than $40K_Blue</td>\n",
       "      <td>58.55</td>\n",
       "      <td>234.20</td>\n",
       "    </tr>\n",
       "    <tr>\n",
       "      <td>4</td>\n",
       "      <td>Existing Customer</td>\n",
       "      <td>40</td>\n",
       "      <td>M</td>\n",
       "      <td>3</td>\n",
       "      <td>Uneducated</td>\n",
       "      <td>Married</td>\n",
       "      <td>$60K - $80K</td>\n",
       "      <td>Blue</td>\n",
       "      <td>21.0</td>\n",
       "      <td>5</td>\n",
       "      <td>...</td>\n",
       "      <td>816</td>\n",
       "      <td>28</td>\n",
       "      <td>2.500</td>\n",
       "      <td>0.000</td>\n",
       "      <td>M_Blue</td>\n",
       "      <td>Uneducated_Blue</td>\n",
       "      <td>Married_Blue</td>\n",
       "      <td>$60K - $80K_Blue</td>\n",
       "      <td>29.14</td>\n",
       "      <td>204.00</td>\n",
       "    </tr>\n",
       "  </tbody>\n",
       "</table>\n",
       "<p>5 rows × 26 columns</p>\n",
       "</div>"
      ],
      "text/plain": [
       "      Attrition_Flag  Customer_Age Gender  Dependent_count Education_Level  \\\n",
       "0  Existing Customer            45      M                3     High School   \n",
       "1  Existing Customer            49      F                5        Graduate   \n",
       "2  Existing Customer            51      M                3        Graduate   \n",
       "3  Existing Customer            40      F                4     High School   \n",
       "4  Existing Customer            40      M                3      Uneducated   \n",
       "\n",
       "  Marital_Status Income_Category Card_Category  Months_on_book  \\\n",
       "0        Married     $60K - $80K          Blue            39.0   \n",
       "1         Single  Less than $40K          Blue            44.0   \n",
       "2        Married    $80K - $120K          Blue            36.0   \n",
       "3        Unknown  Less than $40K          Blue            34.0   \n",
       "4        Married     $60K - $80K          Blue            21.0   \n",
       "\n",
       "   Total_Relationship_Count  ...  Total_Trans_Amt  Total_Trans_Ct  \\\n",
       "0                         5  ...             1144              42   \n",
       "1                         6  ...             1291              33   \n",
       "2                         4  ...             1887              20   \n",
       "3                         3  ...             1171              20   \n",
       "4                         5  ...              816              28   \n",
       "\n",
       "   Total_Ct_Chng_Q4_Q1  Avg_Utilization_Ratio  gender_card    education_card  \\\n",
       "0                1.625                  0.061       M_Blue  High School_Blue   \n",
       "1                3.714                  0.105       F_Blue     Graduate_Blue   \n",
       "2                2.333                  0.000       M_Blue     Graduate_Blue   \n",
       "3                2.333                  0.760       F_Blue  High School_Blue   \n",
       "4                2.500                  0.000       M_Blue   Uneducated_Blue   \n",
       "\n",
       "   maritalStatus_card          income_card  Amt_Per_Trans  Amt_Per_Person  \n",
       "0        Married_Blue     $60K - $80K_Blue          27.24          286.00  \n",
       "1         Single_Blue  Less than $40K_Blue          39.12          215.17  \n",
       "2        Married_Blue    $80K - $120K_Blue          94.35          471.75  \n",
       "3        Unknown_Blue  Less than $40K_Blue          58.55          234.20  \n",
       "4        Married_Blue     $60K - $80K_Blue          29.14          204.00  \n",
       "\n",
       "[5 rows x 26 columns]"
      ]
     },
     "execution_count": 31,
     "metadata": {},
     "output_type": "execute_result"
    }
   ],
   "source": [
    "dataset.head()"
   ]
  },
  {
   "cell_type": "code",
   "execution_count": 32,
   "metadata": {},
   "outputs": [],
   "source": [
    "# StandardScaler for the numerical data\n",
    "\n",
    "from sklearn.preprocessing import StandardScaler\n",
    "\n",
    "\n",
    "def scale(dataset, columns):\n",
    "    dataset_new = dataset.copy()\n",
    "    standard_scaller = StandardScaler() \n",
    "    dataset_new[columns] = standard_scaller.fit_transform(dataset_new[columns])\n",
    "\n",
    "    \n",
    "    return dataset_new\n",
    "\n",
    "dataset_scaled = scale(dataset, columns=['Customer_Age', 'Dependent_count', 'Months_on_book', 'Total_Relationship_Count', \n",
    "                                         'Months_Inactive_12_mon', 'Contacts_Count_12_mon', 'Credit_Limit', \n",
    "                                         'Total_Revolving_Bal', 'Avg_Open_To_Buy', 'Total_Amt_Chng_Q4_Q1', \n",
    "                                         'Total_Trans_Amt', 'Total_Trans_Ct', 'Total_Ct_Chng_Q4_Q1', \n",
    "                                         'Avg_Utilization_Ratio', 'Amt_Per_Trans', 'Amt_Per_Person'])"
   ]
  },
  {
   "cell_type": "code",
   "execution_count": 33,
   "metadata": {
    "scrolled": true
   },
   "outputs": [
    {
     "data": {
      "text/html": [
       "<div>\n",
       "<style scoped>\n",
       "    .dataframe tbody tr th:only-of-type {\n",
       "        vertical-align: middle;\n",
       "    }\n",
       "\n",
       "    .dataframe tbody tr th {\n",
       "        vertical-align: top;\n",
       "    }\n",
       "\n",
       "    .dataframe thead th {\n",
       "        text-align: right;\n",
       "    }\n",
       "</style>\n",
       "<table border=\"1\" class=\"dataframe\">\n",
       "  <thead>\n",
       "    <tr style=\"text-align: right;\">\n",
       "      <th></th>\n",
       "      <th>Attrition_Flag</th>\n",
       "      <th>Customer_Age</th>\n",
       "      <th>Gender</th>\n",
       "      <th>Dependent_count</th>\n",
       "      <th>Education_Level</th>\n",
       "      <th>Marital_Status</th>\n",
       "      <th>Income_Category</th>\n",
       "      <th>Card_Category</th>\n",
       "      <th>Months_on_book</th>\n",
       "      <th>Total_Relationship_Count</th>\n",
       "      <th>...</th>\n",
       "      <th>Total_Trans_Amt</th>\n",
       "      <th>Total_Trans_Ct</th>\n",
       "      <th>Total_Ct_Chng_Q4_Q1</th>\n",
       "      <th>Avg_Utilization_Ratio</th>\n",
       "      <th>gender_card</th>\n",
       "      <th>education_card</th>\n",
       "      <th>maritalStatus_card</th>\n",
       "      <th>income_card</th>\n",
       "      <th>Amt_Per_Trans</th>\n",
       "      <th>Amt_Per_Person</th>\n",
       "    </tr>\n",
       "  </thead>\n",
       "  <tbody>\n",
       "    <tr>\n",
       "      <td>0</td>\n",
       "      <td>Existing Customer</td>\n",
       "      <td>-0.165406</td>\n",
       "      <td>M</td>\n",
       "      <td>0.503368</td>\n",
       "      <td>High School</td>\n",
       "      <td>Married</td>\n",
       "      <td>$60K - $80K</td>\n",
       "      <td>Blue</td>\n",
       "      <td>0.384548</td>\n",
       "      <td>0.763943</td>\n",
       "      <td>...</td>\n",
       "      <td>-0.959707</td>\n",
       "      <td>-0.973895</td>\n",
       "      <td>3.834003</td>\n",
       "      <td>-0.775882</td>\n",
       "      <td>M_Blue</td>\n",
       "      <td>High School_Blue</td>\n",
       "      <td>Married_Blue</td>\n",
       "      <td>$60K - $80K_Blue</td>\n",
       "      <td>-1.339734</td>\n",
       "      <td>-0.766493</td>\n",
       "    </tr>\n",
       "    <tr>\n",
       "      <td>1</td>\n",
       "      <td>Existing Customer</td>\n",
       "      <td>0.333570</td>\n",
       "      <td>F</td>\n",
       "      <td>2.043199</td>\n",
       "      <td>Graduate</td>\n",
       "      <td>Single</td>\n",
       "      <td>Less than $40K</td>\n",
       "      <td>Blue</td>\n",
       "      <td>1.010652</td>\n",
       "      <td>1.407306</td>\n",
       "      <td>...</td>\n",
       "      <td>-0.916433</td>\n",
       "      <td>-1.357340</td>\n",
       "      <td>12.608573</td>\n",
       "      <td>-0.616276</td>\n",
       "      <td>F_Blue</td>\n",
       "      <td>Graduate_Blue</td>\n",
       "      <td>Single_Blue</td>\n",
       "      <td>Less than $40K_Blue</td>\n",
       "      <td>-0.889782</td>\n",
       "      <td>-0.807122</td>\n",
       "    </tr>\n",
       "    <tr>\n",
       "      <td>2</td>\n",
       "      <td>Existing Customer</td>\n",
       "      <td>0.583058</td>\n",
       "      <td>M</td>\n",
       "      <td>0.503368</td>\n",
       "      <td>Graduate</td>\n",
       "      <td>Married</td>\n",
       "      <td>$80K - $120K</td>\n",
       "      <td>Blue</td>\n",
       "      <td>0.008887</td>\n",
       "      <td>0.120579</td>\n",
       "      <td>...</td>\n",
       "      <td>-0.740982</td>\n",
       "      <td>-1.911206</td>\n",
       "      <td>6.807864</td>\n",
       "      <td>-0.997155</td>\n",
       "      <td>M_Blue</td>\n",
       "      <td>Graduate_Blue</td>\n",
       "      <td>Married_Blue</td>\n",
       "      <td>$80K - $120K_Blue</td>\n",
       "      <td>1.202039</td>\n",
       "      <td>-0.659944</td>\n",
       "    </tr>\n",
       "    <tr>\n",
       "      <td>3</td>\n",
       "      <td>Existing Customer</td>\n",
       "      <td>-0.789126</td>\n",
       "      <td>F</td>\n",
       "      <td>1.273283</td>\n",
       "      <td>High School</td>\n",
       "      <td>Unknown</td>\n",
       "      <td>Less than $40K</td>\n",
       "      <td>Blue</td>\n",
       "      <td>-0.241555</td>\n",
       "      <td>-0.522785</td>\n",
       "      <td>...</td>\n",
       "      <td>-0.951758</td>\n",
       "      <td>-1.911206</td>\n",
       "      <td>6.807864</td>\n",
       "      <td>1.759686</td>\n",
       "      <td>F_Blue</td>\n",
       "      <td>High School_Blue</td>\n",
       "      <td>Unknown_Blue</td>\n",
       "      <td>Less than $40K_Blue</td>\n",
       "      <td>-0.153876</td>\n",
       "      <td>-0.796206</td>\n",
       "    </tr>\n",
       "    <tr>\n",
       "      <td>4</td>\n",
       "      <td>Existing Customer</td>\n",
       "      <td>-0.789126</td>\n",
       "      <td>M</td>\n",
       "      <td>0.503368</td>\n",
       "      <td>Uneducated</td>\n",
       "      <td>Married</td>\n",
       "      <td>$60K - $80K</td>\n",
       "      <td>Blue</td>\n",
       "      <td>-1.869423</td>\n",
       "      <td>0.763943</td>\n",
       "      <td>...</td>\n",
       "      <td>-1.056263</td>\n",
       "      <td>-1.570365</td>\n",
       "      <td>7.509325</td>\n",
       "      <td>-0.997155</td>\n",
       "      <td>M_Blue</td>\n",
       "      <td>Uneducated_Blue</td>\n",
       "      <td>Married_Blue</td>\n",
       "      <td>$60K - $80K_Blue</td>\n",
       "      <td>-1.267772</td>\n",
       "      <td>-0.813529</td>\n",
       "    </tr>\n",
       "  </tbody>\n",
       "</table>\n",
       "<p>5 rows × 26 columns</p>\n",
       "</div>"
      ],
      "text/plain": [
       "      Attrition_Flag  Customer_Age Gender  Dependent_count Education_Level  \\\n",
       "0  Existing Customer     -0.165406      M         0.503368     High School   \n",
       "1  Existing Customer      0.333570      F         2.043199        Graduate   \n",
       "2  Existing Customer      0.583058      M         0.503368        Graduate   \n",
       "3  Existing Customer     -0.789126      F         1.273283     High School   \n",
       "4  Existing Customer     -0.789126      M         0.503368      Uneducated   \n",
       "\n",
       "  Marital_Status Income_Category Card_Category  Months_on_book  \\\n",
       "0        Married     $60K - $80K          Blue        0.384548   \n",
       "1         Single  Less than $40K          Blue        1.010652   \n",
       "2        Married    $80K - $120K          Blue        0.008887   \n",
       "3        Unknown  Less than $40K          Blue       -0.241555   \n",
       "4        Married     $60K - $80K          Blue       -1.869423   \n",
       "\n",
       "   Total_Relationship_Count  ...  Total_Trans_Amt  Total_Trans_Ct  \\\n",
       "0                  0.763943  ...        -0.959707       -0.973895   \n",
       "1                  1.407306  ...        -0.916433       -1.357340   \n",
       "2                  0.120579  ...        -0.740982       -1.911206   \n",
       "3                 -0.522785  ...        -0.951758       -1.911206   \n",
       "4                  0.763943  ...        -1.056263       -1.570365   \n",
       "\n",
       "   Total_Ct_Chng_Q4_Q1  Avg_Utilization_Ratio  gender_card    education_card  \\\n",
       "0             3.834003              -0.775882       M_Blue  High School_Blue   \n",
       "1            12.608573              -0.616276       F_Blue     Graduate_Blue   \n",
       "2             6.807864              -0.997155       M_Blue     Graduate_Blue   \n",
       "3             6.807864               1.759686       F_Blue  High School_Blue   \n",
       "4             7.509325              -0.997155       M_Blue   Uneducated_Blue   \n",
       "\n",
       "   maritalStatus_card          income_card  Amt_Per_Trans  Amt_Per_Person  \n",
       "0        Married_Blue     $60K - $80K_Blue      -1.339734       -0.766493  \n",
       "1         Single_Blue  Less than $40K_Blue      -0.889782       -0.807122  \n",
       "2        Married_Blue    $80K - $120K_Blue       1.202039       -0.659944  \n",
       "3        Unknown_Blue  Less than $40K_Blue      -0.153876       -0.796206  \n",
       "4        Married_Blue     $60K - $80K_Blue      -1.267772       -0.813529  \n",
       "\n",
       "[5 rows x 26 columns]"
      ]
     },
     "execution_count": 33,
     "metadata": {},
     "output_type": "execute_result"
    }
   ],
   "source": [
    "dataset_scaled.head()"
   ]
  },
  {
   "cell_type": "code",
   "execution_count": 34,
   "metadata": {},
   "outputs": [
    {
     "name": "stdout",
     "output_type": "stream",
     "text": [
      "Attrition_Flag 2\n",
      "Gender 2\n",
      "Education_Level 7\n",
      "Marital_Status 4\n",
      "Income_Category 6\n",
      "Card_Category 4\n",
      "gender_card 8\n",
      "education_card 27\n",
      "maritalStatus_card 16\n",
      "income_card 24\n"
     ]
    }
   ],
   "source": [
    "# List the categorical features and their number of categories\n",
    "\n",
    "from pandas.api.types import is_string_dtype\n",
    "\n",
    "for i in dataset_scaled.columns:\n",
    "    if is_string_dtype(dataset_scaled[i]):\n",
    "        print(i, len(dataset_scaled[i].unique()))"
   ]
  },
  {
   "cell_type": "code",
   "execution_count": 35,
   "metadata": {},
   "outputs": [],
   "source": [
    "from sklearn.preprocessing import LabelEncoder\n",
    "\n",
    "def label_encoding(dataset, columns):\n",
    "    dataset_ = dataset.copy()\n",
    "    transformer = LabelEncoder()\n",
    "    for column in columns:\n",
    "        dataset_[column]  = transformer.fit_transform(dataset_[column])\n",
    "    return dataset_"
   ]
  },
  {
   "cell_type": "code",
   "execution_count": 36,
   "metadata": {},
   "outputs": [],
   "source": [
    "dataset_label_encoded = label_encoding(dataset_scaled, columns=['Education_Level', 'Income_Category','Attrition_Flag', \n",
    "                                                                'gender_card', 'education_card', 'maritalStatus_card', \n",
    "                                                                'income_card'])"
   ]
  },
  {
   "cell_type": "code",
   "execution_count": 37,
   "metadata": {
    "scrolled": false
   },
   "outputs": [
    {
     "data": {
      "text/html": [
       "<div>\n",
       "<style scoped>\n",
       "    .dataframe tbody tr th:only-of-type {\n",
       "        vertical-align: middle;\n",
       "    }\n",
       "\n",
       "    .dataframe tbody tr th {\n",
       "        vertical-align: top;\n",
       "    }\n",
       "\n",
       "    .dataframe thead th {\n",
       "        text-align: right;\n",
       "    }\n",
       "</style>\n",
       "<table border=\"1\" class=\"dataframe\">\n",
       "  <thead>\n",
       "    <tr style=\"text-align: right;\">\n",
       "      <th></th>\n",
       "      <th>Attrition_Flag</th>\n",
       "      <th>Customer_Age</th>\n",
       "      <th>Gender</th>\n",
       "      <th>Dependent_count</th>\n",
       "      <th>Education_Level</th>\n",
       "      <th>Marital_Status</th>\n",
       "      <th>Income_Category</th>\n",
       "      <th>Card_Category</th>\n",
       "      <th>Months_on_book</th>\n",
       "      <th>Total_Relationship_Count</th>\n",
       "      <th>...</th>\n",
       "      <th>Total_Trans_Amt</th>\n",
       "      <th>Total_Trans_Ct</th>\n",
       "      <th>Total_Ct_Chng_Q4_Q1</th>\n",
       "      <th>Avg_Utilization_Ratio</th>\n",
       "      <th>gender_card</th>\n",
       "      <th>education_card</th>\n",
       "      <th>maritalStatus_card</th>\n",
       "      <th>income_card</th>\n",
       "      <th>Amt_Per_Trans</th>\n",
       "      <th>Amt_Per_Person</th>\n",
       "    </tr>\n",
       "  </thead>\n",
       "  <tbody>\n",
       "    <tr>\n",
       "      <td>0</td>\n",
       "      <td>1</td>\n",
       "      <td>-0.165406</td>\n",
       "      <td>M</td>\n",
       "      <td>0.503368</td>\n",
       "      <td>3</td>\n",
       "      <td>Married</td>\n",
       "      <td>2</td>\n",
       "      <td>Blue</td>\n",
       "      <td>0.384548</td>\n",
       "      <td>0.763943</td>\n",
       "      <td>...</td>\n",
       "      <td>-0.959707</td>\n",
       "      <td>-0.973895</td>\n",
       "      <td>3.834003</td>\n",
       "      <td>-0.775882</td>\n",
       "      <td>4</td>\n",
       "      <td>11</td>\n",
       "      <td>4</td>\n",
       "      <td>8</td>\n",
       "      <td>-1.339734</td>\n",
       "      <td>-0.766493</td>\n",
       "    </tr>\n",
       "    <tr>\n",
       "      <td>1</td>\n",
       "      <td>1</td>\n",
       "      <td>0.333570</td>\n",
       "      <td>F</td>\n",
       "      <td>2.043199</td>\n",
       "      <td>2</td>\n",
       "      <td>Single</td>\n",
       "      <td>4</td>\n",
       "      <td>Blue</td>\n",
       "      <td>1.010652</td>\n",
       "      <td>1.407306</td>\n",
       "      <td>...</td>\n",
       "      <td>-0.916433</td>\n",
       "      <td>-1.357340</td>\n",
       "      <td>12.608573</td>\n",
       "      <td>-0.616276</td>\n",
       "      <td>0</td>\n",
       "      <td>7</td>\n",
       "      <td>8</td>\n",
       "      <td>16</td>\n",
       "      <td>-0.889782</td>\n",
       "      <td>-0.807122</td>\n",
       "    </tr>\n",
       "    <tr>\n",
       "      <td>2</td>\n",
       "      <td>1</td>\n",
       "      <td>0.583058</td>\n",
       "      <td>M</td>\n",
       "      <td>0.503368</td>\n",
       "      <td>2</td>\n",
       "      <td>Married</td>\n",
       "      <td>3</td>\n",
       "      <td>Blue</td>\n",
       "      <td>0.008887</td>\n",
       "      <td>0.120579</td>\n",
       "      <td>...</td>\n",
       "      <td>-0.740982</td>\n",
       "      <td>-1.911206</td>\n",
       "      <td>6.807864</td>\n",
       "      <td>-0.997155</td>\n",
       "      <td>4</td>\n",
       "      <td>7</td>\n",
       "      <td>4</td>\n",
       "      <td>12</td>\n",
       "      <td>1.202039</td>\n",
       "      <td>-0.659944</td>\n",
       "    </tr>\n",
       "    <tr>\n",
       "      <td>3</td>\n",
       "      <td>1</td>\n",
       "      <td>-0.789126</td>\n",
       "      <td>F</td>\n",
       "      <td>1.273283</td>\n",
       "      <td>3</td>\n",
       "      <td>Unknown</td>\n",
       "      <td>4</td>\n",
       "      <td>Blue</td>\n",
       "      <td>-0.241555</td>\n",
       "      <td>-0.522785</td>\n",
       "      <td>...</td>\n",
       "      <td>-0.951758</td>\n",
       "      <td>-1.911206</td>\n",
       "      <td>6.807864</td>\n",
       "      <td>1.759686</td>\n",
       "      <td>0</td>\n",
       "      <td>11</td>\n",
       "      <td>12</td>\n",
       "      <td>16</td>\n",
       "      <td>-0.153876</td>\n",
       "      <td>-0.796206</td>\n",
       "    </tr>\n",
       "    <tr>\n",
       "      <td>4</td>\n",
       "      <td>1</td>\n",
       "      <td>-0.789126</td>\n",
       "      <td>M</td>\n",
       "      <td>0.503368</td>\n",
       "      <td>5</td>\n",
       "      <td>Married</td>\n",
       "      <td>2</td>\n",
       "      <td>Blue</td>\n",
       "      <td>-1.869423</td>\n",
       "      <td>0.763943</td>\n",
       "      <td>...</td>\n",
       "      <td>-1.056263</td>\n",
       "      <td>-1.570365</td>\n",
       "      <td>7.509325</td>\n",
       "      <td>-0.997155</td>\n",
       "      <td>4</td>\n",
       "      <td>19</td>\n",
       "      <td>4</td>\n",
       "      <td>8</td>\n",
       "      <td>-1.267772</td>\n",
       "      <td>-0.813529</td>\n",
       "    </tr>\n",
       "  </tbody>\n",
       "</table>\n",
       "<p>5 rows × 26 columns</p>\n",
       "</div>"
      ],
      "text/plain": [
       "   Attrition_Flag  Customer_Age Gender  Dependent_count  Education_Level  \\\n",
       "0               1     -0.165406      M         0.503368                3   \n",
       "1               1      0.333570      F         2.043199                2   \n",
       "2               1      0.583058      M         0.503368                2   \n",
       "3               1     -0.789126      F         1.273283                3   \n",
       "4               1     -0.789126      M         0.503368                5   \n",
       "\n",
       "  Marital_Status  Income_Category Card_Category  Months_on_book  \\\n",
       "0        Married                2          Blue        0.384548   \n",
       "1         Single                4          Blue        1.010652   \n",
       "2        Married                3          Blue        0.008887   \n",
       "3        Unknown                4          Blue       -0.241555   \n",
       "4        Married                2          Blue       -1.869423   \n",
       "\n",
       "   Total_Relationship_Count  ...  Total_Trans_Amt  Total_Trans_Ct  \\\n",
       "0                  0.763943  ...        -0.959707       -0.973895   \n",
       "1                  1.407306  ...        -0.916433       -1.357340   \n",
       "2                  0.120579  ...        -0.740982       -1.911206   \n",
       "3                 -0.522785  ...        -0.951758       -1.911206   \n",
       "4                  0.763943  ...        -1.056263       -1.570365   \n",
       "\n",
       "   Total_Ct_Chng_Q4_Q1  Avg_Utilization_Ratio  gender_card  education_card  \\\n",
       "0             3.834003              -0.775882            4              11   \n",
       "1            12.608573              -0.616276            0               7   \n",
       "2             6.807864              -0.997155            4               7   \n",
       "3             6.807864               1.759686            0              11   \n",
       "4             7.509325              -0.997155            4              19   \n",
       "\n",
       "   maritalStatus_card  income_card  Amt_Per_Trans  Amt_Per_Person  \n",
       "0                   4            8      -1.339734       -0.766493  \n",
       "1                   8           16      -0.889782       -0.807122  \n",
       "2                   4           12       1.202039       -0.659944  \n",
       "3                  12           16      -0.153876       -0.796206  \n",
       "4                   4            8      -1.267772       -0.813529  \n",
       "\n",
       "[5 rows x 26 columns]"
      ]
     },
     "execution_count": 37,
     "metadata": {},
     "output_type": "execute_result"
    }
   ],
   "source": [
    "dataset_label_encoded.head()"
   ]
  },
  {
   "cell_type": "code",
   "execution_count": 38,
   "metadata": {},
   "outputs": [],
   "source": [
    "# Split the dataset to X and y\n",
    "\n",
    "X = dataset_label_encoded.drop(['Attrition_Flag'], axis=1)\n",
    "y = dataset_label_encoded['Attrition_Flag']"
   ]
  },
  {
   "cell_type": "code",
   "execution_count": 39,
   "metadata": {},
   "outputs": [
    {
     "data": {
      "text/html": [
       "<div>\n",
       "<style scoped>\n",
       "    .dataframe tbody tr th:only-of-type {\n",
       "        vertical-align: middle;\n",
       "    }\n",
       "\n",
       "    .dataframe tbody tr th {\n",
       "        vertical-align: top;\n",
       "    }\n",
       "\n",
       "    .dataframe thead th {\n",
       "        text-align: right;\n",
       "    }\n",
       "</style>\n",
       "<table border=\"1\" class=\"dataframe\">\n",
       "  <thead>\n",
       "    <tr style=\"text-align: right;\">\n",
       "      <th></th>\n",
       "      <th>Customer_Age</th>\n",
       "      <th>Gender</th>\n",
       "      <th>Dependent_count</th>\n",
       "      <th>Education_Level</th>\n",
       "      <th>Marital_Status</th>\n",
       "      <th>Income_Category</th>\n",
       "      <th>Card_Category</th>\n",
       "      <th>Months_on_book</th>\n",
       "      <th>Total_Relationship_Count</th>\n",
       "      <th>Months_Inactive_12_mon</th>\n",
       "      <th>...</th>\n",
       "      <th>Total_Trans_Amt</th>\n",
       "      <th>Total_Trans_Ct</th>\n",
       "      <th>Total_Ct_Chng_Q4_Q1</th>\n",
       "      <th>Avg_Utilization_Ratio</th>\n",
       "      <th>gender_card</th>\n",
       "      <th>education_card</th>\n",
       "      <th>maritalStatus_card</th>\n",
       "      <th>income_card</th>\n",
       "      <th>Amt_Per_Trans</th>\n",
       "      <th>Amt_Per_Person</th>\n",
       "    </tr>\n",
       "  </thead>\n",
       "  <tbody>\n",
       "    <tr>\n",
       "      <td>0</td>\n",
       "      <td>-0.165406</td>\n",
       "      <td>M</td>\n",
       "      <td>0.503368</td>\n",
       "      <td>3</td>\n",
       "      <td>Married</td>\n",
       "      <td>2</td>\n",
       "      <td>Blue</td>\n",
       "      <td>0.384548</td>\n",
       "      <td>0.763943</td>\n",
       "      <td>-1.327136</td>\n",
       "      <td>...</td>\n",
       "      <td>-0.959707</td>\n",
       "      <td>-0.973895</td>\n",
       "      <td>3.834003</td>\n",
       "      <td>-0.775882</td>\n",
       "      <td>4</td>\n",
       "      <td>11</td>\n",
       "      <td>4</td>\n",
       "      <td>8</td>\n",
       "      <td>-1.339734</td>\n",
       "      <td>-0.766493</td>\n",
       "    </tr>\n",
       "    <tr>\n",
       "      <td>1</td>\n",
       "      <td>0.333570</td>\n",
       "      <td>F</td>\n",
       "      <td>2.043199</td>\n",
       "      <td>2</td>\n",
       "      <td>Single</td>\n",
       "      <td>4</td>\n",
       "      <td>Blue</td>\n",
       "      <td>1.010652</td>\n",
       "      <td>1.407306</td>\n",
       "      <td>-1.327136</td>\n",
       "      <td>...</td>\n",
       "      <td>-0.916433</td>\n",
       "      <td>-1.357340</td>\n",
       "      <td>12.608573</td>\n",
       "      <td>-0.616276</td>\n",
       "      <td>0</td>\n",
       "      <td>7</td>\n",
       "      <td>8</td>\n",
       "      <td>16</td>\n",
       "      <td>-0.889782</td>\n",
       "      <td>-0.807122</td>\n",
       "    </tr>\n",
       "    <tr>\n",
       "      <td>2</td>\n",
       "      <td>0.583058</td>\n",
       "      <td>M</td>\n",
       "      <td>0.503368</td>\n",
       "      <td>2</td>\n",
       "      <td>Married</td>\n",
       "      <td>3</td>\n",
       "      <td>Blue</td>\n",
       "      <td>0.008887</td>\n",
       "      <td>0.120579</td>\n",
       "      <td>-1.327136</td>\n",
       "      <td>...</td>\n",
       "      <td>-0.740982</td>\n",
       "      <td>-1.911206</td>\n",
       "      <td>6.807864</td>\n",
       "      <td>-0.997155</td>\n",
       "      <td>4</td>\n",
       "      <td>7</td>\n",
       "      <td>4</td>\n",
       "      <td>12</td>\n",
       "      <td>1.202039</td>\n",
       "      <td>-0.659944</td>\n",
       "    </tr>\n",
       "    <tr>\n",
       "      <td>3</td>\n",
       "      <td>-0.789126</td>\n",
       "      <td>F</td>\n",
       "      <td>1.273283</td>\n",
       "      <td>3</td>\n",
       "      <td>Unknown</td>\n",
       "      <td>4</td>\n",
       "      <td>Blue</td>\n",
       "      <td>-0.241555</td>\n",
       "      <td>-0.522785</td>\n",
       "      <td>1.641478</td>\n",
       "      <td>...</td>\n",
       "      <td>-0.951758</td>\n",
       "      <td>-1.911206</td>\n",
       "      <td>6.807864</td>\n",
       "      <td>1.759686</td>\n",
       "      <td>0</td>\n",
       "      <td>11</td>\n",
       "      <td>12</td>\n",
       "      <td>16</td>\n",
       "      <td>-0.153876</td>\n",
       "      <td>-0.796206</td>\n",
       "    </tr>\n",
       "    <tr>\n",
       "      <td>4</td>\n",
       "      <td>-0.789126</td>\n",
       "      <td>M</td>\n",
       "      <td>0.503368</td>\n",
       "      <td>5</td>\n",
       "      <td>Married</td>\n",
       "      <td>2</td>\n",
       "      <td>Blue</td>\n",
       "      <td>-1.869423</td>\n",
       "      <td>0.763943</td>\n",
       "      <td>-1.327136</td>\n",
       "      <td>...</td>\n",
       "      <td>-1.056263</td>\n",
       "      <td>-1.570365</td>\n",
       "      <td>7.509325</td>\n",
       "      <td>-0.997155</td>\n",
       "      <td>4</td>\n",
       "      <td>19</td>\n",
       "      <td>4</td>\n",
       "      <td>8</td>\n",
       "      <td>-1.267772</td>\n",
       "      <td>-0.813529</td>\n",
       "    </tr>\n",
       "  </tbody>\n",
       "</table>\n",
       "<p>5 rows × 25 columns</p>\n",
       "</div>"
      ],
      "text/plain": [
       "   Customer_Age Gender  Dependent_count  Education_Level Marital_Status  \\\n",
       "0     -0.165406      M         0.503368                3        Married   \n",
       "1      0.333570      F         2.043199                2         Single   \n",
       "2      0.583058      M         0.503368                2        Married   \n",
       "3     -0.789126      F         1.273283                3        Unknown   \n",
       "4     -0.789126      M         0.503368                5        Married   \n",
       "\n",
       "   Income_Category Card_Category  Months_on_book  Total_Relationship_Count  \\\n",
       "0                2          Blue        0.384548                  0.763943   \n",
       "1                4          Blue        1.010652                  1.407306   \n",
       "2                3          Blue        0.008887                  0.120579   \n",
       "3                4          Blue       -0.241555                 -0.522785   \n",
       "4                2          Blue       -1.869423                  0.763943   \n",
       "\n",
       "   Months_Inactive_12_mon  ...  Total_Trans_Amt  Total_Trans_Ct  \\\n",
       "0               -1.327136  ...        -0.959707       -0.973895   \n",
       "1               -1.327136  ...        -0.916433       -1.357340   \n",
       "2               -1.327136  ...        -0.740982       -1.911206   \n",
       "3                1.641478  ...        -0.951758       -1.911206   \n",
       "4               -1.327136  ...        -1.056263       -1.570365   \n",
       "\n",
       "   Total_Ct_Chng_Q4_Q1  Avg_Utilization_Ratio  gender_card  education_card  \\\n",
       "0             3.834003              -0.775882            4              11   \n",
       "1            12.608573              -0.616276            0               7   \n",
       "2             6.807864              -0.997155            4               7   \n",
       "3             6.807864               1.759686            0              11   \n",
       "4             7.509325              -0.997155            4              19   \n",
       "\n",
       "   maritalStatus_card  income_card  Amt_Per_Trans  Amt_Per_Person  \n",
       "0                   4            8      -1.339734       -0.766493  \n",
       "1                   8           16      -0.889782       -0.807122  \n",
       "2                   4           12       1.202039       -0.659944  \n",
       "3                  12           16      -0.153876       -0.796206  \n",
       "4                   4            8      -1.267772       -0.813529  \n",
       "\n",
       "[5 rows x 25 columns]"
      ]
     },
     "execution_count": 39,
     "metadata": {},
     "output_type": "execute_result"
    }
   ],
   "source": [
    "X.head()"
   ]
  },
  {
   "cell_type": "code",
   "execution_count": 40,
   "metadata": {},
   "outputs": [],
   "source": [
    "# CatBoost encoding\n",
    "\n",
    "import category_encoders as ce\n",
    "\n",
    "cat_features = ['Gender', 'Marital_Status', 'Card_Category']\n",
    "\n",
    "count_encoder = ce.CatBoostEncoder(cols=cat_features)\n",
    "\n",
    "X[cat_features] = count_encoder.fit_transform(X[cat_features], y)"
   ]
  },
  {
   "cell_type": "code",
   "execution_count": 41,
   "metadata": {},
   "outputs": [
    {
     "data": {
      "text/html": [
       "<div>\n",
       "<style scoped>\n",
       "    .dataframe tbody tr th:only-of-type {\n",
       "        vertical-align: middle;\n",
       "    }\n",
       "\n",
       "    .dataframe tbody tr th {\n",
       "        vertical-align: top;\n",
       "    }\n",
       "\n",
       "    .dataframe thead th {\n",
       "        text-align: right;\n",
       "    }\n",
       "</style>\n",
       "<table border=\"1\" class=\"dataframe\">\n",
       "  <thead>\n",
       "    <tr style=\"text-align: right;\">\n",
       "      <th></th>\n",
       "      <th>Attrition_Flag</th>\n",
       "      <th>Customer_Age</th>\n",
       "      <th>Gender</th>\n",
       "      <th>Dependent_count</th>\n",
       "      <th>Education_Level</th>\n",
       "      <th>Marital_Status</th>\n",
       "      <th>Income_Category</th>\n",
       "      <th>Card_Category</th>\n",
       "      <th>Months_on_book</th>\n",
       "      <th>Total_Relationship_Count</th>\n",
       "      <th>...</th>\n",
       "      <th>Total_Trans_Amt</th>\n",
       "      <th>Total_Trans_Ct</th>\n",
       "      <th>Total_Ct_Chng_Q4_Q1</th>\n",
       "      <th>Avg_Utilization_Ratio</th>\n",
       "      <th>gender_card</th>\n",
       "      <th>education_card</th>\n",
       "      <th>maritalStatus_card</th>\n",
       "      <th>income_card</th>\n",
       "      <th>Amt_Per_Trans</th>\n",
       "      <th>Amt_Per_Person</th>\n",
       "    </tr>\n",
       "  </thead>\n",
       "  <tbody>\n",
       "    <tr>\n",
       "      <td>0</td>\n",
       "      <td>1</td>\n",
       "      <td>-0.165406</td>\n",
       "      <td>M</td>\n",
       "      <td>0.503368</td>\n",
       "      <td>3</td>\n",
       "      <td>Married</td>\n",
       "      <td>2</td>\n",
       "      <td>Blue</td>\n",
       "      <td>0.384548</td>\n",
       "      <td>0.763943</td>\n",
       "      <td>...</td>\n",
       "      <td>-0.959707</td>\n",
       "      <td>-0.973895</td>\n",
       "      <td>3.834003</td>\n",
       "      <td>-0.775882</td>\n",
       "      <td>4</td>\n",
       "      <td>11</td>\n",
       "      <td>4</td>\n",
       "      <td>8</td>\n",
       "      <td>-1.339734</td>\n",
       "      <td>-0.766493</td>\n",
       "    </tr>\n",
       "    <tr>\n",
       "      <td>1</td>\n",
       "      <td>1</td>\n",
       "      <td>0.333570</td>\n",
       "      <td>F</td>\n",
       "      <td>2.043199</td>\n",
       "      <td>2</td>\n",
       "      <td>Single</td>\n",
       "      <td>4</td>\n",
       "      <td>Blue</td>\n",
       "      <td>1.010652</td>\n",
       "      <td>1.407306</td>\n",
       "      <td>...</td>\n",
       "      <td>-0.916433</td>\n",
       "      <td>-1.357340</td>\n",
       "      <td>12.608573</td>\n",
       "      <td>-0.616276</td>\n",
       "      <td>0</td>\n",
       "      <td>7</td>\n",
       "      <td>8</td>\n",
       "      <td>16</td>\n",
       "      <td>-0.889782</td>\n",
       "      <td>-0.807122</td>\n",
       "    </tr>\n",
       "    <tr>\n",
       "      <td>2</td>\n",
       "      <td>1</td>\n",
       "      <td>0.583058</td>\n",
       "      <td>M</td>\n",
       "      <td>0.503368</td>\n",
       "      <td>2</td>\n",
       "      <td>Married</td>\n",
       "      <td>3</td>\n",
       "      <td>Blue</td>\n",
       "      <td>0.008887</td>\n",
       "      <td>0.120579</td>\n",
       "      <td>...</td>\n",
       "      <td>-0.740982</td>\n",
       "      <td>-1.911206</td>\n",
       "      <td>6.807864</td>\n",
       "      <td>-0.997155</td>\n",
       "      <td>4</td>\n",
       "      <td>7</td>\n",
       "      <td>4</td>\n",
       "      <td>12</td>\n",
       "      <td>1.202039</td>\n",
       "      <td>-0.659944</td>\n",
       "    </tr>\n",
       "    <tr>\n",
       "      <td>3</td>\n",
       "      <td>1</td>\n",
       "      <td>-0.789126</td>\n",
       "      <td>F</td>\n",
       "      <td>1.273283</td>\n",
       "      <td>3</td>\n",
       "      <td>Unknown</td>\n",
       "      <td>4</td>\n",
       "      <td>Blue</td>\n",
       "      <td>-0.241555</td>\n",
       "      <td>-0.522785</td>\n",
       "      <td>...</td>\n",
       "      <td>-0.951758</td>\n",
       "      <td>-1.911206</td>\n",
       "      <td>6.807864</td>\n",
       "      <td>1.759686</td>\n",
       "      <td>0</td>\n",
       "      <td>11</td>\n",
       "      <td>12</td>\n",
       "      <td>16</td>\n",
       "      <td>-0.153876</td>\n",
       "      <td>-0.796206</td>\n",
       "    </tr>\n",
       "    <tr>\n",
       "      <td>4</td>\n",
       "      <td>1</td>\n",
       "      <td>-0.789126</td>\n",
       "      <td>M</td>\n",
       "      <td>0.503368</td>\n",
       "      <td>5</td>\n",
       "      <td>Married</td>\n",
       "      <td>2</td>\n",
       "      <td>Blue</td>\n",
       "      <td>-1.869423</td>\n",
       "      <td>0.763943</td>\n",
       "      <td>...</td>\n",
       "      <td>-1.056263</td>\n",
       "      <td>-1.570365</td>\n",
       "      <td>7.509325</td>\n",
       "      <td>-0.997155</td>\n",
       "      <td>4</td>\n",
       "      <td>19</td>\n",
       "      <td>4</td>\n",
       "      <td>8</td>\n",
       "      <td>-1.267772</td>\n",
       "      <td>-0.813529</td>\n",
       "    </tr>\n",
       "  </tbody>\n",
       "</table>\n",
       "<p>5 rows × 26 columns</p>\n",
       "</div>"
      ],
      "text/plain": [
       "   Attrition_Flag  Customer_Age Gender  Dependent_count  Education_Level  \\\n",
       "0               1     -0.165406      M         0.503368                3   \n",
       "1               1      0.333570      F         2.043199                2   \n",
       "2               1      0.583058      M         0.503368                2   \n",
       "3               1     -0.789126      F         1.273283                3   \n",
       "4               1     -0.789126      M         0.503368                5   \n",
       "\n",
       "  Marital_Status  Income_Category Card_Category  Months_on_book  \\\n",
       "0        Married                2          Blue        0.384548   \n",
       "1         Single                4          Blue        1.010652   \n",
       "2        Married                3          Blue        0.008887   \n",
       "3        Unknown                4          Blue       -0.241555   \n",
       "4        Married                2          Blue       -1.869423   \n",
       "\n",
       "   Total_Relationship_Count  ...  Total_Trans_Amt  Total_Trans_Ct  \\\n",
       "0                  0.763943  ...        -0.959707       -0.973895   \n",
       "1                  1.407306  ...        -0.916433       -1.357340   \n",
       "2                  0.120579  ...        -0.740982       -1.911206   \n",
       "3                 -0.522785  ...        -0.951758       -1.911206   \n",
       "4                  0.763943  ...        -1.056263       -1.570365   \n",
       "\n",
       "   Total_Ct_Chng_Q4_Q1  Avg_Utilization_Ratio  gender_card  education_card  \\\n",
       "0             3.834003              -0.775882            4              11   \n",
       "1            12.608573              -0.616276            0               7   \n",
       "2             6.807864              -0.997155            4               7   \n",
       "3             6.807864               1.759686            0              11   \n",
       "4             7.509325              -0.997155            4              19   \n",
       "\n",
       "   maritalStatus_card  income_card  Amt_Per_Trans  Amt_Per_Person  \n",
       "0                   4            8      -1.339734       -0.766493  \n",
       "1                   8           16      -0.889782       -0.807122  \n",
       "2                   4           12       1.202039       -0.659944  \n",
       "3                  12           16      -0.153876       -0.796206  \n",
       "4                   4            8      -1.267772       -0.813529  \n",
       "\n",
       "[5 rows x 26 columns]"
      ]
     },
     "execution_count": 41,
     "metadata": {},
     "output_type": "execute_result"
    }
   ],
   "source": [
    "dataset_label_encoded.head()"
   ]
  },
  {
   "cell_type": "markdown",
   "metadata": {
    "id": "XiazHmxRSXy0"
   },
   "source": [
    "## 2. Feature Anaysis, Extraction & Selection\n",
    "(you may need to perform feature selection after creating default models and compare to them)"
   ]
  },
  {
   "cell_type": "code",
   "execution_count": null,
   "metadata": {},
   "outputs": [],
   "source": []
  },
  {
   "cell_type": "markdown",
   "metadata": {
    "id": "92THQSXGSXy3"
   },
   "source": [
    "## 3. Classification models\n",
    "- classical classification models\n",
    "- deep neural networks"
   ]
  },
  {
   "cell_type": "code",
   "execution_count": 42,
   "metadata": {
    "id": "ve5_cjilSXy4"
   },
   "outputs": [],
   "source": [
    "# Make train/test split : with train(70%), test(30%) # 80% so 20% da bide!\n",
    "\n",
    "from sklearn.model_selection import train_test_split\n",
    "\n",
    "# X = dataset_one_hot_encoded.drop(['Attrition_Flag'], axis=1)\n",
    "# y = dataset_one_hot_encoded['Attrition_Flag']\n",
    "\n",
    "X_train, X_test, y_train, y_test = train_test_split(X, y, test_size=0.20, random_state=0)"
   ]
  },
  {
   "cell_type": "code",
   "execution_count": 43,
   "metadata": {},
   "outputs": [
    {
     "data": {
      "text/html": [
       "<div>\n",
       "<style scoped>\n",
       "    .dataframe tbody tr th:only-of-type {\n",
       "        vertical-align: middle;\n",
       "    }\n",
       "\n",
       "    .dataframe tbody tr th {\n",
       "        vertical-align: top;\n",
       "    }\n",
       "\n",
       "    .dataframe thead th {\n",
       "        text-align: right;\n",
       "    }\n",
       "</style>\n",
       "<table border=\"1\" class=\"dataframe\">\n",
       "  <thead>\n",
       "    <tr style=\"text-align: right;\">\n",
       "      <th></th>\n",
       "      <th>Customer_Age</th>\n",
       "      <th>Gender</th>\n",
       "      <th>Dependent_count</th>\n",
       "      <th>Education_Level</th>\n",
       "      <th>Marital_Status</th>\n",
       "      <th>Income_Category</th>\n",
       "      <th>Card_Category</th>\n",
       "      <th>Months_on_book</th>\n",
       "      <th>Total_Relationship_Count</th>\n",
       "      <th>Months_Inactive_12_mon</th>\n",
       "      <th>...</th>\n",
       "      <th>Total_Trans_Amt</th>\n",
       "      <th>Total_Trans_Ct</th>\n",
       "      <th>Total_Ct_Chng_Q4_Q1</th>\n",
       "      <th>Avg_Utilization_Ratio</th>\n",
       "      <th>gender_card</th>\n",
       "      <th>education_card</th>\n",
       "      <th>maritalStatus_card</th>\n",
       "      <th>income_card</th>\n",
       "      <th>Amt_Per_Trans</th>\n",
       "      <th>Amt_Per_Person</th>\n",
       "    </tr>\n",
       "  </thead>\n",
       "  <tbody>\n",
       "    <tr>\n",
       "      <td>0</td>\n",
       "      <td>-0.165406</td>\n",
       "      <td>0.839340</td>\n",
       "      <td>0.503368</td>\n",
       "      <td>3</td>\n",
       "      <td>0.839340</td>\n",
       "      <td>2</td>\n",
       "      <td>0.839340</td>\n",
       "      <td>0.384548</td>\n",
       "      <td>0.763943</td>\n",
       "      <td>-1.327136</td>\n",
       "      <td>...</td>\n",
       "      <td>-0.959707</td>\n",
       "      <td>-0.973895</td>\n",
       "      <td>3.834003</td>\n",
       "      <td>-0.775882</td>\n",
       "      <td>4</td>\n",
       "      <td>11</td>\n",
       "      <td>4</td>\n",
       "      <td>8</td>\n",
       "      <td>-1.339734</td>\n",
       "      <td>-0.766493</td>\n",
       "    </tr>\n",
       "    <tr>\n",
       "      <td>1</td>\n",
       "      <td>0.333570</td>\n",
       "      <td>0.839340</td>\n",
       "      <td>2.043199</td>\n",
       "      <td>2</td>\n",
       "      <td>0.839340</td>\n",
       "      <td>4</td>\n",
       "      <td>0.919670</td>\n",
       "      <td>1.010652</td>\n",
       "      <td>1.407306</td>\n",
       "      <td>-1.327136</td>\n",
       "      <td>...</td>\n",
       "      <td>-0.916433</td>\n",
       "      <td>-1.357340</td>\n",
       "      <td>12.608573</td>\n",
       "      <td>-0.616276</td>\n",
       "      <td>0</td>\n",
       "      <td>7</td>\n",
       "      <td>8</td>\n",
       "      <td>16</td>\n",
       "      <td>-0.889782</td>\n",
       "      <td>-0.807122</td>\n",
       "    </tr>\n",
       "    <tr>\n",
       "      <td>2</td>\n",
       "      <td>0.583058</td>\n",
       "      <td>0.919670</td>\n",
       "      <td>0.503368</td>\n",
       "      <td>2</td>\n",
       "      <td>0.919670</td>\n",
       "      <td>3</td>\n",
       "      <td>0.946447</td>\n",
       "      <td>0.008887</td>\n",
       "      <td>0.120579</td>\n",
       "      <td>-1.327136</td>\n",
       "      <td>...</td>\n",
       "      <td>-0.740982</td>\n",
       "      <td>-1.911206</td>\n",
       "      <td>6.807864</td>\n",
       "      <td>-0.997155</td>\n",
       "      <td>4</td>\n",
       "      <td>7</td>\n",
       "      <td>4</td>\n",
       "      <td>12</td>\n",
       "      <td>1.202039</td>\n",
       "      <td>-0.659944</td>\n",
       "    </tr>\n",
       "    <tr>\n",
       "      <td>3</td>\n",
       "      <td>-0.789126</td>\n",
       "      <td>0.919670</td>\n",
       "      <td>1.273283</td>\n",
       "      <td>3</td>\n",
       "      <td>0.839340</td>\n",
       "      <td>4</td>\n",
       "      <td>0.959835</td>\n",
       "      <td>-0.241555</td>\n",
       "      <td>-0.522785</td>\n",
       "      <td>1.641478</td>\n",
       "      <td>...</td>\n",
       "      <td>-0.951758</td>\n",
       "      <td>-1.911206</td>\n",
       "      <td>6.807864</td>\n",
       "      <td>1.759686</td>\n",
       "      <td>0</td>\n",
       "      <td>11</td>\n",
       "      <td>12</td>\n",
       "      <td>16</td>\n",
       "      <td>-0.153876</td>\n",
       "      <td>-0.796206</td>\n",
       "    </tr>\n",
       "    <tr>\n",
       "      <td>4</td>\n",
       "      <td>-0.789126</td>\n",
       "      <td>0.946447</td>\n",
       "      <td>0.503368</td>\n",
       "      <td>5</td>\n",
       "      <td>0.946447</td>\n",
       "      <td>2</td>\n",
       "      <td>0.967868</td>\n",
       "      <td>-1.869423</td>\n",
       "      <td>0.763943</td>\n",
       "      <td>-1.327136</td>\n",
       "      <td>...</td>\n",
       "      <td>-1.056263</td>\n",
       "      <td>-1.570365</td>\n",
       "      <td>7.509325</td>\n",
       "      <td>-0.997155</td>\n",
       "      <td>4</td>\n",
       "      <td>19</td>\n",
       "      <td>4</td>\n",
       "      <td>8</td>\n",
       "      <td>-1.267772</td>\n",
       "      <td>-0.813529</td>\n",
       "    </tr>\n",
       "  </tbody>\n",
       "</table>\n",
       "<p>5 rows × 25 columns</p>\n",
       "</div>"
      ],
      "text/plain": [
       "   Customer_Age    Gender  Dependent_count  Education_Level  Marital_Status  \\\n",
       "0     -0.165406  0.839340         0.503368                3        0.839340   \n",
       "1      0.333570  0.839340         2.043199                2        0.839340   \n",
       "2      0.583058  0.919670         0.503368                2        0.919670   \n",
       "3     -0.789126  0.919670         1.273283                3        0.839340   \n",
       "4     -0.789126  0.946447         0.503368                5        0.946447   \n",
       "\n",
       "   Income_Category  Card_Category  Months_on_book  Total_Relationship_Count  \\\n",
       "0                2       0.839340        0.384548                  0.763943   \n",
       "1                4       0.919670        1.010652                  1.407306   \n",
       "2                3       0.946447        0.008887                  0.120579   \n",
       "3                4       0.959835       -0.241555                 -0.522785   \n",
       "4                2       0.967868       -1.869423                  0.763943   \n",
       "\n",
       "   Months_Inactive_12_mon  ...  Total_Trans_Amt  Total_Trans_Ct  \\\n",
       "0               -1.327136  ...        -0.959707       -0.973895   \n",
       "1               -1.327136  ...        -0.916433       -1.357340   \n",
       "2               -1.327136  ...        -0.740982       -1.911206   \n",
       "3                1.641478  ...        -0.951758       -1.911206   \n",
       "4               -1.327136  ...        -1.056263       -1.570365   \n",
       "\n",
       "   Total_Ct_Chng_Q4_Q1  Avg_Utilization_Ratio  gender_card  education_card  \\\n",
       "0             3.834003              -0.775882            4              11   \n",
       "1            12.608573              -0.616276            0               7   \n",
       "2             6.807864              -0.997155            4               7   \n",
       "3             6.807864               1.759686            0              11   \n",
       "4             7.509325              -0.997155            4              19   \n",
       "\n",
       "   maritalStatus_card  income_card  Amt_Per_Trans  Amt_Per_Person  \n",
       "0                   4            8      -1.339734       -0.766493  \n",
       "1                   8           16      -0.889782       -0.807122  \n",
       "2                   4           12       1.202039       -0.659944  \n",
       "3                  12           16      -0.153876       -0.796206  \n",
       "4                   4            8      -1.267772       -0.813529  \n",
       "\n",
       "[5 rows x 25 columns]"
      ]
     },
     "execution_count": 43,
     "metadata": {},
     "output_type": "execute_result"
    }
   ],
   "source": [
    "X.head()"
   ]
  },
  {
   "cell_type": "code",
   "execution_count": 44,
   "metadata": {},
   "outputs": [
    {
     "data": {
      "text/plain": [
       "0    1\n",
       "1    1\n",
       "2    1\n",
       "3    1\n",
       "4    1\n",
       "Name: Attrition_Flag, dtype: int32"
      ]
     },
     "execution_count": 44,
     "metadata": {},
     "output_type": "execute_result"
    }
   ],
   "source": [
    "y.head()"
   ]
  },
  {
   "cell_type": "markdown",
   "metadata": {},
   "source": [
    "### Naive Bayes"
   ]
  },
  {
   "cell_type": "code",
   "execution_count": 45,
   "metadata": {},
   "outputs": [
    {
     "data": {
      "text/plain": [
       "dict_keys(['priors', 'var_smoothing'])"
      ]
     },
     "execution_count": 45,
     "metadata": {},
     "output_type": "execute_result"
    }
   ],
   "source": [
    "# Which are the parameters?\n",
    "\n",
    "estimator = GaussianNB()\n",
    "estimator.get_params().keys()"
   ]
  },
  {
   "cell_type": "code",
   "execution_count": 46,
   "metadata": {},
   "outputs": [
    {
     "name": "stdout",
     "output_type": "stream",
     "text": [
      "Fitting 3 folds for each of 1 candidates, totalling 3 fits\n"
     ]
    },
    {
     "name": "stderr",
     "output_type": "stream",
     "text": [
      "[Parallel(n_jobs=-1)]: Using backend LokyBackend with 8 concurrent workers.\n"
     ]
    },
    {
     "name": "stdout",
     "output_type": "stream",
     "text": [
      "Accuracy on the training subset: 0.878\n",
      "Accuracy on the test subset: 0.872\n",
      "Wall time: 1.84 s\n"
     ]
    },
    {
     "name": "stderr",
     "output_type": "stream",
     "text": [
      "[Parallel(n_jobs=-1)]: Done   3 out of   3 | elapsed:    1.7s remaining:    0.0s\n",
      "[Parallel(n_jobs=-1)]: Done   3 out of   3 | elapsed:    1.7s finished\n"
     ]
    },
    {
     "data": {
      "text/plain": [
       "{'var_smoothing': 0.0004328761281083057, 'priors': None}"
      ]
     },
     "execution_count": 46,
     "metadata": {},
     "output_type": "execute_result"
    }
   ],
   "source": [
    "%%time\n",
    "\n",
    "priors = [None]\n",
    "var_smoothing = np.logspace(0,-9, num=100)\n",
    "\n",
    "# Create the random grid\n",
    "random_search = {'priors': priors,\n",
    "               'var_smoothing': var_smoothing}\n",
    "\n",
    "clf_gnb = GaussianNB()\n",
    "gnb = RandomizedSearchCV(estimator = clf_gnb, \n",
    "                           param_distributions = random_search, \n",
    "                           n_iter = 1, \n",
    "                           cv = 3, verbose= 5, random_state= 1, \n",
    "                           n_jobs = -1)\n",
    "\n",
    "gnb.fit(X_train,y_train)\n",
    "\n",
    "print('Accuracy on the training subset: {:.3f}'.format(gnb.score(X_train, y_train)))\n",
    "print('Accuracy on the test subset: {:.3f}'.format(gnb.score(X_test, y_test)))\n",
    "\n",
    "gnb.best_params_"
   ]
  },
  {
   "cell_type": "code",
   "execution_count": 47,
   "metadata": {},
   "outputs": [
    {
     "name": "stdout",
     "output_type": "stream",
     "text": [
      "              precision    recall  f1-score   support\n",
      "\n",
      "           0       0.57      0.66      0.61       309\n",
      "           1       0.94      0.91      0.92      1717\n",
      "\n",
      "    accuracy                           0.87      2026\n",
      "   macro avg       0.75      0.79      0.77      2026\n",
      "weighted avg       0.88      0.87      0.88      2026\n",
      "\n"
     ]
    }
   ],
   "source": [
    "from sklearn.metrics import classification_report\n",
    "\n",
    "y_pred_gnb = gnb.predict(X_test)\n",
    "y_proba_gnb = gnb.predict_proba(X_test)[:,1]\n",
    "\n",
    "print(classification_report(y_test, y_pred_gnb))"
   ]
  },
  {
   "cell_type": "code",
   "execution_count": 48,
   "metadata": {},
   "outputs": [
    {
     "data": {
      "text/plain": [
       "array([[ 204,  105],\n",
       "       [ 154, 1563]], dtype=int64)"
      ]
     },
     "execution_count": 48,
     "metadata": {},
     "output_type": "execute_result"
    }
   ],
   "source": [
    "confusion_matrix(y_test, y_pred_gnb)"
   ]
  },
  {
   "cell_type": "code",
   "execution_count": 49,
   "metadata": {},
   "outputs": [
    {
     "data": {
      "text/plain": [
       "<sklearn.metrics._plot.confusion_matrix.ConfusionMatrixDisplay at 0x1d9f4126e48>"
      ]
     },
     "execution_count": 49,
     "metadata": {},
     "output_type": "execute_result"
    },
    {
     "data": {
      "image/png": "[encoded data removed]",
      "text/plain": [
       "<Figure size 432x288 with 2 Axes>"
      ]
     },
     "metadata": {
      "needs_background": "light"
     },
     "output_type": "display_data"
    }
   ],
   "source": [
    "cm_gnb = confusion_matrix(y_test, y_pred_gnb, labels=gnb.classes_)\n",
    "confus_gnb_disp = ConfusionMatrixDisplay(confusion_matrix=cm_gnb,\n",
    "                                         display_labels=gnb.classes_)\n",
    "confus_gnb_disp.plot()"
   ]
  },
  {
   "cell_type": "code",
   "execution_count": 50,
   "metadata": {},
   "outputs": [],
   "source": [
    "naive_bayes_results = roc_curve(y_test, y_pred_gnb)"
   ]
  },
  {
   "cell_type": "code",
   "execution_count": 51,
   "metadata": {},
   "outputs": [
    {
     "data": {
      "text/plain": [
       "<sklearn.metrics._plot.roc_curve.RocCurveDisplay at 0x1d9eb6260c8>"
      ]
     },
     "execution_count": 51,
     "metadata": {},
     "output_type": "execute_result"
    },
    {
     "data": {
      "image/png": "[encoded data removed]",
      "text/plain": [
       "<Figure size 432x288 with 1 Axes>"
      ]
     },
     "metadata": {
      "needs_background": "light"
     },
     "output_type": "display_data"
    }
   ],
   "source": [
    "plot_roc_curve(gnb, X_test, y_test)"
   ]
  },
  {
   "cell_type": "markdown",
   "metadata": {},
   "source": [
    "### SVM"
   ]
  },
  {
   "cell_type": "code",
   "execution_count": 52,
   "metadata": {},
   "outputs": [
    {
     "data": {
      "text/plain": [
       "dict_keys(['C', 'break_ties', 'cache_size', 'class_weight', 'coef0', 'decision_function_shape', 'degree', 'gamma', 'kernel', 'max_iter', 'probability', 'random_state', 'shrinking', 'tol', 'verbose'])"
      ]
     },
     "execution_count": 52,
     "metadata": {},
     "output_type": "execute_result"
    }
   ],
   "source": [
    "# Which are the parameters?\n",
    "\n",
    "estimator = SVC()\n",
    "estimator.get_params().keys()"
   ]
  },
  {
   "cell_type": "code",
   "execution_count": 53,
   "metadata": {},
   "outputs": [
    {
     "data": {
      "text/plain": [
       "dict_keys(['base_estimator__C', 'base_estimator__break_ties', 'base_estimator__cache_size', 'base_estimator__class_weight', 'base_estimator__coef0', 'base_estimator__decision_function_shape', 'base_estimator__degree', 'base_estimator__gamma', 'base_estimator__kernel', 'base_estimator__max_iter', 'base_estimator__probability', 'base_estimator__random_state', 'base_estimator__shrinking', 'base_estimator__tol', 'base_estimator__verbose', 'base_estimator', 'cv', 'method'])"
      ]
     },
     "execution_count": 53,
     "metadata": {},
     "output_type": "execute_result"
    }
   ],
   "source": [
    "# Which are the parameters?\n",
    "\n",
    "estimator = CalibratedClassifierCV(base_estimator=SVC())\n",
    "estimator.get_params().keys()"
   ]
  },
  {
   "cell_type": "code",
   "execution_count": 54,
   "metadata": {},
   "outputs": [
    {
     "name": "stdout",
     "output_type": "stream",
     "text": [
      "Fitting 3 folds for each of 10 candidates, totalling 30 fits\n"
     ]
    },
    {
     "name": "stderr",
     "output_type": "stream",
     "text": [
      "[Parallel(n_jobs=-1)]: Using backend LokyBackend with 8 concurrent workers.\n",
      "[Parallel(n_jobs=-1)]: Done   2 tasks      | elapsed:    2.3s\n",
      "[Parallel(n_jobs=-1)]: Done  22 out of  30 | elapsed:   46.5s remaining:   16.8s\n",
      "[Parallel(n_jobs=-1)]: Done  30 out of  30 | elapsed:  8.5min finished\n"
     ]
    },
    {
     "name": "stdout",
     "output_type": "stream",
     "text": [
      "The accuracy on the training subset: 0.930\n",
      "The accuracy on the test subset: 0.927\n",
      "Wall time: 10min 4s\n"
     ]
    },
    {
     "data": {
      "text/plain": [
       "{'base_estimator__kernel': 'linear',\n",
       " 'base_estimator__gamma': 'scale',\n",
       " 'base_estimator__C': 50}"
      ]
     },
     "execution_count": 54,
     "metadata": {},
     "output_type": "execute_result"
    }
   ],
   "source": [
    "%%time\n",
    "\n",
    "base_estimator__C = np.arange(0, 55, 5)\n",
    "base_estimator__gamma = ['scale', 'auto', np.arange(0.1, 1.1, 0.1)] \n",
    "base_estimator__kernel = ['linear', 'poly', 'rbf', 'sigmoid']\n",
    "\n",
    "# Create the random grid\n",
    "random_search = {'base_estimator__C' : base_estimator__C,\n",
    "                 'base_estimator__gamma': base_estimator__gamma,\n",
    "                 'base_estimator__kernel': base_estimator__kernel}\n",
    "\n",
    "clf_svc = SVC()\n",
    "clf_svm = CalibratedClassifierCV(clf_svc)\n",
    "svm = RandomizedSearchCV(estimator = clf_svm, \n",
    "                           param_distributions = random_search, \n",
    "                           n_iter = 10, \n",
    "                           cv = 3, verbose= 5, random_state= 1, \n",
    "                           n_jobs = -1)\n",
    "\n",
    "#clf_svm = CalibratedClassifierCV(svm)\n",
    "svm.fit(X_train, y_train)\n",
    "\n",
    "print('The accuracy on the training subset: {:.3f}'.format(svm.score(X_train, y_train)))\n",
    "print('The accuracy on the test subset: {:.3f}'.format(svm.score(X_test, y_test)))\n",
    "\n",
    "svm.best_params_"
   ]
  },
  {
   "cell_type": "code",
   "execution_count": 55,
   "metadata": {},
   "outputs": [
    {
     "name": "stdout",
     "output_type": "stream",
     "text": [
      "              precision    recall  f1-score   support\n",
      "\n",
      "           0       0.80      0.71      0.75       309\n",
      "           1       0.95      0.97      0.96      1717\n",
      "\n",
      "    accuracy                           0.93      2026\n",
      "   macro avg       0.87      0.84      0.85      2026\n",
      "weighted avg       0.92      0.93      0.93      2026\n",
      "\n"
     ]
    }
   ],
   "source": [
    "y_pred_svm = svm.predict(X_test)\n",
    "y_proba_svm = svm.predict_proba(X_test)[:,1]\n",
    "\n",
    "print(classification_report(y_test, y_pred_svm))"
   ]
  },
  {
   "cell_type": "code",
   "execution_count": 56,
   "metadata": {},
   "outputs": [
    {
     "data": {
      "text/plain": [
       "array([[ 218,   91],\n",
       "       [  56, 1661]], dtype=int64)"
      ]
     },
     "execution_count": 56,
     "metadata": {},
     "output_type": "execute_result"
    }
   ],
   "source": [
    "confusion_matrix(y_test, y_pred_svm)"
   ]
  },
  {
   "cell_type": "code",
   "execution_count": 57,
   "metadata": {},
   "outputs": [
    {
     "data": {
      "text/plain": [
       "<sklearn.metrics._plot.confusion_matrix.ConfusionMatrixDisplay at 0x1d9f45ba548>"
      ]
     },
     "execution_count": 57,
     "metadata": {},
     "output_type": "execute_result"
    },
    {
     "data": {
      "image/png": "[encoded data removed]",
      "text/plain": [
       "<Figure size 432x288 with 2 Axes>"
      ]
     },
     "metadata": {
      "needs_background": "light"
     },
     "output_type": "display_data"
    }
   ],
   "source": [
    "cm_svm = confusion_matrix(y_test, y_pred_svm, labels=svm.classes_)\n",
    "confus_svm_disp = ConfusionMatrixDisplay(confusion_matrix=cm_svm,\n",
    "                                         display_labels=svm.classes_)\n",
    "confus_svm_disp.plot() "
   ]
  },
  {
   "cell_type": "code",
   "execution_count": 58,
   "metadata": {},
   "outputs": [],
   "source": [
    "svm_results = roc_curve(y_test, y_pred_svm)"
   ]
  },
  {
   "cell_type": "code",
   "execution_count": 59,
   "metadata": {},
   "outputs": [
    {
     "data": {
      "text/plain": [
       "<sklearn.metrics._plot.roc_curve.RocCurveDisplay at 0x1d9f45aeac8>"
      ]
     },
     "execution_count": 59,
     "metadata": {},
     "output_type": "execute_result"
    },
    {
     "data": {
      "image/png": "[encoded data removed]",
      "text/plain": [
       "<Figure size 432x288 with 1 Axes>"
      ]
     },
     "metadata": {
      "needs_background": "light"
     },
     "output_type": "display_data"
    }
   ],
   "source": [
    "plot_roc_curve(svm, X_test, y_test)"
   ]
  },
  {
   "cell_type": "markdown",
   "metadata": {},
   "source": [
    "### Decision Tree"
   ]
  },
  {
   "cell_type": "code",
   "execution_count": 60,
   "metadata": {},
   "outputs": [
    {
     "data": {
      "text/plain": [
       "dict_keys(['ccp_alpha', 'class_weight', 'criterion', 'max_depth', 'max_features', 'max_leaf_nodes', 'min_impurity_decrease', 'min_impurity_split', 'min_samples_leaf', 'min_samples_split', 'min_weight_fraction_leaf', 'presort', 'random_state', 'splitter'])"
      ]
     },
     "execution_count": 60,
     "metadata": {},
     "output_type": "execute_result"
    }
   ],
   "source": [
    "# Which are the parameters?\n",
    "\n",
    "estimator = DecisionTreeClassifier()\n",
    "estimator.get_params().keys()"
   ]
  },
  {
   "cell_type": "code",
   "execution_count": 61,
   "metadata": {},
   "outputs": [
    {
     "name": "stdout",
     "output_type": "stream",
     "text": [
      "Fitting 3 folds for each of 150 candidates, totalling 450 fits\n"
     ]
    },
    {
     "name": "stderr",
     "output_type": "stream",
     "text": [
      "[Parallel(n_jobs=-1)]: Using backend LokyBackend with 8 concurrent workers.\n",
      "[Parallel(n_jobs=-1)]: Done   2 tasks      | elapsed:    0.2s\n",
      "[Parallel(n_jobs=-1)]: Done 103 tasks      | elapsed:    2.4s\n"
     ]
    },
    {
     "name": "stdout",
     "output_type": "stream",
     "text": [
      "Accuracy on the training subset: 0.988\n",
      "Accuracy on the test subset:\n",
      "Wall time: 4.39 s\n"
     ]
    },
    {
     "name": "stderr",
     "output_type": "stream",
     "text": [
      "[Parallel(n_jobs=-1)]: Done 450 out of 450 | elapsed:    4.2s finished\n"
     ]
    },
    {
     "data": {
      "text/plain": [
       "{'min_samples_split': 6,\n",
       " 'min_samples_leaf': 5,\n",
       " 'max_leaf_nodes': None,\n",
       " 'max_features': None,\n",
       " 'max_depth': None,\n",
       " 'criterion': 'entropy',\n",
       " 'class_weight': None}"
      ]
     },
     "execution_count": 61,
     "metadata": {},
     "output_type": "execute_result"
    }
   ],
   "source": [
    "%%time\n",
    "\n",
    "criterion = ['gini', 'entropy']\n",
    "max_depth = [np.arange(2, 14, 2), None]\n",
    "max_features = ['auto', 'sqrt', 'log2', np.arange(1, 10, 1), None] \n",
    "min_samples_leaf = np.arange(1, 10, 1)\n",
    "min_samples_split = np.arange(2, 22, 2)\n",
    "max_leaf_nodes = [np.arange(2, 22, 2), None]\n",
    "class_weight = ['balanced', None]\n",
    "\n",
    "\n",
    "# Create the random grid\n",
    "random_search = {'criterion' : criterion,\n",
    "                 'max_depth' : max_depth,\n",
    "                 'max_features' : max_features,\n",
    "                 'min_samples_leaf' : min_samples_leaf,\n",
    "                 'min_samples_split' : min_samples_split,\n",
    "                 'max_leaf_nodes' : max_leaf_nodes,\n",
    "                 'class_weight' : class_weight}\n",
    "\n",
    "clf_tree = DecisionTreeClassifier()\n",
    "tree = RandomizedSearchCV(estimator = clf_tree, \n",
    "                           param_distributions = random_search, \n",
    "                           n_iter = 150, \n",
    "                           cv = 3, verbose= 5, random_state= 1, \n",
    "                           n_jobs = -1)\n",
    "\n",
    "tree.fit(X_train, y_train)\n",
    "\n",
    "print('Accuracy on the training subset: {:.3f}'.format(tree.score(X_train, y_train)))\n",
    "print('Accuracy on the test subset:'.format(tree.score(X_test, y_test)))\n",
    "\n",
    "tree.best_params_"
   ]
  },
  {
   "cell_type": "code",
   "execution_count": 62,
   "metadata": {},
   "outputs": [
    {
     "name": "stdout",
     "output_type": "stream",
     "text": [
      "              precision    recall  f1-score   support\n",
      "\n",
      "           0       0.90      0.86      0.88       309\n",
      "           1       0.98      0.98      0.98      1717\n",
      "\n",
      "    accuracy                           0.96      2026\n",
      "   macro avg       0.94      0.92      0.93      2026\n",
      "weighted avg       0.96      0.96      0.96      2026\n",
      "\n"
     ]
    }
   ],
   "source": [
    "y_pred_tree = tree.predict(X_test)\n",
    "y_proba_tree = tree.predict_proba(X_test)[:,1]\n",
    "\n",
    "print(classification_report(y_test, y_pred_tree))"
   ]
  },
  {
   "cell_type": "code",
   "execution_count": 63,
   "metadata": {},
   "outputs": [
    {
     "data": {
      "text/plain": [
       "array([[ 266,   43],\n",
       "       [  28, 1689]], dtype=int64)"
      ]
     },
     "execution_count": 63,
     "metadata": {},
     "output_type": "execute_result"
    }
   ],
   "source": [
    "confusion_matrix(y_test, y_pred_tree)"
   ]
  },
  {
   "cell_type": "code",
   "execution_count": 64,
   "metadata": {},
   "outputs": [
    {
     "data": {
      "text/plain": [
       "<sklearn.metrics._plot.confusion_matrix.ConfusionMatrixDisplay at 0x1d9f46cc408>"
      ]
     },
     "execution_count": 64,
     "metadata": {},
     "output_type": "execute_result"
    },
    {
     "data": {
      "image/png": "[encoded data removed]",
      "text/plain": [
       "<Figure size 432x288 with 2 Axes>"
      ]
     },
     "metadata": {
      "needs_background": "light"
     },
     "output_type": "display_data"
    }
   ],
   "source": [
    "cm_tree = confusion_matrix(y_test, y_pred_tree, labels=tree.classes_)\n",
    "confus_tree_disp = ConfusionMatrixDisplay(confusion_matrix=cm_tree,\n",
    "                                          display_labels=tree.classes_)\n",
    "confus_tree_disp.plot() "
   ]
  },
  {
   "cell_type": "code",
   "execution_count": 65,
   "metadata": {},
   "outputs": [],
   "source": [
    "decision_tree_results = roc_curve(y_test, y_pred_tree)"
   ]
  },
  {
   "cell_type": "code",
   "execution_count": 66,
   "metadata": {},
   "outputs": [
    {
     "data": {
      "text/plain": [
       "<sklearn.metrics._plot.roc_curve.RocCurveDisplay at 0x1d9f4757048>"
      ]
     },
     "execution_count": 66,
     "metadata": {},
     "output_type": "execute_result"
    },
    {
     "data": {
      "image/png": "[encoded data removed]",
      "text/plain": [
       "<Figure size 432x288 with 1 Axes>"
      ]
     },
     "metadata": {
      "needs_background": "light"
     },
     "output_type": "display_data"
    }
   ],
   "source": [
    "plot_roc_curve(tree, X_test, y_test)"
   ]
  },
  {
   "cell_type": "markdown",
   "metadata": {},
   "source": [
    "### Random Forest"
   ]
  },
  {
   "cell_type": "code",
   "execution_count": 67,
   "metadata": {},
   "outputs": [
    {
     "data": {
      "text/plain": [
       "dict_keys(['bootstrap', 'ccp_alpha', 'class_weight', 'criterion', 'max_depth', 'max_features', 'max_leaf_nodes', 'max_samples', 'min_impurity_decrease', 'min_impurity_split', 'min_samples_leaf', 'min_samples_split', 'min_weight_fraction_leaf', 'n_estimators', 'n_jobs', 'oob_score', 'random_state', 'verbose', 'warm_start'])"
      ]
     },
     "execution_count": 67,
     "metadata": {},
     "output_type": "execute_result"
    }
   ],
   "source": [
    "# Which are the parameters?\n",
    "\n",
    "estimator = RandomForestClassifier()\n",
    "estimator.get_params().keys()"
   ]
  },
  {
   "cell_type": "code",
   "execution_count": 68,
   "metadata": {
    "scrolled": true
   },
   "outputs": [
    {
     "name": "stdout",
     "output_type": "stream",
     "text": [
      "Fitting 3 folds for each of 150 candidates, totalling 450 fits\n"
     ]
    },
    {
     "name": "stderr",
     "output_type": "stream",
     "text": [
      "[Parallel(n_jobs=-1)]: Using backend LokyBackend with 8 concurrent workers.\n",
      "[Parallel(n_jobs=-1)]: Done   2 tasks      | elapsed:    0.0s\n",
      "[Parallel(n_jobs=-1)]: Done 164 tasks      | elapsed:   26.9s\n",
      "[Parallel(n_jobs=-1)]: Done 259 tasks      | elapsed:   38.5s\n",
      "[Parallel(n_jobs=-1)]: Done 390 tasks      | elapsed:   56.8s\n",
      "[Parallel(n_jobs=-1)]: Done 450 out of 450 | elapsed:  1.6min finished\n"
     ]
    },
    {
     "name": "stdout",
     "output_type": "stream",
     "text": [
      "The accuracy on the training subset: 1.000\n",
      "The accuracy on the test subset: 0.973\n",
      "Wall time: 1min 41s\n"
     ]
    },
    {
     "data": {
      "text/plain": [
       "{'n_estimators': 250,\n",
       " 'min_samples_leaf': 1,\n",
       " 'max_leaf_nodes': None,\n",
       " 'max_features': 'log2',\n",
       " 'max_depth': None,\n",
       " 'criterion': 'entropy'}"
      ]
     },
     "execution_count": 68,
     "metadata": {},
     "output_type": "execute_result"
    }
   ],
   "source": [
    "%%time\n",
    "\n",
    "max_depth = [np.arange(2, 14, 2), None]\n",
    "n_estimators = np.arange(0, 500, 50)\n",
    "min_samples_leaf = np.arange(1, 10, 1)\n",
    "max_leaf_nodes = [np.arange(0, 250, 50), None]\n",
    "criterion = ['gini', 'entropy']\n",
    "max_features = ['auto', 'sqrt', 'log2', np.arange(0, 1, 0.1), None] \n",
    "# random_state = [0]\n",
    "\n",
    "# Create the random grid\n",
    "random_search = {\n",
    "                 'max_depth' : max_depth,\n",
    "                 'n_estimators' : n_estimators,\n",
    "                 'min_samples_leaf' : min_samples_leaf,\n",
    "                 'max_leaf_nodes' : max_leaf_nodes,\n",
    "                 'criterion' : criterion,\n",
    "                 'max_features' : max_features}\n",
    "\n",
    "clf_rf_tree = RandomForestClassifier()\n",
    "rf_tree = RandomizedSearchCV(estimator = clf_rf_tree, \n",
    "                           param_distributions = random_search, \n",
    "                           n_iter = 150, \n",
    "                           cv = 3, verbose= 5, random_state= 1, \n",
    "                           n_jobs = -1)\n",
    "\n",
    "rf_tree.fit(X_train, y_train)\n",
    "\n",
    "print('The accuracy on the training subset: {:.3f}'.format(rf_tree.score(X_train, y_train)))\n",
    "print('The accuracy on the test subset: {:.3f}'.format(rf_tree.score(X_test, y_test)))\n",
    "\n",
    "rf_tree.best_params_"
   ]
  },
  {
   "cell_type": "code",
   "execution_count": 69,
   "metadata": {},
   "outputs": [
    {
     "name": "stdout",
     "output_type": "stream",
     "text": [
      "              precision    recall  f1-score   support\n",
      "\n",
      "           0       0.97      0.85      0.91       309\n",
      "           1       0.97      0.99      0.98      1717\n",
      "\n",
      "    accuracy                           0.97      2026\n",
      "   macro avg       0.97      0.92      0.95      2026\n",
      "weighted avg       0.97      0.97      0.97      2026\n",
      "\n"
     ]
    }
   ],
   "source": [
    "y_pred_rf_tree = rf_tree.predict(X_test)\n",
    "y_proba_rf_tree = rf_tree.predict_proba(X_test)[:,1]\n",
    "\n",
    "print(classification_report(y_test, y_pred_rf_tree))"
   ]
  },
  {
   "cell_type": "markdown",
   "metadata": {},
   "source": []
  },
  {
   "cell_type": "code",
   "execution_count": 70,
   "metadata": {},
   "outputs": [
    {
     "data": {
      "text/plain": [
       "array([[ 264,   45],\n",
       "       [   9, 1708]], dtype=int64)"
      ]
     },
     "execution_count": 70,
     "metadata": {},
     "output_type": "execute_result"
    }
   ],
   "source": [
    "confusion_matrix(y_test, y_pred_rf_tree)"
   ]
  },
  {
   "cell_type": "code",
   "execution_count": 71,
   "metadata": {},
   "outputs": [
    {
     "data": {
      "text/plain": [
       "<sklearn.metrics._plot.confusion_matrix.ConfusionMatrixDisplay at 0x1d9f46e5e48>"
      ]
     },
     "execution_count": 71,
     "metadata": {},
     "output_type": "execute_result"
    },
    {
     "data": {
      "image/png": "[encoded data removed]",
      "text/plain": [
       "<Figure size 432x288 with 2 Axes>"
      ]
     },
     "metadata": {
      "needs_background": "light"
     },
     "output_type": "display_data"
    }
   ],
   "source": [
    "cm_rf_tree = confusion_matrix(y_test, y_pred_rf_tree, labels=rf_tree.classes_)\n",
    "confus_rf_tree_disp = ConfusionMatrixDisplay(confusion_matrix=cm_rf_tree,\n",
    "                                             display_labels=rf_tree.classes_)\n",
    "confus_rf_tree_disp.plot()"
   ]
  },
  {
   "cell_type": "code",
   "execution_count": 72,
   "metadata": {},
   "outputs": [],
   "source": [
    "random_forest_results = roc_curve(y_test, y_pred_rf_tree)"
   ]
  },
  {
   "cell_type": "code",
   "execution_count": 73,
   "metadata": {},
   "outputs": [
    {
     "data": {
      "text/plain": [
       "<sklearn.metrics._plot.roc_curve.RocCurveDisplay at 0x1d9f46e8a88>"
      ]
     },
     "execution_count": 73,
     "metadata": {},
     "output_type": "execute_result"
    },
    {
     "data": {
      "image/png": "[encoded data removed]",
      "text/plain": [
       "<Figure size 432x288 with 1 Axes>"
      ]
     },
     "metadata": {
      "needs_background": "light"
     },
     "output_type": "display_data"
    }
   ],
   "source": [
    "plot_roc_curve(rf_tree, X_test, y_test)"
   ]
  },
  {
   "cell_type": "markdown",
   "metadata": {},
   "source": [
    "### KNN"
   ]
  },
  {
   "cell_type": "code",
   "execution_count": 74,
   "metadata": {},
   "outputs": [
    {
     "data": {
      "text/plain": [
       "dict_keys(['algorithm', 'leaf_size', 'metric', 'metric_params', 'n_jobs', 'n_neighbors', 'p', 'weights'])"
      ]
     },
     "execution_count": 74,
     "metadata": {},
     "output_type": "execute_result"
    }
   ],
   "source": [
    "# Which are the parameters?\n",
    "\n",
    "estimator = KNeighborsClassifier()\n",
    "estimator.get_params().keys()"
   ]
  },
  {
   "cell_type": "code",
   "execution_count": 75,
   "metadata": {},
   "outputs": [
    {
     "name": "stdout",
     "output_type": "stream",
     "text": [
      "Fitting 3 folds for each of 150 candidates, totalling 450 fits\n"
     ]
    },
    {
     "name": "stderr",
     "output_type": "stream",
     "text": [
      "[Parallel(n_jobs=-1)]: Using backend LokyBackend with 8 concurrent workers.\n",
      "[Parallel(n_jobs=-1)]: Done   2 tasks      | elapsed:    0.7s\n",
      "[Parallel(n_jobs=-1)]: Done  56 tasks      | elapsed:    9.6s\n",
      "[Parallel(n_jobs=-1)]: Done 146 tasks      | elapsed:   58.4s\n",
      "[Parallel(n_jobs=-1)]: Done 272 tasks      | elapsed:  1.4min\n",
      "[Parallel(n_jobs=-1)]: Done 434 tasks      | elapsed:  1.9min\n",
      "[Parallel(n_jobs=-1)]: Done 450 out of 450 | elapsed:  1.9min finished\n"
     ]
    },
    {
     "name": "stdout",
     "output_type": "stream",
     "text": [
      "Accuracy on training data: 0.913\n",
      "Accuracy on test data: 0.889\n",
      "Wall time: 1min 57s\n"
     ]
    },
    {
     "data": {
      "text/plain": [
       "{'weights': 'uniform',\n",
       " 'p': 6,\n",
       " 'n_neighbors': 8,\n",
       " 'metric': 'manhattan',\n",
       " 'leaf_size': 20,\n",
       " 'algorithm': 'auto'}"
      ]
     },
     "execution_count": 75,
     "metadata": {},
     "output_type": "execute_result"
    }
   ],
   "source": [
    "%%time\n",
    "\n",
    "algorithm = ['auto', 'ball_tree', 'kd_tree', 'brute']\n",
    "leaf_size = np.arange(10, 60, 10)\n",
    "metric = ['euclidean','manhattan','chebyshev','minkowski']\n",
    "# n_jobs = np.arange(1, 4, 1)\n",
    "n_neighbors = np.arange(1, 11, 1)\n",
    "p = np.arange(1, 11, 1)\n",
    "weights = ['uniform', 'distance']\n",
    "\n",
    "# Create the random grid\n",
    "random_search = {'algorithm' : algorithm,\n",
    "                 'leaf_size' : leaf_size,\n",
    "                 'metric' : metric,\n",
    "                 # 'n_jobs' : n_jobs,\n",
    "                 'n_neighbors' : n_neighbors,\n",
    "                 'p' : p,\n",
    "                 'weights' : weights}\n",
    "\n",
    "clf_knn = KNeighborsClassifier()\n",
    "knn = RandomizedSearchCV(estimator = clf_knn, \n",
    "                           param_distributions = random_search, \n",
    "                           n_iter = 150, \n",
    "                           cv = 3, verbose= 5, random_state= 1, \n",
    "                           n_jobs = -1)\n",
    "\n",
    "knn.fit(X_train, y_train)\n",
    "\n",
    "print(\"Accuracy on training data: {:.3f}\".format(knn.score(X_train,y_train)))\n",
    "print(\"Accuracy on test data: {:.3f}\".format(knn.score(X_test,y_test)))\n",
    "\n",
    "knn.best_params_"
   ]
  },
  {
   "cell_type": "code",
   "execution_count": 76,
   "metadata": {},
   "outputs": [
    {
     "name": "stdout",
     "output_type": "stream",
     "text": [
      "              precision    recall  f1-score   support\n",
      "\n",
      "           0       0.75      0.40      0.53       309\n",
      "           1       0.90      0.98      0.94      1717\n",
      "\n",
      "    accuracy                           0.89      2026\n",
      "   macro avg       0.83      0.69      0.73      2026\n",
      "weighted avg       0.88      0.89      0.87      2026\n",
      "\n"
     ]
    }
   ],
   "source": [
    "y_pred_knn = knn.predict(X_test)\n",
    "y_proba_knn = knn.predict_proba(X_test)[:,1]\n",
    "\n",
    "print(classification_report(y_test, y_pred_knn))"
   ]
  },
  {
   "cell_type": "code",
   "execution_count": 77,
   "metadata": {},
   "outputs": [
    {
     "data": {
      "text/plain": [
       "array([[ 125,  184],\n",
       "       [  41, 1676]], dtype=int64)"
      ]
     },
     "execution_count": 77,
     "metadata": {},
     "output_type": "execute_result"
    }
   ],
   "source": [
    "confusion_matrix(y_test, y_pred_knn)"
   ]
  },
  {
   "cell_type": "code",
   "execution_count": 78,
   "metadata": {},
   "outputs": [
    {
     "data": {
      "text/plain": [
       "<sklearn.metrics._plot.confusion_matrix.ConfusionMatrixDisplay at 0x1d9fa827a08>"
      ]
     },
     "execution_count": 78,
     "metadata": {},
     "output_type": "execute_result"
    },
    {
     "data": {
      "image/png": "[encoded data removed]",
      "text/plain": [
       "<Figure size 432x288 with 2 Axes>"
      ]
     },
     "metadata": {
      "needs_background": "light"
     },
     "output_type": "display_data"
    }
   ],
   "source": [
    "cm_knn = confusion_matrix(y_test, y_pred_knn, labels=knn.classes_)\n",
    "confus_knn_disp = ConfusionMatrixDisplay(confusion_matrix=cm_knn,\n",
    "                                         display_labels=knn.classes_)\n",
    "confus_knn_disp.plot()"
   ]
  },
  {
   "cell_type": "code",
   "execution_count": 79,
   "metadata": {},
   "outputs": [],
   "source": [
    "knn_results = roc_curve(y_test, y_pred_knn)"
   ]
  },
  {
   "cell_type": "code",
   "execution_count": 80,
   "metadata": {},
   "outputs": [
    {
     "data": {
      "text/plain": [
       "<sklearn.metrics._plot.roc_curve.RocCurveDisplay at 0x1d9fa8c2988>"
      ]
     },
     "execution_count": 80,
     "metadata": {},
     "output_type": "execute_result"
    },
    {
     "data": {
      "image/png": "[encoded data removed]",
      "text/plain": [
       "<Figure size 432x288 with 1 Axes>"
      ]
     },
     "metadata": {
      "needs_background": "light"
     },
     "output_type": "display_data"
    }
   ],
   "source": [
    "plot_roc_curve(knn, X_test, y_test)"
   ]
  },
  {
   "cell_type": "markdown",
   "metadata": {},
   "source": [
    "## Gradient Boosting Tree"
   ]
  },
  {
   "cell_type": "code",
   "execution_count": 81,
   "metadata": {},
   "outputs": [
    {
     "data": {
      "text/plain": [
       "dict_keys(['ccp_alpha', 'criterion', 'init', 'learning_rate', 'loss', 'max_depth', 'max_features', 'max_leaf_nodes', 'min_impurity_decrease', 'min_impurity_split', 'min_samples_leaf', 'min_samples_split', 'min_weight_fraction_leaf', 'n_estimators', 'n_iter_no_change', 'presort', 'random_state', 'subsample', 'tol', 'validation_fraction', 'verbose', 'warm_start'])"
      ]
     },
     "execution_count": 81,
     "metadata": {},
     "output_type": "execute_result"
    }
   ],
   "source": [
    "# Which are the parameters?\n",
    "\n",
    "estimator = GradientBoostingClassifier()\n",
    "estimator.get_params().keys()"
   ]
  },
  {
   "cell_type": "code",
   "execution_count": 82,
   "metadata": {},
   "outputs": [
    {
     "name": "stdout",
     "output_type": "stream",
     "text": [
      "Fitting 3 folds for each of 150 candidates, totalling 450 fits\n"
     ]
    },
    {
     "name": "stderr",
     "output_type": "stream",
     "text": [
      "[Parallel(n_jobs=-1)]: Using backend LokyBackend with 8 concurrent workers.\n",
      "[Parallel(n_jobs=-1)]: Done   2 tasks      | elapsed:    0.0s\n",
      "[Parallel(n_jobs=-1)]: Done 344 out of 450 | elapsed:    1.2s remaining:    0.3s\n"
     ]
    },
    {
     "name": "stdout",
     "output_type": "stream",
     "text": [
      "The accuracy on the training subset: 0.837\n",
      "The accuracy on the test subset: 0.847\n",
      "Wall time: 31.7 s\n"
     ]
    },
    {
     "name": "stderr",
     "output_type": "stream",
     "text": [
      "[Parallel(n_jobs=-1)]: Done 450 out of 450 | elapsed:   31.5s finished\n"
     ]
    },
    {
     "data": {
      "text/plain": [
       "{'subsample': 0.30000000000000004,\n",
       " 'n_estimators': 100,\n",
       " 'min_samples_split': 0.5,\n",
       " 'min_samples_leaf': 3,\n",
       " 'max_leaf_nodes': None,\n",
       " 'max_features': 'auto',\n",
       " 'max_depth': None,\n",
       " 'learning_rate': 0.0001,\n",
       " 'criterion': 'mse'}"
      ]
     },
     "execution_count": 82,
     "metadata": {},
     "output_type": "execute_result"
    }
   ],
   "source": [
    "%%time\n",
    "\n",
    "max_depth = [np.arange(2, 14, 2), None]\n",
    "n_estimators = np.arange(0, 250, 50)\n",
    "min_samples_leaf = np.arange(1, 10, 1)\n",
    "min_samples_split = np.arange(0.5, 3.5, 0.5)\n",
    "max_leaf_nodes = [np.arange(0, 250, 50), None]\n",
    "criterion = ['friedman_mse', 'mse', 'mae']\n",
    "max_features = ['auto', 'sqrt', 'log2', np.arange(0, 1, 0.1), None] \n",
    "# random_state = [0]\n",
    "learning_rate = [0.0001, 0.001, 0.1, 1]\n",
    "subsample = np.arange(0.1, 1.1, 0.1)\n",
    "\n",
    "# Create the random grid\n",
    "random_search = {'max_depth' : max_depth,\n",
    "                 'n_estimators' : n_estimators,\n",
    "                 'min_samples_leaf' : min_samples_leaf,\n",
    "                 'min_samples_split' : min_samples_split,\n",
    "                 'max_leaf_nodes' : max_leaf_nodes,\n",
    "                 'criterion' : criterion,\n",
    "                 'max_features' : max_features,\n",
    "                 # 'random_state' : random_state,\n",
    "                 'learning_rate' : learning_rate,\n",
    "                 'subsample' : subsample}\n",
    "\n",
    "clf_gb_tree = GradientBoostingClassifier()\n",
    "gb_tree = RandomizedSearchCV(estimator = clf_gb_tree, \n",
    "                           param_distributions = random_search, \n",
    "                           n_iter = 150, \n",
    "                           cv = 3, verbose= 5, random_state= 1, \n",
    "                           n_jobs = -1)\n",
    "\n",
    "gb_tree.fit(X_train, y_train)\n",
    "\n",
    "print('The accuracy on the training subset: {:.3f}'.format(gb_tree.score(X_train, y_train)))\n",
    "print('The accuracy on the test subset: {:.3f}'.format(gb_tree.score(X_test, y_test)))\n",
    "\n",
    "gb_tree.best_params_"
   ]
  },
  {
   "cell_type": "code",
   "execution_count": 83,
   "metadata": {},
   "outputs": [
    {
     "name": "stdout",
     "output_type": "stream",
     "text": [
      "              precision    recall  f1-score   support\n",
      "\n",
      "           0       0.00      0.00      0.00       309\n",
      "           1       0.85      1.00      0.92      1717\n",
      "\n",
      "    accuracy                           0.85      2026\n",
      "   macro avg       0.42      0.50      0.46      2026\n",
      "weighted avg       0.72      0.85      0.78      2026\n",
      "\n"
     ]
    }
   ],
   "source": [
    "y_pred_gb_tree = gb_tree.predict(X_test)\n",
    "y_proba_gb_tree = gb_tree.predict_proba(X_test)[:,1]\n",
    "\n",
    "print(classification_report(y_test, y_pred_gb_tree))"
   ]
  },
  {
   "cell_type": "code",
   "execution_count": 84,
   "metadata": {},
   "outputs": [
    {
     "data": {
      "text/plain": [
       "array([[   0,  309],\n",
       "       [   0, 1717]], dtype=int64)"
      ]
     },
     "execution_count": 84,
     "metadata": {},
     "output_type": "execute_result"
    }
   ],
   "source": [
    "confusion_matrix(y_test, y_pred_gb_tree)"
   ]
  },
  {
   "cell_type": "code",
   "execution_count": 85,
   "metadata": {
    "scrolled": true
   },
   "outputs": [
    {
     "data": {
      "text/plain": [
       "<sklearn.metrics._plot.confusion_matrix.ConfusionMatrixDisplay at 0x1d9fac8b908>"
      ]
     },
     "execution_count": 85,
     "metadata": {},
     "output_type": "execute_result"
    },
    {
     "data": {
      "image/png": "[encoded data removed]",
      "text/plain": [
       "<Figure size 432x288 with 2 Axes>"
      ]
     },
     "metadata": {
      "needs_background": "light"
     },
     "output_type": "display_data"
    }
   ],
   "source": [
    "cm_gb_tree = confusion_matrix(y_test, y_pred_gb_tree, labels=gb_tree.classes_)\n",
    "confus_gb_tree_disp = ConfusionMatrixDisplay(confusion_matrix=cm_gb_tree,\n",
    "                                         display_labels=gb_tree.classes_)\n",
    "confus_gb_tree_disp.plot()"
   ]
  },
  {
   "cell_type": "code",
   "execution_count": 86,
   "metadata": {},
   "outputs": [],
   "source": [
    "gb_tree_results = roc_curve(y_test, y_pred_gb_tree)"
   ]
  },
  {
   "cell_type": "code",
   "execution_count": 87,
   "metadata": {},
   "outputs": [
    {
     "data": {
      "text/plain": [
       "<sklearn.metrics._plot.roc_curve.RocCurveDisplay at 0x1d9fad0b148>"
      ]
     },
     "execution_count": 87,
     "metadata": {},
     "output_type": "execute_result"
    },
    {
     "data": {
      "image/png": "[encoded data removed]",
      "text/plain": [
       "<Figure size 432x288 with 1 Axes>"
      ]
     },
     "metadata": {
      "needs_background": "light"
     },
     "output_type": "display_data"
    }
   ],
   "source": [
    "plot_roc_curve(gb_tree, X_test, y_test)"
   ]
  },
  {
   "cell_type": "markdown",
   "metadata": {},
   "source": [
    "## XGBoost"
   ]
  },
  {
   "cell_type": "code",
   "execution_count": 88,
   "metadata": {},
   "outputs": [],
   "source": [
    "# !pip install xgboost"
   ]
  },
  {
   "cell_type": "code",
   "execution_count": 89,
   "metadata": {},
   "outputs": [
    {
     "data": {
      "text/plain": [
       "dict_keys(['objective', 'base_score', 'booster', 'colsample_bylevel', 'colsample_bynode', 'colsample_bytree', 'gamma', 'gpu_id', 'importance_type', 'interaction_constraints', 'learning_rate', 'max_delta_step', 'max_depth', 'min_child_weight', 'missing', 'monotone_constraints', 'n_estimators', 'n_jobs', 'num_parallel_tree', 'random_state', 'reg_alpha', 'reg_lambda', 'scale_pos_weight', 'subsample', 'tree_method', 'validate_parameters', 'verbosity'])"
      ]
     },
     "execution_count": 89,
     "metadata": {},
     "output_type": "execute_result"
    }
   ],
   "source": [
    "# Which are the parameters?\n",
    "\n",
    "estimator = XGBClassifier()\n",
    "estimator.get_params().keys()"
   ]
  },
  {
   "cell_type": "code",
   "execution_count": 90,
   "metadata": {},
   "outputs": [
    {
     "name": "stdout",
     "output_type": "stream",
     "text": [
      "Fitting 3 folds for each of 150 candidates, totalling 450 fits\n"
     ]
    },
    {
     "name": "stderr",
     "output_type": "stream",
     "text": [
      "[Parallel(n_jobs=-1)]: Using backend LokyBackend with 8 concurrent workers.\n",
      "[Parallel(n_jobs=-1)]: Done   2 tasks      | elapsed:    1.8s\n",
      "[Parallel(n_jobs=-1)]: Done  56 tasks      | elapsed:   17.8s\n",
      "[Parallel(n_jobs=-1)]: Done 146 tasks      | elapsed:   42.0s\n",
      "[Parallel(n_jobs=-1)]: Done 272 tasks      | elapsed:  1.3min\n",
      "[Parallel(n_jobs=-1)]: Done 434 tasks      | elapsed:  1.9min\n",
      "[Parallel(n_jobs=-1)]: Done 450 out of 450 | elapsed:  1.9min finished\n"
     ]
    },
    {
     "name": "stdout",
     "output_type": "stream",
     "text": [
      "[16:44:07] INFO: C:\\Users\\Administrator\\workspace\\xgboost-win64_release_1.2.0\\src\\tree\\updater_prune.cc:101: tree pruning end, 80 extra nodes, 8 pruned nodes, max_depth=6\n",
      "[16:44:07] INFO: C:\\Users\\Administrator\\workspace\\xgboost-win64_release_1.2.0\\src\\tree\\updater_prune.cc:101: tree pruning end, 40 extra nodes, 2 pruned nodes, max_depth=6\n",
      "[16:44:07] INFO: C:\\Users\\Administrator\\workspace\\xgboost-win64_release_1.2.0\\src\\tree\\updater_prune.cc:101: tree pruning end, 82 extra nodes, 12 pruned nodes, max_depth=6\n",
      "[16:44:07] INFO: C:\\Users\\Administrator\\workspace\\xgboost-win64_release_1.2.0\\src\\tree\\updater_prune.cc:101: tree pruning end, 64 extra nodes, 6 pruned nodes, max_depth=6\n",
      "[16:44:07] INFO: C:\\Users\\Administrator\\workspace\\xgboost-win64_release_1.2.0\\src\\tree\\updater_prune.cc:101: tree pruning end, 54 extra nodes, 4 pruned nodes, max_depth=6\n",
      "[16:44:07] INFO: C:\\Users\\Administrator\\workspace\\xgboost-win64_release_1.2.0\\src\\tree\\updater_prune.cc:101: tree pruning end, 48 extra nodes, 2 pruned nodes, max_depth=6\n",
      "[16:44:07] INFO: C:\\Users\\Administrator\\workspace\\xgboost-win64_release_1.2.0\\src\\tree\\updater_prune.cc:101: tree pruning end, 60 extra nodes, 4 pruned nodes, max_depth=6\n",
      "[16:44:07] INFO: C:\\Users\\Administrator\\workspace\\xgboost-win64_release_1.2.0\\src\\tree\\updater_prune.cc:101: tree pruning end, 42 extra nodes, 2 pruned nodes, max_depth=6\n",
      "[16:44:07] INFO: C:\\Users\\Administrator\\workspace\\xgboost-win64_release_1.2.0\\src\\tree\\updater_prune.cc:101: tree pruning end, 58 extra nodes, 6 pruned nodes, max_depth=6\n",
      "[16:44:07] INFO: C:\\Users\\Administrator\\workspace\\xgboost-win64_release_1.2.0\\src\\tree\\updater_prune.cc:101: tree pruning end, 72 extra nodes, 14 pruned nodes, max_depth=6\n",
      "[16:44:07] INFO: C:\\Users\\Administrator\\workspace\\xgboost-win64_release_1.2.0\\src\\tree\\updater_prune.cc:101: tree pruning end, 62 extra nodes, 2 pruned nodes, max_depth=6\n",
      "[16:44:07] INFO: C:\\Users\\Administrator\\workspace\\xgboost-win64_release_1.2.0\\src\\tree\\updater_prune.cc:101: tree pruning end, 82 extra nodes, 12 pruned nodes, max_depth=6\n",
      "[16:44:07] INFO: C:\\Users\\Administrator\\workspace\\xgboost-win64_release_1.2.0\\src\\tree\\updater_prune.cc:101: tree pruning end, 68 extra nodes, 0 pruned nodes, max_depth=6\n",
      "[16:44:07] INFO: C:\\Users\\Administrator\\workspace\\xgboost-win64_release_1.2.0\\src\\tree\\updater_prune.cc:101: tree pruning end, 56 extra nodes, 6 pruned nodes, max_depth=6\n",
      "[16:44:07] INFO: C:\\Users\\Administrator\\workspace\\xgboost-win64_release_1.2.0\\src\\tree\\updater_prune.cc:101: tree pruning end, 80 extra nodes, 8 pruned nodes, max_depth=6\n",
      "[16:44:07] INFO: C:\\Users\\Administrator\\workspace\\xgboost-win64_release_1.2.0\\src\\tree\\updater_prune.cc:101: tree pruning end, 84 extra nodes, 10 pruned nodes, max_depth=6\n",
      "[16:44:07] INFO: C:\\Users\\Administrator\\workspace\\xgboost-win64_release_1.2.0\\src\\tree\\updater_prune.cc:101: tree pruning end, 70 extra nodes, 8 pruned nodes, max_depth=6\n",
      "[16:44:07] INFO: C:\\Users\\Administrator\\workspace\\xgboost-win64_release_1.2.0\\src\\tree\\updater_prune.cc:101: tree pruning end, 62 extra nodes, 10 pruned nodes, max_depth=6\n",
      "[16:44:07] INFO: C:\\Users\\Administrator\\workspace\\xgboost-win64_release_1.2.0\\src\\tree\\updater_prune.cc:101: tree pruning end, 74 extra nodes, 6 pruned nodes, max_depth=6\n",
      "[16:44:07] INFO: C:\\Users\\Administrator\\workspace\\xgboost-win64_release_1.2.0\\src\\tree\\updater_prune.cc:101: tree pruning end, 84 extra nodes, 16 pruned nodes, max_depth=6\n",
      "[16:44:07] INFO: C:\\Users\\Administrator\\workspace\\xgboost-win64_release_1.2.0\\src\\tree\\updater_prune.cc:101: tree pruning end, 70 extra nodes, 24 pruned nodes, max_depth=6\n",
      "[16:44:07] INFO: C:\\Users\\Administrator\\workspace\\xgboost-win64_release_1.2.0\\src\\tree\\updater_prune.cc:101: tree pruning end, 42 extra nodes, 4 pruned nodes, max_depth=6\n",
      "[16:44:07] INFO: C:\\Users\\Administrator\\workspace\\xgboost-win64_release_1.2.0\\src\\tree\\updater_prune.cc:101: tree pruning end, 54 extra nodes, 8 pruned nodes, max_depth=6\n",
      "[16:44:07] INFO: C:\\Users\\Administrator\\workspace\\xgboost-win64_release_1.2.0\\src\\tree\\updater_prune.cc:101: tree pruning end, 68 extra nodes, 18 pruned nodes, max_depth=6\n",
      "[16:44:07] INFO: C:\\Users\\Administrator\\workspace\\xgboost-win64_release_1.2.0\\src\\tree\\updater_prune.cc:101: tree pruning end, 80 extra nodes, 22 pruned nodes, max_depth=6\n",
      "[16:44:07] INFO: C:\\Users\\Administrator\\workspace\\xgboost-win64_release_1.2.0\\src\\tree\\updater_prune.cc:101: tree pruning end, 46 extra nodes, 8 pruned nodes, max_depth=6\n",
      "[16:44:07] INFO: C:\\Users\\Administrator\\workspace\\xgboost-win64_release_1.2.0\\src\\tree\\updater_prune.cc:101: tree pruning end, 54 extra nodes, 4 pruned nodes, max_depth=6\n",
      "[16:44:07] INFO: C:\\Users\\Administrator\\workspace\\xgboost-win64_release_1.2.0\\src\\tree\\updater_prune.cc:101: tree pruning end, 52 extra nodes, 16 pruned nodes, max_depth=6\n",
      "[16:44:07] INFO: C:\\Users\\Administrator\\workspace\\xgboost-win64_release_1.2.0\\src\\tree\\updater_prune.cc:101: tree pruning end, 62 extra nodes, 30 pruned nodes, max_depth=6\n",
      "[16:44:07] INFO: C:\\Users\\Administrator\\workspace\\xgboost-win64_release_1.2.0\\src\\tree\\updater_prune.cc:101: tree pruning end, 56 extra nodes, 24 pruned nodes, max_depth=6\n",
      "[16:44:07] INFO: C:\\Users\\Administrator\\workspace\\xgboost-win64_release_1.2.0\\src\\tree\\updater_prune.cc:101: tree pruning end, 52 extra nodes, 22 pruned nodes, max_depth=6\n",
      "[16:44:07] INFO: C:\\Users\\Administrator\\workspace\\xgboost-win64_release_1.2.0\\src\\tree\\updater_prune.cc:101: tree pruning end, 82 extra nodes, 12 pruned nodes, max_depth=6\n",
      "[16:44:07] INFO: C:\\Users\\Administrator\\workspace\\xgboost-win64_release_1.2.0\\src\\tree\\updater_prune.cc:101: tree pruning end, 60 extra nodes, 6 pruned nodes, max_depth=6\n",
      "[16:44:07] INFO: C:\\Users\\Administrator\\workspace\\xgboost-win64_release_1.2.0\\src\\tree\\updater_prune.cc:101: tree pruning end, 72 extra nodes, 10 pruned nodes, max_depth=6\n",
      "[16:44:07] INFO: C:\\Users\\Administrator\\workspace\\xgboost-win64_release_1.2.0\\src\\tree\\updater_prune.cc:101: tree pruning end, 46 extra nodes, 32 pruned nodes, max_depth=6\n",
      "[16:44:07] INFO: C:\\Users\\Administrator\\workspace\\xgboost-win64_release_1.2.0\\src\\tree\\updater_prune.cc:101: tree pruning end, 68 extra nodes, 14 pruned nodes, max_depth=6\n",
      "[16:44:07] INFO: C:\\Users\\Administrator\\workspace\\xgboost-win64_release_1.2.0\\src\\tree\\updater_prune.cc:101: tree pruning end, 54 extra nodes, 4 pruned nodes, max_depth=6\n",
      "[16:44:07] INFO: C:\\Users\\Administrator\\workspace\\xgboost-win64_release_1.2.0\\src\\tree\\updater_prune.cc:101: tree pruning end, 52 extra nodes, 12 pruned nodes, max_depth=6\n",
      "[16:44:07] INFO: C:\\Users\\Administrator\\workspace\\xgboost-win64_release_1.2.0\\src\\tree\\updater_prune.cc:101: tree pruning end, 78 extra nodes, 16 pruned nodes, max_depth=6\n",
      "[16:44:07] INFO: C:\\Users\\Administrator\\workspace\\xgboost-win64_release_1.2.0\\src\\tree\\updater_prune.cc:101: tree pruning end, 56 extra nodes, 12 pruned nodes, max_depth=6\n",
      "[16:44:07] INFO: C:\\Users\\Administrator\\workspace\\xgboost-win64_release_1.2.0\\src\\tree\\updater_prune.cc:101: tree pruning end, 76 extra nodes, 16 pruned nodes, max_depth=6\n",
      "[16:44:07] INFO: C:\\Users\\Administrator\\workspace\\xgboost-win64_release_1.2.0\\src\\tree\\updater_prune.cc:101: tree pruning end, 52 extra nodes, 10 pruned nodes, max_depth=6\n",
      "[16:44:07] INFO: C:\\Users\\Administrator\\workspace\\xgboost-win64_release_1.2.0\\src\\tree\\updater_prune.cc:101: tree pruning end, 40 extra nodes, 10 pruned nodes, max_depth=6\n",
      "[16:44:07] INFO: C:\\Users\\Administrator\\workspace\\xgboost-win64_release_1.2.0\\src\\tree\\updater_prune.cc:101: tree pruning end, 46 extra nodes, 6 pruned nodes, max_depth=6\n",
      "[16:44:07] INFO: C:\\Users\\Administrator\\workspace\\xgboost-win64_release_1.2.0\\src\\tree\\updater_prune.cc:101: tree pruning end, 38 extra nodes, 6 pruned nodes, max_depth=6\n",
      "[16:44:07] INFO: C:\\Users\\Administrator\\workspace\\xgboost-win64_release_1.2.0\\src\\tree\\updater_prune.cc:101: tree pruning end, 46 extra nodes, 20 pruned nodes, max_depth=6\n",
      "[16:44:07] INFO: C:\\Users\\Administrator\\workspace\\xgboost-win64_release_1.2.0\\src\\tree\\updater_prune.cc:101: tree pruning end, 64 extra nodes, 24 pruned nodes, max_depth=6\n",
      "[16:44:07] INFO: C:\\Users\\Administrator\\workspace\\xgboost-win64_release_1.2.0\\src\\tree\\updater_prune.cc:101: tree pruning end, 48 extra nodes, 12 pruned nodes, max_depth=6\n",
      "[16:44:07] INFO: C:\\Users\\Administrator\\workspace\\xgboost-win64_release_1.2.0\\src\\tree\\updater_prune.cc:101: tree pruning end, 48 extra nodes, 12 pruned nodes, max_depth=6\n",
      "[16:44:07] INFO: C:\\Users\\Administrator\\workspace\\xgboost-win64_release_1.2.0\\src\\tree\\updater_prune.cc:101: tree pruning end, 56 extra nodes, 22 pruned nodes, max_depth=6\n",
      "[16:44:07] INFO: C:\\Users\\Administrator\\workspace\\xgboost-win64_release_1.2.0\\src\\tree\\updater_prune.cc:101: tree pruning end, 52 extra nodes, 20 pruned nodes, max_depth=6\n",
      "[16:44:07] INFO: C:\\Users\\Administrator\\workspace\\xgboost-win64_release_1.2.0\\src\\tree\\updater_prune.cc:101: tree pruning end, 50 extra nodes, 6 pruned nodes, max_depth=6\n",
      "[16:44:07] INFO: C:\\Users\\Administrator\\workspace\\xgboost-win64_release_1.2.0\\src\\tree\\updater_prune.cc:101: tree pruning end, 46 extra nodes, 28 pruned nodes, max_depth=6\n",
      "[16:44:08] INFO: C:\\Users\\Administrator\\workspace\\xgboost-win64_release_1.2.0\\src\\tree\\updater_prune.cc:101: tree pruning end, 54 extra nodes, 18 pruned nodes, max_depth=6\n",
      "[16:44:08] INFO: C:\\Users\\Administrator\\workspace\\xgboost-win64_release_1.2.0\\src\\tree\\updater_prune.cc:101: tree pruning end, 54 extra nodes, 18 pruned nodes, max_depth=6\n"
     ]
    },
    {
     "name": "stdout",
     "output_type": "stream",
     "text": [
      "[16:44:08] INFO: C:\\Users\\Administrator\\workspace\\xgboost-win64_release_1.2.0\\src\\tree\\updater_prune.cc:101: tree pruning end, 44 extra nodes, 18 pruned nodes, max_depth=6\n",
      "[16:44:08] INFO: C:\\Users\\Administrator\\workspace\\xgboost-win64_release_1.2.0\\src\\tree\\updater_prune.cc:101: tree pruning end, 56 extra nodes, 30 pruned nodes, max_depth=6\n",
      "[16:44:08] INFO: C:\\Users\\Administrator\\workspace\\xgboost-win64_release_1.2.0\\src\\tree\\updater_prune.cc:101: tree pruning end, 44 extra nodes, 16 pruned nodes, max_depth=6\n",
      "[16:44:08] INFO: C:\\Users\\Administrator\\workspace\\xgboost-win64_release_1.2.0\\src\\tree\\updater_prune.cc:101: tree pruning end, 52 extra nodes, 30 pruned nodes, max_depth=6\n",
      "[16:44:08] INFO: C:\\Users\\Administrator\\workspace\\xgboost-win64_release_1.2.0\\src\\tree\\updater_prune.cc:101: tree pruning end, 38 extra nodes, 20 pruned nodes, max_depth=6\n",
      "[16:44:08] INFO: C:\\Users\\Administrator\\workspace\\xgboost-win64_release_1.2.0\\src\\tree\\updater_prune.cc:101: tree pruning end, 34 extra nodes, 6 pruned nodes, max_depth=6\n",
      "[16:44:08] INFO: C:\\Users\\Administrator\\workspace\\xgboost-win64_release_1.2.0\\src\\tree\\updater_prune.cc:101: tree pruning end, 54 extra nodes, 16 pruned nodes, max_depth=6\n",
      "[16:44:08] INFO: C:\\Users\\Administrator\\workspace\\xgboost-win64_release_1.2.0\\src\\tree\\updater_prune.cc:101: tree pruning end, 54 extra nodes, 18 pruned nodes, max_depth=6\n",
      "[16:44:08] INFO: C:\\Users\\Administrator\\workspace\\xgboost-win64_release_1.2.0\\src\\tree\\updater_prune.cc:101: tree pruning end, 40 extra nodes, 20 pruned nodes, max_depth=6\n",
      "[16:44:08] INFO: C:\\Users\\Administrator\\workspace\\xgboost-win64_release_1.2.0\\src\\tree\\updater_prune.cc:101: tree pruning end, 32 extra nodes, 12 pruned nodes, max_depth=6\n",
      "[16:44:08] INFO: C:\\Users\\Administrator\\workspace\\xgboost-win64_release_1.2.0\\src\\tree\\updater_prune.cc:101: tree pruning end, 50 extra nodes, 32 pruned nodes, max_depth=6\n",
      "[16:44:08] INFO: C:\\Users\\Administrator\\workspace\\xgboost-win64_release_1.2.0\\src\\tree\\updater_prune.cc:101: tree pruning end, 50 extra nodes, 26 pruned nodes, max_depth=6\n",
      "[16:44:08] INFO: C:\\Users\\Administrator\\workspace\\xgboost-win64_release_1.2.0\\src\\tree\\updater_prune.cc:101: tree pruning end, 50 extra nodes, 28 pruned nodes, max_depth=6\n",
      "[16:44:08] INFO: C:\\Users\\Administrator\\workspace\\xgboost-win64_release_1.2.0\\src\\tree\\updater_prune.cc:101: tree pruning end, 42 extra nodes, 12 pruned nodes, max_depth=6\n",
      "[16:44:08] INFO: C:\\Users\\Administrator\\workspace\\xgboost-win64_release_1.2.0\\src\\tree\\updater_prune.cc:101: tree pruning end, 50 extra nodes, 36 pruned nodes, max_depth=6\n",
      "[16:44:08] INFO: C:\\Users\\Administrator\\workspace\\xgboost-win64_release_1.2.0\\src\\tree\\updater_prune.cc:101: tree pruning end, 36 extra nodes, 14 pruned nodes, max_depth=6\n",
      "[16:44:08] INFO: C:\\Users\\Administrator\\workspace\\xgboost-win64_release_1.2.0\\src\\tree\\updater_prune.cc:101: tree pruning end, 34 extra nodes, 10 pruned nodes, max_depth=6\n",
      "[16:44:08] INFO: C:\\Users\\Administrator\\workspace\\xgboost-win64_release_1.2.0\\src\\tree\\updater_prune.cc:101: tree pruning end, 34 extra nodes, 34 pruned nodes, max_depth=6\n",
      "[16:44:08] INFO: C:\\Users\\Administrator\\workspace\\xgboost-win64_release_1.2.0\\src\\tree\\updater_prune.cc:101: tree pruning end, 48 extra nodes, 32 pruned nodes, max_depth=6\n",
      "[16:44:08] INFO: C:\\Users\\Administrator\\workspace\\xgboost-win64_release_1.2.0\\src\\tree\\updater_prune.cc:101: tree pruning end, 52 extra nodes, 10 pruned nodes, max_depth=6\n",
      "[16:44:08] INFO: C:\\Users\\Administrator\\workspace\\xgboost-win64_release_1.2.0\\src\\tree\\updater_prune.cc:101: tree pruning end, 30 extra nodes, 6 pruned nodes, max_depth=6\n",
      "[16:44:08] INFO: C:\\Users\\Administrator\\workspace\\xgboost-win64_release_1.2.0\\src\\tree\\updater_prune.cc:101: tree pruning end, 40 extra nodes, 18 pruned nodes, max_depth=6\n",
      "[16:44:08] INFO: C:\\Users\\Administrator\\workspace\\xgboost-win64_release_1.2.0\\src\\tree\\updater_prune.cc:101: tree pruning end, 36 extra nodes, 6 pruned nodes, max_depth=6\n",
      "[16:44:08] INFO: C:\\Users\\Administrator\\workspace\\xgboost-win64_release_1.2.0\\src\\tree\\updater_prune.cc:101: tree pruning end, 36 extra nodes, 12 pruned nodes, max_depth=6\n",
      "[16:44:08] INFO: C:\\Users\\Administrator\\workspace\\xgboost-win64_release_1.2.0\\src\\tree\\updater_prune.cc:101: tree pruning end, 34 extra nodes, 18 pruned nodes, max_depth=6\n",
      "[16:44:08] INFO: C:\\Users\\Administrator\\workspace\\xgboost-win64_release_1.2.0\\src\\tree\\updater_prune.cc:101: tree pruning end, 48 extra nodes, 20 pruned nodes, max_depth=6\n",
      "[16:44:08] INFO: C:\\Users\\Administrator\\workspace\\xgboost-win64_release_1.2.0\\src\\tree\\updater_prune.cc:101: tree pruning end, 34 extra nodes, 6 pruned nodes, max_depth=6\n",
      "[16:44:08] INFO: C:\\Users\\Administrator\\workspace\\xgboost-win64_release_1.2.0\\src\\tree\\updater_prune.cc:101: tree pruning end, 18 extra nodes, 6 pruned nodes, max_depth=6\n",
      "[16:44:08] INFO: C:\\Users\\Administrator\\workspace\\xgboost-win64_release_1.2.0\\src\\tree\\updater_prune.cc:101: tree pruning end, 28 extra nodes, 10 pruned nodes, max_depth=6\n",
      "[16:44:08] INFO: C:\\Users\\Administrator\\workspace\\xgboost-win64_release_1.2.0\\src\\tree\\updater_prune.cc:101: tree pruning end, 30 extra nodes, 4 pruned nodes, max_depth=6\n",
      "[16:44:08] INFO: C:\\Users\\Administrator\\workspace\\xgboost-win64_release_1.2.0\\src\\tree\\updater_prune.cc:101: tree pruning end, 34 extra nodes, 12 pruned nodes, max_depth=6\n",
      "[16:44:08] INFO: C:\\Users\\Administrator\\workspace\\xgboost-win64_release_1.2.0\\src\\tree\\updater_prune.cc:101: tree pruning end, 20 extra nodes, 6 pruned nodes, max_depth=6\n",
      "[16:44:08] INFO: C:\\Users\\Administrator\\workspace\\xgboost-win64_release_1.2.0\\src\\tree\\updater_prune.cc:101: tree pruning end, 30 extra nodes, 22 pruned nodes, max_depth=6\n",
      "[16:44:08] INFO: C:\\Users\\Administrator\\workspace\\xgboost-win64_release_1.2.0\\src\\tree\\updater_prune.cc:101: tree pruning end, 26 extra nodes, 2 pruned nodes, max_depth=6\n",
      "[16:44:08] INFO: C:\\Users\\Administrator\\workspace\\xgboost-win64_release_1.2.0\\src\\tree\\updater_prune.cc:101: tree pruning end, 28 extra nodes, 8 pruned nodes, max_depth=6\n",
      "[16:44:08] INFO: C:\\Users\\Administrator\\workspace\\xgboost-win64_release_1.2.0\\src\\tree\\updater_prune.cc:101: tree pruning end, 38 extra nodes, 16 pruned nodes, max_depth=6\n",
      "[16:44:08] INFO: C:\\Users\\Administrator\\workspace\\xgboost-win64_release_1.2.0\\src\\tree\\updater_prune.cc:101: tree pruning end, 26 extra nodes, 22 pruned nodes, max_depth=6\n",
      "[16:44:08] INFO: C:\\Users\\Administrator\\workspace\\xgboost-win64_release_1.2.0\\src\\tree\\updater_prune.cc:101: tree pruning end, 52 extra nodes, 22 pruned nodes, max_depth=6\n",
      "[16:44:08] INFO: C:\\Users\\Administrator\\workspace\\xgboost-win64_release_1.2.0\\src\\tree\\updater_prune.cc:101: tree pruning end, 38 extra nodes, 10 pruned nodes, max_depth=6\n",
      "[16:44:08] INFO: C:\\Users\\Administrator\\workspace\\xgboost-win64_release_1.2.0\\src\\tree\\updater_prune.cc:101: tree pruning end, 20 extra nodes, 2 pruned nodes, max_depth=6\n",
      "[16:44:08] INFO: C:\\Users\\Administrator\\workspace\\xgboost-win64_release_1.2.0\\src\\tree\\updater_prune.cc:101: tree pruning end, 42 extra nodes, 22 pruned nodes, max_depth=6\n",
      "[16:44:08] INFO: C:\\Users\\Administrator\\workspace\\xgboost-win64_release_1.2.0\\src\\tree\\updater_prune.cc:101: tree pruning end, 32 extra nodes, 20 pruned nodes, max_depth=6\n",
      "[16:44:08] INFO: C:\\Users\\Administrator\\workspace\\xgboost-win64_release_1.2.0\\src\\tree\\updater_prune.cc:101: tree pruning end, 28 extra nodes, 20 pruned nodes, max_depth=6\n",
      "[16:44:08] INFO: C:\\Users\\Administrator\\workspace\\xgboost-win64_release_1.2.0\\src\\tree\\updater_prune.cc:101: tree pruning end, 28 extra nodes, 26 pruned nodes, max_depth=6\n",
      "[16:44:08] INFO: C:\\Users\\Administrator\\workspace\\xgboost-win64_release_1.2.0\\src\\tree\\updater_prune.cc:101: tree pruning end, 48 extra nodes, 26 pruned nodes, max_depth=6\n",
      "[16:44:08] INFO: C:\\Users\\Administrator\\workspace\\xgboost-win64_release_1.2.0\\src\\tree\\updater_prune.cc:101: tree pruning end, 36 extra nodes, 10 pruned nodes, max_depth=6\n",
      "[16:44:08] INFO: C:\\Users\\Administrator\\workspace\\xgboost-win64_release_1.2.0\\src\\tree\\updater_prune.cc:101: tree pruning end, 32 extra nodes, 26 pruned nodes, max_depth=6\n",
      "[16:44:08] INFO: C:\\Users\\Administrator\\workspace\\xgboost-win64_release_1.2.0\\src\\tree\\updater_prune.cc:101: tree pruning end, 24 extra nodes, 8 pruned nodes, max_depth=6\n",
      "[16:44:08] INFO: C:\\Users\\Administrator\\workspace\\xgboost-win64_release_1.2.0\\src\\tree\\updater_prune.cc:101: tree pruning end, 14 extra nodes, 12 pruned nodes, max_depth=6\n"
     ]
    },
    {
     "name": "stdout",
     "output_type": "stream",
     "text": [
      "[16:44:08] INFO: C:\\Users\\Administrator\\workspace\\xgboost-win64_release_1.2.0\\src\\tree\\updater_prune.cc:101: tree pruning end, 38 extra nodes, 28 pruned nodes, max_depth=6\n",
      "[16:44:08] INFO: C:\\Users\\Administrator\\workspace\\xgboost-win64_release_1.2.0\\src\\tree\\updater_prune.cc:101: tree pruning end, 24 extra nodes, 8 pruned nodes, max_depth=6\n",
      "[16:44:08] INFO: C:\\Users\\Administrator\\workspace\\xgboost-win64_release_1.2.0\\src\\tree\\updater_prune.cc:101: tree pruning end, 28 extra nodes, 16 pruned nodes, max_depth=6\n",
      "[16:44:08] INFO: C:\\Users\\Administrator\\workspace\\xgboost-win64_release_1.2.0\\src\\tree\\updater_prune.cc:101: tree pruning end, 28 extra nodes, 20 pruned nodes, max_depth=6\n",
      "[16:44:08] INFO: C:\\Users\\Administrator\\workspace\\xgboost-win64_release_1.2.0\\src\\tree\\updater_prune.cc:101: tree pruning end, 36 extra nodes, 22 pruned nodes, max_depth=6\n",
      "[16:44:08] INFO: C:\\Users\\Administrator\\workspace\\xgboost-win64_release_1.2.0\\src\\tree\\updater_prune.cc:101: tree pruning end, 36 extra nodes, 8 pruned nodes, max_depth=6\n",
      "[16:44:08] INFO: C:\\Users\\Administrator\\workspace\\xgboost-win64_release_1.2.0\\src\\tree\\updater_prune.cc:101: tree pruning end, 20 extra nodes, 18 pruned nodes, max_depth=6\n",
      "[16:44:08] INFO: C:\\Users\\Administrator\\workspace\\xgboost-win64_release_1.2.0\\src\\tree\\updater_prune.cc:101: tree pruning end, 24 extra nodes, 28 pruned nodes, max_depth=6\n",
      "[16:44:08] INFO: C:\\Users\\Administrator\\workspace\\xgboost-win64_release_1.2.0\\src\\tree\\updater_prune.cc:101: tree pruning end, 32 extra nodes, 24 pruned nodes, max_depth=6\n",
      "[16:44:08] INFO: C:\\Users\\Administrator\\workspace\\xgboost-win64_release_1.2.0\\src\\tree\\updater_prune.cc:101: tree pruning end, 34 extra nodes, 10 pruned nodes, max_depth=6\n",
      "[16:44:08] INFO: C:\\Users\\Administrator\\workspace\\xgboost-win64_release_1.2.0\\src\\tree\\updater_prune.cc:101: tree pruning end, 24 extra nodes, 18 pruned nodes, max_depth=6\n",
      "[16:44:08] INFO: C:\\Users\\Administrator\\workspace\\xgboost-win64_release_1.2.0\\src\\tree\\updater_prune.cc:101: tree pruning end, 26 extra nodes, 14 pruned nodes, max_depth=6\n",
      "[16:44:08] INFO: C:\\Users\\Administrator\\workspace\\xgboost-win64_release_1.2.0\\src\\tree\\updater_prune.cc:101: tree pruning end, 24 extra nodes, 20 pruned nodes, max_depth=6\n",
      "[16:44:08] INFO: C:\\Users\\Administrator\\workspace\\xgboost-win64_release_1.2.0\\src\\tree\\updater_prune.cc:101: tree pruning end, 16 extra nodes, 6 pruned nodes, max_depth=6\n",
      "[16:44:08] INFO: C:\\Users\\Administrator\\workspace\\xgboost-win64_release_1.2.0\\src\\tree\\updater_prune.cc:101: tree pruning end, 20 extra nodes, 66 pruned nodes, max_depth=5\n",
      "[16:44:08] INFO: C:\\Users\\Administrator\\workspace\\xgboost-win64_release_1.2.0\\src\\tree\\updater_prune.cc:101: tree pruning end, 36 extra nodes, 22 pruned nodes, max_depth=6\n",
      "[16:44:08] INFO: C:\\Users\\Administrator\\workspace\\xgboost-win64_release_1.2.0\\src\\tree\\updater_prune.cc:101: tree pruning end, 24 extra nodes, 14 pruned nodes, max_depth=6\n",
      "[16:44:08] INFO: C:\\Users\\Administrator\\workspace\\xgboost-win64_release_1.2.0\\src\\tree\\updater_prune.cc:101: tree pruning end, 34 extra nodes, 18 pruned nodes, max_depth=6\n",
      "[16:44:08] INFO: C:\\Users\\Administrator\\workspace\\xgboost-win64_release_1.2.0\\src\\tree\\updater_prune.cc:101: tree pruning end, 26 extra nodes, 20 pruned nodes, max_depth=6\n",
      "[16:44:08] INFO: C:\\Users\\Administrator\\workspace\\xgboost-win64_release_1.2.0\\src\\tree\\updater_prune.cc:101: tree pruning end, 32 extra nodes, 30 pruned nodes, max_depth=6\n",
      "[16:44:08] INFO: C:\\Users\\Administrator\\workspace\\xgboost-win64_release_1.2.0\\src\\tree\\updater_prune.cc:101: tree pruning end, 24 extra nodes, 32 pruned nodes, max_depth=6\n",
      "[16:44:08] INFO: C:\\Users\\Administrator\\workspace\\xgboost-win64_release_1.2.0\\src\\tree\\updater_prune.cc:101: tree pruning end, 24 extra nodes, 24 pruned nodes, max_depth=6\n",
      "[16:44:08] INFO: C:\\Users\\Administrator\\workspace\\xgboost-win64_release_1.2.0\\src\\tree\\updater_prune.cc:101: tree pruning end, 32 extra nodes, 54 pruned nodes, max_depth=6\n",
      "[16:44:08] INFO: C:\\Users\\Administrator\\workspace\\xgboost-win64_release_1.2.0\\src\\tree\\updater_prune.cc:101: tree pruning end, 26 extra nodes, 32 pruned nodes, max_depth=6\n",
      "[16:44:08] INFO: C:\\Users\\Administrator\\workspace\\xgboost-win64_release_1.2.0\\src\\tree\\updater_prune.cc:101: tree pruning end, 22 extra nodes, 24 pruned nodes, max_depth=6\n",
      "[16:44:08] INFO: C:\\Users\\Administrator\\workspace\\xgboost-win64_release_1.2.0\\src\\tree\\updater_prune.cc:101: tree pruning end, 24 extra nodes, 10 pruned nodes, max_depth=6\n",
      "[16:44:08] INFO: C:\\Users\\Administrator\\workspace\\xgboost-win64_release_1.2.0\\src\\tree\\updater_prune.cc:101: tree pruning end, 18 extra nodes, 14 pruned nodes, max_depth=6\n",
      "[16:44:08] INFO: C:\\Users\\Administrator\\workspace\\xgboost-win64_release_1.2.0\\src\\tree\\updater_prune.cc:101: tree pruning end, 16 extra nodes, 18 pruned nodes, max_depth=6\n",
      "[16:44:08] INFO: C:\\Users\\Administrator\\workspace\\xgboost-win64_release_1.2.0\\src\\tree\\updater_prune.cc:101: tree pruning end, 22 extra nodes, 22 pruned nodes, max_depth=6\n",
      "[16:44:08] INFO: C:\\Users\\Administrator\\workspace\\xgboost-win64_release_1.2.0\\src\\tree\\updater_prune.cc:101: tree pruning end, 20 extra nodes, 18 pruned nodes, max_depth=6\n",
      "[16:44:08] INFO: C:\\Users\\Administrator\\workspace\\xgboost-win64_release_1.2.0\\src\\tree\\updater_prune.cc:101: tree pruning end, 28 extra nodes, 16 pruned nodes, max_depth=6\n",
      "[16:44:08] INFO: C:\\Users\\Administrator\\workspace\\xgboost-win64_release_1.2.0\\src\\tree\\updater_prune.cc:101: tree pruning end, 26 extra nodes, 4 pruned nodes, max_depth=6\n",
      "[16:44:08] INFO: C:\\Users\\Administrator\\workspace\\xgboost-win64_release_1.2.0\\src\\tree\\updater_prune.cc:101: tree pruning end, 34 extra nodes, 10 pruned nodes, max_depth=6\n",
      "[16:44:08] INFO: C:\\Users\\Administrator\\workspace\\xgboost-win64_release_1.2.0\\src\\tree\\updater_prune.cc:101: tree pruning end, 32 extra nodes, 14 pruned nodes, max_depth=6\n",
      "[16:44:08] INFO: C:\\Users\\Administrator\\workspace\\xgboost-win64_release_1.2.0\\src\\tree\\updater_prune.cc:101: tree pruning end, 22 extra nodes, 42 pruned nodes, max_depth=6\n",
      "[16:44:08] INFO: C:\\Users\\Administrator\\workspace\\xgboost-win64_release_1.2.0\\src\\tree\\updater_prune.cc:101: tree pruning end, 28 extra nodes, 18 pruned nodes, max_depth=6\n",
      "[16:44:08] INFO: C:\\Users\\Administrator\\workspace\\xgboost-win64_release_1.2.0\\src\\tree\\updater_prune.cc:101: tree pruning end, 22 extra nodes, 12 pruned nodes, max_depth=6\n",
      "[16:44:08] INFO: C:\\Users\\Administrator\\workspace\\xgboost-win64_release_1.2.0\\src\\tree\\updater_prune.cc:101: tree pruning end, 36 extra nodes, 22 pruned nodes, max_depth=6\n",
      "[16:44:08] INFO: C:\\Users\\Administrator\\workspace\\xgboost-win64_release_1.2.0\\src\\tree\\updater_prune.cc:101: tree pruning end, 22 extra nodes, 38 pruned nodes, max_depth=6\n",
      "[16:44:08] INFO: C:\\Users\\Administrator\\workspace\\xgboost-win64_release_1.2.0\\src\\tree\\updater_prune.cc:101: tree pruning end, 28 extra nodes, 24 pruned nodes, max_depth=6\n",
      "[16:44:08] INFO: C:\\Users\\Administrator\\workspace\\xgboost-win64_release_1.2.0\\src\\tree\\updater_prune.cc:101: tree pruning end, 20 extra nodes, 6 pruned nodes, max_depth=6\n",
      "[16:44:08] INFO: C:\\Users\\Administrator\\workspace\\xgboost-win64_release_1.2.0\\src\\tree\\updater_prune.cc:101: tree pruning end, 12 extra nodes, 4 pruned nodes, max_depth=6\n",
      "[16:44:08] INFO: C:\\Users\\Administrator\\workspace\\xgboost-win64_release_1.2.0\\src\\tree\\updater_prune.cc:101: tree pruning end, 32 extra nodes, 32 pruned nodes, max_depth=6\n",
      "[16:44:08] INFO: C:\\Users\\Administrator\\workspace\\xgboost-win64_release_1.2.0\\src\\tree\\updater_prune.cc:101: tree pruning end, 26 extra nodes, 12 pruned nodes, max_depth=6\n",
      "[16:44:08] INFO: C:\\Users\\Administrator\\workspace\\xgboost-win64_release_1.2.0\\src\\tree\\updater_prune.cc:101: tree pruning end, 24 extra nodes, 46 pruned nodes, max_depth=6\n",
      "[16:44:08] INFO: C:\\Users\\Administrator\\workspace\\xgboost-win64_release_1.2.0\\src\\tree\\updater_prune.cc:101: tree pruning end, 16 extra nodes, 4 pruned nodes, max_depth=6\n",
      "[16:44:08] INFO: C:\\Users\\Administrator\\workspace\\xgboost-win64_release_1.2.0\\src\\tree\\updater_prune.cc:101: tree pruning end, 20 extra nodes, 30 pruned nodes, max_depth=6\n",
      "[16:44:08] INFO: C:\\Users\\Administrator\\workspace\\xgboost-win64_release_1.2.0\\src\\tree\\updater_prune.cc:101: tree pruning end, 16 extra nodes, 16 pruned nodes, max_depth=6\n",
      "[16:44:08] INFO: C:\\Users\\Administrator\\workspace\\xgboost-win64_release_1.2.0\\src\\tree\\updater_prune.cc:101: tree pruning end, 16 extra nodes, 10 pruned nodes, max_depth=6\n",
      "[16:44:08] INFO: C:\\Users\\Administrator\\workspace\\xgboost-win64_release_1.2.0\\src\\tree\\updater_prune.cc:101: tree pruning end, 24 extra nodes, 62 pruned nodes, max_depth=6\n",
      "[16:44:08] INFO: C:\\Users\\Administrator\\workspace\\xgboost-win64_release_1.2.0\\src\\tree\\updater_prune.cc:101: tree pruning end, 22 extra nodes, 48 pruned nodes, max_depth=6\n",
      "[16:44:08] INFO: C:\\Users\\Administrator\\workspace\\xgboost-win64_release_1.2.0\\src\\tree\\updater_prune.cc:101: tree pruning end, 20 extra nodes, 24 pruned nodes, max_depth=6\n",
      "[16:44:08] INFO: C:\\Users\\Administrator\\workspace\\xgboost-win64_release_1.2.0\\src\\tree\\updater_prune.cc:101: tree pruning end, 26 extra nodes, 16 pruned nodes, max_depth=6\n"
     ]
    },
    {
     "name": "stdout",
     "output_type": "stream",
     "text": [
      "[16:44:08] INFO: C:\\Users\\Administrator\\workspace\\xgboost-win64_release_1.2.0\\src\\tree\\updater_prune.cc:101: tree pruning end, 22 extra nodes, 22 pruned nodes, max_depth=6\n",
      "[16:44:08] INFO: C:\\Users\\Administrator\\workspace\\xgboost-win64_release_1.2.0\\src\\tree\\updater_prune.cc:101: tree pruning end, 24 extra nodes, 28 pruned nodes, max_depth=6\n",
      "[16:44:08] INFO: C:\\Users\\Administrator\\workspace\\xgboost-win64_release_1.2.0\\src\\tree\\updater_prune.cc:101: tree pruning end, 30 extra nodes, 22 pruned nodes, max_depth=6\n",
      "[16:44:08] INFO: C:\\Users\\Administrator\\workspace\\xgboost-win64_release_1.2.0\\src\\tree\\updater_prune.cc:101: tree pruning end, 16 extra nodes, 26 pruned nodes, max_depth=6\n",
      "[16:44:08] INFO: C:\\Users\\Administrator\\workspace\\xgboost-win64_release_1.2.0\\src\\tree\\updater_prune.cc:101: tree pruning end, 28 extra nodes, 24 pruned nodes, max_depth=6\n",
      "[16:44:08] INFO: C:\\Users\\Administrator\\workspace\\xgboost-win64_release_1.2.0\\src\\tree\\updater_prune.cc:101: tree pruning end, 30 extra nodes, 10 pruned nodes, max_depth=6\n",
      "[16:44:08] INFO: C:\\Users\\Administrator\\workspace\\xgboost-win64_release_1.2.0\\src\\tree\\updater_prune.cc:101: tree pruning end, 16 extra nodes, 16 pruned nodes, max_depth=6\n",
      "[16:44:08] INFO: C:\\Users\\Administrator\\workspace\\xgboost-win64_release_1.2.0\\src\\tree\\updater_prune.cc:101: tree pruning end, 14 extra nodes, 30 pruned nodes, max_depth=5\n",
      "[16:44:08] INFO: C:\\Users\\Administrator\\workspace\\xgboost-win64_release_1.2.0\\src\\tree\\updater_prune.cc:101: tree pruning end, 26 extra nodes, 26 pruned nodes, max_depth=5\n",
      "[16:44:08] INFO: C:\\Users\\Administrator\\workspace\\xgboost-win64_release_1.2.0\\src\\tree\\updater_prune.cc:101: tree pruning end, 28 extra nodes, 20 pruned nodes, max_depth=6\n",
      "[16:44:08] INFO: C:\\Users\\Administrator\\workspace\\xgboost-win64_release_1.2.0\\src\\tree\\updater_prune.cc:101: tree pruning end, 18 extra nodes, 14 pruned nodes, max_depth=6\n",
      "[16:44:08] INFO: C:\\Users\\Administrator\\workspace\\xgboost-win64_release_1.2.0\\src\\tree\\updater_prune.cc:101: tree pruning end, 16 extra nodes, 20 pruned nodes, max_depth=5\n",
      "[16:44:08] INFO: C:\\Users\\Administrator\\workspace\\xgboost-win64_release_1.2.0\\src\\tree\\updater_prune.cc:101: tree pruning end, 10 extra nodes, 22 pruned nodes, max_depth=4\n",
      "[16:44:08] INFO: C:\\Users\\Administrator\\workspace\\xgboost-win64_release_1.2.0\\src\\tree\\updater_prune.cc:101: tree pruning end, 22 extra nodes, 20 pruned nodes, max_depth=6\n",
      "[16:44:08] INFO: C:\\Users\\Administrator\\workspace\\xgboost-win64_release_1.2.0\\src\\tree\\updater_prune.cc:101: tree pruning end, 28 extra nodes, 28 pruned nodes, max_depth=6\n",
      "[16:44:08] INFO: C:\\Users\\Administrator\\workspace\\xgboost-win64_release_1.2.0\\src\\tree\\updater_prune.cc:101: tree pruning end, 24 extra nodes, 24 pruned nodes, max_depth=6\n",
      "[16:44:08] INFO: C:\\Users\\Administrator\\workspace\\xgboost-win64_release_1.2.0\\src\\tree\\updater_prune.cc:101: tree pruning end, 18 extra nodes, 24 pruned nodes, max_depth=6\n",
      "[16:44:08] INFO: C:\\Users\\Administrator\\workspace\\xgboost-win64_release_1.2.0\\src\\tree\\updater_prune.cc:101: tree pruning end, 22 extra nodes, 14 pruned nodes, max_depth=6\n",
      "[16:44:08] INFO: C:\\Users\\Administrator\\workspace\\xgboost-win64_release_1.2.0\\src\\tree\\updater_prune.cc:101: tree pruning end, 22 extra nodes, 12 pruned nodes, max_depth=6\n",
      "[16:44:08] INFO: C:\\Users\\Administrator\\workspace\\xgboost-win64_release_1.2.0\\src\\tree\\updater_prune.cc:101: tree pruning end, 18 extra nodes, 24 pruned nodes, max_depth=6\n",
      "[16:44:08] INFO: C:\\Users\\Administrator\\workspace\\xgboost-win64_release_1.2.0\\src\\tree\\updater_prune.cc:101: tree pruning end, 18 extra nodes, 32 pruned nodes, max_depth=6\n",
      "[16:44:08] INFO: C:\\Users\\Administrator\\workspace\\xgboost-win64_release_1.2.0\\src\\tree\\updater_prune.cc:101: tree pruning end, 16 extra nodes, 28 pruned nodes, max_depth=6\n",
      "[16:44:08] INFO: C:\\Users\\Administrator\\workspace\\xgboost-win64_release_1.2.0\\src\\tree\\updater_prune.cc:101: tree pruning end, 22 extra nodes, 22 pruned nodes, max_depth=6\n",
      "[16:44:08] INFO: C:\\Users\\Administrator\\workspace\\xgboost-win64_release_1.2.0\\src\\tree\\updater_prune.cc:101: tree pruning end, 22 extra nodes, 12 pruned nodes, max_depth=6\n",
      "[16:44:08] INFO: C:\\Users\\Administrator\\workspace\\xgboost-win64_release_1.2.0\\src\\tree\\updater_prune.cc:101: tree pruning end, 24 extra nodes, 22 pruned nodes, max_depth=6\n",
      "[16:44:08] INFO: C:\\Users\\Administrator\\workspace\\xgboost-win64_release_1.2.0\\src\\tree\\updater_prune.cc:101: tree pruning end, 18 extra nodes, 20 pruned nodes, max_depth=6\n",
      "[16:44:08] INFO: C:\\Users\\Administrator\\workspace\\xgboost-win64_release_1.2.0\\src\\tree\\updater_prune.cc:101: tree pruning end, 18 extra nodes, 28 pruned nodes, max_depth=5\n",
      "[16:44:08] INFO: C:\\Users\\Administrator\\workspace\\xgboost-win64_release_1.2.0\\src\\tree\\updater_prune.cc:101: tree pruning end, 18 extra nodes, 38 pruned nodes, max_depth=6\n",
      "[16:44:08] INFO: C:\\Users\\Administrator\\workspace\\xgboost-win64_release_1.2.0\\src\\tree\\updater_prune.cc:101: tree pruning end, 28 extra nodes, 20 pruned nodes, max_depth=6\n",
      "[16:44:08] INFO: C:\\Users\\Administrator\\workspace\\xgboost-win64_release_1.2.0\\src\\tree\\updater_prune.cc:101: tree pruning end, 24 extra nodes, 10 pruned nodes, max_depth=6\n",
      "[16:44:08] INFO: C:\\Users\\Administrator\\workspace\\xgboost-win64_release_1.2.0\\src\\tree\\updater_prune.cc:101: tree pruning end, 22 extra nodes, 20 pruned nodes, max_depth=6\n",
      "[16:44:08] INFO: C:\\Users\\Administrator\\workspace\\xgboost-win64_release_1.2.0\\src\\tree\\updater_prune.cc:101: tree pruning end, 4 extra nodes, 18 pruned nodes, max_depth=2\n",
      "[16:44:08] INFO: C:\\Users\\Administrator\\workspace\\xgboost-win64_release_1.2.0\\src\\tree\\updater_prune.cc:101: tree pruning end, 24 extra nodes, 24 pruned nodes, max_depth=6\n",
      "[16:44:08] INFO: C:\\Users\\Administrator\\workspace\\xgboost-win64_release_1.2.0\\src\\tree\\updater_prune.cc:101: tree pruning end, 24 extra nodes, 22 pruned nodes, max_depth=6\n",
      "[16:44:08] INFO: C:\\Users\\Administrator\\workspace\\xgboost-win64_release_1.2.0\\src\\tree\\updater_prune.cc:101: tree pruning end, 24 extra nodes, 18 pruned nodes, max_depth=6\n",
      "[16:44:08] INFO: C:\\Users\\Administrator\\workspace\\xgboost-win64_release_1.2.0\\src\\tree\\updater_prune.cc:101: tree pruning end, 18 extra nodes, 28 pruned nodes, max_depth=6\n",
      "[16:44:08] INFO: C:\\Users\\Administrator\\workspace\\xgboost-win64_release_1.2.0\\src\\tree\\updater_prune.cc:101: tree pruning end, 18 extra nodes, 24 pruned nodes, max_depth=6\n",
      "[16:44:08] INFO: C:\\Users\\Administrator\\workspace\\xgboost-win64_release_1.2.0\\src\\tree\\updater_prune.cc:101: tree pruning end, 12 extra nodes, 22 pruned nodes, max_depth=6\n",
      "[16:44:08] INFO: C:\\Users\\Administrator\\workspace\\xgboost-win64_release_1.2.0\\src\\tree\\updater_prune.cc:101: tree pruning end, 4 extra nodes, 40 pruned nodes, max_depth=2\n",
      "[16:44:08] INFO: C:\\Users\\Administrator\\workspace\\xgboost-win64_release_1.2.0\\src\\tree\\updater_prune.cc:101: tree pruning end, 12 extra nodes, 36 pruned nodes, max_depth=4\n",
      "[16:44:08] INFO: C:\\Users\\Administrator\\workspace\\xgboost-win64_release_1.2.0\\src\\tree\\updater_prune.cc:101: tree pruning end, 16 extra nodes, 22 pruned nodes, max_depth=6\n",
      "[16:44:08] INFO: C:\\Users\\Administrator\\workspace\\xgboost-win64_release_1.2.0\\src\\tree\\updater_prune.cc:101: tree pruning end, 10 extra nodes, 62 pruned nodes, max_depth=5\n",
      "[16:44:08] INFO: C:\\Users\\Administrator\\workspace\\xgboost-win64_release_1.2.0\\src\\tree\\updater_prune.cc:101: tree pruning end, 12 extra nodes, 12 pruned nodes, max_depth=6\n",
      "[16:44:08] INFO: C:\\Users\\Administrator\\workspace\\xgboost-win64_release_1.2.0\\src\\tree\\updater_prune.cc:101: tree pruning end, 16 extra nodes, 28 pruned nodes, max_depth=5\n",
      "[16:44:08] INFO: C:\\Users\\Administrator\\workspace\\xgboost-win64_release_1.2.0\\src\\tree\\updater_prune.cc:101: tree pruning end, 34 extra nodes, 32 pruned nodes, max_depth=6\n",
      "[16:44:08] INFO: C:\\Users\\Administrator\\workspace\\xgboost-win64_release_1.2.0\\src\\tree\\updater_prune.cc:101: tree pruning end, 12 extra nodes, 52 pruned nodes, max_depth=4\n",
      "[16:44:08] INFO: C:\\Users\\Administrator\\workspace\\xgboost-win64_release_1.2.0\\src\\tree\\updater_prune.cc:101: tree pruning end, 22 extra nodes, 14 pruned nodes, max_depth=6\n",
      "[16:44:08] INFO: C:\\Users\\Administrator\\workspace\\xgboost-win64_release_1.2.0\\src\\tree\\updater_prune.cc:101: tree pruning end, 24 extra nodes, 32 pruned nodes, max_depth=6\n",
      "[16:44:08] INFO: C:\\Users\\Administrator\\workspace\\xgboost-win64_release_1.2.0\\src\\tree\\updater_prune.cc:101: tree pruning end, 16 extra nodes, 30 pruned nodes, max_depth=6\n",
      "[16:44:08] INFO: C:\\Users\\Administrator\\workspace\\xgboost-win64_release_1.2.0\\src\\tree\\updater_prune.cc:101: tree pruning end, 24 extra nodes, 16 pruned nodes, max_depth=6\n",
      "[16:44:08] INFO: C:\\Users\\Administrator\\workspace\\xgboost-win64_release_1.2.0\\src\\tree\\updater_prune.cc:101: tree pruning end, 10 extra nodes, 58 pruned nodes, max_depth=5\n",
      "[16:44:08] INFO: C:\\Users\\Administrator\\workspace\\xgboost-win64_release_1.2.0\\src\\tree\\updater_prune.cc:101: tree pruning end, 14 extra nodes, 40 pruned nodes, max_depth=4\n"
     ]
    },
    {
     "name": "stdout",
     "output_type": "stream",
     "text": [
      "[16:44:08] INFO: C:\\Users\\Administrator\\workspace\\xgboost-win64_release_1.2.0\\src\\tree\\updater_prune.cc:101: tree pruning end, 12 extra nodes, 30 pruned nodes, max_depth=6\n",
      "[16:44:08] INFO: C:\\Users\\Administrator\\workspace\\xgboost-win64_release_1.2.0\\src\\tree\\updater_prune.cc:101: tree pruning end, 18 extra nodes, 32 pruned nodes, max_depth=5\n",
      "[16:44:08] INFO: C:\\Users\\Administrator\\workspace\\xgboost-win64_release_1.2.0\\src\\tree\\updater_prune.cc:101: tree pruning end, 14 extra nodes, 30 pruned nodes, max_depth=5\n",
      "[16:44:08] INFO: C:\\Users\\Administrator\\workspace\\xgboost-win64_release_1.2.0\\src\\tree\\updater_prune.cc:101: tree pruning end, 18 extra nodes, 42 pruned nodes, max_depth=4\n",
      "[16:44:08] INFO: C:\\Users\\Administrator\\workspace\\xgboost-win64_release_1.2.0\\src\\tree\\updater_prune.cc:101: tree pruning end, 14 extra nodes, 30 pruned nodes, max_depth=5\n",
      "[16:44:08] INFO: C:\\Users\\Administrator\\workspace\\xgboost-win64_release_1.2.0\\src\\tree\\updater_prune.cc:101: tree pruning end, 30 extra nodes, 6 pruned nodes, max_depth=6\n",
      "[16:44:08] INFO: C:\\Users\\Administrator\\workspace\\xgboost-win64_release_1.2.0\\src\\tree\\updater_prune.cc:101: tree pruning end, 16 extra nodes, 14 pruned nodes, max_depth=6\n",
      "[16:44:08] INFO: C:\\Users\\Administrator\\workspace\\xgboost-win64_release_1.2.0\\src\\tree\\updater_prune.cc:101: tree pruning end, 16 extra nodes, 26 pruned nodes, max_depth=6\n",
      "[16:44:08] INFO: C:\\Users\\Administrator\\workspace\\xgboost-win64_release_1.2.0\\src\\tree\\updater_prune.cc:101: tree pruning end, 20 extra nodes, 44 pruned nodes, max_depth=6\n",
      "[16:44:08] INFO: C:\\Users\\Administrator\\workspace\\xgboost-win64_release_1.2.0\\src\\tree\\updater_prune.cc:101: tree pruning end, 16 extra nodes, 22 pruned nodes, max_depth=6\n",
      "[16:44:08] INFO: C:\\Users\\Administrator\\workspace\\xgboost-win64_release_1.2.0\\src\\tree\\updater_prune.cc:101: tree pruning end, 30 extra nodes, 26 pruned nodes, max_depth=6\n",
      "[16:44:08] INFO: C:\\Users\\Administrator\\workspace\\xgboost-win64_release_1.2.0\\src\\tree\\updater_prune.cc:101: tree pruning end, 20 extra nodes, 20 pruned nodes, max_depth=6\n",
      "[16:44:08] INFO: C:\\Users\\Administrator\\workspace\\xgboost-win64_release_1.2.0\\src\\tree\\updater_prune.cc:101: tree pruning end, 16 extra nodes, 38 pruned nodes, max_depth=5\n",
      "[16:44:08] INFO: C:\\Users\\Administrator\\workspace\\xgboost-win64_release_1.2.0\\src\\tree\\updater_prune.cc:101: tree pruning end, 14 extra nodes, 46 pruned nodes, max_depth=4\n",
      "[16:44:08] INFO: C:\\Users\\Administrator\\workspace\\xgboost-win64_release_1.2.0\\src\\tree\\updater_prune.cc:101: tree pruning end, 12 extra nodes, 46 pruned nodes, max_depth=4\n",
      "[16:44:08] INFO: C:\\Users\\Administrator\\workspace\\xgboost-win64_release_1.2.0\\src\\tree\\updater_prune.cc:101: tree pruning end, 16 extra nodes, 42 pruned nodes, max_depth=4\n",
      "[16:44:08] INFO: C:\\Users\\Administrator\\workspace\\xgboost-win64_release_1.2.0\\src\\tree\\updater_prune.cc:101: tree pruning end, 16 extra nodes, 16 pruned nodes, max_depth=6\n",
      "[16:44:08] INFO: C:\\Users\\Administrator\\workspace\\xgboost-win64_release_1.2.0\\src\\tree\\updater_prune.cc:101: tree pruning end, 16 extra nodes, 14 pruned nodes, max_depth=6\n",
      "[16:44:08] INFO: C:\\Users\\Administrator\\workspace\\xgboost-win64_release_1.2.0\\src\\tree\\updater_prune.cc:101: tree pruning end, 14 extra nodes, 32 pruned nodes, max_depth=6\n",
      "[16:44:08] INFO: C:\\Users\\Administrator\\workspace\\xgboost-win64_release_1.2.0\\src\\tree\\updater_prune.cc:101: tree pruning end, 24 extra nodes, 36 pruned nodes, max_depth=6\n",
      "[16:44:08] INFO: C:\\Users\\Administrator\\workspace\\xgboost-win64_release_1.2.0\\src\\tree\\updater_prune.cc:101: tree pruning end, 12 extra nodes, 20 pruned nodes, max_depth=6\n",
      "[16:44:08] INFO: C:\\Users\\Administrator\\workspace\\xgboost-win64_release_1.2.0\\src\\tree\\updater_prune.cc:101: tree pruning end, 24 extra nodes, 20 pruned nodes, max_depth=6\n",
      "[16:44:08] INFO: C:\\Users\\Administrator\\workspace\\xgboost-win64_release_1.2.0\\src\\tree\\updater_prune.cc:101: tree pruning end, 4 extra nodes, 48 pruned nodes, max_depth=2\n",
      "[16:44:08] INFO: C:\\Users\\Administrator\\workspace\\xgboost-win64_release_1.2.0\\src\\tree\\updater_prune.cc:101: tree pruning end, 16 extra nodes, 8 pruned nodes, max_depth=6\n",
      "[16:44:08] INFO: C:\\Users\\Administrator\\workspace\\xgboost-win64_release_1.2.0\\src\\tree\\updater_prune.cc:101: tree pruning end, 6 extra nodes, 46 pruned nodes, max_depth=3\n",
      "[16:44:08] INFO: C:\\Users\\Administrator\\workspace\\xgboost-win64_release_1.2.0\\src\\tree\\updater_prune.cc:101: tree pruning end, 18 extra nodes, 32 pruned nodes, max_depth=6\n",
      "[16:44:08] INFO: C:\\Users\\Administrator\\workspace\\xgboost-win64_release_1.2.0\\src\\tree\\updater_prune.cc:101: tree pruning end, 14 extra nodes, 36 pruned nodes, max_depth=4\n",
      "[16:44:08] INFO: C:\\Users\\Administrator\\workspace\\xgboost-win64_release_1.2.0\\src\\tree\\updater_prune.cc:101: tree pruning end, 0 extra nodes, 20 pruned nodes, max_depth=0\n",
      "[16:44:08] INFO: C:\\Users\\Administrator\\workspace\\xgboost-win64_release_1.2.0\\src\\tree\\updater_prune.cc:101: tree pruning end, 16 extra nodes, 26 pruned nodes, max_depth=6\n",
      "[16:44:08] INFO: C:\\Users\\Administrator\\workspace\\xgboost-win64_release_1.2.0\\src\\tree\\updater_prune.cc:101: tree pruning end, 18 extra nodes, 30 pruned nodes, max_depth=6\n",
      "[16:44:08] INFO: C:\\Users\\Administrator\\workspace\\xgboost-win64_release_1.2.0\\src\\tree\\updater_prune.cc:101: tree pruning end, 16 extra nodes, 14 pruned nodes, max_depth=6\n",
      "[16:44:08] INFO: C:\\Users\\Administrator\\workspace\\xgboost-win64_release_1.2.0\\src\\tree\\updater_prune.cc:101: tree pruning end, 18 extra nodes, 38 pruned nodes, max_depth=6\n",
      "[16:44:08] INFO: C:\\Users\\Administrator\\workspace\\xgboost-win64_release_1.2.0\\src\\tree\\updater_prune.cc:101: tree pruning end, 20 extra nodes, 16 pruned nodes, max_depth=6\n",
      "[16:44:08] INFO: C:\\Users\\Administrator\\workspace\\xgboost-win64_release_1.2.0\\src\\tree\\updater_prune.cc:101: tree pruning end, 18 extra nodes, 36 pruned nodes, max_depth=5\n",
      "[16:44:08] INFO: C:\\Users\\Administrator\\workspace\\xgboost-win64_release_1.2.0\\src\\tree\\updater_prune.cc:101: tree pruning end, 14 extra nodes, 50 pruned nodes, max_depth=5\n",
      "[16:44:08] INFO: C:\\Users\\Administrator\\workspace\\xgboost-win64_release_1.2.0\\src\\tree\\updater_prune.cc:101: tree pruning end, 16 extra nodes, 16 pruned nodes, max_depth=5\n",
      "[16:44:08] INFO: C:\\Users\\Administrator\\workspace\\xgboost-win64_release_1.2.0\\src\\tree\\updater_prune.cc:101: tree pruning end, 16 extra nodes, 16 pruned nodes, max_depth=6\n",
      "[16:44:08] INFO: C:\\Users\\Administrator\\workspace\\xgboost-win64_release_1.2.0\\src\\tree\\updater_prune.cc:101: tree pruning end, 10 extra nodes, 18 pruned nodes, max_depth=5\n",
      "[16:44:08] INFO: C:\\Users\\Administrator\\workspace\\xgboost-win64_release_1.2.0\\src\\tree\\updater_prune.cc:101: tree pruning end, 16 extra nodes, 20 pruned nodes, max_depth=6\n",
      "[16:44:08] INFO: C:\\Users\\Administrator\\workspace\\xgboost-win64_release_1.2.0\\src\\tree\\updater_prune.cc:101: tree pruning end, 14 extra nodes, 36 pruned nodes, max_depth=6\n",
      "[16:44:08] INFO: C:\\Users\\Administrator\\workspace\\xgboost-win64_release_1.2.0\\src\\tree\\updater_prune.cc:101: tree pruning end, 14 extra nodes, 26 pruned nodes, max_depth=5\n",
      "[16:44:08] INFO: C:\\Users\\Administrator\\workspace\\xgboost-win64_release_1.2.0\\src\\tree\\updater_prune.cc:101: tree pruning end, 0 extra nodes, 36 pruned nodes, max_depth=0\n",
      "[16:44:08] INFO: C:\\Users\\Administrator\\workspace\\xgboost-win64_release_1.2.0\\src\\tree\\updater_prune.cc:101: tree pruning end, 26 extra nodes, 22 pruned nodes, max_depth=6\n",
      "[16:44:08] INFO: C:\\Users\\Administrator\\workspace\\xgboost-win64_release_1.2.0\\src\\tree\\updater_prune.cc:101: tree pruning end, 12 extra nodes, 42 pruned nodes, max_depth=5\n",
      "[16:44:08] INFO: C:\\Users\\Administrator\\workspace\\xgboost-win64_release_1.2.0\\src\\tree\\updater_prune.cc:101: tree pruning end, 22 extra nodes, 30 pruned nodes, max_depth=5\n",
      "[16:44:08] INFO: C:\\Users\\Administrator\\workspace\\xgboost-win64_release_1.2.0\\src\\tree\\updater_prune.cc:101: tree pruning end, 14 extra nodes, 58 pruned nodes, max_depth=4\n",
      "[16:44:08] INFO: C:\\Users\\Administrator\\workspace\\xgboost-win64_release_1.2.0\\src\\tree\\updater_prune.cc:101: tree pruning end, 10 extra nodes, 44 pruned nodes, max_depth=5\n",
      "[16:44:08] INFO: C:\\Users\\Administrator\\workspace\\xgboost-win64_release_1.2.0\\src\\tree\\updater_prune.cc:101: tree pruning end, 6 extra nodes, 34 pruned nodes, max_depth=3\n",
      "[16:44:08] INFO: C:\\Users\\Administrator\\workspace\\xgboost-win64_release_1.2.0\\src\\tree\\updater_prune.cc:101: tree pruning end, 8 extra nodes, 24 pruned nodes, max_depth=4\n",
      "[16:44:08] INFO: C:\\Users\\Administrator\\workspace\\xgboost-win64_release_1.2.0\\src\\tree\\updater_prune.cc:101: tree pruning end, 0 extra nodes, 48 pruned nodes, max_depth=0\n"
     ]
    },
    {
     "name": "stdout",
     "output_type": "stream",
     "text": [
      "[16:44:08] INFO: C:\\Users\\Administrator\\workspace\\xgboost-win64_release_1.2.0\\src\\tree\\updater_prune.cc:101: tree pruning end, 12 extra nodes, 34 pruned nodes, max_depth=6\n",
      "[16:44:08] INFO: C:\\Users\\Administrator\\workspace\\xgboost-win64_release_1.2.0\\src\\tree\\updater_prune.cc:101: tree pruning end, 0 extra nodes, 32 pruned nodes, max_depth=0\n",
      "[16:44:08] INFO: C:\\Users\\Administrator\\workspace\\xgboost-win64_release_1.2.0\\src\\tree\\updater_prune.cc:101: tree pruning end, 10 extra nodes, 24 pruned nodes, max_depth=5\n",
      "[16:44:08] INFO: C:\\Users\\Administrator\\workspace\\xgboost-win64_release_1.2.0\\src\\tree\\updater_prune.cc:101: tree pruning end, 24 extra nodes, 42 pruned nodes, max_depth=5\n",
      "[16:44:08] INFO: C:\\Users\\Administrator\\workspace\\xgboost-win64_release_1.2.0\\src\\tree\\updater_prune.cc:101: tree pruning end, 14 extra nodes, 36 pruned nodes, max_depth=6\n",
      "[16:44:08] INFO: C:\\Users\\Administrator\\workspace\\xgboost-win64_release_1.2.0\\src\\tree\\updater_prune.cc:101: tree pruning end, 16 extra nodes, 18 pruned nodes, max_depth=6\n",
      "[16:44:08] INFO: C:\\Users\\Administrator\\workspace\\xgboost-win64_release_1.2.0\\src\\tree\\updater_prune.cc:101: tree pruning end, 22 extra nodes, 18 pruned nodes, max_depth=6\n",
      "[16:44:08] INFO: C:\\Users\\Administrator\\workspace\\xgboost-win64_release_1.2.0\\src\\tree\\updater_prune.cc:101: tree pruning end, 8 extra nodes, 34 pruned nodes, max_depth=4\n",
      "[16:44:08] INFO: C:\\Users\\Administrator\\workspace\\xgboost-win64_release_1.2.0\\src\\tree\\updater_prune.cc:101: tree pruning end, 0 extra nodes, 44 pruned nodes, max_depth=0\n",
      "[16:44:08] INFO: C:\\Users\\Administrator\\workspace\\xgboost-win64_release_1.2.0\\src\\tree\\updater_prune.cc:101: tree pruning end, 0 extra nodes, 40 pruned nodes, max_depth=0\n",
      "[16:44:08] INFO: C:\\Users\\Administrator\\workspace\\xgboost-win64_release_1.2.0\\src\\tree\\updater_prune.cc:101: tree pruning end, 24 extra nodes, 28 pruned nodes, max_depth=6\n",
      "[16:44:08] INFO: C:\\Users\\Administrator\\workspace\\xgboost-win64_release_1.2.0\\src\\tree\\updater_prune.cc:101: tree pruning end, 0 extra nodes, 50 pruned nodes, max_depth=0\n",
      "[16:44:08] INFO: C:\\Users\\Administrator\\workspace\\xgboost-win64_release_1.2.0\\src\\tree\\updater_prune.cc:101: tree pruning end, 14 extra nodes, 36 pruned nodes, max_depth=6\n",
      "[16:44:08] INFO: C:\\Users\\Administrator\\workspace\\xgboost-win64_release_1.2.0\\src\\tree\\updater_prune.cc:101: tree pruning end, 22 extra nodes, 32 pruned nodes, max_depth=6\n",
      "[16:44:08] INFO: C:\\Users\\Administrator\\workspace\\xgboost-win64_release_1.2.0\\src\\tree\\updater_prune.cc:101: tree pruning end, 0 extra nodes, 62 pruned nodes, max_depth=0\n",
      "[16:44:08] INFO: C:\\Users\\Administrator\\workspace\\xgboost-win64_release_1.2.0\\src\\tree\\updater_prune.cc:101: tree pruning end, 16 extra nodes, 24 pruned nodes, max_depth=6\n",
      "[16:44:08] INFO: C:\\Users\\Administrator\\workspace\\xgboost-win64_release_1.2.0\\src\\tree\\updater_prune.cc:101: tree pruning end, 12 extra nodes, 26 pruned nodes, max_depth=6\n",
      "[16:44:08] INFO: C:\\Users\\Administrator\\workspace\\xgboost-win64_release_1.2.0\\src\\tree\\updater_prune.cc:101: tree pruning end, 12 extra nodes, 42 pruned nodes, max_depth=6\n",
      "[16:44:08] INFO: C:\\Users\\Administrator\\workspace\\xgboost-win64_release_1.2.0\\src\\tree\\updater_prune.cc:101: tree pruning end, 12 extra nodes, 32 pruned nodes, max_depth=5\n",
      "[16:44:08] INFO: C:\\Users\\Administrator\\workspace\\xgboost-win64_release_1.2.0\\src\\tree\\updater_prune.cc:101: tree pruning end, 10 extra nodes, 34 pruned nodes, max_depth=5\n",
      "[16:44:08] INFO: C:\\Users\\Administrator\\workspace\\xgboost-win64_release_1.2.0\\src\\tree\\updater_prune.cc:101: tree pruning end, 18 extra nodes, 20 pruned nodes, max_depth=6\n",
      "[16:44:08] INFO: C:\\Users\\Administrator\\workspace\\xgboost-win64_release_1.2.0\\src\\tree\\updater_prune.cc:101: tree pruning end, 0 extra nodes, 18 pruned nodes, max_depth=0\n",
      "[16:44:08] INFO: C:\\Users\\Administrator\\workspace\\xgboost-win64_release_1.2.0\\src\\tree\\updater_prune.cc:101: tree pruning end, 14 extra nodes, 24 pruned nodes, max_depth=6\n",
      "[16:44:08] INFO: C:\\Users\\Administrator\\workspace\\xgboost-win64_release_1.2.0\\src\\tree\\updater_prune.cc:101: tree pruning end, 10 extra nodes, 28 pruned nodes, max_depth=4\n",
      "[16:44:08] INFO: C:\\Users\\Administrator\\workspace\\xgboost-win64_release_1.2.0\\src\\tree\\updater_prune.cc:101: tree pruning end, 0 extra nodes, 28 pruned nodes, max_depth=0\n",
      "[16:44:08] INFO: C:\\Users\\Administrator\\workspace\\xgboost-win64_release_1.2.0\\src\\tree\\updater_prune.cc:101: tree pruning end, 6 extra nodes, 44 pruned nodes, max_depth=3\n",
      "[16:44:08] INFO: C:\\Users\\Administrator\\workspace\\xgboost-win64_release_1.2.0\\src\\tree\\updater_prune.cc:101: tree pruning end, 10 extra nodes, 14 pruned nodes, max_depth=5\n",
      "[16:44:08] INFO: C:\\Users\\Administrator\\workspace\\xgboost-win64_release_1.2.0\\src\\tree\\updater_prune.cc:101: tree pruning end, 18 extra nodes, 46 pruned nodes, max_depth=6\n",
      "[16:44:08] INFO: C:\\Users\\Administrator\\workspace\\xgboost-win64_release_1.2.0\\src\\tree\\updater_prune.cc:101: tree pruning end, 8 extra nodes, 58 pruned nodes, max_depth=4\n",
      "[16:44:08] INFO: C:\\Users\\Administrator\\workspace\\xgboost-win64_release_1.2.0\\src\\tree\\updater_prune.cc:101: tree pruning end, 0 extra nodes, 48 pruned nodes, max_depth=0\n",
      "[16:44:08] INFO: C:\\Users\\Administrator\\workspace\\xgboost-win64_release_1.2.0\\src\\tree\\updater_prune.cc:101: tree pruning end, 20 extra nodes, 22 pruned nodes, max_depth=5\n",
      "[16:44:08] INFO: C:\\Users\\Administrator\\workspace\\xgboost-win64_release_1.2.0\\src\\tree\\updater_prune.cc:101: tree pruning end, 12 extra nodes, 40 pruned nodes, max_depth=6\n",
      "[16:44:08] INFO: C:\\Users\\Administrator\\workspace\\xgboost-win64_release_1.2.0\\src\\tree\\updater_prune.cc:101: tree pruning end, 8 extra nodes, 18 pruned nodes, max_depth=4\n",
      "[16:44:08] INFO: C:\\Users\\Administrator\\workspace\\xgboost-win64_release_1.2.0\\src\\tree\\updater_prune.cc:101: tree pruning end, 22 extra nodes, 28 pruned nodes, max_depth=6\n",
      "[16:44:08] INFO: C:\\Users\\Administrator\\workspace\\xgboost-win64_release_1.2.0\\src\\tree\\updater_prune.cc:101: tree pruning end, 10 extra nodes, 24 pruned nodes, max_depth=5\n",
      "[16:44:08] INFO: C:\\Users\\Administrator\\workspace\\xgboost-win64_release_1.2.0\\src\\tree\\updater_prune.cc:101: tree pruning end, 12 extra nodes, 38 pruned nodes, max_depth=4\n",
      "[16:44:08] INFO: C:\\Users\\Administrator\\workspace\\xgboost-win64_release_1.2.0\\src\\tree\\updater_prune.cc:101: tree pruning end, 0 extra nodes, 66 pruned nodes, max_depth=0\n",
      "[16:44:08] INFO: C:\\Users\\Administrator\\workspace\\xgboost-win64_release_1.2.0\\src\\tree\\updater_prune.cc:101: tree pruning end, 0 extra nodes, 36 pruned nodes, max_depth=0\n",
      "[16:44:08] INFO: C:\\Users\\Administrator\\workspace\\xgboost-win64_release_1.2.0\\src\\tree\\updater_prune.cc:101: tree pruning end, 14 extra nodes, 46 pruned nodes, max_depth=5\n",
      "[16:44:08] INFO: C:\\Users\\Administrator\\workspace\\xgboost-win64_release_1.2.0\\src\\tree\\updater_prune.cc:101: tree pruning end, 0 extra nodes, 54 pruned nodes, max_depth=0\n",
      "[16:44:08] INFO: C:\\Users\\Administrator\\workspace\\xgboost-win64_release_1.2.0\\src\\tree\\updater_prune.cc:101: tree pruning end, 8 extra nodes, 22 pruned nodes, max_depth=4\n",
      "[16:44:08] INFO: C:\\Users\\Administrator\\workspace\\xgboost-win64_release_1.2.0\\src\\tree\\updater_prune.cc:101: tree pruning end, 10 extra nodes, 36 pruned nodes, max_depth=4\n",
      "[16:44:08] INFO: C:\\Users\\Administrator\\workspace\\xgboost-win64_release_1.2.0\\src\\tree\\updater_prune.cc:101: tree pruning end, 0 extra nodes, 32 pruned nodes, max_depth=0\n",
      "[16:44:08] INFO: C:\\Users\\Administrator\\workspace\\xgboost-win64_release_1.2.0\\src\\tree\\updater_prune.cc:101: tree pruning end, 0 extra nodes, 50 pruned nodes, max_depth=0\n",
      "[16:44:08] INFO: C:\\Users\\Administrator\\workspace\\xgboost-win64_release_1.2.0\\src\\tree\\updater_prune.cc:101: tree pruning end, 0 extra nodes, 56 pruned nodes, max_depth=0\n",
      "[16:44:08] INFO: C:\\Users\\Administrator\\workspace\\xgboost-win64_release_1.2.0\\src\\tree\\updater_prune.cc:101: tree pruning end, 10 extra nodes, 48 pruned nodes, max_depth=3\n",
      "[16:44:08] INFO: C:\\Users\\Administrator\\workspace\\xgboost-win64_release_1.2.0\\src\\tree\\updater_prune.cc:101: tree pruning end, 0 extra nodes, 62 pruned nodes, max_depth=0\n",
      "[16:44:08] INFO: C:\\Users\\Administrator\\workspace\\xgboost-win64_release_1.2.0\\src\\tree\\updater_prune.cc:101: tree pruning end, 10 extra nodes, 36 pruned nodes, max_depth=4\n",
      "[16:44:08] INFO: C:\\Users\\Administrator\\workspace\\xgboost-win64_release_1.2.0\\src\\tree\\updater_prune.cc:101: tree pruning end, 10 extra nodes, 18 pruned nodes, max_depth=5\n",
      "[16:44:08] INFO: C:\\Users\\Administrator\\workspace\\xgboost-win64_release_1.2.0\\src\\tree\\updater_prune.cc:101: tree pruning end, 14 extra nodes, 20 pruned nodes, max_depth=6\n",
      "[16:44:08] INFO: C:\\Users\\Administrator\\workspace\\xgboost-win64_release_1.2.0\\src\\tree\\updater_prune.cc:101: tree pruning end, 16 extra nodes, 26 pruned nodes, max_depth=6\n",
      "[16:44:08] INFO: C:\\Users\\Administrator\\workspace\\xgboost-win64_release_1.2.0\\src\\tree\\updater_prune.cc:101: tree pruning end, 10 extra nodes, 22 pruned nodes, max_depth=5\n"
     ]
    },
    {
     "name": "stdout",
     "output_type": "stream",
     "text": [
      "[16:44:08] INFO: C:\\Users\\Administrator\\workspace\\xgboost-win64_release_1.2.0\\src\\tree\\updater_prune.cc:101: tree pruning end, 8 extra nodes, 18 pruned nodes, max_depth=4\n",
      "[16:44:08] INFO: C:\\Users\\Administrator\\workspace\\xgboost-win64_release_1.2.0\\src\\tree\\updater_prune.cc:101: tree pruning end, 12 extra nodes, 20 pruned nodes, max_depth=5\n",
      "[16:44:08] INFO: C:\\Users\\Administrator\\workspace\\xgboost-win64_release_1.2.0\\src\\tree\\updater_prune.cc:101: tree pruning end, 8 extra nodes, 40 pruned nodes, max_depth=4\n",
      "[16:44:08] INFO: C:\\Users\\Administrator\\workspace\\xgboost-win64_release_1.2.0\\src\\tree\\updater_prune.cc:101: tree pruning end, 12 extra nodes, 26 pruned nodes, max_depth=6\n",
      "[16:44:08] INFO: C:\\Users\\Administrator\\workspace\\xgboost-win64_release_1.2.0\\src\\tree\\updater_prune.cc:101: tree pruning end, 0 extra nodes, 38 pruned nodes, max_depth=0\n",
      "[16:44:08] INFO: C:\\Users\\Administrator\\workspace\\xgboost-win64_release_1.2.0\\src\\tree\\updater_prune.cc:101: tree pruning end, 0 extra nodes, 56 pruned nodes, max_depth=0\n",
      "[16:44:08] INFO: C:\\Users\\Administrator\\workspace\\xgboost-win64_release_1.2.0\\src\\tree\\updater_prune.cc:101: tree pruning end, 0 extra nodes, 60 pruned nodes, max_depth=0\n",
      "[16:44:08] INFO: C:\\Users\\Administrator\\workspace\\xgboost-win64_release_1.2.0\\src\\tree\\updater_prune.cc:101: tree pruning end, 8 extra nodes, 50 pruned nodes, max_depth=4\n",
      "[16:44:08] INFO: C:\\Users\\Administrator\\workspace\\xgboost-win64_release_1.2.0\\src\\tree\\updater_prune.cc:101: tree pruning end, 10 extra nodes, 46 pruned nodes, max_depth=5\n",
      "[16:44:08] INFO: C:\\Users\\Administrator\\workspace\\xgboost-win64_release_1.2.0\\src\\tree\\updater_prune.cc:101: tree pruning end, 0 extra nodes, 38 pruned nodes, max_depth=0\n",
      "[16:44:08] INFO: C:\\Users\\Administrator\\workspace\\xgboost-win64_release_1.2.0\\src\\tree\\updater_prune.cc:101: tree pruning end, 12 extra nodes, 20 pruned nodes, max_depth=6\n",
      "[16:44:08] INFO: C:\\Users\\Administrator\\workspace\\xgboost-win64_release_1.2.0\\src\\tree\\updater_prune.cc:101: tree pruning end, 18 extra nodes, 22 pruned nodes, max_depth=6\n",
      "[16:44:08] INFO: C:\\Users\\Administrator\\workspace\\xgboost-win64_release_1.2.0\\src\\tree\\updater_prune.cc:101: tree pruning end, 0 extra nodes, 24 pruned nodes, max_depth=0\n",
      "[16:44:09] INFO: C:\\Users\\Administrator\\workspace\\xgboost-win64_release_1.2.0\\src\\tree\\updater_prune.cc:101: tree pruning end, 0 extra nodes, 46 pruned nodes, max_depth=0\n",
      "[16:44:09] INFO: C:\\Users\\Administrator\\workspace\\xgboost-win64_release_1.2.0\\src\\tree\\updater_prune.cc:101: tree pruning end, 18 extra nodes, 14 pruned nodes, max_depth=6\n",
      "[16:44:09] INFO: C:\\Users\\Administrator\\workspace\\xgboost-win64_release_1.2.0\\src\\tree\\updater_prune.cc:101: tree pruning end, 0 extra nodes, 44 pruned nodes, max_depth=0\n",
      "[16:44:09] INFO: C:\\Users\\Administrator\\workspace\\xgboost-win64_release_1.2.0\\src\\tree\\updater_prune.cc:101: tree pruning end, 16 extra nodes, 18 pruned nodes, max_depth=6\n",
      "[16:44:09] INFO: C:\\Users\\Administrator\\workspace\\xgboost-win64_release_1.2.0\\src\\tree\\updater_prune.cc:101: tree pruning end, 12 extra nodes, 32 pruned nodes, max_depth=6\n",
      "[16:44:09] INFO: C:\\Users\\Administrator\\workspace\\xgboost-win64_release_1.2.0\\src\\tree\\updater_prune.cc:101: tree pruning end, 16 extra nodes, 42 pruned nodes, max_depth=5\n",
      "[16:44:09] INFO: C:\\Users\\Administrator\\workspace\\xgboost-win64_release_1.2.0\\src\\tree\\updater_prune.cc:101: tree pruning end, 0 extra nodes, 64 pruned nodes, max_depth=0\n",
      "[16:44:09] INFO: C:\\Users\\Administrator\\workspace\\xgboost-win64_release_1.2.0\\src\\tree\\updater_prune.cc:101: tree pruning end, 0 extra nodes, 54 pruned nodes, max_depth=0\n",
      "[16:44:09] INFO: C:\\Users\\Administrator\\workspace\\xgboost-win64_release_1.2.0\\src\\tree\\updater_prune.cc:101: tree pruning end, 0 extra nodes, 36 pruned nodes, max_depth=0\n",
      "[16:44:09] INFO: C:\\Users\\Administrator\\workspace\\xgboost-win64_release_1.2.0\\src\\tree\\updater_prune.cc:101: tree pruning end, 0 extra nodes, 64 pruned nodes, max_depth=0\n",
      "[16:44:09] INFO: C:\\Users\\Administrator\\workspace\\xgboost-win64_release_1.2.0\\src\\tree\\updater_prune.cc:101: tree pruning end, 8 extra nodes, 24 pruned nodes, max_depth=4\n",
      "[16:44:09] INFO: C:\\Users\\Administrator\\workspace\\xgboost-win64_release_1.2.0\\src\\tree\\updater_prune.cc:101: tree pruning end, 18 extra nodes, 12 pruned nodes, max_depth=6\n",
      "[16:44:09] INFO: C:\\Users\\Administrator\\workspace\\xgboost-win64_release_1.2.0\\src\\tree\\updater_prune.cc:101: tree pruning end, 0 extra nodes, 40 pruned nodes, max_depth=0\n",
      "[16:44:09] INFO: C:\\Users\\Administrator\\workspace\\xgboost-win64_release_1.2.0\\src\\tree\\updater_prune.cc:101: tree pruning end, 0 extra nodes, 64 pruned nodes, max_depth=0\n",
      "[16:44:09] INFO: C:\\Users\\Administrator\\workspace\\xgboost-win64_release_1.2.0\\src\\tree\\updater_prune.cc:101: tree pruning end, 0 extra nodes, 62 pruned nodes, max_depth=0\n",
      "[16:44:09] INFO: C:\\Users\\Administrator\\workspace\\xgboost-win64_release_1.2.0\\src\\tree\\updater_prune.cc:101: tree pruning end, 10 extra nodes, 26 pruned nodes, max_depth=4\n",
      "[16:44:09] INFO: C:\\Users\\Administrator\\workspace\\xgboost-win64_release_1.2.0\\src\\tree\\updater_prune.cc:101: tree pruning end, 0 extra nodes, 66 pruned nodes, max_depth=0\n",
      "[16:44:09] INFO: C:\\Users\\Administrator\\workspace\\xgboost-win64_release_1.2.0\\src\\tree\\updater_prune.cc:101: tree pruning end, 10 extra nodes, 34 pruned nodes, max_depth=5\n",
      "[16:44:09] INFO: C:\\Users\\Administrator\\workspace\\xgboost-win64_release_1.2.0\\src\\tree\\updater_prune.cc:101: tree pruning end, 0 extra nodes, 50 pruned nodes, max_depth=0\n",
      "[16:44:09] INFO: C:\\Users\\Administrator\\workspace\\xgboost-win64_release_1.2.0\\src\\tree\\updater_prune.cc:101: tree pruning end, 16 extra nodes, 40 pruned nodes, max_depth=6\n",
      "[16:44:09] INFO: C:\\Users\\Administrator\\workspace\\xgboost-win64_release_1.2.0\\src\\tree\\updater_prune.cc:101: tree pruning end, 10 extra nodes, 38 pruned nodes, max_depth=5\n",
      "[16:44:09] INFO: C:\\Users\\Administrator\\workspace\\xgboost-win64_release_1.2.0\\src\\tree\\updater_prune.cc:101: tree pruning end, 0 extra nodes, 62 pruned nodes, max_depth=0\n",
      "[16:44:09] INFO: C:\\Users\\Administrator\\workspace\\xgboost-win64_release_1.2.0\\src\\tree\\updater_prune.cc:101: tree pruning end, 0 extra nodes, 52 pruned nodes, max_depth=0\n",
      "[16:44:09] INFO: C:\\Users\\Administrator\\workspace\\xgboost-win64_release_1.2.0\\src\\tree\\updater_prune.cc:101: tree pruning end, 16 extra nodes, 24 pruned nodes, max_depth=5\n",
      "[16:44:09] INFO: C:\\Users\\Administrator\\workspace\\xgboost-win64_release_1.2.0\\src\\tree\\updater_prune.cc:101: tree pruning end, 14 extra nodes, 34 pruned nodes, max_depth=6\n",
      "[16:44:09] INFO: C:\\Users\\Administrator\\workspace\\xgboost-win64_release_1.2.0\\src\\tree\\updater_prune.cc:101: tree pruning end, 14 extra nodes, 32 pruned nodes, max_depth=5\n",
      "[16:44:09] INFO: C:\\Users\\Administrator\\workspace\\xgboost-win64_release_1.2.0\\src\\tree\\updater_prune.cc:101: tree pruning end, 0 extra nodes, 40 pruned nodes, max_depth=0\n",
      "[16:44:09] INFO: C:\\Users\\Administrator\\workspace\\xgboost-win64_release_1.2.0\\src\\tree\\updater_prune.cc:101: tree pruning end, 14 extra nodes, 28 pruned nodes, max_depth=5\n",
      "[16:44:09] INFO: C:\\Users\\Administrator\\workspace\\xgboost-win64_release_1.2.0\\src\\tree\\updater_prune.cc:101: tree pruning end, 8 extra nodes, 20 pruned nodes, max_depth=4\n",
      "[16:44:09] INFO: C:\\Users\\Administrator\\workspace\\xgboost-win64_release_1.2.0\\src\\tree\\updater_prune.cc:101: tree pruning end, 10 extra nodes, 28 pruned nodes, max_depth=5\n",
      "[16:44:09] INFO: C:\\Users\\Administrator\\workspace\\xgboost-win64_release_1.2.0\\src\\tree\\updater_prune.cc:101: tree pruning end, 0 extra nodes, 40 pruned nodes, max_depth=0\n",
      "[16:44:09] INFO: C:\\Users\\Administrator\\workspace\\xgboost-win64_release_1.2.0\\src\\tree\\updater_prune.cc:101: tree pruning end, 12 extra nodes, 26 pruned nodes, max_depth=6\n",
      "[16:44:09] INFO: C:\\Users\\Administrator\\workspace\\xgboost-win64_release_1.2.0\\src\\tree\\updater_prune.cc:101: tree pruning end, 0 extra nodes, 34 pruned nodes, max_depth=0\n",
      "[16:44:09] INFO: C:\\Users\\Administrator\\workspace\\xgboost-win64_release_1.2.0\\src\\tree\\updater_prune.cc:101: tree pruning end, 0 extra nodes, 56 pruned nodes, max_depth=0\n",
      "[16:44:09] INFO: C:\\Users\\Administrator\\workspace\\xgboost-win64_release_1.2.0\\src\\tree\\updater_prune.cc:101: tree pruning end, 0 extra nodes, 36 pruned nodes, max_depth=0\n",
      "[16:44:09] INFO: C:\\Users\\Administrator\\workspace\\xgboost-win64_release_1.2.0\\src\\tree\\updater_prune.cc:101: tree pruning end, 8 extra nodes, 38 pruned nodes, max_depth=4\n"
     ]
    },
    {
     "name": "stdout",
     "output_type": "stream",
     "text": [
      "[16:44:09] INFO: C:\\Users\\Administrator\\workspace\\xgboost-win64_release_1.2.0\\src\\tree\\updater_prune.cc:101: tree pruning end, 6 extra nodes, 40 pruned nodes, max_depth=3\n",
      "[16:44:09] INFO: C:\\Users\\Administrator\\workspace\\xgboost-win64_release_1.2.0\\src\\tree\\updater_prune.cc:101: tree pruning end, 18 extra nodes, 40 pruned nodes, max_depth=6\n",
      "[16:44:09] INFO: C:\\Users\\Administrator\\workspace\\xgboost-win64_release_1.2.0\\src\\tree\\updater_prune.cc:101: tree pruning end, 0 extra nodes, 50 pruned nodes, max_depth=0\n",
      "[16:44:09] INFO: C:\\Users\\Administrator\\workspace\\xgboost-win64_release_1.2.0\\src\\tree\\updater_prune.cc:101: tree pruning end, 16 extra nodes, 52 pruned nodes, max_depth=5\n",
      "[16:44:09] INFO: C:\\Users\\Administrator\\workspace\\xgboost-win64_release_1.2.0\\src\\tree\\updater_prune.cc:101: tree pruning end, 10 extra nodes, 40 pruned nodes, max_depth=5\n",
      "[16:44:09] INFO: C:\\Users\\Administrator\\workspace\\xgboost-win64_release_1.2.0\\src\\tree\\updater_prune.cc:101: tree pruning end, 0 extra nodes, 42 pruned nodes, max_depth=0\n",
      "[16:44:09] INFO: C:\\Users\\Administrator\\workspace\\xgboost-win64_release_1.2.0\\src\\tree\\updater_prune.cc:101: tree pruning end, 0 extra nodes, 38 pruned nodes, max_depth=0\n",
      "[16:44:09] INFO: C:\\Users\\Administrator\\workspace\\xgboost-win64_release_1.2.0\\src\\tree\\updater_prune.cc:101: tree pruning end, 12 extra nodes, 24 pruned nodes, max_depth=6\n",
      "[16:44:09] INFO: C:\\Users\\Administrator\\workspace\\xgboost-win64_release_1.2.0\\src\\tree\\updater_prune.cc:101: tree pruning end, 0 extra nodes, 54 pruned nodes, max_depth=0\n",
      "[16:44:09] INFO: C:\\Users\\Administrator\\workspace\\xgboost-win64_release_1.2.0\\src\\tree\\updater_prune.cc:101: tree pruning end, 0 extra nodes, 52 pruned nodes, max_depth=0\n",
      "[16:44:09] INFO: C:\\Users\\Administrator\\workspace\\xgboost-win64_release_1.2.0\\src\\tree\\updater_prune.cc:101: tree pruning end, 0 extra nodes, 56 pruned nodes, max_depth=0\n",
      "[16:44:09] INFO: C:\\Users\\Administrator\\workspace\\xgboost-win64_release_1.2.0\\src\\tree\\updater_prune.cc:101: tree pruning end, 0 extra nodes, 26 pruned nodes, max_depth=0\n",
      "[16:44:09] INFO: C:\\Users\\Administrator\\workspace\\xgboost-win64_release_1.2.0\\src\\tree\\updater_prune.cc:101: tree pruning end, 12 extra nodes, 12 pruned nodes, max_depth=6\n",
      "[16:44:09] INFO: C:\\Users\\Administrator\\workspace\\xgboost-win64_release_1.2.0\\src\\tree\\updater_prune.cc:101: tree pruning end, 0 extra nodes, 48 pruned nodes, max_depth=0\n",
      "[16:44:09] INFO: C:\\Users\\Administrator\\workspace\\xgboost-win64_release_1.2.0\\src\\tree\\updater_prune.cc:101: tree pruning end, 0 extra nodes, 42 pruned nodes, max_depth=0\n",
      "[16:44:09] INFO: C:\\Users\\Administrator\\workspace\\xgboost-win64_release_1.2.0\\src\\tree\\updater_prune.cc:101: tree pruning end, 0 extra nodes, 52 pruned nodes, max_depth=0\n",
      "[16:44:09] INFO: C:\\Users\\Administrator\\workspace\\xgboost-win64_release_1.2.0\\src\\tree\\updater_prune.cc:101: tree pruning end, 14 extra nodes, 20 pruned nodes, max_depth=6\n",
      "[16:44:09] INFO: C:\\Users\\Administrator\\workspace\\xgboost-win64_release_1.2.0\\src\\tree\\updater_prune.cc:101: tree pruning end, 6 extra nodes, 34 pruned nodes, max_depth=3\n",
      "[16:44:09] INFO: C:\\Users\\Administrator\\workspace\\xgboost-win64_release_1.2.0\\src\\tree\\updater_prune.cc:101: tree pruning end, 0 extra nodes, 54 pruned nodes, max_depth=0\n",
      "[16:44:09] INFO: C:\\Users\\Administrator\\workspace\\xgboost-win64_release_1.2.0\\src\\tree\\updater_prune.cc:101: tree pruning end, 12 extra nodes, 44 pruned nodes, max_depth=4\n",
      "[16:44:09] INFO: C:\\Users\\Administrator\\workspace\\xgboost-win64_release_1.2.0\\src\\tree\\updater_prune.cc:101: tree pruning end, 0 extra nodes, 42 pruned nodes, max_depth=0\n",
      "[16:44:09] INFO: C:\\Users\\Administrator\\workspace\\xgboost-win64_release_1.2.0\\src\\tree\\updater_prune.cc:101: tree pruning end, 0 extra nodes, 52 pruned nodes, max_depth=0\n",
      "[16:44:09] INFO: C:\\Users\\Administrator\\workspace\\xgboost-win64_release_1.2.0\\src\\tree\\updater_prune.cc:101: tree pruning end, 0 extra nodes, 50 pruned nodes, max_depth=0\n",
      "[16:44:09] INFO: C:\\Users\\Administrator\\workspace\\xgboost-win64_release_1.2.0\\src\\tree\\updater_prune.cc:101: tree pruning end, 0 extra nodes, 56 pruned nodes, max_depth=0\n",
      "[16:44:09] INFO: C:\\Users\\Administrator\\workspace\\xgboost-win64_release_1.2.0\\src\\tree\\updater_prune.cc:101: tree pruning end, 0 extra nodes, 38 pruned nodes, max_depth=0\n",
      "[16:44:09] INFO: C:\\Users\\Administrator\\workspace\\xgboost-win64_release_1.2.0\\src\\tree\\updater_prune.cc:101: tree pruning end, 0 extra nodes, 56 pruned nodes, max_depth=0\n",
      "[16:44:09] INFO: C:\\Users\\Administrator\\workspace\\xgboost-win64_release_1.2.0\\src\\tree\\updater_prune.cc:101: tree pruning end, 0 extra nodes, 38 pruned nodes, max_depth=0\n",
      "[16:44:09] INFO: C:\\Users\\Administrator\\workspace\\xgboost-win64_release_1.2.0\\src\\tree\\updater_prune.cc:101: tree pruning end, 6 extra nodes, 54 pruned nodes, max_depth=3\n",
      "[16:44:09] INFO: C:\\Users\\Administrator\\workspace\\xgboost-win64_release_1.2.0\\src\\tree\\updater_prune.cc:101: tree pruning end, 0 extra nodes, 48 pruned nodes, max_depth=0\n",
      "[16:44:09] INFO: C:\\Users\\Administrator\\workspace\\xgboost-win64_release_1.2.0\\src\\tree\\updater_prune.cc:101: tree pruning end, 12 extra nodes, 34 pruned nodes, max_depth=6\n",
      "[16:44:09] INFO: C:\\Users\\Administrator\\workspace\\xgboost-win64_release_1.2.0\\src\\tree\\updater_prune.cc:101: tree pruning end, 0 extra nodes, 44 pruned nodes, max_depth=0\n",
      "[16:44:09] INFO: C:\\Users\\Administrator\\workspace\\xgboost-win64_release_1.2.0\\src\\tree\\updater_prune.cc:101: tree pruning end, 0 extra nodes, 52 pruned nodes, max_depth=0\n",
      "[16:44:09] INFO: C:\\Users\\Administrator\\workspace\\xgboost-win64_release_1.2.0\\src\\tree\\updater_prune.cc:101: tree pruning end, 10 extra nodes, 22 pruned nodes, max_depth=5\n",
      "[16:44:09] INFO: C:\\Users\\Administrator\\workspace\\xgboost-win64_release_1.2.0\\src\\tree\\updater_prune.cc:101: tree pruning end, 14 extra nodes, 46 pruned nodes, max_depth=5\n",
      "[16:44:09] INFO: C:\\Users\\Administrator\\workspace\\xgboost-win64_release_1.2.0\\src\\tree\\updater_prune.cc:101: tree pruning end, 12 extra nodes, 34 pruned nodes, max_depth=6\n",
      "[16:44:09] INFO: C:\\Users\\Administrator\\workspace\\xgboost-win64_release_1.2.0\\src\\tree\\updater_prune.cc:101: tree pruning end, 8 extra nodes, 44 pruned nodes, max_depth=4\n",
      "[16:44:09] INFO: C:\\Users\\Administrator\\workspace\\xgboost-win64_release_1.2.0\\src\\tree\\updater_prune.cc:101: tree pruning end, 0 extra nodes, 26 pruned nodes, max_depth=0\n",
      "[16:44:09] INFO: C:\\Users\\Administrator\\workspace\\xgboost-win64_release_1.2.0\\src\\tree\\updater_prune.cc:101: tree pruning end, 0 extra nodes, 44 pruned nodes, max_depth=0\n",
      "[16:44:09] INFO: C:\\Users\\Administrator\\workspace\\xgboost-win64_release_1.2.0\\src\\tree\\updater_prune.cc:101: tree pruning end, 8 extra nodes, 26 pruned nodes, max_depth=4\n",
      "[16:44:09] INFO: C:\\Users\\Administrator\\workspace\\xgboost-win64_release_1.2.0\\src\\tree\\updater_prune.cc:101: tree pruning end, 0 extra nodes, 54 pruned nodes, max_depth=0\n",
      "Accuracy on training data :  0.9987655844957413\n",
      "Accuracy on test data :  0.983218163869694\n",
      "Wall time: 1min 57s\n"
     ]
    },
    {
     "data": {
      "text/plain": [
       "{'verbosity': 2,\n",
       " 'subsample': 1.0,\n",
       " 'reg_lambda': 5.0,\n",
       " 'reg_alpha': 1.0,\n",
       " 'n_estimators': 400,\n",
       " 'min_child_weight': 1.0,\n",
       " 'max_depth': 6,\n",
       " 'learning_rate': 0.1,\n",
       " 'gamma': 0.5,\n",
       " 'colsample_bytree': 0.4,\n",
       " 'colsample_bylevel': 0.5}"
      ]
     },
     "execution_count": 90,
     "metadata": {},
     "output_type": "execute_result"
    }
   ],
   "source": [
    "%%time\n",
    "\n",
    "learning_rate = [0.0001, 0.001, 0.1, 1]\n",
    "n_estimators = np.arange(50, 550, 50)\n",
    "max_depth = [6, 10, 15, 20]\n",
    "subsample = np.arange(0.1, 1.1, 0.1)\n",
    "colsample_bytree = np.arange(0.1, 1.1, 0.1)\n",
    "colsample_bylevel = np.arange(0.1, 1.1, 0.1)\n",
    "min_child_weight = [0.5, 1.0, 3.0, 5.0, 7.0, 10.0]\n",
    "gamma = np.arange(0, 1.1, 0.25)\n",
    "reg_lambda = [0.1, 1.0, 5.0, 10.0, 50.0, 100.0]\n",
    "reg_alpha = [0.1, 1.0, 5.0, 10.0, 50.0, 100.0]\n",
    "verbosity = np.arange(1, 4, 1)\n",
    "\n",
    "# Create the random grid\n",
    "random_search = {'learning_rate' : learning_rate,\n",
    "                 'n_estimators' : n_estimators,\n",
    "                 'max_depth' : max_depth,\n",
    "                 'subsample' : subsample,\n",
    "                 'colsample_bytree' : colsample_bytree,\n",
    "                 'colsample_bylevel' : colsample_bylevel,\n",
    "                 'min_child_weight' : min_child_weight,\n",
    "                 'gamma' : gamma,\n",
    "                 'reg_lambda' : reg_lambda,\n",
    "                 'reg_alpha' : reg_alpha,\n",
    "                 'verbosity' : verbosity}\n",
    "\n",
    "clf_xgb = XGBClassifier()\n",
    "xgb = RandomizedSearchCV(estimator = clf_xgb, \n",
    "                           param_distributions = random_search, \n",
    "                           n_iter = 150, \n",
    "                           cv = 3, verbose= 5, random_state= 1, \n",
    "                           n_jobs = -1)\n",
    "\n",
    "xgb.fit(X_train, y_train)\n",
    "\n",
    "print(\"Accuracy on training data: {:.3f}\".format(xgb.score(X_train,y_train)))\n",
    "print(\"Accuracy on test data: {:.3f}\".format(xgb.score(X_test,y_test)))\n",
    "\n",
    "xgb.best_params_"
   ]
  },
  {
   "cell_type": "code",
   "execution_count": 91,
   "metadata": {},
   "outputs": [
    {
     "name": "stdout",
     "output_type": "stream",
     "text": [
      "              precision    recall  f1-score   support\n",
      "\n",
      "           0       0.97      0.92      0.94       309\n",
      "           1       0.99      1.00      0.99      1717\n",
      "\n",
      "    accuracy                           0.98      2026\n",
      "   macro avg       0.98      0.96      0.97      2026\n",
      "weighted avg       0.98      0.98      0.98      2026\n",
      "\n"
     ]
    }
   ],
   "source": [
    "y_pred_xgb = xgb.predict(X_test)\n",
    "y_proba_xgb = xgb.predict_proba(X_test)[:,1]\n",
    "\n",
    "print(classification_report(y_test, y_pred_xgb))"
   ]
  },
  {
   "cell_type": "code",
   "execution_count": 92,
   "metadata": {},
   "outputs": [
    {
     "data": {
      "text/plain": [
       "array([[ 283,   26],\n",
       "       [   8, 1709]], dtype=int64)"
      ]
     },
     "execution_count": 92,
     "metadata": {},
     "output_type": "execute_result"
    }
   ],
   "source": [
    "confusion_matrix(y_test, y_pred_xgb)"
   ]
  },
  {
   "cell_type": "code",
   "execution_count": 93,
   "metadata": {},
   "outputs": [
    {
     "data": {
      "text/plain": [
       "<sklearn.metrics._plot.confusion_matrix.ConfusionMatrixDisplay at 0x1d9fadc4888>"
      ]
     },
     "execution_count": 93,
     "metadata": {},
     "output_type": "execute_result"
    },
    {
     "data": {
      "image/png": "[encoded data removed]",
      "text/plain": [
       "<Figure size 432x288 with 2 Axes>"
      ]
     },
     "metadata": {
      "needs_background": "light"
     },
     "output_type": "display_data"
    }
   ],
   "source": [
    "cm_xgb = confusion_matrix(y_test, y_pred_xgb, labels=xgb.classes_)\n",
    "confus_xgb_disp = ConfusionMatrixDisplay(confusion_matrix=cm_xgb,\n",
    "                                               display_labels=xgb.classes_)\n",
    "confus_xgb_disp.plot()"
   ]
  },
  {
   "cell_type": "code",
   "execution_count": 94,
   "metadata": {},
   "outputs": [],
   "source": [
    "xgb_results = roc_curve(y_test, y_pred_xgb)"
   ]
  },
  {
   "cell_type": "code",
   "execution_count": 95,
   "metadata": {},
   "outputs": [
    {
     "data": {
      "text/plain": [
       "<sklearn.metrics._plot.roc_curve.RocCurveDisplay at 0x1d9fae40408>"
      ]
     },
     "execution_count": 95,
     "metadata": {},
     "output_type": "execute_result"
    },
    {
     "data": {
      "image/png": "[encoded data removed]",
      "text/plain": [
       "<Figure size 432x288 with 1 Axes>"
      ]
     },
     "metadata": {
      "needs_background": "light"
     },
     "output_type": "display_data"
    }
   ],
   "source": [
    "plot_roc_curve(xgb, X_test, y_test)"
   ]
  },
  {
   "cell_type": "code",
   "execution_count": 96,
   "metadata": {},
   "outputs": [
    {
     "data": {
      "image/png": "[encoded data removed]",
      "text/plain": [
       "<Figure size 432x288 with 1 Axes>"
      ]
     },
     "metadata": {
      "needs_background": "light"
     },
     "output_type": "display_data"
    }
   ],
   "source": [
    "from sklearn.metrics import roc_curve, plot_roc_curve, auc, RocCurveDisplay\n",
    "gnb\n",
    "\n",
    "fpr_gnb, tpr_gnb, _ = roc_curve(y_test, y_pred_gnb)\n",
    "roc_auc = auc(fpr_gnb, tpr_gnb)\n",
    "\n",
    "fpr_svm, tpr_svm, _ = roc_curve(y_test, y_pred_svm)\n",
    "roc_auc = auc(fpr_svm, tpr_svm)\n",
    "\n",
    "fpr_tree, tpr_tree, _ = roc_curve(y_test, y_pred_tree)\n",
    "roc_auc = auc(fpr_tree, tpr_tree)\n",
    "\n",
    "fpr_rf_tree, tpr_rf_tree, _ = roc_curve(y_test, y_pred_rf_tree)\n",
    "roc_auc = auc(fpr_rf_tree, tpr_rf_tree)\n",
    "\n",
    "fpr_knn, tpr_knn, _ = roc_curve(y_test, y_pred_knn)\n",
    "roc_auc = auc(fpr_knn, tpr_knn)\n",
    "\n",
    "fpr_gb_tree, tpr_gb_tree, _ = roc_curve(y_test, y_pred_gb_tree)\n",
    "roc_auc = auc(fpr_gb_tree, tpr_gb_tree)\n",
    "\n",
    "fpr_xgb, tpr_xgb, _ = roc_curve(y_test, y_pred_xgb)\n",
    "roc_auc = auc(fpr_xgb, tpr_xgb)\n",
    "\n",
    "plt.plot(fpr_gnb,tpr_gnb)\n",
    "plt.legend(\"Naive Bayes\")\n",
    "plt.plot(fpr_svm, tpr_svm) \n",
    "plt.legend(\"SVM\")\n",
    "plt.plot(fpr_tree, tpr_tree) \n",
    "plt.legend(\"Decision Tree\")\n",
    "plt.plot(fpr_rf_tree, tpr_rf_tree) \n",
    "plt.legend(\"Random Forest\")\n",
    "plt.plot(fpr_knn, tpr_knn) \n",
    "plt.legend(\"KNN\")\n",
    "plt.plot(fpr_xgb, tpr_xgb) \n",
    "plt.legend(\"XGBoost\")\n",
    "\n",
    "plt.show()"
   ]
  },
  {
   "cell_type": "code",
   "execution_count": 97,
   "metadata": {},
   "outputs": [
    {
     "data": {
      "image/png": "[encoded data removed]",
      "text/plain": [
       "<Figure size 720x720 with 1 Axes>"
      ]
     },
     "metadata": {},
     "output_type": "display_data"
    }
   ],
   "source": [
    "# drug primer\n",
    "\n",
    "plt.style.use('seaborn-whitegrid')\n",
    "fig = plt.figure(figsize=(10,10)) \n",
    "\n",
    "models = [\n",
    "    'Naive Bayes', \n",
    "    'SVM', \n",
    "    'Decision Tree', \n",
    "    'Random Forest', \n",
    "    'KNN',\n",
    "    'Gradient Boosting Tree',\n",
    "    'XGBoost'\n",
    "]\n",
    "probs = [\n",
    "    y_proba_gnb,\n",
    "    y_proba_svm,\n",
    "    y_proba_tree,\n",
    "    y_proba_rf_tree,\n",
    "    y_proba_knn,\n",
    "    y_proba_gb_tree,\n",
    "    y_proba_xgb\n",
    "]\n",
    "colors = [\n",
    "    'blue',\n",
    "    'green',\n",
    "    'red',\n",
    "    'cyan',\n",
    "    'magenta',\n",
    "    'yellow',\n",
    "    'orange',\n",
    "    'black'\n",
    "]\n",
    "\n",
    "plt.title('Receiver Operating Characteristic')\n",
    "plt.plot([0, 1], [0, 1],'r--')\n",
    "plt.xlim([-0.01, 1.01])\n",
    "plt.ylim([-0.01, 1.01])\n",
    "plt.ylabel('True Positive Rate')\n",
    "plt.xlabel('False Positive Rate')\n",
    "\n",
    "def plot_roc_curves(y_test, prob, model):\n",
    "    fpr, tpr, threshold = roc_curve(y_test, prob)\n",
    "    roc_auc = auc(fpr, tpr)\n",
    "    plt.plot(fpr, tpr, 'b', label = model + ' AUC = %0.3f' % roc_auc, color=colors[i])\n",
    "    plt.legend(loc = 'lower right')\n",
    "    \n",
    "for i, model in list(enumerate(models)):\n",
    "    plot_roc_curves(y_test, probs[i], models[i])\n",
    "    \n",
    "plt.show()"
   ]
  },
  {
   "cell_type": "markdown",
   "metadata": {
    "id": "JGyhoU96SXy7"
   },
   "source": [
    "## 4. Evaluation and comparisons, various metrics"
   ]
  },
  {
   "cell_type": "code",
   "execution_count": null,
   "metadata": {
    "id": "L0_vsmimSXy8"
   },
   "outputs": [],
   "source": []
  },
  {
   "cell_type": "markdown",
   "metadata": {},
   "source": [
    "### Correlation matrix"
   ]
  },
  {
   "cell_type": "code",
   "execution_count": 98,
   "metadata": {
    "scrolled": false
   },
   "outputs": [
    {
     "data": {
      "image/png": "[encoded data removed]",
      "text/plain": [
       "<Figure size 2160x1440 with 2 Axes>"
      ]
     },
     "metadata": {},
     "output_type": "display_data"
    }
   ],
   "source": [
    "# import pandas as pd\n",
    "\n",
    "# X = dataset_one_hot_encoded.drop(['Attrition_Flag'], axis=1)\n",
    "# y = dataset_one_hot_encoded['Attrition_Flag']\n",
    "\n",
    "result = pd.concat([X, y], axis=1)\n",
    "correlation_train=result.corr()\n",
    "plt.figure(figsize=(30, 20))\n",
    "sns.heatmap(correlation_train, annot=True, fmt='.1f')\n",
    "plt.show()"
   ]
  },
  {
   "cell_type": "code",
   "execution_count": 99,
   "metadata": {},
   "outputs": [],
   "source": [
    "def drawheatmap(df):\n",
    "    '''Builds the heat map for the given data'''\n",
    "    f, ax = plt.subplots(figsize=(15, 15))\n",
    "    sns.heatmap(df.corr(method='spearman'), annot=False, cmap='coolwarm')"
   ]
  },
  {
   "cell_type": "code",
   "execution_count": 100,
   "metadata": {},
   "outputs": [
    {
     "data": {
      "image/png": "[encoded data removed]",
      "text/plain": [
       "<Figure size 1080x1080 with 2 Axes>"
      ]
     },
     "metadata": {},
     "output_type": "display_data"
    }
   ],
   "source": [
    "drawheatmap(X)"
   ]
  },
  {
   "cell_type": "code",
   "execution_count": null,
   "metadata": {},
   "outputs": [],
   "source": []
  },
  {
   "cell_type": "markdown",
   "metadata": {
    "id": "C4TYzMqQSXy_"
   },
   "source": [
    "## 5. Hyperparameter Optimization"
   ]
  },
  {
   "cell_type": "markdown",
   "metadata": {
    "id": "c1Uyu5APSXzD"
   },
   "source": [
    "## 6. Final evaluations and comparisons\n",
    "- the best model - analyze it in details, evaluate it with different train/test splits. Is it robust enough"
   ]
  },
  {
   "cell_type": "code",
   "execution_count": null,
   "metadata": {},
   "outputs": [],
   "source": []
  },
  {
   "cell_type": "markdown",
   "metadata": {
    "id": "-yo2Rs_5SXzG"
   },
   "source": [
    "## 7. Discussion, Concusions, Future improvements\n",
    "- which features are the most important\n",
    "- how will you explain the model to the management of the bank\n",
    "- how much benefit/improvement should the bank expect"
   ]
  },
  {
   "cell_type": "code",
   "execution_count": null,
   "metadata": {
    "id": "HSU-oBptSXzG"
   },
   "outputs": [],
   "source": []
  }
 ],
 "metadata": {
  "colab": {
   "collapsed_sections": [],
   "name": "Bank_template.ipynb",
   "provenance": []
  },
  "kernelspec": {
   "display_name": "Python 3",
   "language": "python",
   "name": "python3"
  },
  "language_info": {
   "codemirror_mode": {
    "name": "ipython",
    "version": 3
   },
   "file_extension": ".py",
   "mimetype": "text/x-python",
   "name": "python",
   "nbconvert_exporter": "python",
   "pygments_lexer": "ipython3",
   "version": "3.7.4"
  }
 },
 "nbformat": 4,
 "nbformat_minor": 1
}
