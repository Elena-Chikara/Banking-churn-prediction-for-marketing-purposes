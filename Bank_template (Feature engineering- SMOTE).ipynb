{
 "cells": [
  {
   "cell_type": "markdown",
   "metadata": {
    "id": "RarNoE4PSXyr"
   },
   "source": [
    "# Bank data analysis\n",
    "\n",
    "The goal of your project is to create a robust classifier and use the data, where you will build a model that will recognize whether specific client will leave/unsubscribe the bank services.\n",
    "Make feature engineering but also try differnet models in order to get as much accuracy as possible.\n",
    "\n",
    "\n",
    "\n",
    "\n",
    "    "
   ]
  },
  {
   "cell_type": "markdown",
   "metadata": {
    "id": "ZfCA9MCqxs55"
   },
   "source": [
    "## Dataset Info\n",
    "\n",
    "* CLIENTNUM\n",
    "  - Client number. Unique identifier for the customer holding the account\n",
    "\n",
    "* Attrition_Flag\n",
    "  - Internal event (customer activity) variable - if the account is closed then 1 else 0\n",
    "\n",
    "* Customer_Age\n",
    "  - Demographic variable - Customer's Age in Years\n",
    "\n",
    "* Gender\n",
    "  - Demographic variable - M=Male, F=Female\n",
    "\n",
    "* Dependent_count\n",
    "  - Demographic variable - Number of dependents\n",
    "\n",
    "* Education_Level\n",
    "  - Demographic variable - Educational Qualification of the account holder (example: high school, college graduate, etc.)\n",
    "\n",
    "\n",
    "* Marital_Status\n",
    "  - Demographic variable - Married, Single, Divorced, Unknown\n",
    "\n",
    "* Income_Category\n",
    "  - Demographic variable - Annual Income Category of the account holder (< $40K, $40K - 60K, $60K - $80K, $80K-$120K, > $120K, Unknown)\n",
    "\n",
    "\n",
    "* Card_Category\n",
    "  - Product Variable - Type of Card (Blue, Silver, Gold, Platinum)\n",
    "\n",
    "* Months_on_book\n",
    "  - Period of relationship with bank\n",
    "\n",
    "\n",
    "* Total_Relationship_Count\n",
    "  - Total no. of products held by the customer\n",
    "\n",
    "* Months_Inactive_12_mon\n",
    "  - No. of months inactive in the last 12 months\n",
    "\n",
    "* Contacts_Count_12_mon\n",
    "  - No. of Contacts in the last 12 months\n",
    "\n",
    "* Credit_Limit\n",
    "  - Credit Limit on the Credit Card\n",
    "\n",
    "* Total_Revolving_Bal\n",
    "  - Total Revolving Balance on the Credit Card\n",
    "\n",
    "* Avg_Open_To_Buy\n",
    "  - Open to Buy Credit Line (Average of last 12 months)\n",
    "\n",
    "* Total_Amt_Chng_Q4_Q1\n",
    "  - Change in Transaction Amount (Q4 over Q1)\n",
    "\n",
    "* Total_Trans_Amt\n",
    "  - Total Transaction Amount (Last 12 months)\n",
    "\n",
    "* Total_Trans_Ct\n",
    "  - Total Transaction Count (Last 12 months)\n",
    "\n",
    "* Total_Ct_Chng_Q4_Q1\n",
    "  - Change in Transaction Count (Q4 over Q1)\n",
    "\n",
    "* Avg_Utilization_Ratio\n",
    "  - Average Card Utilization Ratio\n",
    "\n",
    "\n"
   ]
  },
  {
   "cell_type": "markdown",
   "metadata": {
    "id": "u823cXPI0QNc"
   },
   "source": [
    "# Working Plan\n",
    "\n",
    "\n",
    "\n",
    "1. Phase 1 : Dataset\n",
    "    * Team Planning\n",
    "    * Full git project Integration\n",
    "    * General Project Research\n",
    "    * Dataset Preparation\n",
    "    * Dataset Feature Engineering\n",
    "\n",
    "2. Phase 2 : Training\n",
    "    * Make Research about your model\n",
    "    * Compose your model (try different models) \n",
    "    * Ping Pong phase with Dataset feature engineers\n",
    "    * Generate more data if needed\n",
    "    * Fine tunning of your model\n",
    "\n",
    "3. Phase 3 : Deployment\n",
    "    * Perform benchmark (precision/recall), ROC curve\n",
    "    * Model Deploy (Git)\n",
    "    * Write git Readme.md file\n",
    "    * Receive Feedback from PM"
   ]
  },
  {
   "cell_type": "markdown",
   "metadata": {
    "id": "vIGo_fGNSXys"
   },
   "source": [
    "## 0. Read data, visualize, basic statistics, understand it"
   ]
  },
  {
   "cell_type": "code",
   "execution_count": 1,
   "metadata": {
    "id": "Xj5WSaLYSXys"
   },
   "outputs": [],
   "source": [
    "import pandas as pd\n",
    "import numpy as np\n",
    "import matplotlib.pyplot as plt\n",
    "import seaborn as sns\n",
    "import sklearn\n",
    "from sklearn.metrics import roc_curve, plot_roc_curve, auc, RocCurveDisplay\n",
    "from sklearn.metrics import confusion_matrix\n",
    "from sklearn.metrics import confusion_matrix, ConfusionMatrixDisplay"
   ]
  },
  {
   "cell_type": "code",
   "execution_count": 2,
   "metadata": {},
   "outputs": [],
   "source": [
    "dataset = pd.read_csv('dataset_bank.csv')"
   ]
  },
  {
   "cell_type": "code",
   "execution_count": 3,
   "metadata": {},
   "outputs": [
    {
     "data": {
      "text/plain": [
       "array(['$60K - $80K', 'Less than $40K', '$80K - $120K', '$40K - $60K',\n",
       "       '$120K +', 'Unknown'], dtype=object)"
      ]
     },
     "execution_count": 3,
     "metadata": {},
     "output_type": "execute_result"
    }
   ],
   "source": [
    "dataset['Income_Category'].unique()"
   ]
  },
  {
   "cell_type": "code",
   "execution_count": 4,
   "metadata": {},
   "outputs": [
    {
     "data": {
      "text/html": [
       "<div>\n",
       "<style scoped>\n",
       "    .dataframe tbody tr th:only-of-type {\n",
       "        vertical-align: middle;\n",
       "    }\n",
       "\n",
       "    .dataframe tbody tr th {\n",
       "        vertical-align: top;\n",
       "    }\n",
       "\n",
       "    .dataframe thead th {\n",
       "        text-align: right;\n",
       "    }\n",
       "</style>\n",
       "<table border=\"1\" class=\"dataframe\">\n",
       "  <thead>\n",
       "    <tr style=\"text-align: right;\">\n",
       "      <th></th>\n",
       "      <th>CLIENTNUM</th>\n",
       "      <th>Attrition_Flag</th>\n",
       "      <th>Customer_Age</th>\n",
       "      <th>Gender</th>\n",
       "      <th>Dependent_count</th>\n",
       "      <th>Education_Level</th>\n",
       "      <th>Marital_Status</th>\n",
       "      <th>Income_Category</th>\n",
       "      <th>Card_Category</th>\n",
       "      <th>Months_on_book</th>\n",
       "      <th>...</th>\n",
       "      <th>Months_Inactive_12_mon</th>\n",
       "      <th>Contacts_Count_12_mon</th>\n",
       "      <th>Credit_Limit</th>\n",
       "      <th>Total_Revolving_Bal</th>\n",
       "      <th>Avg_Open_To_Buy</th>\n",
       "      <th>Total_Amt_Chng_Q4_Q1</th>\n",
       "      <th>Total_Trans_Amt</th>\n",
       "      <th>Total_Trans_Ct</th>\n",
       "      <th>Total_Ct_Chng_Q4_Q1</th>\n",
       "      <th>Avg_Utilization_Ratio</th>\n",
       "    </tr>\n",
       "  </thead>\n",
       "  <tbody>\n",
       "    <tr>\n",
       "      <td>0</td>\n",
       "      <td>768805383</td>\n",
       "      <td>Existing Customer</td>\n",
       "      <td>45</td>\n",
       "      <td>M</td>\n",
       "      <td>3</td>\n",
       "      <td>High School</td>\n",
       "      <td>Married</td>\n",
       "      <td>$60K - $80K</td>\n",
       "      <td>Blue</td>\n",
       "      <td>39.0</td>\n",
       "      <td>...</td>\n",
       "      <td>1</td>\n",
       "      <td>3</td>\n",
       "      <td>12691.0</td>\n",
       "      <td>777</td>\n",
       "      <td>11914.0</td>\n",
       "      <td>1.335</td>\n",
       "      <td>1144</td>\n",
       "      <td>42</td>\n",
       "      <td>1.625</td>\n",
       "      <td>0.061</td>\n",
       "    </tr>\n",
       "    <tr>\n",
       "      <td>1</td>\n",
       "      <td>818770008</td>\n",
       "      <td>Existing Customer</td>\n",
       "      <td>49</td>\n",
       "      <td>F</td>\n",
       "      <td>5</td>\n",
       "      <td>Graduate</td>\n",
       "      <td>Single</td>\n",
       "      <td>Less than $40K</td>\n",
       "      <td>Blue</td>\n",
       "      <td>44.0</td>\n",
       "      <td>...</td>\n",
       "      <td>1</td>\n",
       "      <td>2</td>\n",
       "      <td>8256.0</td>\n",
       "      <td>864</td>\n",
       "      <td>7392.0</td>\n",
       "      <td>1.541</td>\n",
       "      <td>1291</td>\n",
       "      <td>33</td>\n",
       "      <td>3.714</td>\n",
       "      <td>0.105</td>\n",
       "    </tr>\n",
       "    <tr>\n",
       "      <td>2</td>\n",
       "      <td>713982108</td>\n",
       "      <td>Existing Customer</td>\n",
       "      <td>51</td>\n",
       "      <td>M</td>\n",
       "      <td>3</td>\n",
       "      <td>Graduate</td>\n",
       "      <td>Married</td>\n",
       "      <td>$80K - $120K</td>\n",
       "      <td>Blue</td>\n",
       "      <td>36.0</td>\n",
       "      <td>...</td>\n",
       "      <td>1</td>\n",
       "      <td>0</td>\n",
       "      <td>3418.0</td>\n",
       "      <td>0</td>\n",
       "      <td>3418.0</td>\n",
       "      <td>2.594</td>\n",
       "      <td>1887</td>\n",
       "      <td>20</td>\n",
       "      <td>2.333</td>\n",
       "      <td>0.000</td>\n",
       "    </tr>\n",
       "    <tr>\n",
       "      <td>3</td>\n",
       "      <td>769911858</td>\n",
       "      <td>Existing Customer</td>\n",
       "      <td>40</td>\n",
       "      <td>F</td>\n",
       "      <td>4</td>\n",
       "      <td>High School</td>\n",
       "      <td>Unknown</td>\n",
       "      <td>Less than $40K</td>\n",
       "      <td>Blue</td>\n",
       "      <td>34.0</td>\n",
       "      <td>...</td>\n",
       "      <td>4</td>\n",
       "      <td>1</td>\n",
       "      <td>3313.0</td>\n",
       "      <td>2517</td>\n",
       "      <td>796.0</td>\n",
       "      <td>1.405</td>\n",
       "      <td>1171</td>\n",
       "      <td>20</td>\n",
       "      <td>2.333</td>\n",
       "      <td>0.760</td>\n",
       "    </tr>\n",
       "    <tr>\n",
       "      <td>4</td>\n",
       "      <td>709106358</td>\n",
       "      <td>Existing Customer</td>\n",
       "      <td>40</td>\n",
       "      <td>M</td>\n",
       "      <td>3</td>\n",
       "      <td>Uneducated</td>\n",
       "      <td>Married</td>\n",
       "      <td>$60K - $80K</td>\n",
       "      <td>Blue</td>\n",
       "      <td>21.0</td>\n",
       "      <td>...</td>\n",
       "      <td>1</td>\n",
       "      <td>0</td>\n",
       "      <td>4716.0</td>\n",
       "      <td>0</td>\n",
       "      <td>4716.0</td>\n",
       "      <td>2.175</td>\n",
       "      <td>816</td>\n",
       "      <td>28</td>\n",
       "      <td>2.500</td>\n",
       "      <td>0.000</td>\n",
       "    </tr>\n",
       "    <tr>\n",
       "      <td>5</td>\n",
       "      <td>713061558</td>\n",
       "      <td>Existing Customer</td>\n",
       "      <td>44</td>\n",
       "      <td>M</td>\n",
       "      <td>2</td>\n",
       "      <td>Graduate</td>\n",
       "      <td>Married</td>\n",
       "      <td>$40K - $60K</td>\n",
       "      <td>Blue</td>\n",
       "      <td>36.0</td>\n",
       "      <td>...</td>\n",
       "      <td>1</td>\n",
       "      <td>2</td>\n",
       "      <td>4010.0</td>\n",
       "      <td>1247</td>\n",
       "      <td>2763.0</td>\n",
       "      <td>1.376</td>\n",
       "      <td>1088</td>\n",
       "      <td>24</td>\n",
       "      <td>0.846</td>\n",
       "      <td>0.311</td>\n",
       "    </tr>\n",
       "    <tr>\n",
       "      <td>6</td>\n",
       "      <td>810347208</td>\n",
       "      <td>Existing Customer</td>\n",
       "      <td>51</td>\n",
       "      <td>M</td>\n",
       "      <td>4</td>\n",
       "      <td>Unknown</td>\n",
       "      <td>Married</td>\n",
       "      <td>$120K +</td>\n",
       "      <td>Gold</td>\n",
       "      <td>46.0</td>\n",
       "      <td>...</td>\n",
       "      <td>1</td>\n",
       "      <td>3</td>\n",
       "      <td>34516.0</td>\n",
       "      <td>2264</td>\n",
       "      <td>32252.0</td>\n",
       "      <td>1.975</td>\n",
       "      <td>1330</td>\n",
       "      <td>31</td>\n",
       "      <td>0.722</td>\n",
       "      <td>0.066</td>\n",
       "    </tr>\n",
       "    <tr>\n",
       "      <td>7</td>\n",
       "      <td>818906208</td>\n",
       "      <td>Existing Customer</td>\n",
       "      <td>32</td>\n",
       "      <td>M</td>\n",
       "      <td>0</td>\n",
       "      <td>High School</td>\n",
       "      <td>Unknown</td>\n",
       "      <td>$60K - $80K</td>\n",
       "      <td>Silver</td>\n",
       "      <td>27.0</td>\n",
       "      <td>...</td>\n",
       "      <td>2</td>\n",
       "      <td>2</td>\n",
       "      <td>29081.0</td>\n",
       "      <td>1396</td>\n",
       "      <td>27685.0</td>\n",
       "      <td>2.204</td>\n",
       "      <td>1538</td>\n",
       "      <td>36</td>\n",
       "      <td>0.714</td>\n",
       "      <td>0.048</td>\n",
       "    </tr>\n",
       "    <tr>\n",
       "      <td>8</td>\n",
       "      <td>710930508</td>\n",
       "      <td>Existing Customer</td>\n",
       "      <td>37</td>\n",
       "      <td>M</td>\n",
       "      <td>3</td>\n",
       "      <td>Uneducated</td>\n",
       "      <td>Single</td>\n",
       "      <td>$60K - $80K</td>\n",
       "      <td>Blue</td>\n",
       "      <td>36.0</td>\n",
       "      <td>...</td>\n",
       "      <td>2</td>\n",
       "      <td>0</td>\n",
       "      <td>22352.0</td>\n",
       "      <td>2517</td>\n",
       "      <td>19835.0</td>\n",
       "      <td>3.355</td>\n",
       "      <td>1350</td>\n",
       "      <td>24</td>\n",
       "      <td>1.182</td>\n",
       "      <td>0.113</td>\n",
       "    </tr>\n",
       "    <tr>\n",
       "      <td>9</td>\n",
       "      <td>719661558</td>\n",
       "      <td>Existing Customer</td>\n",
       "      <td>48</td>\n",
       "      <td>M</td>\n",
       "      <td>2</td>\n",
       "      <td>Graduate</td>\n",
       "      <td>Single</td>\n",
       "      <td>$80K - $120K</td>\n",
       "      <td>Blue</td>\n",
       "      <td>36.0</td>\n",
       "      <td>...</td>\n",
       "      <td>3</td>\n",
       "      <td>3</td>\n",
       "      <td>11656.0</td>\n",
       "      <td>1677</td>\n",
       "      <td>9979.0</td>\n",
       "      <td>1.524</td>\n",
       "      <td>1441</td>\n",
       "      <td>32</td>\n",
       "      <td>0.882</td>\n",
       "      <td>0.144</td>\n",
       "    </tr>\n",
       "  </tbody>\n",
       "</table>\n",
       "<p>10 rows × 21 columns</p>\n",
       "</div>"
      ],
      "text/plain": [
       "   CLIENTNUM     Attrition_Flag  Customer_Age Gender  Dependent_count  \\\n",
       "0  768805383  Existing Customer            45      M                3   \n",
       "1  818770008  Existing Customer            49      F                5   \n",
       "2  713982108  Existing Customer            51      M                3   \n",
       "3  769911858  Existing Customer            40      F                4   \n",
       "4  709106358  Existing Customer            40      M                3   \n",
       "5  713061558  Existing Customer            44      M                2   \n",
       "6  810347208  Existing Customer            51      M                4   \n",
       "7  818906208  Existing Customer            32      M                0   \n",
       "8  710930508  Existing Customer            37      M                3   \n",
       "9  719661558  Existing Customer            48      M                2   \n",
       "\n",
       "  Education_Level Marital_Status Income_Category Card_Category  \\\n",
       "0     High School        Married     $60K - $80K          Blue   \n",
       "1        Graduate         Single  Less than $40K          Blue   \n",
       "2        Graduate        Married    $80K - $120K          Blue   \n",
       "3     High School        Unknown  Less than $40K          Blue   \n",
       "4      Uneducated        Married     $60K - $80K          Blue   \n",
       "5        Graduate        Married     $40K - $60K          Blue   \n",
       "6         Unknown        Married         $120K +          Gold   \n",
       "7     High School        Unknown     $60K - $80K        Silver   \n",
       "8      Uneducated         Single     $60K - $80K          Blue   \n",
       "9        Graduate         Single    $80K - $120K          Blue   \n",
       "\n",
       "   Months_on_book  ...  Months_Inactive_12_mon  Contacts_Count_12_mon  \\\n",
       "0            39.0  ...                       1                      3   \n",
       "1            44.0  ...                       1                      2   \n",
       "2            36.0  ...                       1                      0   \n",
       "3            34.0  ...                       4                      1   \n",
       "4            21.0  ...                       1                      0   \n",
       "5            36.0  ...                       1                      2   \n",
       "6            46.0  ...                       1                      3   \n",
       "7            27.0  ...                       2                      2   \n",
       "8            36.0  ...                       2                      0   \n",
       "9            36.0  ...                       3                      3   \n",
       "\n",
       "   Credit_Limit  Total_Revolving_Bal  Avg_Open_To_Buy  Total_Amt_Chng_Q4_Q1  \\\n",
       "0       12691.0                  777          11914.0                 1.335   \n",
       "1        8256.0                  864           7392.0                 1.541   \n",
       "2        3418.0                    0           3418.0                 2.594   \n",
       "3        3313.0                 2517            796.0                 1.405   \n",
       "4        4716.0                    0           4716.0                 2.175   \n",
       "5        4010.0                 1247           2763.0                 1.376   \n",
       "6       34516.0                 2264          32252.0                 1.975   \n",
       "7       29081.0                 1396          27685.0                 2.204   \n",
       "8       22352.0                 2517          19835.0                 3.355   \n",
       "9       11656.0                 1677           9979.0                 1.524   \n",
       "\n",
       "   Total_Trans_Amt  Total_Trans_Ct  Total_Ct_Chng_Q4_Q1  Avg_Utilization_Ratio  \n",
       "0             1144              42                1.625                  0.061  \n",
       "1             1291              33                3.714                  0.105  \n",
       "2             1887              20                2.333                  0.000  \n",
       "3             1171              20                2.333                  0.760  \n",
       "4              816              28                2.500                  0.000  \n",
       "5             1088              24                0.846                  0.311  \n",
       "6             1330              31                0.722                  0.066  \n",
       "7             1538              36                0.714                  0.048  \n",
       "8             1350              24                1.182                  0.113  \n",
       "9             1441              32                0.882                  0.144  \n",
       "\n",
       "[10 rows x 21 columns]"
      ]
     },
     "execution_count": 4,
     "metadata": {},
     "output_type": "execute_result"
    }
   ],
   "source": [
    "dataset.head(10)"
   ]
  },
  {
   "cell_type": "markdown",
   "metadata": {
    "id": "qcK1sU4iSXyw"
   },
   "source": [
    "## 1. Data preprocessing, normalization, missing data, categorical data"
   ]
  },
  {
   "cell_type": "code",
   "execution_count": 5,
   "metadata": {},
   "outputs": [
    {
     "name": "stdout",
     "output_type": "stream",
     "text": [
      "Numeric columns\n",
      "CLIENTNUM\n",
      "Customer_Age\n",
      "Dependent_count\n",
      "Months_on_book\n",
      "Total_Relationship_Count\n",
      "Months_Inactive_12_mon\n",
      "Contacts_Count_12_mon\n",
      "Credit_Limit\n",
      "Total_Revolving_Bal\n",
      "Avg_Open_To_Buy\n",
      "Total_Amt_Chng_Q4_Q1\n",
      "Total_Trans_Amt\n",
      "Total_Trans_Ct\n",
      "Total_Ct_Chng_Q4_Q1\n",
      "Avg_Utilization_Ratio\n",
      "----------------------------------\n",
      "Category columns\n",
      "Attrition_Flag\n",
      "Gender\n",
      "Education_Level\n",
      "Marital_Status\n",
      "Income_Category\n",
      "Card_Category\n"
     ]
    }
   ],
   "source": [
    "# Which columns are numeric, which are category.\n",
    "\n",
    "from pandas.api.types import is_string_dtype\n",
    "from pandas.api.types import is_numeric_dtype\n",
    "\n",
    "\n",
    "print(\"Numeric columns\")\n",
    "for column in dataset.columns:\n",
    "    if is_numeric_dtype(dataset[column]):\n",
    "        print(column)\n",
    "print(\"----------------------------------\")        \n",
    "print(\"Category columns\")        \n",
    "for column in dataset.columns:\n",
    "    if is_string_dtype(dataset[column]):\n",
    "        print(column)"
   ]
  },
  {
   "cell_type": "code",
   "execution_count": 6,
   "metadata": {
    "id": "kgOelHW2SXyx"
   },
   "outputs": [],
   "source": [
    "# Check if there are missing data\n",
    "\n",
    "for column in dataset.columns:\n",
    "    if dataset[column].isnull().values.any():\n",
    "        print(column)"
   ]
  },
  {
   "cell_type": "code",
   "execution_count": 7,
   "metadata": {},
   "outputs": [
    {
     "data": {
      "text/plain": [
       "array([ 3.90000000e+01,  4.40000000e+01,  3.60000000e+01,  3.40000000e+01,\n",
       "        2.10000000e+01,  4.60000000e+01,  2.70000000e+01,  3.10000000e+01,\n",
       "        5.40000000e+01,  3.00000000e+01,  4.80000000e+01,  3.70000000e+01,\n",
       "        5.60000000e+01,  4.20000000e+01,  4.90000000e+01,  3.30000000e+01,\n",
       "        2.80000000e+01,  3.80000000e+01,  4.10000000e+01,  4.30000000e+01,\n",
       "        4.50000000e+01,  5.20000000e+01,  4.00000000e+01,  5.00000000e+01,\n",
       "        3.50000000e+01,  4.70000000e+01,  3.20000000e+01,  2.00000000e+01,\n",
       "        2.90000000e+01,  2.50000000e+01,  5.30000000e+01,  2.40000000e+01,\n",
       "        5.50000000e+01,  2.30000000e+01,  2.20000000e+01,  2.60000000e+01,\n",
       "        2.14748365e+09,  1.30000000e+01,  5.10000000e+01,  1.90000000e+01,\n",
       "        1.50000000e+01,  1.70000000e+01,  1.80000000e+01, -2.14748365e+09,\n",
       "        1.60000000e+01,  1.40000000e+01,  3.21000000e+11])"
      ]
     },
     "execution_count": 7,
     "metadata": {},
     "output_type": "execute_result"
    }
   ],
   "source": [
    "dataset['Months_on_book'].unique()"
   ]
  },
  {
   "cell_type": "code",
   "execution_count": 8,
   "metadata": {},
   "outputs": [],
   "source": [
    "dataset['Months_on_book'] = dataset.Months_on_book.replace({-2147483647: 'None', \n",
    "                                                              2147483647: 'None', \n",
    "                                                              3.21E+11: 'None'})"
   ]
  },
  {
   "cell_type": "code",
   "execution_count": 9,
   "metadata": {},
   "outputs": [
    {
     "data": {
      "text/plain": [
       "array([39.0, 44.0, 36.0, 34.0, 21.0, 46.0, 27.0, 31.0, 54.0, 30.0, 48.0,\n",
       "       37.0, 56.0, 42.0, 49.0, 33.0, 28.0, 38.0, 41.0, 43.0, 45.0, 52.0,\n",
       "       40.0, 50.0, 35.0, 47.0, 32.0, 20.0, 29.0, 25.0, 53.0, 24.0, 55.0,\n",
       "       23.0, 22.0, 26.0, 'None', 13.0, 51.0, 19.0, 15.0, 17.0, 18.0, 16.0,\n",
       "       14.0], dtype=object)"
      ]
     },
     "execution_count": 9,
     "metadata": {},
     "output_type": "execute_result"
    }
   ],
   "source": [
    "dataset['Months_on_book'].unique()"
   ]
  },
  {
   "cell_type": "code",
   "execution_count": 10,
   "metadata": {},
   "outputs": [
    {
     "data": {
      "text/plain": [
       "36.0    2417\n",
       "37.0     358\n",
       "34.0     351\n",
       "38.0     347\n",
       "39.0     341\n",
       "40.0     333\n",
       "31.0     318\n",
       "35.0     314\n",
       "33.0     304\n",
       "30.0     300\n",
       "41.0     297\n",
       "32.0     289\n",
       "28.0     275\n",
       "43.0     273\n",
       "42.0     271\n",
       "29.0     241\n",
       "44.0     230\n",
       "45.0     227\n",
       "27.0     206\n",
       "46.0     197\n",
       "26.0     186\n",
       "47.0     171\n",
       "25.0     165\n",
       "48.0     162\n",
       "24.0     160\n",
       "49.0     141\n",
       "23.0     116\n",
       "22.0     105\n",
       "56.0     103\n",
       "50.0      96\n",
       "21.0      83\n",
       "51.0      80\n",
       "53.0      78\n",
       "20.0      74\n",
       "13.0      70\n",
       "19.0      63\n",
       "52.0      62\n",
       "18.0      58\n",
       "54.0      53\n",
       "None      52\n",
       "55.0      42\n",
       "17.0      39\n",
       "15.0      34\n",
       "16.0      29\n",
       "14.0      16\n",
       "Name: Months_on_book, dtype: int64"
      ]
     },
     "execution_count": 10,
     "metadata": {},
     "output_type": "execute_result"
    }
   ],
   "source": [
    "dataset['Months_on_book'].value_counts()"
   ]
  },
  {
   "cell_type": "code",
   "execution_count": 11,
   "metadata": {},
   "outputs": [],
   "source": [
    "dataset['Months_on_book'] = dataset['Months_on_book'].replace('None', np.nan)"
   ]
  },
  {
   "cell_type": "code",
   "execution_count": 12,
   "metadata": {},
   "outputs": [],
   "source": [
    "from sklearn.impute import KNNImputer\n",
    "\n",
    "transformer = KNNImputer(n_neighbors=2)\n",
    "\n",
    "columns = ['Months_on_book']\n",
    "dataset[columns] = transformer.fit_transform(dataset[columns])"
   ]
  },
  {
   "cell_type": "code",
   "execution_count": 13,
   "metadata": {},
   "outputs": [
    {
     "data": {
      "text/plain": [
       "array([39.        , 44.        , 36.        , 34.        , 21.        ,\n",
       "       46.        , 27.        , 31.        , 54.        , 30.        ,\n",
       "       48.        , 37.        , 56.        , 42.        , 49.        ,\n",
       "       33.        , 28.        , 38.        , 41.        , 43.        ,\n",
       "       45.        , 52.        , 40.        , 50.        , 35.        ,\n",
       "       47.        , 32.        , 20.        , 29.        , 25.        ,\n",
       "       53.        , 24.        , 55.        , 23.        , 22.        ,\n",
       "       26.        , 35.92903226, 13.        , 51.        , 19.        ,\n",
       "       15.        , 17.        , 18.        , 16.        , 14.        ])"
      ]
     },
     "execution_count": 13,
     "metadata": {},
     "output_type": "execute_result"
    }
   ],
   "source": [
    "dataset['Months_on_book'].unique()"
   ]
  },
  {
   "cell_type": "code",
   "execution_count": 14,
   "metadata": {},
   "outputs": [
    {
     "data": {
      "text/plain": [
       "<matplotlib.axes._subplots.AxesSubplot at 0x29014024c48>"
      ]
     },
     "execution_count": 14,
     "metadata": {},
     "output_type": "execute_result"
    },
    {
     "data": {
      "image/png": "[encoded data removed]",
      "text/plain": [
       "<Figure size 1440x720 with 1 Axes>"
      ]
     },
     "metadata": {
      "needs_background": "light"
     },
     "output_type": "display_data"
    }
   ],
   "source": [
    "dataset['Months_on_book'].value_counts().plot.bar(figsize=(20,10),title='Months_on_book')"
   ]
  },
  {
   "cell_type": "code",
   "execution_count": 15,
   "metadata": {},
   "outputs": [
    {
     "data": {
      "text/plain": [
       "<matplotlib.axes._subplots.AxesSubplot at 0x290148e4e48>"
      ]
     },
     "execution_count": 15,
     "metadata": {},
     "output_type": "execute_result"
    },
    {
     "data": {
      "image/png": "[encoded data removed]",
      "text/plain": [
       "<Figure size 1440x360 with 2 Axes>"
      ]
     },
     "metadata": {
      "needs_background": "light"
     },
     "output_type": "display_data"
    }
   ],
   "source": [
    "plt.figure(figsize=(20,5))\n",
    "\n",
    "plt.subplot(121)\n",
    "sns.distplot(dataset['Months_on_book'], label='Months_on_book')\n",
    "\n",
    "plt.subplot(122)\n",
    "dataset['Months_on_book'].plot(kind='box', label=\"Months_on_book\")"
   ]
  },
  {
   "cell_type": "code",
   "execution_count": 16,
   "metadata": {},
   "outputs": [
    {
     "data": {
      "text/plain": [
       "36.000000    2417\n",
       "37.000000     358\n",
       "34.000000     351\n",
       "38.000000     347\n",
       "39.000000     341\n",
       "40.000000     333\n",
       "31.000000     318\n",
       "35.000000     314\n",
       "33.000000     304\n",
       "30.000000     300\n",
       "41.000000     297\n",
       "32.000000     289\n",
       "28.000000     275\n",
       "43.000000     273\n",
       "42.000000     271\n",
       "29.000000     241\n",
       "44.000000     230\n",
       "45.000000     227\n",
       "27.000000     206\n",
       "46.000000     197\n",
       "26.000000     186\n",
       "47.000000     171\n",
       "25.000000     165\n",
       "48.000000     162\n",
       "24.000000     160\n",
       "49.000000     141\n",
       "23.000000     116\n",
       "22.000000     105\n",
       "56.000000     103\n",
       "50.000000      96\n",
       "21.000000      83\n",
       "51.000000      80\n",
       "53.000000      78\n",
       "20.000000      74\n",
       "13.000000      70\n",
       "19.000000      63\n",
       "52.000000      62\n",
       "18.000000      58\n",
       "54.000000      53\n",
       "35.929032      52\n",
       "55.000000      42\n",
       "17.000000      39\n",
       "15.000000      34\n",
       "16.000000      29\n",
       "14.000000      16\n",
       "Name: Months_on_book, dtype: int64"
      ]
     },
     "execution_count": 16,
     "metadata": {},
     "output_type": "execute_result"
    }
   ],
   "source": [
    "dataset['Months_on_book'].value_counts()"
   ]
  },
  {
   "cell_type": "code",
   "execution_count": 17,
   "metadata": {},
   "outputs": [],
   "source": [
    "# Conclusion: According to the plots and numbers, the outliers of the feature Months_on book would be: 13, 14, 15, 16, 17, \n",
    "# 18, 19, 52, 54 and 55. Number of months 35.929 is not taken as an outlier because is a product of KNNImputer. As a \n",
    "# rounded number it is 36, and it is the majority of data."
   ]
  },
  {
   "cell_type": "code",
   "execution_count": 18,
   "metadata": {},
   "outputs": [],
   "source": [
    "# Remove ID values\n",
    "\n",
    "dataset.drop(['CLIENTNUM'], inplace=True, axis='columns')"
   ]
  },
  {
   "cell_type": "code",
   "execution_count": 19,
   "metadata": {},
   "outputs": [
    {
     "data": {
      "text/html": [
       "<div>\n",
       "<style scoped>\n",
       "    .dataframe tbody tr th:only-of-type {\n",
       "        vertical-align: middle;\n",
       "    }\n",
       "\n",
       "    .dataframe tbody tr th {\n",
       "        vertical-align: top;\n",
       "    }\n",
       "\n",
       "    .dataframe thead th {\n",
       "        text-align: right;\n",
       "    }\n",
       "</style>\n",
       "<table border=\"1\" class=\"dataframe\">\n",
       "  <thead>\n",
       "    <tr style=\"text-align: right;\">\n",
       "      <th></th>\n",
       "      <th>Attrition_Flag</th>\n",
       "      <th>Customer_Age</th>\n",
       "      <th>Gender</th>\n",
       "      <th>Dependent_count</th>\n",
       "      <th>Education_Level</th>\n",
       "      <th>Marital_Status</th>\n",
       "      <th>Income_Category</th>\n",
       "      <th>Card_Category</th>\n",
       "      <th>Months_on_book</th>\n",
       "      <th>Total_Relationship_Count</th>\n",
       "      <th>Months_Inactive_12_mon</th>\n",
       "      <th>Contacts_Count_12_mon</th>\n",
       "      <th>Credit_Limit</th>\n",
       "      <th>Total_Revolving_Bal</th>\n",
       "      <th>Avg_Open_To_Buy</th>\n",
       "      <th>Total_Amt_Chng_Q4_Q1</th>\n",
       "      <th>Total_Trans_Amt</th>\n",
       "      <th>Total_Trans_Ct</th>\n",
       "      <th>Total_Ct_Chng_Q4_Q1</th>\n",
       "      <th>Avg_Utilization_Ratio</th>\n",
       "    </tr>\n",
       "  </thead>\n",
       "  <tbody>\n",
       "    <tr>\n",
       "      <td>0</td>\n",
       "      <td>Existing Customer</td>\n",
       "      <td>45</td>\n",
       "      <td>M</td>\n",
       "      <td>3</td>\n",
       "      <td>High School</td>\n",
       "      <td>Married</td>\n",
       "      <td>$60K - $80K</td>\n",
       "      <td>Blue</td>\n",
       "      <td>39.0</td>\n",
       "      <td>5</td>\n",
       "      <td>1</td>\n",
       "      <td>3</td>\n",
       "      <td>12691.0</td>\n",
       "      <td>777</td>\n",
       "      <td>11914.0</td>\n",
       "      <td>1.335</td>\n",
       "      <td>1144</td>\n",
       "      <td>42</td>\n",
       "      <td>1.625</td>\n",
       "      <td>0.061</td>\n",
       "    </tr>\n",
       "    <tr>\n",
       "      <td>1</td>\n",
       "      <td>Existing Customer</td>\n",
       "      <td>49</td>\n",
       "      <td>F</td>\n",
       "      <td>5</td>\n",
       "      <td>Graduate</td>\n",
       "      <td>Single</td>\n",
       "      <td>Less than $40K</td>\n",
       "      <td>Blue</td>\n",
       "      <td>44.0</td>\n",
       "      <td>6</td>\n",
       "      <td>1</td>\n",
       "      <td>2</td>\n",
       "      <td>8256.0</td>\n",
       "      <td>864</td>\n",
       "      <td>7392.0</td>\n",
       "      <td>1.541</td>\n",
       "      <td>1291</td>\n",
       "      <td>33</td>\n",
       "      <td>3.714</td>\n",
       "      <td>0.105</td>\n",
       "    </tr>\n",
       "    <tr>\n",
       "      <td>2</td>\n",
       "      <td>Existing Customer</td>\n",
       "      <td>51</td>\n",
       "      <td>M</td>\n",
       "      <td>3</td>\n",
       "      <td>Graduate</td>\n",
       "      <td>Married</td>\n",
       "      <td>$80K - $120K</td>\n",
       "      <td>Blue</td>\n",
       "      <td>36.0</td>\n",
       "      <td>4</td>\n",
       "      <td>1</td>\n",
       "      <td>0</td>\n",
       "      <td>3418.0</td>\n",
       "      <td>0</td>\n",
       "      <td>3418.0</td>\n",
       "      <td>2.594</td>\n",
       "      <td>1887</td>\n",
       "      <td>20</td>\n",
       "      <td>2.333</td>\n",
       "      <td>0.000</td>\n",
       "    </tr>\n",
       "    <tr>\n",
       "      <td>3</td>\n",
       "      <td>Existing Customer</td>\n",
       "      <td>40</td>\n",
       "      <td>F</td>\n",
       "      <td>4</td>\n",
       "      <td>High School</td>\n",
       "      <td>Unknown</td>\n",
       "      <td>Less than $40K</td>\n",
       "      <td>Blue</td>\n",
       "      <td>34.0</td>\n",
       "      <td>3</td>\n",
       "      <td>4</td>\n",
       "      <td>1</td>\n",
       "      <td>3313.0</td>\n",
       "      <td>2517</td>\n",
       "      <td>796.0</td>\n",
       "      <td>1.405</td>\n",
       "      <td>1171</td>\n",
       "      <td>20</td>\n",
       "      <td>2.333</td>\n",
       "      <td>0.760</td>\n",
       "    </tr>\n",
       "    <tr>\n",
       "      <td>4</td>\n",
       "      <td>Existing Customer</td>\n",
       "      <td>40</td>\n",
       "      <td>M</td>\n",
       "      <td>3</td>\n",
       "      <td>Uneducated</td>\n",
       "      <td>Married</td>\n",
       "      <td>$60K - $80K</td>\n",
       "      <td>Blue</td>\n",
       "      <td>21.0</td>\n",
       "      <td>5</td>\n",
       "      <td>1</td>\n",
       "      <td>0</td>\n",
       "      <td>4716.0</td>\n",
       "      <td>0</td>\n",
       "      <td>4716.0</td>\n",
       "      <td>2.175</td>\n",
       "      <td>816</td>\n",
       "      <td>28</td>\n",
       "      <td>2.500</td>\n",
       "      <td>0.000</td>\n",
       "    </tr>\n",
       "  </tbody>\n",
       "</table>\n",
       "</div>"
      ],
      "text/plain": [
       "      Attrition_Flag  Customer_Age Gender  Dependent_count Education_Level  \\\n",
       "0  Existing Customer            45      M                3     High School   \n",
       "1  Existing Customer            49      F                5        Graduate   \n",
       "2  Existing Customer            51      M                3        Graduate   \n",
       "3  Existing Customer            40      F                4     High School   \n",
       "4  Existing Customer            40      M                3      Uneducated   \n",
       "\n",
       "  Marital_Status Income_Category Card_Category  Months_on_book  \\\n",
       "0        Married     $60K - $80K          Blue            39.0   \n",
       "1         Single  Less than $40K          Blue            44.0   \n",
       "2        Married    $80K - $120K          Blue            36.0   \n",
       "3        Unknown  Less than $40K          Blue            34.0   \n",
       "4        Married     $60K - $80K          Blue            21.0   \n",
       "\n",
       "   Total_Relationship_Count  Months_Inactive_12_mon  Contacts_Count_12_mon  \\\n",
       "0                         5                       1                      3   \n",
       "1                         6                       1                      2   \n",
       "2                         4                       1                      0   \n",
       "3                         3                       4                      1   \n",
       "4                         5                       1                      0   \n",
       "\n",
       "   Credit_Limit  Total_Revolving_Bal  Avg_Open_To_Buy  Total_Amt_Chng_Q4_Q1  \\\n",
       "0       12691.0                  777          11914.0                 1.335   \n",
       "1        8256.0                  864           7392.0                 1.541   \n",
       "2        3418.0                    0           3418.0                 2.594   \n",
       "3        3313.0                 2517            796.0                 1.405   \n",
       "4        4716.0                    0           4716.0                 2.175   \n",
       "\n",
       "   Total_Trans_Amt  Total_Trans_Ct  Total_Ct_Chng_Q4_Q1  Avg_Utilization_Ratio  \n",
       "0             1144              42                1.625                  0.061  \n",
       "1             1291              33                3.714                  0.105  \n",
       "2             1887              20                2.333                  0.000  \n",
       "3             1171              20                2.333                  0.760  \n",
       "4              816              28                2.500                  0.000  "
      ]
     },
     "execution_count": 19,
     "metadata": {},
     "output_type": "execute_result"
    }
   ],
   "source": [
    "dataset.head()"
   ]
  },
  {
   "cell_type": "code",
   "execution_count": 20,
   "metadata": {},
   "outputs": [
    {
     "data": {
      "text/plain": [
       "array([45, 49, 51, 40, 44, 32, 37, 48, 42, 65, 56, 35, 57, 41, 61, 47, 62,\n",
       "       54, 59, 63, 53, 58, 55, 66, 50, 38, 46, 52, 39, 43, 64, 68, 67, 60,\n",
       "       73, 70, 36, 34, 33, 26, 31, 29, 30, 28, 27], dtype=int64)"
      ]
     },
     "execution_count": 20,
     "metadata": {},
     "output_type": "execute_result"
    }
   ],
   "source": [
    "dataset['Customer_Age'].unique()"
   ]
  },
  {
   "cell_type": "code",
   "execution_count": 21,
   "metadata": {},
   "outputs": [],
   "source": [
    "from sklearn.preprocessing import StandardScaler\n",
    "\n",
    "\n",
    "def scale(dataset, columns):\n",
    "    dataset_new = dataset.copy()\n",
    "    standard_scaller = StandardScaler() \n",
    "    dataset_new[columns] = standard_scaller.fit_transform(dataset_new[columns])\n",
    "\n",
    "    \n",
    "    return dataset_new\n",
    "\n",
    "dataset_scaled = scale(dataset, columns=['Customer_Age', 'Dependent_count', 'Months_on_book', 'Total_Relationship_Count', \n",
    "                                         'Months_Inactive_12_mon', 'Contacts_Count_12_mon', 'Credit_Limit', \n",
    "                                         'Total_Revolving_Bal', 'Avg_Open_To_Buy', 'Total_Amt_Chng_Q4_Q1', \n",
    "                                         'Total_Trans_Amt', 'Total_Trans_Ct', 'Total_Ct_Chng_Q4_Q1', \n",
    "                                         'Avg_Utilization_Ratio'])"
   ]
  },
  {
   "cell_type": "code",
   "execution_count": 22,
   "metadata": {
    "scrolled": true
   },
   "outputs": [
    {
     "data": {
      "text/html": [
       "<div>\n",
       "<style scoped>\n",
       "    .dataframe tbody tr th:only-of-type {\n",
       "        vertical-align: middle;\n",
       "    }\n",
       "\n",
       "    .dataframe tbody tr th {\n",
       "        vertical-align: top;\n",
       "    }\n",
       "\n",
       "    .dataframe thead th {\n",
       "        text-align: right;\n",
       "    }\n",
       "</style>\n",
       "<table border=\"1\" class=\"dataframe\">\n",
       "  <thead>\n",
       "    <tr style=\"text-align: right;\">\n",
       "      <th></th>\n",
       "      <th>Attrition_Flag</th>\n",
       "      <th>Customer_Age</th>\n",
       "      <th>Gender</th>\n",
       "      <th>Dependent_count</th>\n",
       "      <th>Education_Level</th>\n",
       "      <th>Marital_Status</th>\n",
       "      <th>Income_Category</th>\n",
       "      <th>Card_Category</th>\n",
       "      <th>Months_on_book</th>\n",
       "      <th>Total_Relationship_Count</th>\n",
       "      <th>Months_Inactive_12_mon</th>\n",
       "      <th>Contacts_Count_12_mon</th>\n",
       "      <th>Credit_Limit</th>\n",
       "      <th>Total_Revolving_Bal</th>\n",
       "      <th>Avg_Open_To_Buy</th>\n",
       "      <th>Total_Amt_Chng_Q4_Q1</th>\n",
       "      <th>Total_Trans_Amt</th>\n",
       "      <th>Total_Trans_Ct</th>\n",
       "      <th>Total_Ct_Chng_Q4_Q1</th>\n",
       "      <th>Avg_Utilization_Ratio</th>\n",
       "    </tr>\n",
       "  </thead>\n",
       "  <tbody>\n",
       "    <tr>\n",
       "      <td>0</td>\n",
       "      <td>Existing Customer</td>\n",
       "      <td>-0.165406</td>\n",
       "      <td>M</td>\n",
       "      <td>0.503368</td>\n",
       "      <td>High School</td>\n",
       "      <td>Married</td>\n",
       "      <td>$60K - $80K</td>\n",
       "      <td>Blue</td>\n",
       "      <td>0.384548</td>\n",
       "      <td>0.763943</td>\n",
       "      <td>-1.327136</td>\n",
       "      <td>0.492404</td>\n",
       "      <td>0.446622</td>\n",
       "      <td>-0.473422</td>\n",
       "      <td>0.488971</td>\n",
       "      <td>2.623494</td>\n",
       "      <td>-0.959707</td>\n",
       "      <td>-0.973895</td>\n",
       "      <td>3.834003</td>\n",
       "      <td>-0.775882</td>\n",
       "    </tr>\n",
       "    <tr>\n",
       "      <td>1</td>\n",
       "      <td>Existing Customer</td>\n",
       "      <td>0.333570</td>\n",
       "      <td>F</td>\n",
       "      <td>2.043199</td>\n",
       "      <td>Graduate</td>\n",
       "      <td>Single</td>\n",
       "      <td>Less than $40K</td>\n",
       "      <td>Blue</td>\n",
       "      <td>1.010652</td>\n",
       "      <td>1.407306</td>\n",
       "      <td>-1.327136</td>\n",
       "      <td>-0.411616</td>\n",
       "      <td>-0.041367</td>\n",
       "      <td>-0.366667</td>\n",
       "      <td>-0.008486</td>\n",
       "      <td>3.563293</td>\n",
       "      <td>-0.916433</td>\n",
       "      <td>-1.357340</td>\n",
       "      <td>12.608573</td>\n",
       "      <td>-0.616276</td>\n",
       "    </tr>\n",
       "    <tr>\n",
       "      <td>2</td>\n",
       "      <td>Existing Customer</td>\n",
       "      <td>0.583058</td>\n",
       "      <td>M</td>\n",
       "      <td>0.503368</td>\n",
       "      <td>Graduate</td>\n",
       "      <td>Married</td>\n",
       "      <td>$80K - $120K</td>\n",
       "      <td>Blue</td>\n",
       "      <td>0.008887</td>\n",
       "      <td>0.120579</td>\n",
       "      <td>-1.327136</td>\n",
       "      <td>-2.219655</td>\n",
       "      <td>-0.573698</td>\n",
       "      <td>-1.426858</td>\n",
       "      <td>-0.445658</td>\n",
       "      <td>8.367214</td>\n",
       "      <td>-0.740982</td>\n",
       "      <td>-1.911206</td>\n",
       "      <td>6.807864</td>\n",
       "      <td>-0.997155</td>\n",
       "    </tr>\n",
       "    <tr>\n",
       "      <td>3</td>\n",
       "      <td>Existing Customer</td>\n",
       "      <td>-0.789126</td>\n",
       "      <td>F</td>\n",
       "      <td>1.273283</td>\n",
       "      <td>High School</td>\n",
       "      <td>Unknown</td>\n",
       "      <td>Less than $40K</td>\n",
       "      <td>Blue</td>\n",
       "      <td>-0.241555</td>\n",
       "      <td>-0.522785</td>\n",
       "      <td>1.641478</td>\n",
       "      <td>-1.315636</td>\n",
       "      <td>-0.585251</td>\n",
       "      <td>1.661686</td>\n",
       "      <td>-0.734100</td>\n",
       "      <td>2.942843</td>\n",
       "      <td>-0.951758</td>\n",
       "      <td>-1.911206</td>\n",
       "      <td>6.807864</td>\n",
       "      <td>1.759686</td>\n",
       "    </tr>\n",
       "    <tr>\n",
       "      <td>4</td>\n",
       "      <td>Existing Customer</td>\n",
       "      <td>-0.789126</td>\n",
       "      <td>M</td>\n",
       "      <td>0.503368</td>\n",
       "      <td>Uneducated</td>\n",
       "      <td>Married</td>\n",
       "      <td>$60K - $80K</td>\n",
       "      <td>Blue</td>\n",
       "      <td>-1.869423</td>\n",
       "      <td>0.763943</td>\n",
       "      <td>-1.327136</td>\n",
       "      <td>-2.219655</td>\n",
       "      <td>-0.430877</td>\n",
       "      <td>-1.426858</td>\n",
       "      <td>-0.302868</td>\n",
       "      <td>6.455682</td>\n",
       "      <td>-1.056263</td>\n",
       "      <td>-1.570365</td>\n",
       "      <td>7.509325</td>\n",
       "      <td>-0.997155</td>\n",
       "    </tr>\n",
       "  </tbody>\n",
       "</table>\n",
       "</div>"
      ],
      "text/plain": [
       "      Attrition_Flag  Customer_Age Gender  Dependent_count Education_Level  \\\n",
       "0  Existing Customer     -0.165406      M         0.503368     High School   \n",
       "1  Existing Customer      0.333570      F         2.043199        Graduate   \n",
       "2  Existing Customer      0.583058      M         0.503368        Graduate   \n",
       "3  Existing Customer     -0.789126      F         1.273283     High School   \n",
       "4  Existing Customer     -0.789126      M         0.503368      Uneducated   \n",
       "\n",
       "  Marital_Status Income_Category Card_Category  Months_on_book  \\\n",
       "0        Married     $60K - $80K          Blue        0.384548   \n",
       "1         Single  Less than $40K          Blue        1.010652   \n",
       "2        Married    $80K - $120K          Blue        0.008887   \n",
       "3        Unknown  Less than $40K          Blue       -0.241555   \n",
       "4        Married     $60K - $80K          Blue       -1.869423   \n",
       "\n",
       "   Total_Relationship_Count  Months_Inactive_12_mon  Contacts_Count_12_mon  \\\n",
       "0                  0.763943               -1.327136               0.492404   \n",
       "1                  1.407306               -1.327136              -0.411616   \n",
       "2                  0.120579               -1.327136              -2.219655   \n",
       "3                 -0.522785                1.641478              -1.315636   \n",
       "4                  0.763943               -1.327136              -2.219655   \n",
       "\n",
       "   Credit_Limit  Total_Revolving_Bal  Avg_Open_To_Buy  Total_Amt_Chng_Q4_Q1  \\\n",
       "0      0.446622            -0.473422         0.488971              2.623494   \n",
       "1     -0.041367            -0.366667        -0.008486              3.563293   \n",
       "2     -0.573698            -1.426858        -0.445658              8.367214   \n",
       "3     -0.585251             1.661686        -0.734100              2.942843   \n",
       "4     -0.430877            -1.426858        -0.302868              6.455682   \n",
       "\n",
       "   Total_Trans_Amt  Total_Trans_Ct  Total_Ct_Chng_Q4_Q1  Avg_Utilization_Ratio  \n",
       "0        -0.959707       -0.973895             3.834003              -0.775882  \n",
       "1        -0.916433       -1.357340            12.608573              -0.616276  \n",
       "2        -0.740982       -1.911206             6.807864              -0.997155  \n",
       "3        -0.951758       -1.911206             6.807864               1.759686  \n",
       "4        -1.056263       -1.570365             7.509325              -0.997155  "
      ]
     },
     "execution_count": 22,
     "metadata": {},
     "output_type": "execute_result"
    }
   ],
   "source": [
    "dataset_scaled.head()"
   ]
  },
  {
   "cell_type": "code",
   "execution_count": 23,
   "metadata": {},
   "outputs": [
    {
     "name": "stdout",
     "output_type": "stream",
     "text": [
      "Attrition_Flag 2\n",
      "Gender 2\n",
      "Education_Level 7\n",
      "Marital_Status 4\n",
      "Income_Category 6\n",
      "Card_Category 4\n"
     ]
    }
   ],
   "source": [
    "# List the categorical features and their number of categories\n",
    "\n",
    "from pandas.api.types import is_string_dtype\n",
    "\n",
    "for i in dataset_scaled.columns:\n",
    "    if is_string_dtype(dataset_scaled[i]):\n",
    "        print(i, len(dataset_scaled[i].unique()))"
   ]
  },
  {
   "cell_type": "code",
   "execution_count": 24,
   "metadata": {},
   "outputs": [],
   "source": [
    "from sklearn.preprocessing import LabelEncoder\n",
    "\n",
    "def label_encoding_notordinal(dataset, columns):\n",
    "    dataset_ = dataset.copy()\n",
    "    transformer = LabelEncoder()\n",
    "    for column in columns:\n",
    "        dataset_[column]  = transformer.fit_transform(dataset_[column])\n",
    "    return dataset_"
   ]
  },
  {
   "cell_type": "code",
   "execution_count": 25,
   "metadata": {},
   "outputs": [],
   "source": [
    "dataset_label_encoded = label_encoding_notordinal(dataset_scaled, columns=['Education_Level', 'Income_Category', \n",
    "                                                                           'Attrition_Flag'])"
   ]
  },
  {
   "cell_type": "code",
   "execution_count": 26,
   "metadata": {},
   "outputs": [
    {
     "data": {
      "text/html": [
       "<div>\n",
       "<style scoped>\n",
       "    .dataframe tbody tr th:only-of-type {\n",
       "        vertical-align: middle;\n",
       "    }\n",
       "\n",
       "    .dataframe tbody tr th {\n",
       "        vertical-align: top;\n",
       "    }\n",
       "\n",
       "    .dataframe thead th {\n",
       "        text-align: right;\n",
       "    }\n",
       "</style>\n",
       "<table border=\"1\" class=\"dataframe\">\n",
       "  <thead>\n",
       "    <tr style=\"text-align: right;\">\n",
       "      <th></th>\n",
       "      <th>Attrition_Flag</th>\n",
       "      <th>Customer_Age</th>\n",
       "      <th>Gender</th>\n",
       "      <th>Dependent_count</th>\n",
       "      <th>Education_Level</th>\n",
       "      <th>Marital_Status</th>\n",
       "      <th>Income_Category</th>\n",
       "      <th>Card_Category</th>\n",
       "      <th>Months_on_book</th>\n",
       "      <th>Total_Relationship_Count</th>\n",
       "      <th>Months_Inactive_12_mon</th>\n",
       "      <th>Contacts_Count_12_mon</th>\n",
       "      <th>Credit_Limit</th>\n",
       "      <th>Total_Revolving_Bal</th>\n",
       "      <th>Avg_Open_To_Buy</th>\n",
       "      <th>Total_Amt_Chng_Q4_Q1</th>\n",
       "      <th>Total_Trans_Amt</th>\n",
       "      <th>Total_Trans_Ct</th>\n",
       "      <th>Total_Ct_Chng_Q4_Q1</th>\n",
       "      <th>Avg_Utilization_Ratio</th>\n",
       "    </tr>\n",
       "  </thead>\n",
       "  <tbody>\n",
       "    <tr>\n",
       "      <td>0</td>\n",
       "      <td>1</td>\n",
       "      <td>-0.165406</td>\n",
       "      <td>M</td>\n",
       "      <td>0.503368</td>\n",
       "      <td>3</td>\n",
       "      <td>Married</td>\n",
       "      <td>2</td>\n",
       "      <td>Blue</td>\n",
       "      <td>0.384548</td>\n",
       "      <td>0.763943</td>\n",
       "      <td>-1.327136</td>\n",
       "      <td>0.492404</td>\n",
       "      <td>0.446622</td>\n",
       "      <td>-0.473422</td>\n",
       "      <td>0.488971</td>\n",
       "      <td>2.623494</td>\n",
       "      <td>-0.959707</td>\n",
       "      <td>-0.973895</td>\n",
       "      <td>3.834003</td>\n",
       "      <td>-0.775882</td>\n",
       "    </tr>\n",
       "    <tr>\n",
       "      <td>1</td>\n",
       "      <td>1</td>\n",
       "      <td>0.333570</td>\n",
       "      <td>F</td>\n",
       "      <td>2.043199</td>\n",
       "      <td>2</td>\n",
       "      <td>Single</td>\n",
       "      <td>4</td>\n",
       "      <td>Blue</td>\n",
       "      <td>1.010652</td>\n",
       "      <td>1.407306</td>\n",
       "      <td>-1.327136</td>\n",
       "      <td>-0.411616</td>\n",
       "      <td>-0.041367</td>\n",
       "      <td>-0.366667</td>\n",
       "      <td>-0.008486</td>\n",
       "      <td>3.563293</td>\n",
       "      <td>-0.916433</td>\n",
       "      <td>-1.357340</td>\n",
       "      <td>12.608573</td>\n",
       "      <td>-0.616276</td>\n",
       "    </tr>\n",
       "    <tr>\n",
       "      <td>2</td>\n",
       "      <td>1</td>\n",
       "      <td>0.583058</td>\n",
       "      <td>M</td>\n",
       "      <td>0.503368</td>\n",
       "      <td>2</td>\n",
       "      <td>Married</td>\n",
       "      <td>3</td>\n",
       "      <td>Blue</td>\n",
       "      <td>0.008887</td>\n",
       "      <td>0.120579</td>\n",
       "      <td>-1.327136</td>\n",
       "      <td>-2.219655</td>\n",
       "      <td>-0.573698</td>\n",
       "      <td>-1.426858</td>\n",
       "      <td>-0.445658</td>\n",
       "      <td>8.367214</td>\n",
       "      <td>-0.740982</td>\n",
       "      <td>-1.911206</td>\n",
       "      <td>6.807864</td>\n",
       "      <td>-0.997155</td>\n",
       "    </tr>\n",
       "    <tr>\n",
       "      <td>3</td>\n",
       "      <td>1</td>\n",
       "      <td>-0.789126</td>\n",
       "      <td>F</td>\n",
       "      <td>1.273283</td>\n",
       "      <td>3</td>\n",
       "      <td>Unknown</td>\n",
       "      <td>4</td>\n",
       "      <td>Blue</td>\n",
       "      <td>-0.241555</td>\n",
       "      <td>-0.522785</td>\n",
       "      <td>1.641478</td>\n",
       "      <td>-1.315636</td>\n",
       "      <td>-0.585251</td>\n",
       "      <td>1.661686</td>\n",
       "      <td>-0.734100</td>\n",
       "      <td>2.942843</td>\n",
       "      <td>-0.951758</td>\n",
       "      <td>-1.911206</td>\n",
       "      <td>6.807864</td>\n",
       "      <td>1.759686</td>\n",
       "    </tr>\n",
       "    <tr>\n",
       "      <td>4</td>\n",
       "      <td>1</td>\n",
       "      <td>-0.789126</td>\n",
       "      <td>M</td>\n",
       "      <td>0.503368</td>\n",
       "      <td>5</td>\n",
       "      <td>Married</td>\n",
       "      <td>2</td>\n",
       "      <td>Blue</td>\n",
       "      <td>-1.869423</td>\n",
       "      <td>0.763943</td>\n",
       "      <td>-1.327136</td>\n",
       "      <td>-2.219655</td>\n",
       "      <td>-0.430877</td>\n",
       "      <td>-1.426858</td>\n",
       "      <td>-0.302868</td>\n",
       "      <td>6.455682</td>\n",
       "      <td>-1.056263</td>\n",
       "      <td>-1.570365</td>\n",
       "      <td>7.509325</td>\n",
       "      <td>-0.997155</td>\n",
       "    </tr>\n",
       "  </tbody>\n",
       "</table>\n",
       "</div>"
      ],
      "text/plain": [
       "   Attrition_Flag  Customer_Age Gender  Dependent_count  Education_Level  \\\n",
       "0               1     -0.165406      M         0.503368                3   \n",
       "1               1      0.333570      F         2.043199                2   \n",
       "2               1      0.583058      M         0.503368                2   \n",
       "3               1     -0.789126      F         1.273283                3   \n",
       "4               1     -0.789126      M         0.503368                5   \n",
       "\n",
       "  Marital_Status  Income_Category Card_Category  Months_on_book  \\\n",
       "0        Married                2          Blue        0.384548   \n",
       "1         Single                4          Blue        1.010652   \n",
       "2        Married                3          Blue        0.008887   \n",
       "3        Unknown                4          Blue       -0.241555   \n",
       "4        Married                2          Blue       -1.869423   \n",
       "\n",
       "   Total_Relationship_Count  Months_Inactive_12_mon  Contacts_Count_12_mon  \\\n",
       "0                  0.763943               -1.327136               0.492404   \n",
       "1                  1.407306               -1.327136              -0.411616   \n",
       "2                  0.120579               -1.327136              -2.219655   \n",
       "3                 -0.522785                1.641478              -1.315636   \n",
       "4                  0.763943               -1.327136              -2.219655   \n",
       "\n",
       "   Credit_Limit  Total_Revolving_Bal  Avg_Open_To_Buy  Total_Amt_Chng_Q4_Q1  \\\n",
       "0      0.446622            -0.473422         0.488971              2.623494   \n",
       "1     -0.041367            -0.366667        -0.008486              3.563293   \n",
       "2     -0.573698            -1.426858        -0.445658              8.367214   \n",
       "3     -0.585251             1.661686        -0.734100              2.942843   \n",
       "4     -0.430877            -1.426858        -0.302868              6.455682   \n",
       "\n",
       "   Total_Trans_Amt  Total_Trans_Ct  Total_Ct_Chng_Q4_Q1  Avg_Utilization_Ratio  \n",
       "0        -0.959707       -0.973895             3.834003              -0.775882  \n",
       "1        -0.916433       -1.357340            12.608573              -0.616276  \n",
       "2        -0.740982       -1.911206             6.807864              -0.997155  \n",
       "3        -0.951758       -1.911206             6.807864               1.759686  \n",
       "4        -1.056263       -1.570365             7.509325              -0.997155  "
      ]
     },
     "execution_count": 26,
     "metadata": {},
     "output_type": "execute_result"
    }
   ],
   "source": [
    "dataset_label_encoded.head()"
   ]
  },
  {
   "cell_type": "code",
   "execution_count": 27,
   "metadata": {},
   "outputs": [],
   "source": [
    "def one_hot_encoding(dataset, columns):\n",
    "    dataset_new = dataset.copy()\n",
    "    data_dummies =  pd.get_dummies(dataset[columns])\n",
    "    dataset_new = pd.concat([dataset_new, data_dummies],  axis='columns')\n",
    "    dataset_new.drop(columns, axis='columns', inplace=True)\n",
    "\n",
    "    return dataset_new"
   ]
  },
  {
   "cell_type": "code",
   "execution_count": 28,
   "metadata": {},
   "outputs": [],
   "source": [
    "dataset_one_hot_encoded = one_hot_encoding(dataset_label_encoded, columns=['Gender', 'Marital_Status', 'Card_Category'])"
   ]
  },
  {
   "cell_type": "code",
   "execution_count": 29,
   "metadata": {},
   "outputs": [
    {
     "data": {
      "text/html": [
       "<div>\n",
       "<style scoped>\n",
       "    .dataframe tbody tr th:only-of-type {\n",
       "        vertical-align: middle;\n",
       "    }\n",
       "\n",
       "    .dataframe tbody tr th {\n",
       "        vertical-align: top;\n",
       "    }\n",
       "\n",
       "    .dataframe thead th {\n",
       "        text-align: right;\n",
       "    }\n",
       "</style>\n",
       "<table border=\"1\" class=\"dataframe\">\n",
       "  <thead>\n",
       "    <tr style=\"text-align: right;\">\n",
       "      <th></th>\n",
       "      <th>Attrition_Flag</th>\n",
       "      <th>Customer_Age</th>\n",
       "      <th>Dependent_count</th>\n",
       "      <th>Education_Level</th>\n",
       "      <th>Income_Category</th>\n",
       "      <th>Months_on_book</th>\n",
       "      <th>Total_Relationship_Count</th>\n",
       "      <th>Months_Inactive_12_mon</th>\n",
       "      <th>Contacts_Count_12_mon</th>\n",
       "      <th>Credit_Limit</th>\n",
       "      <th>...</th>\n",
       "      <th>Gender_F</th>\n",
       "      <th>Gender_M</th>\n",
       "      <th>Marital_Status_Divorced</th>\n",
       "      <th>Marital_Status_Married</th>\n",
       "      <th>Marital_Status_Single</th>\n",
       "      <th>Marital_Status_Unknown</th>\n",
       "      <th>Card_Category_Blue</th>\n",
       "      <th>Card_Category_Gold</th>\n",
       "      <th>Card_Category_Platinum</th>\n",
       "      <th>Card_Category_Silver</th>\n",
       "    </tr>\n",
       "  </thead>\n",
       "  <tbody>\n",
       "    <tr>\n",
       "      <td>0</td>\n",
       "      <td>1</td>\n",
       "      <td>-0.165406</td>\n",
       "      <td>0.503368</td>\n",
       "      <td>3</td>\n",
       "      <td>2</td>\n",
       "      <td>0.384548</td>\n",
       "      <td>0.763943</td>\n",
       "      <td>-1.327136</td>\n",
       "      <td>0.492404</td>\n",
       "      <td>0.446622</td>\n",
       "      <td>...</td>\n",
       "      <td>0</td>\n",
       "      <td>1</td>\n",
       "      <td>0</td>\n",
       "      <td>1</td>\n",
       "      <td>0</td>\n",
       "      <td>0</td>\n",
       "      <td>1</td>\n",
       "      <td>0</td>\n",
       "      <td>0</td>\n",
       "      <td>0</td>\n",
       "    </tr>\n",
       "    <tr>\n",
       "      <td>1</td>\n",
       "      <td>1</td>\n",
       "      <td>0.333570</td>\n",
       "      <td>2.043199</td>\n",
       "      <td>2</td>\n",
       "      <td>4</td>\n",
       "      <td>1.010652</td>\n",
       "      <td>1.407306</td>\n",
       "      <td>-1.327136</td>\n",
       "      <td>-0.411616</td>\n",
       "      <td>-0.041367</td>\n",
       "      <td>...</td>\n",
       "      <td>1</td>\n",
       "      <td>0</td>\n",
       "      <td>0</td>\n",
       "      <td>0</td>\n",
       "      <td>1</td>\n",
       "      <td>0</td>\n",
       "      <td>1</td>\n",
       "      <td>0</td>\n",
       "      <td>0</td>\n",
       "      <td>0</td>\n",
       "    </tr>\n",
       "    <tr>\n",
       "      <td>2</td>\n",
       "      <td>1</td>\n",
       "      <td>0.583058</td>\n",
       "      <td>0.503368</td>\n",
       "      <td>2</td>\n",
       "      <td>3</td>\n",
       "      <td>0.008887</td>\n",
       "      <td>0.120579</td>\n",
       "      <td>-1.327136</td>\n",
       "      <td>-2.219655</td>\n",
       "      <td>-0.573698</td>\n",
       "      <td>...</td>\n",
       "      <td>0</td>\n",
       "      <td>1</td>\n",
       "      <td>0</td>\n",
       "      <td>1</td>\n",
       "      <td>0</td>\n",
       "      <td>0</td>\n",
       "      <td>1</td>\n",
       "      <td>0</td>\n",
       "      <td>0</td>\n",
       "      <td>0</td>\n",
       "    </tr>\n",
       "    <tr>\n",
       "      <td>3</td>\n",
       "      <td>1</td>\n",
       "      <td>-0.789126</td>\n",
       "      <td>1.273283</td>\n",
       "      <td>3</td>\n",
       "      <td>4</td>\n",
       "      <td>-0.241555</td>\n",
       "      <td>-0.522785</td>\n",
       "      <td>1.641478</td>\n",
       "      <td>-1.315636</td>\n",
       "      <td>-0.585251</td>\n",
       "      <td>...</td>\n",
       "      <td>1</td>\n",
       "      <td>0</td>\n",
       "      <td>0</td>\n",
       "      <td>0</td>\n",
       "      <td>0</td>\n",
       "      <td>1</td>\n",
       "      <td>1</td>\n",
       "      <td>0</td>\n",
       "      <td>0</td>\n",
       "      <td>0</td>\n",
       "    </tr>\n",
       "    <tr>\n",
       "      <td>4</td>\n",
       "      <td>1</td>\n",
       "      <td>-0.789126</td>\n",
       "      <td>0.503368</td>\n",
       "      <td>5</td>\n",
       "      <td>2</td>\n",
       "      <td>-1.869423</td>\n",
       "      <td>0.763943</td>\n",
       "      <td>-1.327136</td>\n",
       "      <td>-2.219655</td>\n",
       "      <td>-0.430877</td>\n",
       "      <td>...</td>\n",
       "      <td>0</td>\n",
       "      <td>1</td>\n",
       "      <td>0</td>\n",
       "      <td>1</td>\n",
       "      <td>0</td>\n",
       "      <td>0</td>\n",
       "      <td>1</td>\n",
       "      <td>0</td>\n",
       "      <td>0</td>\n",
       "      <td>0</td>\n",
       "    </tr>\n",
       "  </tbody>\n",
       "</table>\n",
       "<p>5 rows × 27 columns</p>\n",
       "</div>"
      ],
      "text/plain": [
       "   Attrition_Flag  Customer_Age  Dependent_count  Education_Level  \\\n",
       "0               1     -0.165406         0.503368                3   \n",
       "1               1      0.333570         2.043199                2   \n",
       "2               1      0.583058         0.503368                2   \n",
       "3               1     -0.789126         1.273283                3   \n",
       "4               1     -0.789126         0.503368                5   \n",
       "\n",
       "   Income_Category  Months_on_book  Total_Relationship_Count  \\\n",
       "0                2        0.384548                  0.763943   \n",
       "1                4        1.010652                  1.407306   \n",
       "2                3        0.008887                  0.120579   \n",
       "3                4       -0.241555                 -0.522785   \n",
       "4                2       -1.869423                  0.763943   \n",
       "\n",
       "   Months_Inactive_12_mon  Contacts_Count_12_mon  Credit_Limit  ...  Gender_F  \\\n",
       "0               -1.327136               0.492404      0.446622  ...         0   \n",
       "1               -1.327136              -0.411616     -0.041367  ...         1   \n",
       "2               -1.327136              -2.219655     -0.573698  ...         0   \n",
       "3                1.641478              -1.315636     -0.585251  ...         1   \n",
       "4               -1.327136              -2.219655     -0.430877  ...         0   \n",
       "\n",
       "   Gender_M  Marital_Status_Divorced  Marital_Status_Married  \\\n",
       "0         1                        0                       1   \n",
       "1         0                        0                       0   \n",
       "2         1                        0                       1   \n",
       "3         0                        0                       0   \n",
       "4         1                        0                       1   \n",
       "\n",
       "   Marital_Status_Single  Marital_Status_Unknown  Card_Category_Blue  \\\n",
       "0                      0                       0                   1   \n",
       "1                      1                       0                   1   \n",
       "2                      0                       0                   1   \n",
       "3                      0                       1                   1   \n",
       "4                      0                       0                   1   \n",
       "\n",
       "   Card_Category_Gold  Card_Category_Platinum  Card_Category_Silver  \n",
       "0                   0                       0                     0  \n",
       "1                   0                       0                     0  \n",
       "2                   0                       0                     0  \n",
       "3                   0                       0                     0  \n",
       "4                   0                       0                     0  \n",
       "\n",
       "[5 rows x 27 columns]"
      ]
     },
     "execution_count": 29,
     "metadata": {},
     "output_type": "execute_result"
    }
   ],
   "source": [
    "dataset_one_hot_encoded.head()"
   ]
  },
  {
   "cell_type": "code",
   "execution_count": 30,
   "metadata": {},
   "outputs": [],
   "source": [
    "# SMOTE encoding\n",
    "\n",
    "# !pip install imblearn"
   ]
  },
  {
   "cell_type": "code",
   "execution_count": 31,
   "metadata": {},
   "outputs": [],
   "source": [
    "from imblearn.over_sampling import SMOTE\n",
    "from sklearn.model_selection import train_test_split\n",
    "\n",
    "X = dataset_one_hot_encoded.drop(['Attrition_Flag'], axis=1)\n",
    "y = dataset_one_hot_encoded['Attrition_Flag']\n",
    "\n",
    "X_train, X_test, y_train, y_test = train_test_split(X, y, test_size=0.20, random_state=0)\n",
    "\n",
    "smt = SMOTE(random_state=0)\n",
    "\n",
    "data_x,data_y=smt.fit_sample(X_train, y_train)\n"
   ]
  },
  {
   "cell_type": "code",
   "execution_count": 32,
   "metadata": {},
   "outputs": [
    {
     "data": {
      "text/plain": [
       "<matplotlib.axes._subplots.AxesSubplot at 0x2901d24a688>"
      ]
     },
     "execution_count": 32,
     "metadata": {},
     "output_type": "execute_result"
    },
    {
     "data": {
      "image/png": "[encoded data removed]",
      "text/plain": [
       "<Figure size 432x288 with 1 Axes>"
      ]
     },
     "metadata": {
      "needs_background": "light"
     },
     "output_type": "display_data"
    }
   ],
   "source": [
    "data_y.value_counts(normalize=True).plot.bar(title='class')"
   ]
  },
  {
   "cell_type": "code",
   "execution_count": 33,
   "metadata": {},
   "outputs": [
    {
     "data": {
      "text/html": [
       "<div>\n",
       "<style scoped>\n",
       "    .dataframe tbody tr th:only-of-type {\n",
       "        vertical-align: middle;\n",
       "    }\n",
       "\n",
       "    .dataframe tbody tr th {\n",
       "        vertical-align: top;\n",
       "    }\n",
       "\n",
       "    .dataframe thead th {\n",
       "        text-align: right;\n",
       "    }\n",
       "</style>\n",
       "<table border=\"1\" class=\"dataframe\">\n",
       "  <thead>\n",
       "    <tr style=\"text-align: right;\">\n",
       "      <th></th>\n",
       "      <th>Customer_Age</th>\n",
       "      <th>Dependent_count</th>\n",
       "      <th>Education_Level</th>\n",
       "      <th>Income_Category</th>\n",
       "      <th>Months_on_book</th>\n",
       "      <th>Total_Relationship_Count</th>\n",
       "      <th>Months_Inactive_12_mon</th>\n",
       "      <th>Contacts_Count_12_mon</th>\n",
       "      <th>Credit_Limit</th>\n",
       "      <th>Total_Revolving_Bal</th>\n",
       "      <th>...</th>\n",
       "      <th>Gender_F</th>\n",
       "      <th>Gender_M</th>\n",
       "      <th>Marital_Status_Divorced</th>\n",
       "      <th>Marital_Status_Married</th>\n",
       "      <th>Marital_Status_Single</th>\n",
       "      <th>Marital_Status_Unknown</th>\n",
       "      <th>Card_Category_Blue</th>\n",
       "      <th>Card_Category_Gold</th>\n",
       "      <th>Card_Category_Platinum</th>\n",
       "      <th>Card_Category_Silver</th>\n",
       "    </tr>\n",
       "  </thead>\n",
       "  <tbody>\n",
       "    <tr>\n",
       "      <td>147</td>\n",
       "      <td>1.082034</td>\n",
       "      <td>-0.266547</td>\n",
       "      <td>2</td>\n",
       "      <td>0</td>\n",
       "      <td>1.761975</td>\n",
       "      <td>-0.522785</td>\n",
       "      <td>-0.337598</td>\n",
       "      <td>-2.219655</td>\n",
       "      <td>0.251316</td>\n",
       "      <td>0.457927</td>\n",
       "      <td>...</td>\n",
       "      <td>0</td>\n",
       "      <td>1</td>\n",
       "      <td>0</td>\n",
       "      <td>1</td>\n",
       "      <td>0</td>\n",
       "      <td>0</td>\n",
       "      <td>1</td>\n",
       "      <td>0</td>\n",
       "      <td>0</td>\n",
       "      <td>0</td>\n",
       "    </tr>\n",
       "    <tr>\n",
       "      <td>1985</td>\n",
       "      <td>-1.787077</td>\n",
       "      <td>-1.806378</td>\n",
       "      <td>2</td>\n",
       "      <td>5</td>\n",
       "      <td>-1.118099</td>\n",
       "      <td>1.407306</td>\n",
       "      <td>0.651940</td>\n",
       "      <td>0.492404</td>\n",
       "      <td>0.066684</td>\n",
       "      <td>-1.426858</td>\n",
       "      <td>...</td>\n",
       "      <td>0</td>\n",
       "      <td>1</td>\n",
       "      <td>0</td>\n",
       "      <td>0</td>\n",
       "      <td>1</td>\n",
       "      <td>0</td>\n",
       "      <td>1</td>\n",
       "      <td>0</td>\n",
       "      <td>0</td>\n",
       "      <td>0</td>\n",
       "    </tr>\n",
       "    <tr>\n",
       "      <td>8316</td>\n",
       "      <td>-1.412845</td>\n",
       "      <td>1.273283</td>\n",
       "      <td>5</td>\n",
       "      <td>5</td>\n",
       "      <td>-1.368540</td>\n",
       "      <td>-1.166148</td>\n",
       "      <td>0.651940</td>\n",
       "      <td>-0.411616</td>\n",
       "      <td>-0.577989</td>\n",
       "      <td>-0.706566</td>\n",
       "      <td>...</td>\n",
       "      <td>1</td>\n",
       "      <td>0</td>\n",
       "      <td>0</td>\n",
       "      <td>1</td>\n",
       "      <td>0</td>\n",
       "      <td>0</td>\n",
       "      <td>1</td>\n",
       "      <td>0</td>\n",
       "      <td>0</td>\n",
       "      <td>0</td>\n",
       "    </tr>\n",
       "    <tr>\n",
       "      <td>2841</td>\n",
       "      <td>-0.789126</td>\n",
       "      <td>-0.266547</td>\n",
       "      <td>6</td>\n",
       "      <td>4</td>\n",
       "      <td>0.008887</td>\n",
       "      <td>-0.522785</td>\n",
       "      <td>-1.327136</td>\n",
       "      <td>-1.315636</td>\n",
       "      <td>-0.389395</td>\n",
       "      <td>1.488668</td>\n",
       "      <td>...</td>\n",
       "      <td>1</td>\n",
       "      <td>0</td>\n",
       "      <td>0</td>\n",
       "      <td>1</td>\n",
       "      <td>0</td>\n",
       "      <td>0</td>\n",
       "      <td>1</td>\n",
       "      <td>0</td>\n",
       "      <td>0</td>\n",
       "      <td>0</td>\n",
       "    </tr>\n",
       "    <tr>\n",
       "      <td>5824</td>\n",
       "      <td>-0.165406</td>\n",
       "      <td>1.273283</td>\n",
       "      <td>3</td>\n",
       "      <td>1</td>\n",
       "      <td>0.008887</td>\n",
       "      <td>0.763943</td>\n",
       "      <td>-0.337598</td>\n",
       "      <td>-1.315636</td>\n",
       "      <td>-0.625412</td>\n",
       "      <td>1.311970</td>\n",
       "      <td>...</td>\n",
       "      <td>1</td>\n",
       "      <td>0</td>\n",
       "      <td>0</td>\n",
       "      <td>1</td>\n",
       "      <td>0</td>\n",
       "      <td>0</td>\n",
       "      <td>1</td>\n",
       "      <td>0</td>\n",
       "      <td>0</td>\n",
       "      <td>0</td>\n",
       "    </tr>\n",
       "  </tbody>\n",
       "</table>\n",
       "<p>5 rows × 26 columns</p>\n",
       "</div>"
      ],
      "text/plain": [
       "      Customer_Age  Dependent_count  Education_Level  Income_Category  \\\n",
       "147       1.082034        -0.266547                2                0   \n",
       "1985     -1.787077        -1.806378                2                5   \n",
       "8316     -1.412845         1.273283                5                5   \n",
       "2841     -0.789126        -0.266547                6                4   \n",
       "5824     -0.165406         1.273283                3                1   \n",
       "\n",
       "      Months_on_book  Total_Relationship_Count  Months_Inactive_12_mon  \\\n",
       "147         1.761975                 -0.522785               -0.337598   \n",
       "1985       -1.118099                  1.407306                0.651940   \n",
       "8316       -1.368540                 -1.166148                0.651940   \n",
       "2841        0.008887                 -0.522785               -1.327136   \n",
       "5824        0.008887                  0.763943               -0.337598   \n",
       "\n",
       "      Contacts_Count_12_mon  Credit_Limit  Total_Revolving_Bal  ...  Gender_F  \\\n",
       "147               -2.219655      0.251316             0.457927  ...         0   \n",
       "1985               0.492404      0.066684            -1.426858  ...         0   \n",
       "8316              -0.411616     -0.577989            -0.706566  ...         1   \n",
       "2841              -1.315636     -0.389395             1.488668  ...         1   \n",
       "5824              -1.315636     -0.625412             1.311970  ...         1   \n",
       "\n",
       "      Gender_M  Marital_Status_Divorced  Marital_Status_Married  \\\n",
       "147          1                        0                       1   \n",
       "1985         1                        0                       0   \n",
       "8316         0                        0                       1   \n",
       "2841         0                        0                       1   \n",
       "5824         0                        0                       1   \n",
       "\n",
       "      Marital_Status_Single  Marital_Status_Unknown  Card_Category_Blue  \\\n",
       "147                       0                       0                   1   \n",
       "1985                      1                       0                   1   \n",
       "8316                      0                       0                   1   \n",
       "2841                      0                       0                   1   \n",
       "5824                      0                       0                   1   \n",
       "\n",
       "      Card_Category_Gold  Card_Category_Platinum  Card_Category_Silver  \n",
       "147                    0                       0                     0  \n",
       "1985                   0                       0                     0  \n",
       "8316                   0                       0                     0  \n",
       "2841                   0                       0                     0  \n",
       "5824                   0                       0                     0  \n",
       "\n",
       "[5 rows x 26 columns]"
      ]
     },
     "execution_count": 33,
     "metadata": {},
     "output_type": "execute_result"
    }
   ],
   "source": [
    "X_train.head()"
   ]
  },
  {
   "cell_type": "markdown",
   "metadata": {
    "id": "XiazHmxRSXy0"
   },
   "source": [
    "## 2. Feature Anaysis, Extraction & Selection\n",
    "(you may need to perform feature selection after creating default models and compare to them)"
   ]
  },
  {
   "cell_type": "code",
   "execution_count": null,
   "metadata": {},
   "outputs": [],
   "source": []
  },
  {
   "cell_type": "markdown",
   "metadata": {
    "id": "92THQSXGSXy3"
   },
   "source": [
    "## 3. Classification models\n",
    "- classical classification models\n",
    "- deep neural networks"
   ]
  },
  {
   "cell_type": "code",
   "execution_count": 34,
   "metadata": {
    "id": "ve5_cjilSXy4"
   },
   "outputs": [],
   "source": [
    "# Make train/test split : with train(70%), test(30%) # 80% so 20% da bide!\n",
    "\n",
    "from sklearn.model_selection import train_test_split\n",
    "\n",
    "X_train, X_test, y_train, y_test = train_test_split(X, y, test_size=0.20, random_state=0)"
   ]
  },
  {
   "cell_type": "code",
   "execution_count": 35,
   "metadata": {},
   "outputs": [
    {
     "data": {
      "text/html": [
       "<div>\n",
       "<style scoped>\n",
       "    .dataframe tbody tr th:only-of-type {\n",
       "        vertical-align: middle;\n",
       "    }\n",
       "\n",
       "    .dataframe tbody tr th {\n",
       "        vertical-align: top;\n",
       "    }\n",
       "\n",
       "    .dataframe thead th {\n",
       "        text-align: right;\n",
       "    }\n",
       "</style>\n",
       "<table border=\"1\" class=\"dataframe\">\n",
       "  <thead>\n",
       "    <tr style=\"text-align: right;\">\n",
       "      <th></th>\n",
       "      <th>Customer_Age</th>\n",
       "      <th>Dependent_count</th>\n",
       "      <th>Education_Level</th>\n",
       "      <th>Income_Category</th>\n",
       "      <th>Months_on_book</th>\n",
       "      <th>Total_Relationship_Count</th>\n",
       "      <th>Months_Inactive_12_mon</th>\n",
       "      <th>Contacts_Count_12_mon</th>\n",
       "      <th>Credit_Limit</th>\n",
       "      <th>Total_Revolving_Bal</th>\n",
       "      <th>...</th>\n",
       "      <th>Gender_F</th>\n",
       "      <th>Gender_M</th>\n",
       "      <th>Marital_Status_Divorced</th>\n",
       "      <th>Marital_Status_Married</th>\n",
       "      <th>Marital_Status_Single</th>\n",
       "      <th>Marital_Status_Unknown</th>\n",
       "      <th>Card_Category_Blue</th>\n",
       "      <th>Card_Category_Gold</th>\n",
       "      <th>Card_Category_Platinum</th>\n",
       "      <th>Card_Category_Silver</th>\n",
       "    </tr>\n",
       "  </thead>\n",
       "  <tbody>\n",
       "    <tr>\n",
       "      <td>0</td>\n",
       "      <td>-0.165406</td>\n",
       "      <td>0.503368</td>\n",
       "      <td>3</td>\n",
       "      <td>2</td>\n",
       "      <td>0.384548</td>\n",
       "      <td>0.763943</td>\n",
       "      <td>-1.327136</td>\n",
       "      <td>0.492404</td>\n",
       "      <td>0.446622</td>\n",
       "      <td>-0.473422</td>\n",
       "      <td>...</td>\n",
       "      <td>0</td>\n",
       "      <td>1</td>\n",
       "      <td>0</td>\n",
       "      <td>1</td>\n",
       "      <td>0</td>\n",
       "      <td>0</td>\n",
       "      <td>1</td>\n",
       "      <td>0</td>\n",
       "      <td>0</td>\n",
       "      <td>0</td>\n",
       "    </tr>\n",
       "    <tr>\n",
       "      <td>1</td>\n",
       "      <td>0.333570</td>\n",
       "      <td>2.043199</td>\n",
       "      <td>2</td>\n",
       "      <td>4</td>\n",
       "      <td>1.010652</td>\n",
       "      <td>1.407306</td>\n",
       "      <td>-1.327136</td>\n",
       "      <td>-0.411616</td>\n",
       "      <td>-0.041367</td>\n",
       "      <td>-0.366667</td>\n",
       "      <td>...</td>\n",
       "      <td>1</td>\n",
       "      <td>0</td>\n",
       "      <td>0</td>\n",
       "      <td>0</td>\n",
       "      <td>1</td>\n",
       "      <td>0</td>\n",
       "      <td>1</td>\n",
       "      <td>0</td>\n",
       "      <td>0</td>\n",
       "      <td>0</td>\n",
       "    </tr>\n",
       "    <tr>\n",
       "      <td>2</td>\n",
       "      <td>0.583058</td>\n",
       "      <td>0.503368</td>\n",
       "      <td>2</td>\n",
       "      <td>3</td>\n",
       "      <td>0.008887</td>\n",
       "      <td>0.120579</td>\n",
       "      <td>-1.327136</td>\n",
       "      <td>-2.219655</td>\n",
       "      <td>-0.573698</td>\n",
       "      <td>-1.426858</td>\n",
       "      <td>...</td>\n",
       "      <td>0</td>\n",
       "      <td>1</td>\n",
       "      <td>0</td>\n",
       "      <td>1</td>\n",
       "      <td>0</td>\n",
       "      <td>0</td>\n",
       "      <td>1</td>\n",
       "      <td>0</td>\n",
       "      <td>0</td>\n",
       "      <td>0</td>\n",
       "    </tr>\n",
       "    <tr>\n",
       "      <td>3</td>\n",
       "      <td>-0.789126</td>\n",
       "      <td>1.273283</td>\n",
       "      <td>3</td>\n",
       "      <td>4</td>\n",
       "      <td>-0.241555</td>\n",
       "      <td>-0.522785</td>\n",
       "      <td>1.641478</td>\n",
       "      <td>-1.315636</td>\n",
       "      <td>-0.585251</td>\n",
       "      <td>1.661686</td>\n",
       "      <td>...</td>\n",
       "      <td>1</td>\n",
       "      <td>0</td>\n",
       "      <td>0</td>\n",
       "      <td>0</td>\n",
       "      <td>0</td>\n",
       "      <td>1</td>\n",
       "      <td>1</td>\n",
       "      <td>0</td>\n",
       "      <td>0</td>\n",
       "      <td>0</td>\n",
       "    </tr>\n",
       "    <tr>\n",
       "      <td>4</td>\n",
       "      <td>-0.789126</td>\n",
       "      <td>0.503368</td>\n",
       "      <td>5</td>\n",
       "      <td>2</td>\n",
       "      <td>-1.869423</td>\n",
       "      <td>0.763943</td>\n",
       "      <td>-1.327136</td>\n",
       "      <td>-2.219655</td>\n",
       "      <td>-0.430877</td>\n",
       "      <td>-1.426858</td>\n",
       "      <td>...</td>\n",
       "      <td>0</td>\n",
       "      <td>1</td>\n",
       "      <td>0</td>\n",
       "      <td>1</td>\n",
       "      <td>0</td>\n",
       "      <td>0</td>\n",
       "      <td>1</td>\n",
       "      <td>0</td>\n",
       "      <td>0</td>\n",
       "      <td>0</td>\n",
       "    </tr>\n",
       "  </tbody>\n",
       "</table>\n",
       "<p>5 rows × 26 columns</p>\n",
       "</div>"
      ],
      "text/plain": [
       "   Customer_Age  Dependent_count  Education_Level  Income_Category  \\\n",
       "0     -0.165406         0.503368                3                2   \n",
       "1      0.333570         2.043199                2                4   \n",
       "2      0.583058         0.503368                2                3   \n",
       "3     -0.789126         1.273283                3                4   \n",
       "4     -0.789126         0.503368                5                2   \n",
       "\n",
       "   Months_on_book  Total_Relationship_Count  Months_Inactive_12_mon  \\\n",
       "0        0.384548                  0.763943               -1.327136   \n",
       "1        1.010652                  1.407306               -1.327136   \n",
       "2        0.008887                  0.120579               -1.327136   \n",
       "3       -0.241555                 -0.522785                1.641478   \n",
       "4       -1.869423                  0.763943               -1.327136   \n",
       "\n",
       "   Contacts_Count_12_mon  Credit_Limit  Total_Revolving_Bal  ...  Gender_F  \\\n",
       "0               0.492404      0.446622            -0.473422  ...         0   \n",
       "1              -0.411616     -0.041367            -0.366667  ...         1   \n",
       "2              -2.219655     -0.573698            -1.426858  ...         0   \n",
       "3              -1.315636     -0.585251             1.661686  ...         1   \n",
       "4              -2.219655     -0.430877            -1.426858  ...         0   \n",
       "\n",
       "   Gender_M  Marital_Status_Divorced  Marital_Status_Married  \\\n",
       "0         1                        0                       1   \n",
       "1         0                        0                       0   \n",
       "2         1                        0                       1   \n",
       "3         0                        0                       0   \n",
       "4         1                        0                       1   \n",
       "\n",
       "   Marital_Status_Single  Marital_Status_Unknown  Card_Category_Blue  \\\n",
       "0                      0                       0                   1   \n",
       "1                      1                       0                   1   \n",
       "2                      0                       0                   1   \n",
       "3                      0                       1                   1   \n",
       "4                      0                       0                   1   \n",
       "\n",
       "   Card_Category_Gold  Card_Category_Platinum  Card_Category_Silver  \n",
       "0                   0                       0                     0  \n",
       "1                   0                       0                     0  \n",
       "2                   0                       0                     0  \n",
       "3                   0                       0                     0  \n",
       "4                   0                       0                     0  \n",
       "\n",
       "[5 rows x 26 columns]"
      ]
     },
     "execution_count": 35,
     "metadata": {},
     "output_type": "execute_result"
    }
   ],
   "source": [
    "X.head()"
   ]
  },
  {
   "cell_type": "code",
   "execution_count": 36,
   "metadata": {},
   "outputs": [
    {
     "data": {
      "text/plain": [
       "0    1\n",
       "1    1\n",
       "2    1\n",
       "3    1\n",
       "4    1\n",
       "Name: Attrition_Flag, dtype: int32"
      ]
     },
     "execution_count": 36,
     "metadata": {},
     "output_type": "execute_result"
    }
   ],
   "source": [
    "y.head()"
   ]
  },
  {
   "cell_type": "markdown",
   "metadata": {},
   "source": [
    "### Naive Bayes"
   ]
  },
  {
   "cell_type": "code",
   "execution_count": 37,
   "metadata": {},
   "outputs": [
    {
     "name": "stdout",
     "output_type": "stream",
     "text": [
      "The accuracy on the training subset: 0.890\n",
      "The accuracy on the test subset: 0.887\n",
      "Wall time: 22 ms\n"
     ]
    }
   ],
   "source": [
    "%%time\n",
    "from sklearn.naive_bayes import GaussianNB\n",
    "\n",
    "gnb = GaussianNB()\n",
    "\n",
    "gnb.fit(X_train, y_train)\n",
    "\n",
    "print('The accuracy on the training subset: {:.3f}'.format(gnb.score(X_train, y_train)))\n",
    "print('The accuracy on the test subset: {:.3f}'.format(gnb.score(X_test, y_test)))"
   ]
  },
  {
   "cell_type": "code",
   "execution_count": 38,
   "metadata": {},
   "outputs": [
    {
     "name": "stdout",
     "output_type": "stream",
     "text": [
      "              precision    recall  f1-score   support\n",
      "\n",
      "           0       0.63      0.62      0.63       309\n",
      "           1       0.93      0.94      0.93      1717\n",
      "\n",
      "    accuracy                           0.89      2026\n",
      "   macro avg       0.78      0.78      0.78      2026\n",
      "weighted avg       0.89      0.89      0.89      2026\n",
      "\n"
     ]
    }
   ],
   "source": [
    "from sklearn.metrics import classification_report\n",
    "\n",
    "y_pred_gnb = gnb.predict(X_test)\n",
    "\n",
    "print(classification_report(y_test, y_pred_gnb))"
   ]
  },
  {
   "cell_type": "code",
   "execution_count": 39,
   "metadata": {},
   "outputs": [
    {
     "data": {
      "text/plain": [
       "array([[ 192,  117],\n",
       "       [ 111, 1606]], dtype=int64)"
      ]
     },
     "execution_count": 39,
     "metadata": {},
     "output_type": "execute_result"
    }
   ],
   "source": [
    "confusion_matrix(y_test, y_pred_gnb)"
   ]
  },
  {
   "cell_type": "code",
   "execution_count": 40,
   "metadata": {},
   "outputs": [
    {
     "data": {
      "text/plain": [
       "<sklearn.metrics._plot.confusion_matrix.ConfusionMatrixDisplay at 0x2901d4bc8c8>"
      ]
     },
     "execution_count": 40,
     "metadata": {},
     "output_type": "execute_result"
    },
    {
     "data": {
      "image/png": "[encoded data removed]",
      "text/plain": [
       "<Figure size 432x288 with 2 Axes>"
      ]
     },
     "metadata": {
      "needs_background": "light"
     },
     "output_type": "display_data"
    }
   ],
   "source": [
    "cm_gnb = confusion_matrix(y_test, y_pred_gnb, labels=gnb.classes_)\n",
    "confus_gnb_disp = ConfusionMatrixDisplay(confusion_matrix=cm_gnb,\n",
    "                                         display_labels=gnb.classes_)\n",
    "confus_gnb_disp.plot()"
   ]
  },
  {
   "cell_type": "code",
   "execution_count": 41,
   "metadata": {},
   "outputs": [],
   "source": [
    "naive_bayes_results = roc_curve(y_test, y_pred_gnb)"
   ]
  },
  {
   "cell_type": "code",
   "execution_count": 42,
   "metadata": {},
   "outputs": [
    {
     "data": {
      "text/plain": [
       "<sklearn.metrics._plot.roc_curve.RocCurveDisplay at 0x2901d73ee88>"
      ]
     },
     "execution_count": 42,
     "metadata": {},
     "output_type": "execute_result"
    },
    {
     "data": {
      "image/png": "[encoded data removed]",
      "text/plain": [
       "<Figure size 432x288 with 1 Axes>"
      ]
     },
     "metadata": {
      "needs_background": "light"
     },
     "output_type": "display_data"
    }
   ],
   "source": [
    "plot_roc_curve(gnb, X_test, y_test)"
   ]
  },
  {
   "cell_type": "markdown",
   "metadata": {},
   "source": [
    "### SVM"
   ]
  },
  {
   "cell_type": "code",
   "execution_count": 43,
   "metadata": {},
   "outputs": [
    {
     "name": "stdout",
     "output_type": "stream",
     "text": [
      "The accuracy on the training subset: 0.978\n",
      "The accuracy on the test subset: 0.938\n",
      "Wall time: 1.63 s\n"
     ]
    }
   ],
   "source": [
    "%%time\n",
    "from sklearn.svm import SVC \n",
    "\n",
    "svm = SVC(gamma='auto', kernel='rbf', C=15)\n",
    "svm.fit(X_train, y_train)\n",
    "\n",
    "print('The accuracy on the training subset: {:.3f}'.format(svm.score(X_train, y_train)))\n",
    "print('The accuracy on the test subset: {:.3f}'.format(svm.score(X_test, y_test)))"
   ]
  },
  {
   "cell_type": "code",
   "execution_count": 44,
   "metadata": {},
   "outputs": [
    {
     "name": "stdout",
     "output_type": "stream",
     "text": [
      "              precision    recall  f1-score   support\n",
      "\n",
      "           0       0.81      0.77      0.79       309\n",
      "           1       0.96      0.97      0.96      1717\n",
      "\n",
      "    accuracy                           0.94      2026\n",
      "   macro avg       0.89      0.87      0.88      2026\n",
      "weighted avg       0.94      0.94      0.94      2026\n",
      "\n"
     ]
    }
   ],
   "source": [
    "y_pred_svm = svm.predict(X_test)\n",
    "\n",
    "print(classification_report(y_test, y_pred_svm))"
   ]
  },
  {
   "cell_type": "code",
   "execution_count": 45,
   "metadata": {},
   "outputs": [
    {
     "data": {
      "text/plain": [
       "array([[ 239,   70],\n",
       "       [  55, 1662]], dtype=int64)"
      ]
     },
     "execution_count": 45,
     "metadata": {},
     "output_type": "execute_result"
    }
   ],
   "source": [
    "confusion_matrix(y_test, y_pred_svm)"
   ]
  },
  {
   "cell_type": "code",
   "execution_count": 46,
   "metadata": {},
   "outputs": [
    {
     "data": {
      "text/plain": [
       "<sklearn.metrics._plot.confusion_matrix.ConfusionMatrixDisplay at 0x2901d7c8d48>"
      ]
     },
     "execution_count": 46,
     "metadata": {},
     "output_type": "execute_result"
    },
    {
     "data": {
      "image/png": "[encoded data removed]",
      "text/plain": [
       "<Figure size 432x288 with 2 Axes>"
      ]
     },
     "metadata": {
      "needs_background": "light"
     },
     "output_type": "display_data"
    }
   ],
   "source": [
    "cm_svm = confusion_matrix(y_test, y_pred_svm, labels=svm.classes_)\n",
    "confus_svm_disp = ConfusionMatrixDisplay(confusion_matrix=cm_svm,\n",
    "                                         display_labels=svm.classes_)\n",
    "confus_svm_disp.plot() "
   ]
  },
  {
   "cell_type": "code",
   "execution_count": 47,
   "metadata": {},
   "outputs": [],
   "source": [
    "svm_results = roc_curve(y_test, y_pred_svm)"
   ]
  },
  {
   "cell_type": "code",
   "execution_count": 48,
   "metadata": {},
   "outputs": [
    {
     "data": {
      "text/plain": [
       "<sklearn.metrics._plot.roc_curve.RocCurveDisplay at 0x2901d833dc8>"
      ]
     },
     "execution_count": 48,
     "metadata": {},
     "output_type": "execute_result"
    },
    {
     "data": {
      "image/png": "[encoded data removed]",
      "text/plain": [
       "<Figure size 432x288 with 1 Axes>"
      ]
     },
     "metadata": {
      "needs_background": "light"
     },
     "output_type": "display_data"
    }
   ],
   "source": [
    "plot_roc_curve(svm, X_test, y_test)"
   ]
  },
  {
   "cell_type": "markdown",
   "metadata": {},
   "source": [
    "### Decision Tree"
   ]
  },
  {
   "cell_type": "code",
   "execution_count": 49,
   "metadata": {},
   "outputs": [
    {
     "name": "stdout",
     "output_type": "stream",
     "text": [
      "Accuracy on the training subset  1.0\n",
      "Accuracy on the test subset: 0.9368213228035538\n",
      "Wall time: 76 ms\n"
     ]
    }
   ],
   "source": [
    "%%time\n",
    "from sklearn.tree import DecisionTreeClassifier\n",
    "\n",
    "tree = DecisionTreeClassifier()\n",
    "tree.fit(X_train, y_train)\n",
    "\n",
    "print('Accuracy on the training subset ', (tree.score(X_train, y_train)))\n",
    "print('Accuracy on the test subset:', (tree.score(X_test, y_test)))"
   ]
  },
  {
   "cell_type": "code",
   "execution_count": 50,
   "metadata": {},
   "outputs": [
    {
     "name": "stdout",
     "output_type": "stream",
     "text": [
      "              precision    recall  f1-score   support\n",
      "\n",
      "           0       0.80      0.79      0.79       309\n",
      "           1       0.96      0.96      0.96      1717\n",
      "\n",
      "    accuracy                           0.94      2026\n",
      "   macro avg       0.88      0.88      0.88      2026\n",
      "weighted avg       0.94      0.94      0.94      2026\n",
      "\n"
     ]
    }
   ],
   "source": [
    "y_pred_tree = tree.predict(X_test)\n",
    "\n",
    "print(classification_report(y_test, y_pred_tree))"
   ]
  },
  {
   "cell_type": "code",
   "execution_count": 51,
   "metadata": {},
   "outputs": [
    {
     "data": {
      "text/plain": [
       "array([[ 243,   66],\n",
       "       [  62, 1655]], dtype=int64)"
      ]
     },
     "execution_count": 51,
     "metadata": {},
     "output_type": "execute_result"
    }
   ],
   "source": [
    "confusion_matrix(y_test, y_pred_tree)"
   ]
  },
  {
   "cell_type": "code",
   "execution_count": 52,
   "metadata": {},
   "outputs": [
    {
     "data": {
      "text/plain": [
       "<sklearn.metrics._plot.confusion_matrix.ConfusionMatrixDisplay at 0x2901d8cfd88>"
      ]
     },
     "execution_count": 52,
     "metadata": {},
     "output_type": "execute_result"
    },
    {
     "data": {
      "image/png": "[encoded data removed]",
      "text/plain": [
       "<Figure size 432x288 with 2 Axes>"
      ]
     },
     "metadata": {
      "needs_background": "light"
     },
     "output_type": "display_data"
    }
   ],
   "source": [
    "cm_tree = confusion_matrix(y_test, y_pred_tree, labels=tree.classes_)\n",
    "confus_tree_disp = ConfusionMatrixDisplay(confusion_matrix=cm_tree,\n",
    "                                          display_labels=tree.classes_)\n",
    "confus_tree_disp.plot() "
   ]
  },
  {
   "cell_type": "code",
   "execution_count": 53,
   "metadata": {},
   "outputs": [],
   "source": [
    "decision_tree_results = roc_curve(y_test, y_pred_tree)"
   ]
  },
  {
   "cell_type": "code",
   "execution_count": 54,
   "metadata": {},
   "outputs": [
    {
     "data": {
      "text/plain": [
       "<sklearn.metrics._plot.roc_curve.RocCurveDisplay at 0x2901d90cd48>"
      ]
     },
     "execution_count": 54,
     "metadata": {},
     "output_type": "execute_result"
    },
    {
     "data": {
      "image/png": "[encoded data removed]",
      "text/plain": [
       "<Figure size 432x288 with 1 Axes>"
      ]
     },
     "metadata": {
      "needs_background": "light"
     },
     "output_type": "display_data"
    }
   ],
   "source": [
    "plot_roc_curve(tree, X_test, y_test)"
   ]
  },
  {
   "cell_type": "markdown",
   "metadata": {},
   "source": [
    "### Random Forest"
   ]
  },
  {
   "cell_type": "code",
   "execution_count": 55,
   "metadata": {},
   "outputs": [
    {
     "data": {
      "text/plain": [
       "26"
      ]
     },
     "execution_count": 55,
     "metadata": {},
     "output_type": "execute_result"
    }
   ],
   "source": [
    "len(X_train.columns)"
   ]
  },
  {
   "cell_type": "code",
   "execution_count": 56,
   "metadata": {},
   "outputs": [
    {
     "name": "stdout",
     "output_type": "stream",
     "text": [
      "The accuracy on the training subset: 0.973\n",
      "The accuracy on the test subset: 0.962\n",
      "Wall time: 378 ms\n"
     ]
    }
   ],
   "source": [
    "%%time\n",
    "from sklearn.ensemble import RandomForestClassifier\n",
    "\n",
    "rf_tree = RandomForestClassifier(n_jobs=-1,\n",
    "                              max_depth=10,\n",
    "                              n_estimators=100,\n",
    "                              min_samples_leaf=4, \n",
    "                              max_leaf_nodes=150, \n",
    "                              criterion='entropy',\n",
    "                              max_features=0.5,\n",
    "                              random_state=0)\n",
    "rf_tree.fit(X_train, y_train)\n",
    "\n",
    "\n",
    "print('The accuracy on the training subset: {:.3f}'.format(rf_tree.score(X_train, y_train)))\n",
    "print('The accuracy on the test subset: {:.3f}'.format(rf_tree.score(X_test, y_test)))"
   ]
  },
  {
   "cell_type": "code",
   "execution_count": 57,
   "metadata": {},
   "outputs": [
    {
     "name": "stdout",
     "output_type": "stream",
     "text": [
      "              precision    recall  f1-score   support\n",
      "\n",
      "           0       0.91      0.83      0.87       309\n",
      "           1       0.97      0.99      0.98      1717\n",
      "\n",
      "    accuracy                           0.96      2026\n",
      "   macro avg       0.94      0.91      0.92      2026\n",
      "weighted avg       0.96      0.96      0.96      2026\n",
      "\n"
     ]
    }
   ],
   "source": [
    "y_pred_rf_tree = rf_tree.predict(X_test)\n",
    "\n",
    "print(classification_report(y_test, y_pred_rf_tree))"
   ]
  },
  {
   "cell_type": "markdown",
   "metadata": {},
   "source": []
  },
  {
   "cell_type": "code",
   "execution_count": 58,
   "metadata": {},
   "outputs": [
    {
     "data": {
      "text/plain": [
       "array([[ 256,   53],\n",
       "       [  25, 1692]], dtype=int64)"
      ]
     },
     "execution_count": 58,
     "metadata": {},
     "output_type": "execute_result"
    }
   ],
   "source": [
    "confusion_matrix(y_test, y_pred_rf_tree)"
   ]
  },
  {
   "cell_type": "code",
   "execution_count": 59,
   "metadata": {},
   "outputs": [
    {
     "data": {
      "text/plain": [
       "<sklearn.metrics._plot.confusion_matrix.ConfusionMatrixDisplay at 0x2901d958a48>"
      ]
     },
     "execution_count": 59,
     "metadata": {},
     "output_type": "execute_result"
    },
    {
     "data": {
      "image/png": "[encoded data removed]",
      "text/plain": [
       "<Figure size 432x288 with 2 Axes>"
      ]
     },
     "metadata": {
      "needs_background": "light"
     },
     "output_type": "display_data"
    }
   ],
   "source": [
    "cm_rf_tree = confusion_matrix(y_test, y_pred_rf_tree, labels=rf_tree.classes_)\n",
    "confus_rf_tree_disp = ConfusionMatrixDisplay(confusion_matrix=cm_rf_tree,\n",
    "                                             display_labels=rf_tree.classes_)\n",
    "confus_rf_tree_disp.plot()"
   ]
  },
  {
   "cell_type": "code",
   "execution_count": 60,
   "metadata": {},
   "outputs": [],
   "source": [
    "random_forest_results = roc_curve(y_test, y_pred_rf_tree)"
   ]
  },
  {
   "cell_type": "code",
   "execution_count": 61,
   "metadata": {},
   "outputs": [
    {
     "data": {
      "text/plain": [
       "<sklearn.metrics._plot.roc_curve.RocCurveDisplay at 0x2901d9f8e88>"
      ]
     },
     "execution_count": 61,
     "metadata": {},
     "output_type": "execute_result"
    },
    {
     "data": {
      "image/png": "[encoded data removed]",
      "text/plain": [
       "<Figure size 432x288 with 1 Axes>"
      ]
     },
     "metadata": {
      "needs_background": "light"
     },
     "output_type": "display_data"
    }
   ],
   "source": [
    "plot_roc_curve(rf_tree, X_test, y_test)"
   ]
  },
  {
   "cell_type": "markdown",
   "metadata": {},
   "source": [
    "### KNN"
   ]
  },
  {
   "cell_type": "code",
   "execution_count": 62,
   "metadata": {},
   "outputs": [
    {
     "name": "stdout",
     "output_type": "stream",
     "text": [
      "Accuracy on training data :  0.9237131218368103\n",
      "Accuracy on test data :  0.910167818361303\n",
      "Wall time: 3.62 s\n"
     ]
    }
   ],
   "source": [
    "%%time\n",
    "from sklearn.neighbors import KNeighborsClassifier\n",
    "\n",
    "knn = KNeighborsClassifier(n_neighbors=7)\n",
    "\n",
    "knn.fit(X_train, y_train)\n",
    "\n",
    "print(\"Accuracy on training data : \", knn.score(X_train,y_train))\n",
    "print(\"Accuracy on test data : \", knn.score(X_test,y_test))"
   ]
  },
  {
   "cell_type": "code",
   "execution_count": 63,
   "metadata": {},
   "outputs": [
    {
     "name": "stdout",
     "output_type": "stream",
     "text": [
      "              precision    recall  f1-score   support\n",
      "\n",
      "           0       0.84      0.51      0.63       309\n",
      "           1       0.92      0.98      0.95      1717\n",
      "\n",
      "    accuracy                           0.91      2026\n",
      "   macro avg       0.88      0.75      0.79      2026\n",
      "weighted avg       0.91      0.91      0.90      2026\n",
      "\n"
     ]
    }
   ],
   "source": [
    "y_pred_knn = knn.predict(X_test)\n",
    "\n",
    "print(classification_report(y_test, y_pred_knn))"
   ]
  },
  {
   "cell_type": "code",
   "execution_count": 64,
   "metadata": {},
   "outputs": [
    {
     "data": {
      "text/plain": [
       "array([[ 158,  151],\n",
       "       [  31, 1686]], dtype=int64)"
      ]
     },
     "execution_count": 64,
     "metadata": {},
     "output_type": "execute_result"
    }
   ],
   "source": [
    "confusion_matrix(y_test, y_pred_knn)"
   ]
  },
  {
   "cell_type": "code",
   "execution_count": 65,
   "metadata": {},
   "outputs": [
    {
     "data": {
      "text/plain": [
       "<sklearn.metrics._plot.confusion_matrix.ConfusionMatrixDisplay at 0x2901eb02088>"
      ]
     },
     "execution_count": 65,
     "metadata": {},
     "output_type": "execute_result"
    },
    {
     "data": {
      "image/png": "[encoded data removed]",
      "text/plain": [
       "<Figure size 432x288 with 2 Axes>"
      ]
     },
     "metadata": {
      "needs_background": "light"
     },
     "output_type": "display_data"
    }
   ],
   "source": [
    "cm_knn = confusion_matrix(y_test, y_pred_knn, labels=knn.classes_)\n",
    "confus_knn_disp = ConfusionMatrixDisplay(confusion_matrix=cm_knn,\n",
    "                                         display_labels=knn.classes_)\n",
    "confus_knn_disp.plot()"
   ]
  },
  {
   "cell_type": "code",
   "execution_count": 66,
   "metadata": {},
   "outputs": [],
   "source": [
    "knn_results = roc_curve(y_test, y_pred_knn)"
   ]
  },
  {
   "cell_type": "code",
   "execution_count": 67,
   "metadata": {},
   "outputs": [
    {
     "data": {
      "text/plain": [
       "<sklearn.metrics._plot.roc_curve.RocCurveDisplay at 0x2901da94688>"
      ]
     },
     "execution_count": 67,
     "metadata": {},
     "output_type": "execute_result"
    },
    {
     "data": {
      "image/png": "[encoded data removed]",
      "text/plain": [
       "<Figure size 432x288 with 1 Axes>"
      ]
     },
     "metadata": {
      "needs_background": "light"
     },
     "output_type": "display_data"
    }
   ],
   "source": [
    "plot_roc_curve(knn, X_test, y_test)"
   ]
  },
  {
   "cell_type": "markdown",
   "metadata": {},
   "source": [
    "## XGBoost"
   ]
  },
  {
   "cell_type": "code",
   "execution_count": 68,
   "metadata": {},
   "outputs": [],
   "source": [
    "# !pip install xgboost"
   ]
  },
  {
   "cell_type": "code",
   "execution_count": 69,
   "metadata": {},
   "outputs": [],
   "source": [
    "import xgboost as xgb"
   ]
  },
  {
   "cell_type": "code",
   "execution_count": 70,
   "metadata": {},
   "outputs": [
    {
     "name": "stdout",
     "output_type": "stream",
     "text": [
      "Accuracy on training data :  1.0\n",
      "Accuracy on test data :  0.9743336623889437\n",
      "Wall time: 354 ms\n"
     ]
    }
   ],
   "source": [
    "%%time\n",
    "from xgboost import XGBClassifier\n",
    "\n",
    "xgb = XGBClassifier()\n",
    "\n",
    "xgb.fit(X_train, y_train)\n",
    "\n",
    "print(\"Accuracy on training data : \", xgb.score(X_train,y_train))\n",
    "print(\"Accuracy on test data : \", xgb.score(X_test,y_test))"
   ]
  },
  {
   "cell_type": "code",
   "execution_count": 71,
   "metadata": {},
   "outputs": [
    {
     "name": "stdout",
     "output_type": "stream",
     "text": [
      "              precision    recall  f1-score   support\n",
      "\n",
      "           0       0.94      0.89      0.91       309\n",
      "           1       0.98      0.99      0.98      1717\n",
      "\n",
      "    accuracy                           0.97      2026\n",
      "   macro avg       0.96      0.94      0.95      2026\n",
      "weighted avg       0.97      0.97      0.97      2026\n",
      "\n"
     ]
    }
   ],
   "source": [
    "y_pred_xgb = xgb.predict(X_test)\n",
    "\n",
    "print(classification_report(y_test, y_pred_xgb))"
   ]
  },
  {
   "cell_type": "code",
   "execution_count": 72,
   "metadata": {},
   "outputs": [
    {
     "data": {
      "text/plain": [
       "array([[ 274,   35],\n",
       "       [  17, 1700]], dtype=int64)"
      ]
     },
     "execution_count": 72,
     "metadata": {},
     "output_type": "execute_result"
    }
   ],
   "source": [
    "confusion_matrix(y_test, y_pred_xgb)"
   ]
  },
  {
   "cell_type": "code",
   "execution_count": 73,
   "metadata": {},
   "outputs": [
    {
     "data": {
      "text/plain": [
       "<sklearn.metrics._plot.confusion_matrix.ConfusionMatrixDisplay at 0x2902387b648>"
      ]
     },
     "execution_count": 73,
     "metadata": {},
     "output_type": "execute_result"
    },
    {
     "data": {
      "image/png": "[encoded data removed]",
      "text/plain": [
       "<Figure size 432x288 with 2 Axes>"
      ]
     },
     "metadata": {
      "needs_background": "light"
     },
     "output_type": "display_data"
    }
   ],
   "source": [
    "cm_xgb = confusion_matrix(y_test, y_pred_xgb, labels=xgb.classes_)\n",
    "confus_xgb_disp = ConfusionMatrixDisplay(confusion_matrix=cm_xgb,\n",
    "                                               display_labels=xgb.classes_)\n",
    "confus_xgb_disp.plot()"
   ]
  },
  {
   "cell_type": "code",
   "execution_count": 74,
   "metadata": {},
   "outputs": [],
   "source": [
    "xgb_results = roc_curve(y_test, y_pred_xgb)"
   ]
  },
  {
   "cell_type": "code",
   "execution_count": 75,
   "metadata": {},
   "outputs": [
    {
     "data": {
      "text/plain": [
       "<sklearn.metrics._plot.roc_curve.RocCurveDisplay at 0x290238fc0c8>"
      ]
     },
     "execution_count": 75,
     "metadata": {},
     "output_type": "execute_result"
    },
    {
     "data": {
      "image/png": "[encoded data removed]",
      "text/plain": [
       "<Figure size 432x288 with 1 Axes>"
      ]
     },
     "metadata": {
      "needs_background": "light"
     },
     "output_type": "display_data"
    }
   ],
   "source": [
    "plot_roc_curve(xgb, X_test, y_test)"
   ]
  },
  {
   "cell_type": "code",
   "execution_count": 76,
   "metadata": {},
   "outputs": [
    {
     "data": {
      "image/png": "[encoded data removed]",
      "text/plain": [
       "<Figure size 432x288 with 1 Axes>"
      ]
     },
     "metadata": {
      "needs_background": "light"
     },
     "output_type": "display_data"
    }
   ],
   "source": [
    "from sklearn.metrics import roc_curve, plot_roc_curve, auc, RocCurveDisplay\n",
    "gnb\n",
    "\n",
    "fpr_gnb, tpr_gnb, _ = roc_curve(y_test, y_pred_gnb)\n",
    "roc_auc = auc(fpr_gnb, tpr_gnb)\n",
    "\n",
    "fpr_svm, tpr_svm, _ = roc_curve(y_test, y_pred_svm)\n",
    "roc_auc = auc(fpr_svm, tpr_svm)\n",
    "\n",
    "fpr_tree, tpr_tree, _ = roc_curve(y_test, y_pred_tree)\n",
    "roc_auc = auc(fpr_tree, tpr_tree)\n",
    "\n",
    "# fpr_rf_tree, tpr_rf_tree, _ = roc_curve(y_test, y_pred_rf_tree)\n",
    "# roc_auc = auc(fpr_rf_tree, tpr_rf_tree)\n",
    "\n",
    "fpr_knn, tpr_knn, _ = roc_curve(y_test, y_pred_knn)\n",
    "roc_auc = auc(fpr_knn, tpr_knn)\n",
    "\n",
    "fpr_xgb, tpr_xgb, _ = roc_curve(y_test, y_pred_xgb)\n",
    "roc_auc = auc(fpr_xgb, tpr_xgb)\n",
    "\n",
    "plt.plot(fpr_gnb,tpr_gnb)\n",
    "plt.legend(\"Naive Bayes\")\n",
    "plt.plot(fpr_svm, tpr_svm) \n",
    "plt.legend(\"SVM\")\n",
    "plt.plot(fpr_tree, tpr_tree) \n",
    "plt.legend(\"Decision Tree\")\n",
    "# plt.plot(fpr_rf_tree, tpr_rf_tree) \n",
    "# plt.legend(\"Random Forest\")\n",
    "plt.plot(fpr_knn, tpr_knn) \n",
    "plt.legend(\"KNN\")\n",
    "plt.plot(fpr_xgb, tpr_xgb) \n",
    "plt.legend(\"XGBoost\")\n",
    "\n",
    "plt.show()"
   ]
  },
  {
   "cell_type": "code",
   "execution_count": 77,
   "metadata": {},
   "outputs": [
    {
     "data": {
      "image/png": "[encoded data removed]",
      "text/plain": [
       "<Figure size 720x720 with 1 Axes>"
      ]
     },
     "metadata": {},
     "output_type": "display_data"
    }
   ],
   "source": [
    "# drug primer\n",
    "\n",
    "plt.style.use('seaborn-whitegrid')\n",
    "fig = plt.figure(figsize=(10,10)) \n",
    "\n",
    "models = [\n",
    "    'Naive Bayes', \n",
    "    'SVM', \n",
    "    'Decision Tree', \n",
    "#     'Random Forest', \n",
    "    'KNN', \n",
    "    'XGBoost'\n",
    "]\n",
    "probs = [\n",
    "    y_pred_gnb,\n",
    "    y_pred_svm,\n",
    "    y_pred_tree,\n",
    "#     y_pred_rf_tree,\n",
    "    y_pred_knn,\n",
    "    y_pred_xgb\n",
    "]\n",
    "colors = [\n",
    "    'blue',\n",
    "    'green',\n",
    "    'red',\n",
    "    'cyan',\n",
    "#     'magenta',\n",
    "    'yellow',\n",
    "    'black'\n",
    "]\n",
    "\n",
    "plt.title('Receiver Operating Characteristic')\n",
    "plt.plot([0, 1], [0, 1],'r--')\n",
    "plt.xlim([-0.01, 1.01])\n",
    "plt.ylim([-0.01, 1.01])\n",
    "plt.ylabel('True Positive Rate')\n",
    "plt.xlabel('False Positive Rate')\n",
    "\n",
    "def plot_roc_curves(y_test, prob, model):\n",
    "    fpr, tpr, threshold = roc_curve(y_test, prob)\n",
    "    roc_auc = auc(fpr, tpr)\n",
    "    plt.plot(fpr, tpr, 'b', label = model + ' AUC = %0.2f' % roc_auc, color=colors[i])\n",
    "    plt.legend(loc = 'lower right')\n",
    "    \n",
    "for i, model in list(enumerate(models)):\n",
    "    plot_roc_curves(y_test, probs[i], models[i])\n",
    "    \n",
    "plt.show()"
   ]
  },
  {
   "cell_type": "markdown",
   "metadata": {
    "id": "JGyhoU96SXy7"
   },
   "source": [
    "## 4. Evaluation and comparisons, various metrics"
   ]
  },
  {
   "cell_type": "code",
   "execution_count": null,
   "metadata": {
    "id": "L0_vsmimSXy8"
   },
   "outputs": [],
   "source": []
  },
  {
   "cell_type": "markdown",
   "metadata": {},
   "source": [
    "### Correlation matrix"
   ]
  },
  {
   "cell_type": "code",
   "execution_count": 78,
   "metadata": {
    "scrolled": false
   },
   "outputs": [
    {
     "data": {
      "image/png": "[encoded data removed]",
      "text/plain": [
       "<Figure size 2160x1440 with 2 Axes>"
      ]
     },
     "metadata": {},
     "output_type": "display_data"
    }
   ],
   "source": [
    "# import pandas as pd\n",
    "\n",
    "# X = dataset_one_hot_encoded.drop(['Attrition_Flag'], axis=1)\n",
    "# y = dataset_one_hot_encoded['Attrition_Flag']\n",
    "\n",
    "result = pd.concat([X, y], axis=1)\n",
    "correlation_train=result.corr()\n",
    "plt.figure(figsize=(30, 20))\n",
    "sns.heatmap(correlation_train, annot=True, fmt='.1f')\n",
    "plt.show()"
   ]
  },
  {
   "cell_type": "code",
   "execution_count": 79,
   "metadata": {},
   "outputs": [],
   "source": [
    "def drawheatmap(df):\n",
    "    '''Builds the heat map for the given data'''\n",
    "    f, ax = plt.subplots(figsize=(15, 15))\n",
    "    sns.heatmap(df.corr(method='spearman'), annot=False, cmap='coolwarm')"
   ]
  },
  {
   "cell_type": "code",
   "execution_count": 80,
   "metadata": {},
   "outputs": [
    {
     "data": {
      "image/png": "[encoded data removed]",
      "text/plain": [
       "<Figure size 1080x1080 with 2 Axes>"
      ]
     },
     "metadata": {},
     "output_type": "display_data"
    }
   ],
   "source": [
    "drawheatmap(X)"
   ]
  },
  {
   "cell_type": "code",
   "execution_count": 81,
   "metadata": {},
   "outputs": [
    {
     "data": {
      "text/html": [
       "<div>\n",
       "<style scoped>\n",
       "    .dataframe tbody tr th:only-of-type {\n",
       "        vertical-align: middle;\n",
       "    }\n",
       "\n",
       "    .dataframe tbody tr th {\n",
       "        vertical-align: top;\n",
       "    }\n",
       "\n",
       "    .dataframe thead th {\n",
       "        text-align: right;\n",
       "    }\n",
       "</style>\n",
       "<table border=\"1\" class=\"dataframe\">\n",
       "  <thead>\n",
       "    <tr style=\"text-align: right;\">\n",
       "      <th></th>\n",
       "      <th>Metric</th>\n",
       "      <th>Naive Bayes</th>\n",
       "      <th>SVM</th>\n",
       "      <th>Decision Tree</th>\n",
       "      <th>KNN</th>\n",
       "      <th>XGBoost</th>\n",
       "    </tr>\n",
       "  </thead>\n",
       "  <tbody>\n",
       "    <tr>\n",
       "      <td>0</td>\n",
       "      <td>MAE</td>\n",
       "      <td>0.112537</td>\n",
       "      <td>0.061698</td>\n",
       "      <td>0.063179</td>\n",
       "      <td>0.089832</td>\n",
       "      <td>0.025666</td>\n",
       "    </tr>\n",
       "  </tbody>\n",
       "</table>\n",
       "</div>"
      ],
      "text/plain": [
       "  Metric  Naive Bayes       SVM  Decision Tree       KNN   XGBoost\n",
       "0    MAE     0.112537  0.061698       0.063179  0.089832  0.025666"
      ]
     },
     "execution_count": 81,
     "metadata": {},
     "output_type": "execute_result"
    }
   ],
   "source": [
    "from sklearn.metrics import mean_squared_error, r2_score, mean_absolute_error\n",
    "\n",
    "mae_gnb = mean_absolute_error(y_test, y_pred_gnb)\n",
    "mae_svm = mean_absolute_error(y_test, y_pred_svm)\n",
    "mae_tree = mean_absolute_error(y_test, y_pred_tree)\n",
    "# mae_rf_tree = mean_absolute_error(y_test, y_pred_rf_tree)\n",
    "mae_knn = mean_absolute_error(y_test, y_pred_knn)\n",
    "mae_xgb = mean_absolute_error(y_test, y_pred_xgb)\n",
    "\n",
    "#construct the comparison table\n",
    "data = {'Metric':  ['MAE'],\n",
    "        'Naive Bayes': [mae_gnb],\n",
    "        'SVM': [mae_svm],\n",
    "        'Decision Tree': [mae_tree],\n",
    "#         'Random Forest': [mae_rf_tree],\n",
    "        'KNN': [mae_knn],\n",
    "        'XGBoost': [mae_xgb],\n",
    "        }\n",
    "\n",
    "comparison = pd.DataFrame (data, columns = ['Metric', 'Naive Bayes', 'SVM', 'Decision Tree', #'Random Forest', \n",
    "                                            'KNN', 'XGBoost'])\n",
    "comparison"
   ]
  },
  {
   "cell_type": "markdown",
   "metadata": {
    "id": "C4TYzMqQSXy_"
   },
   "source": [
    "## 5. Hyperparameter Optimization"
   ]
  },
  {
   "cell_type": "markdown",
   "metadata": {
    "id": "b5DpSTA-SXy_"
   },
   "source": [
    "## Random Search"
   ]
  },
  {
   "cell_type": "markdown",
   "metadata": {},
   "source": [
    "## Grid search"
   ]
  },
  {
   "cell_type": "code",
   "execution_count": null,
   "metadata": {},
   "outputs": [],
   "source": []
  },
  {
   "cell_type": "markdown",
   "metadata": {
    "id": "c1Uyu5APSXzD"
   },
   "source": [
    "## 6. Final evaluations and comparisons\n",
    "- the best model - analyze it in details, evaluate it with different train/test splits. Is it robust enough"
   ]
  },
  {
   "cell_type": "code",
   "execution_count": null,
   "metadata": {
    "id": "BJYe6t-oSXzD"
   },
   "outputs": [],
   "source": []
  },
  {
   "cell_type": "markdown",
   "metadata": {
    "id": "-yo2Rs_5SXzG"
   },
   "source": [
    "## 7. Discussion, Concusions, Future improvements\n",
    "- which features are the most important\n",
    "- how will you explain the model to the management of the bank\n",
    "- how much benefit/improvement should the bank expect"
   ]
  },
  {
   "cell_type": "code",
   "execution_count": null,
   "metadata": {
    "id": "HSU-oBptSXzG"
   },
   "outputs": [],
   "source": []
  }
 ],
 "metadata": {
  "colab": {
   "collapsed_sections": [],
   "name": "Bank_template.ipynb",
   "provenance": []
  },
  "kernelspec": {
   "display_name": "Python 3",
   "language": "python",
   "name": "python3"
  },
  "language_info": {
   "codemirror_mode": {
    "name": "ipython",
    "version": 3
   },
   "file_extension": ".py",
   "mimetype": "text/x-python",
   "name": "python",
   "nbconvert_exporter": "python",
   "pygments_lexer": "ipython3",
   "version": "3.7.4"
  }
 },
 "nbformat": 4,
 "nbformat_minor": 1
}
