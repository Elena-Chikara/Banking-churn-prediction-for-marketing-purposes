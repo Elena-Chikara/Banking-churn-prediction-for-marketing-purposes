{
 "cells": [
  {
   "cell_type": "markdown",
   "metadata": {
    "id": "RarNoE4PSXyr"
   },
   "source": [
    "# Bank data analysis\n",
    "\n",
    "The goal of the project is to create a robust classifier and use the data, where a model is built that will recognize whether specific client will leave/unsubscribe the bank services.\n",
    "The intention is to make feature engineering but also try differnet models in order to get as much accuracy as possible.\n",
    "\n",
    "\n",
    "\n",
    "\n",
    "    "
   ]
  },
  {
   "cell_type": "markdown",
   "metadata": {
    "id": "ZfCA9MCqxs55"
   },
   "source": [
    "## Dataset Info\n",
    "\n",
    "* CLIENTNUM\n",
    "  - Client number. Unique identifier for the customer holding the account\n",
    "\n",
    "* Attrition_Flag\n",
    "  - Internal event (customer activity) variable - if the account is closed then 1 else 0\n",
    "\n",
    "* Customer_Age\n",
    "  - Demographic variable - Customer's Age in Years\n",
    "\n",
    "* Gender\n",
    "  - Demographic variable - M=Male, F=Female\n",
    "\n",
    "* Dependent_count\n",
    "  - Demographic variable - Number of dependents\n",
    "\n",
    "* Education_Level\n",
    "  - Demographic variable - Educational Qualification of the account holder (example: high school, college graduate, etc.)\n",
    "\n",
    "\n",
    "* Marital_Status\n",
    "  - Demographic variable - Married, Single, Divorced, Unknown\n",
    "\n",
    "* Income_Category\n",
    "  - Demographic variable - Annual Income Category of the account holder (< $40K, $40K - 60K, $60K - $80K, $80K-$120K, > $120K, Unknown)\n",
    "\n",
    "\n",
    "* Card_Category\n",
    "  - Product Variable - Type of Card (Blue, Silver, Gold, Platinum)\n",
    "\n",
    "* Months_on_book\n",
    "  - Period of relationship with bank\n",
    "\n",
    "\n",
    "* Total_Relationship_Count\n",
    "  - Total no. of products held by the customer\n",
    "\n",
    "* Months_Inactive_12_mon\n",
    "  - No. of months inactive in the last 12 months\n",
    "\n",
    "* Contacts_Count_12_mon\n",
    "  - No. of Contacts in the last 12 months\n",
    "\n",
    "* Credit_Limit\n",
    "  - Credit Limit on the Credit Card\n",
    "\n",
    "* Total_Revolving_Bal\n",
    "  - Total Revolving Balance on the Credit Card\n",
    "\n",
    "* Avg_Open_To_Buy\n",
    "  - Open to Buy Credit Line (Average of last 12 months)\n",
    "\n",
    "* Total_Amt_Chng_Q4_Q1\n",
    "  - Change in Transaction Amount (Q4 over Q1)\n",
    "\n",
    "* Total_Trans_Amt\n",
    "  - Total Transaction Amount (Last 12 months)\n",
    "\n",
    "* Total_Trans_Ct\n",
    "  - Total Transaction Count (Last 12 months)\n",
    "\n",
    "* Total_Ct_Chng_Q4_Q1\n",
    "  - Change in Transaction Count (Q4 over Q1)\n",
    "\n",
    "* Avg_Utilization_Ratio\n",
    "  - Average Card Utilization Ratio\n",
    "\n",
    "\n"
   ]
  },
  {
   "cell_type": "markdown",
   "metadata": {
    "id": "u823cXPI0QNc"
   },
   "source": [
    "# Working Plan\n",
    "\n",
    "\n",
    "\n",
    "1. Phase 1 : Dataset\n",
    "    * Team Planning\n",
    "    * Full git project Integration\n",
    "    * General Project Research\n",
    "    * Dataset Preparation\n",
    "    * Dataset Feature Engineering\n",
    "\n",
    "2. Phase 2 : Training\n",
    "    * Make Research about your model\n",
    "    * Compose your model (try different models) \n",
    "    * Ping Pong phase with Dataset feature engineers\n",
    "    * Generate more data if needed\n",
    "    * Fine tunning of your model\n",
    "\n",
    "3. Phase 3 : Deployment\n",
    "    * Perform benchmark (precision/recall), ROC curve\n",
    "    * Model Deploy (Git)\n",
    "    * Write git Readme.md file\n",
    "    * Receive Feedback from PM"
   ]
  },
  {
   "cell_type": "markdown",
   "metadata": {
    "id": "vIGo_fGNSXys"
   },
   "source": [
    "## 0. Read data, visualize, basic statistics, understand it"
   ]
  },
  {
   "cell_type": "code",
   "execution_count": 1,
   "metadata": {
    "id": "Xj5WSaLYSXys"
   },
   "outputs": [],
   "source": [
    "import pandas as pd\n",
    "import numpy as np\n",
    "import matplotlib.pyplot as plt\n",
    "import seaborn as sns\n",
    "import sklearn\n",
    "import xgboost as xgb\n",
    "import pickle\n",
    "import time\n",
    "import datetime\n",
    "import warnings\n",
    "warnings.filterwarnings('ignore')\n",
    "from sklearn.metrics import roc_curve, plot_roc_curve, auc, RocCurveDisplay, confusion_matrix, ConfusionMatrixDisplay\n",
    "from sklearn.metrics import classification_report\n",
    "from sklearn.model_selection import RandomizedSearchCV, GridSearchCV\n",
    "from sklearn.naive_bayes import GaussianNB\n",
    "from sklearn.svm import SVC\n",
    "from sklearn.tree import DecisionTreeClassifier\n",
    "from sklearn.ensemble import RandomForestClassifier, GradientBoostingClassifier\n",
    "from sklearn.neighbors import KNeighborsClassifier\n",
    "from xgboost import XGBClassifier\n",
    "from sklearn.calibration import CalibratedClassifierCV\n",
    "from sklearn.preprocessing import StandardScaler, LabelEncoder\n",
    "from pandas.api.types import is_string_dtype"
   ]
  },
  {
   "cell_type": "code",
   "execution_count": 2,
   "metadata": {},
   "outputs": [],
   "source": [
    "dataset = pd.read_csv('dataset_bank.csv')"
   ]
  },
  {
   "cell_type": "code",
   "execution_count": 3,
   "metadata": {},
   "outputs": [
    {
     "data": {
      "text/plain": [
       "(10127, 21)"
      ]
     },
     "execution_count": 3,
     "metadata": {},
     "output_type": "execute_result"
    }
   ],
   "source": [
    "dataset.shape"
   ]
  },
  {
   "cell_type": "code",
   "execution_count": 4,
   "metadata": {},
   "outputs": [
    {
     "data": {
      "text/plain": [
       "array(['$60K - $80K', 'Less than $40K', '$80K - $120K', '$40K - $60K',\n",
       "       '$120K +', 'Unknown'], dtype=object)"
      ]
     },
     "execution_count": 4,
     "metadata": {},
     "output_type": "execute_result"
    }
   ],
   "source": [
    "dataset['Income_Category'].unique()"
   ]
  },
  {
   "cell_type": "code",
   "execution_count": 5,
   "metadata": {
    "scrolled": false
   },
   "outputs": [
    {
     "data": {
      "text/html": [
       "<div>\n",
       "<style scoped>\n",
       "    .dataframe tbody tr th:only-of-type {\n",
       "        vertical-align: middle;\n",
       "    }\n",
       "\n",
       "    .dataframe tbody tr th {\n",
       "        vertical-align: top;\n",
       "    }\n",
       "\n",
       "    .dataframe thead th {\n",
       "        text-align: right;\n",
       "    }\n",
       "</style>\n",
       "<table border=\"1\" class=\"dataframe\">\n",
       "  <thead>\n",
       "    <tr style=\"text-align: right;\">\n",
       "      <th></th>\n",
       "      <th>CLIENTNUM</th>\n",
       "      <th>Attrition_Flag</th>\n",
       "      <th>Customer_Age</th>\n",
       "      <th>Gender</th>\n",
       "      <th>Dependent_count</th>\n",
       "      <th>Education_Level</th>\n",
       "      <th>Marital_Status</th>\n",
       "      <th>Income_Category</th>\n",
       "      <th>Card_Category</th>\n",
       "      <th>Months_on_book</th>\n",
       "      <th>...</th>\n",
       "      <th>Months_Inactive_12_mon</th>\n",
       "      <th>Contacts_Count_12_mon</th>\n",
       "      <th>Credit_Limit</th>\n",
       "      <th>Total_Revolving_Bal</th>\n",
       "      <th>Avg_Open_To_Buy</th>\n",
       "      <th>Total_Amt_Chng_Q4_Q1</th>\n",
       "      <th>Total_Trans_Amt</th>\n",
       "      <th>Total_Trans_Ct</th>\n",
       "      <th>Total_Ct_Chng_Q4_Q1</th>\n",
       "      <th>Avg_Utilization_Ratio</th>\n",
       "    </tr>\n",
       "  </thead>\n",
       "  <tbody>\n",
       "    <tr>\n",
       "      <td>0</td>\n",
       "      <td>768805383</td>\n",
       "      <td>Existing Customer</td>\n",
       "      <td>45</td>\n",
       "      <td>M</td>\n",
       "      <td>3</td>\n",
       "      <td>High School</td>\n",
       "      <td>Married</td>\n",
       "      <td>$60K - $80K</td>\n",
       "      <td>Blue</td>\n",
       "      <td>3.900000e+01</td>\n",
       "      <td>...</td>\n",
       "      <td>1</td>\n",
       "      <td>3</td>\n",
       "      <td>12691.0</td>\n",
       "      <td>777</td>\n",
       "      <td>11914.0</td>\n",
       "      <td>1.335</td>\n",
       "      <td>1144</td>\n",
       "      <td>42</td>\n",
       "      <td>1.625</td>\n",
       "      <td>0.061</td>\n",
       "    </tr>\n",
       "    <tr>\n",
       "      <td>1</td>\n",
       "      <td>818770008</td>\n",
       "      <td>Existing Customer</td>\n",
       "      <td>49</td>\n",
       "      <td>F</td>\n",
       "      <td>5</td>\n",
       "      <td>Graduate</td>\n",
       "      <td>Single</td>\n",
       "      <td>Less than $40K</td>\n",
       "      <td>Blue</td>\n",
       "      <td>4.400000e+01</td>\n",
       "      <td>...</td>\n",
       "      <td>1</td>\n",
       "      <td>2</td>\n",
       "      <td>8256.0</td>\n",
       "      <td>864</td>\n",
       "      <td>7392.0</td>\n",
       "      <td>1.541</td>\n",
       "      <td>1291</td>\n",
       "      <td>33</td>\n",
       "      <td>3.714</td>\n",
       "      <td>0.105</td>\n",
       "    </tr>\n",
       "    <tr>\n",
       "      <td>2</td>\n",
       "      <td>713982108</td>\n",
       "      <td>Existing Customer</td>\n",
       "      <td>51</td>\n",
       "      <td>M</td>\n",
       "      <td>3</td>\n",
       "      <td>Graduate</td>\n",
       "      <td>Married</td>\n",
       "      <td>$80K - $120K</td>\n",
       "      <td>Blue</td>\n",
       "      <td>3.600000e+01</td>\n",
       "      <td>...</td>\n",
       "      <td>1</td>\n",
       "      <td>0</td>\n",
       "      <td>3418.0</td>\n",
       "      <td>0</td>\n",
       "      <td>3418.0</td>\n",
       "      <td>2.594</td>\n",
       "      <td>1887</td>\n",
       "      <td>20</td>\n",
       "      <td>2.333</td>\n",
       "      <td>0.000</td>\n",
       "    </tr>\n",
       "    <tr>\n",
       "      <td>3</td>\n",
       "      <td>769911858</td>\n",
       "      <td>Existing Customer</td>\n",
       "      <td>40</td>\n",
       "      <td>F</td>\n",
       "      <td>4</td>\n",
       "      <td>High School</td>\n",
       "      <td>Unknown</td>\n",
       "      <td>Less than $40K</td>\n",
       "      <td>Blue</td>\n",
       "      <td>3.400000e+01</td>\n",
       "      <td>...</td>\n",
       "      <td>4</td>\n",
       "      <td>1</td>\n",
       "      <td>3313.0</td>\n",
       "      <td>2517</td>\n",
       "      <td>796.0</td>\n",
       "      <td>1.405</td>\n",
       "      <td>1171</td>\n",
       "      <td>20</td>\n",
       "      <td>2.333</td>\n",
       "      <td>0.760</td>\n",
       "    </tr>\n",
       "    <tr>\n",
       "      <td>4</td>\n",
       "      <td>709106358</td>\n",
       "      <td>Existing Customer</td>\n",
       "      <td>40</td>\n",
       "      <td>M</td>\n",
       "      <td>3</td>\n",
       "      <td>Uneducated</td>\n",
       "      <td>Married</td>\n",
       "      <td>$60K - $80K</td>\n",
       "      <td>Blue</td>\n",
       "      <td>2.100000e+01</td>\n",
       "      <td>...</td>\n",
       "      <td>1</td>\n",
       "      <td>0</td>\n",
       "      <td>4716.0</td>\n",
       "      <td>0</td>\n",
       "      <td>4716.0</td>\n",
       "      <td>2.175</td>\n",
       "      <td>816</td>\n",
       "      <td>28</td>\n",
       "      <td>2.500</td>\n",
       "      <td>0.000</td>\n",
       "    </tr>\n",
       "    <tr>\n",
       "      <td>...</td>\n",
       "      <td>...</td>\n",
       "      <td>...</td>\n",
       "      <td>...</td>\n",
       "      <td>...</td>\n",
       "      <td>...</td>\n",
       "      <td>...</td>\n",
       "      <td>...</td>\n",
       "      <td>...</td>\n",
       "      <td>...</td>\n",
       "      <td>...</td>\n",
       "      <td>...</td>\n",
       "      <td>...</td>\n",
       "      <td>...</td>\n",
       "      <td>...</td>\n",
       "      <td>...</td>\n",
       "      <td>...</td>\n",
       "      <td>...</td>\n",
       "      <td>...</td>\n",
       "      <td>...</td>\n",
       "      <td>...</td>\n",
       "      <td>...</td>\n",
       "    </tr>\n",
       "    <tr>\n",
       "      <td>10122</td>\n",
       "      <td>772366833</td>\n",
       "      <td>Existing Customer</td>\n",
       "      <td>50</td>\n",
       "      <td>M</td>\n",
       "      <td>2</td>\n",
       "      <td>Graduate</td>\n",
       "      <td>Single</td>\n",
       "      <td>$40K - $60K</td>\n",
       "      <td>Blue</td>\n",
       "      <td>4.000000e+01</td>\n",
       "      <td>...</td>\n",
       "      <td>2</td>\n",
       "      <td>3</td>\n",
       "      <td>4003.0</td>\n",
       "      <td>1851</td>\n",
       "      <td>2152.0</td>\n",
       "      <td>0.703</td>\n",
       "      <td>15476</td>\n",
       "      <td>117</td>\n",
       "      <td>0.857</td>\n",
       "      <td>0.462</td>\n",
       "    </tr>\n",
       "    <tr>\n",
       "      <td>10123</td>\n",
       "      <td>710638233</td>\n",
       "      <td>Attrited Customer</td>\n",
       "      <td>41</td>\n",
       "      <td>M</td>\n",
       "      <td>2</td>\n",
       "      <td>Unknown</td>\n",
       "      <td>Divorced</td>\n",
       "      <td>$40K - $60K</td>\n",
       "      <td>Blue</td>\n",
       "      <td>2.500000e+01</td>\n",
       "      <td>...</td>\n",
       "      <td>2</td>\n",
       "      <td>3</td>\n",
       "      <td>4277.0</td>\n",
       "      <td>2186</td>\n",
       "      <td>2091.0</td>\n",
       "      <td>0.804</td>\n",
       "      <td>8764</td>\n",
       "      <td>69</td>\n",
       "      <td>0.683</td>\n",
       "      <td>0.511</td>\n",
       "    </tr>\n",
       "    <tr>\n",
       "      <td>10124</td>\n",
       "      <td>716506083</td>\n",
       "      <td>Attrited Customer</td>\n",
       "      <td>44</td>\n",
       "      <td>F</td>\n",
       "      <td>1</td>\n",
       "      <td>High School</td>\n",
       "      <td>Married</td>\n",
       "      <td>Less than $40K</td>\n",
       "      <td>Blue</td>\n",
       "      <td>3.600000e+01</td>\n",
       "      <td>...</td>\n",
       "      <td>3</td>\n",
       "      <td>4</td>\n",
       "      <td>5409.0</td>\n",
       "      <td>0</td>\n",
       "      <td>5409.0</td>\n",
       "      <td>0.819</td>\n",
       "      <td>10291</td>\n",
       "      <td>60</td>\n",
       "      <td>0.818</td>\n",
       "      <td>0.000</td>\n",
       "    </tr>\n",
       "    <tr>\n",
       "      <td>10125</td>\n",
       "      <td>717406983</td>\n",
       "      <td>Attrited Customer</td>\n",
       "      <td>30</td>\n",
       "      <td>M</td>\n",
       "      <td>2</td>\n",
       "      <td>Graduate</td>\n",
       "      <td>Unknown</td>\n",
       "      <td>$40K - $60K</td>\n",
       "      <td>Blue</td>\n",
       "      <td>2.147484e+09</td>\n",
       "      <td>...</td>\n",
       "      <td>3</td>\n",
       "      <td>3</td>\n",
       "      <td>5281.0</td>\n",
       "      <td>0</td>\n",
       "      <td>5281.0</td>\n",
       "      <td>0.535</td>\n",
       "      <td>8395</td>\n",
       "      <td>62</td>\n",
       "      <td>0.722</td>\n",
       "      <td>0.000</td>\n",
       "    </tr>\n",
       "    <tr>\n",
       "      <td>10126</td>\n",
       "      <td>714337233</td>\n",
       "      <td>Attrited Customer</td>\n",
       "      <td>43</td>\n",
       "      <td>F</td>\n",
       "      <td>2</td>\n",
       "      <td>Graduate</td>\n",
       "      <td>Married</td>\n",
       "      <td>Less than $40K</td>\n",
       "      <td>Silver</td>\n",
       "      <td>2.500000e+01</td>\n",
       "      <td>...</td>\n",
       "      <td>2</td>\n",
       "      <td>4</td>\n",
       "      <td>10388.0</td>\n",
       "      <td>1961</td>\n",
       "      <td>8427.0</td>\n",
       "      <td>0.703</td>\n",
       "      <td>10294</td>\n",
       "      <td>61</td>\n",
       "      <td>0.649</td>\n",
       "      <td>0.189</td>\n",
       "    </tr>\n",
       "  </tbody>\n",
       "</table>\n",
       "<p>10127 rows × 21 columns</p>\n",
       "</div>"
      ],
      "text/plain": [
       "       CLIENTNUM     Attrition_Flag  Customer_Age Gender  Dependent_count  \\\n",
       "0      768805383  Existing Customer            45      M                3   \n",
       "1      818770008  Existing Customer            49      F                5   \n",
       "2      713982108  Existing Customer            51      M                3   \n",
       "3      769911858  Existing Customer            40      F                4   \n",
       "4      709106358  Existing Customer            40      M                3   \n",
       "...          ...                ...           ...    ...              ...   \n",
       "10122  772366833  Existing Customer            50      M                2   \n",
       "10123  710638233  Attrited Customer            41      M                2   \n",
       "10124  716506083  Attrited Customer            44      F                1   \n",
       "10125  717406983  Attrited Customer            30      M                2   \n",
       "10126  714337233  Attrited Customer            43      F                2   \n",
       "\n",
       "      Education_Level Marital_Status Income_Category Card_Category  \\\n",
       "0         High School        Married     $60K - $80K          Blue   \n",
       "1            Graduate         Single  Less than $40K          Blue   \n",
       "2            Graduate        Married    $80K - $120K          Blue   \n",
       "3         High School        Unknown  Less than $40K          Blue   \n",
       "4          Uneducated        Married     $60K - $80K          Blue   \n",
       "...               ...            ...             ...           ...   \n",
       "10122        Graduate         Single     $40K - $60K          Blue   \n",
       "10123         Unknown       Divorced     $40K - $60K          Blue   \n",
       "10124     High School        Married  Less than $40K          Blue   \n",
       "10125        Graduate        Unknown     $40K - $60K          Blue   \n",
       "10126        Graduate        Married  Less than $40K        Silver   \n",
       "\n",
       "       Months_on_book  ...  Months_Inactive_12_mon  Contacts_Count_12_mon  \\\n",
       "0        3.900000e+01  ...                       1                      3   \n",
       "1        4.400000e+01  ...                       1                      2   \n",
       "2        3.600000e+01  ...                       1                      0   \n",
       "3        3.400000e+01  ...                       4                      1   \n",
       "4        2.100000e+01  ...                       1                      0   \n",
       "...               ...  ...                     ...                    ...   \n",
       "10122    4.000000e+01  ...                       2                      3   \n",
       "10123    2.500000e+01  ...                       2                      3   \n",
       "10124    3.600000e+01  ...                       3                      4   \n",
       "10125    2.147484e+09  ...                       3                      3   \n",
       "10126    2.500000e+01  ...                       2                      4   \n",
       "\n",
       "       Credit_Limit  Total_Revolving_Bal  Avg_Open_To_Buy  \\\n",
       "0           12691.0                  777          11914.0   \n",
       "1            8256.0                  864           7392.0   \n",
       "2            3418.0                    0           3418.0   \n",
       "3            3313.0                 2517            796.0   \n",
       "4            4716.0                    0           4716.0   \n",
       "...             ...                  ...              ...   \n",
       "10122        4003.0                 1851           2152.0   \n",
       "10123        4277.0                 2186           2091.0   \n",
       "10124        5409.0                    0           5409.0   \n",
       "10125        5281.0                    0           5281.0   \n",
       "10126       10388.0                 1961           8427.0   \n",
       "\n",
       "       Total_Amt_Chng_Q4_Q1  Total_Trans_Amt  Total_Trans_Ct  \\\n",
       "0                     1.335             1144              42   \n",
       "1                     1.541             1291              33   \n",
       "2                     2.594             1887              20   \n",
       "3                     1.405             1171              20   \n",
       "4                     2.175              816              28   \n",
       "...                     ...              ...             ...   \n",
       "10122                 0.703            15476             117   \n",
       "10123                 0.804             8764              69   \n",
       "10124                 0.819            10291              60   \n",
       "10125                 0.535             8395              62   \n",
       "10126                 0.703            10294              61   \n",
       "\n",
       "       Total_Ct_Chng_Q4_Q1  Avg_Utilization_Ratio  \n",
       "0                    1.625                  0.061  \n",
       "1                    3.714                  0.105  \n",
       "2                    2.333                  0.000  \n",
       "3                    2.333                  0.760  \n",
       "4                    2.500                  0.000  \n",
       "...                    ...                    ...  \n",
       "10122                0.857                  0.462  \n",
       "10123                0.683                  0.511  \n",
       "10124                0.818                  0.000  \n",
       "10125                0.722                  0.000  \n",
       "10126                0.649                  0.189  \n",
       "\n",
       "[10127 rows x 21 columns]"
      ]
     },
     "execution_count": 5,
     "metadata": {},
     "output_type": "execute_result"
    }
   ],
   "source": [
    "dataset"
   ]
  },
  {
   "cell_type": "markdown",
   "metadata": {},
   "source": [
    "## 0.1 Feature generation"
   ]
  },
  {
   "cell_type": "code",
   "execution_count": 6,
   "metadata": {},
   "outputs": [],
   "source": [
    "generation1 = dataset['Gender']+\"_\"+dataset['Card_Category']"
   ]
  },
  {
   "cell_type": "code",
   "execution_count": 7,
   "metadata": {},
   "outputs": [
    {
     "data": {
      "text/plain": [
       "array(['M_Blue', 'F_Blue', 'M_Gold', 'M_Silver', 'F_Gold', 'F_Silver',\n",
       "       'M_Platinum', 'F_Platinum'], dtype=object)"
      ]
     },
     "execution_count": 7,
     "metadata": {},
     "output_type": "execute_result"
    }
   ],
   "source": [
    "generation1.unique()"
   ]
  },
  {
   "cell_type": "code",
   "execution_count": 8,
   "metadata": {},
   "outputs": [],
   "source": [
    "generation2 = dataset['Education_Level']+\"_\"+dataset['Card_Category']"
   ]
  },
  {
   "cell_type": "code",
   "execution_count": 9,
   "metadata": {},
   "outputs": [
    {
     "data": {
      "text/plain": [
       "array(['High School_Blue', 'Graduate_Blue', 'Uneducated_Blue',\n",
       "       'Unknown_Gold', 'High School_Silver', 'Unknown_Blue',\n",
       "       'College_Blue', 'Post-Graduate_Blue', 'Doctorate_Blue',\n",
       "       'High School_Gold', 'College_Silver', 'Graduate_Silver',\n",
       "       'Uneducated_Silver', 'Unknown_Silver', 'College_Gold',\n",
       "       'Graduate_Platinum', 'Post-Graduate_Platinum',\n",
       "       'Post-Graduate_Silver', 'Graduate_Gold', 'Doctorate_Silver',\n",
       "       'Post-Graduate_Gold', 'Uneducated_Gold', 'Doctorate_Platinum',\n",
       "       'Doctorate_Gold', 'Unknown_Platinum', 'Uneducated_Platinum',\n",
       "       'High School_Platinum'], dtype=object)"
      ]
     },
     "execution_count": 9,
     "metadata": {},
     "output_type": "execute_result"
    }
   ],
   "source": [
    "generation2.unique()"
   ]
  },
  {
   "cell_type": "code",
   "execution_count": 10,
   "metadata": {},
   "outputs": [],
   "source": [
    "generation3 = dataset['Marital_Status']+\"_\"+dataset['Card_Category']"
   ]
  },
  {
   "cell_type": "code",
   "execution_count": 11,
   "metadata": {},
   "outputs": [
    {
     "data": {
      "text/plain": [
       "array(['Married_Blue', 'Single_Blue', 'Unknown_Blue', 'Married_Gold',\n",
       "       'Unknown_Silver', 'Divorced_Blue', 'Single_Silver',\n",
       "       'Married_Silver', 'Divorced_Silver', 'Single_Gold',\n",
       "       'Unknown_Platinum', 'Divorced_Gold', 'Divorced_Platinum',\n",
       "       'Unknown_Gold', 'Married_Platinum', 'Single_Platinum'],\n",
       "      dtype=object)"
      ]
     },
     "execution_count": 11,
     "metadata": {},
     "output_type": "execute_result"
    }
   ],
   "source": [
    "generation3.unique()"
   ]
  },
  {
   "cell_type": "code",
   "execution_count": 12,
   "metadata": {},
   "outputs": [],
   "source": [
    "generation4 = dataset['Income_Category']+\"_\"+dataset['Card_Category']"
   ]
  },
  {
   "cell_type": "code",
   "execution_count": 13,
   "metadata": {},
   "outputs": [
    {
     "data": {
      "text/plain": [
       "array(['$60K - $80K_Blue', 'Less than $40K_Blue', '$80K - $120K_Blue',\n",
       "       '$40K - $60K_Blue', '$120K +_Gold', '$60K - $80K_Silver',\n",
       "       '$120K +_Blue', 'Unknown_Blue', 'Less than $40K_Gold',\n",
       "       '$40K - $60K_Silver', '$80K - $120K_Silver', 'Unknown_Silver',\n",
       "       '$120K +_Silver', 'Less than $40K_Silver', '$60K - $80K_Gold',\n",
       "       '$80K - $120K_Platinum', '$80K - $120K_Gold', '$40K - $60K_Gold',\n",
       "       'Unknown_Platinum', 'Unknown_Gold', 'Less than $40K_Platinum',\n",
       "       '$120K +_Platinum', '$40K - $60K_Platinum', '$60K - $80K_Platinum'],\n",
       "      dtype=object)"
      ]
     },
     "execution_count": 13,
     "metadata": {},
     "output_type": "execute_result"
    }
   ],
   "source": [
    "generation4.unique()"
   ]
  },
  {
   "cell_type": "code",
   "execution_count": 14,
   "metadata": {},
   "outputs": [],
   "source": [
    "dataset = dataset.assign(gender_card=generation1, education_card=generation2, maritalStatus_card=generation3, \n",
    "                         income_card=generation4)"
   ]
  },
  {
   "cell_type": "code",
   "execution_count": 15,
   "metadata": {},
   "outputs": [
    {
     "data": {
      "text/html": [
       "<div>\n",
       "<style scoped>\n",
       "    .dataframe tbody tr th:only-of-type {\n",
       "        vertical-align: middle;\n",
       "    }\n",
       "\n",
       "    .dataframe tbody tr th {\n",
       "        vertical-align: top;\n",
       "    }\n",
       "\n",
       "    .dataframe thead th {\n",
       "        text-align: right;\n",
       "    }\n",
       "</style>\n",
       "<table border=\"1\" class=\"dataframe\">\n",
       "  <thead>\n",
       "    <tr style=\"text-align: right;\">\n",
       "      <th></th>\n",
       "      <th>CLIENTNUM</th>\n",
       "      <th>Attrition_Flag</th>\n",
       "      <th>Customer_Age</th>\n",
       "      <th>Gender</th>\n",
       "      <th>Dependent_count</th>\n",
       "      <th>Education_Level</th>\n",
       "      <th>Marital_Status</th>\n",
       "      <th>Income_Category</th>\n",
       "      <th>Card_Category</th>\n",
       "      <th>Months_on_book</th>\n",
       "      <th>...</th>\n",
       "      <th>Avg_Open_To_Buy</th>\n",
       "      <th>Total_Amt_Chng_Q4_Q1</th>\n",
       "      <th>Total_Trans_Amt</th>\n",
       "      <th>Total_Trans_Ct</th>\n",
       "      <th>Total_Ct_Chng_Q4_Q1</th>\n",
       "      <th>Avg_Utilization_Ratio</th>\n",
       "      <th>gender_card</th>\n",
       "      <th>education_card</th>\n",
       "      <th>maritalStatus_card</th>\n",
       "      <th>income_card</th>\n",
       "    </tr>\n",
       "  </thead>\n",
       "  <tbody>\n",
       "    <tr>\n",
       "      <td>0</td>\n",
       "      <td>768805383</td>\n",
       "      <td>Existing Customer</td>\n",
       "      <td>45</td>\n",
       "      <td>M</td>\n",
       "      <td>3</td>\n",
       "      <td>High School</td>\n",
       "      <td>Married</td>\n",
       "      <td>$60K - $80K</td>\n",
       "      <td>Blue</td>\n",
       "      <td>39.0</td>\n",
       "      <td>...</td>\n",
       "      <td>11914.0</td>\n",
       "      <td>1.335</td>\n",
       "      <td>1144</td>\n",
       "      <td>42</td>\n",
       "      <td>1.625</td>\n",
       "      <td>0.061</td>\n",
       "      <td>M_Blue</td>\n",
       "      <td>High School_Blue</td>\n",
       "      <td>Married_Blue</td>\n",
       "      <td>$60K - $80K_Blue</td>\n",
       "    </tr>\n",
       "    <tr>\n",
       "      <td>1</td>\n",
       "      <td>818770008</td>\n",
       "      <td>Existing Customer</td>\n",
       "      <td>49</td>\n",
       "      <td>F</td>\n",
       "      <td>5</td>\n",
       "      <td>Graduate</td>\n",
       "      <td>Single</td>\n",
       "      <td>Less than $40K</td>\n",
       "      <td>Blue</td>\n",
       "      <td>44.0</td>\n",
       "      <td>...</td>\n",
       "      <td>7392.0</td>\n",
       "      <td>1.541</td>\n",
       "      <td>1291</td>\n",
       "      <td>33</td>\n",
       "      <td>3.714</td>\n",
       "      <td>0.105</td>\n",
       "      <td>F_Blue</td>\n",
       "      <td>Graduate_Blue</td>\n",
       "      <td>Single_Blue</td>\n",
       "      <td>Less than $40K_Blue</td>\n",
       "    </tr>\n",
       "    <tr>\n",
       "      <td>2</td>\n",
       "      <td>713982108</td>\n",
       "      <td>Existing Customer</td>\n",
       "      <td>51</td>\n",
       "      <td>M</td>\n",
       "      <td>3</td>\n",
       "      <td>Graduate</td>\n",
       "      <td>Married</td>\n",
       "      <td>$80K - $120K</td>\n",
       "      <td>Blue</td>\n",
       "      <td>36.0</td>\n",
       "      <td>...</td>\n",
       "      <td>3418.0</td>\n",
       "      <td>2.594</td>\n",
       "      <td>1887</td>\n",
       "      <td>20</td>\n",
       "      <td>2.333</td>\n",
       "      <td>0.000</td>\n",
       "      <td>M_Blue</td>\n",
       "      <td>Graduate_Blue</td>\n",
       "      <td>Married_Blue</td>\n",
       "      <td>$80K - $120K_Blue</td>\n",
       "    </tr>\n",
       "    <tr>\n",
       "      <td>3</td>\n",
       "      <td>769911858</td>\n",
       "      <td>Existing Customer</td>\n",
       "      <td>40</td>\n",
       "      <td>F</td>\n",
       "      <td>4</td>\n",
       "      <td>High School</td>\n",
       "      <td>Unknown</td>\n",
       "      <td>Less than $40K</td>\n",
       "      <td>Blue</td>\n",
       "      <td>34.0</td>\n",
       "      <td>...</td>\n",
       "      <td>796.0</td>\n",
       "      <td>1.405</td>\n",
       "      <td>1171</td>\n",
       "      <td>20</td>\n",
       "      <td>2.333</td>\n",
       "      <td>0.760</td>\n",
       "      <td>F_Blue</td>\n",
       "      <td>High School_Blue</td>\n",
       "      <td>Unknown_Blue</td>\n",
       "      <td>Less than $40K_Blue</td>\n",
       "    </tr>\n",
       "    <tr>\n",
       "      <td>4</td>\n",
       "      <td>709106358</td>\n",
       "      <td>Existing Customer</td>\n",
       "      <td>40</td>\n",
       "      <td>M</td>\n",
       "      <td>3</td>\n",
       "      <td>Uneducated</td>\n",
       "      <td>Married</td>\n",
       "      <td>$60K - $80K</td>\n",
       "      <td>Blue</td>\n",
       "      <td>21.0</td>\n",
       "      <td>...</td>\n",
       "      <td>4716.0</td>\n",
       "      <td>2.175</td>\n",
       "      <td>816</td>\n",
       "      <td>28</td>\n",
       "      <td>2.500</td>\n",
       "      <td>0.000</td>\n",
       "      <td>M_Blue</td>\n",
       "      <td>Uneducated_Blue</td>\n",
       "      <td>Married_Blue</td>\n",
       "      <td>$60K - $80K_Blue</td>\n",
       "    </tr>\n",
       "  </tbody>\n",
       "</table>\n",
       "<p>5 rows × 25 columns</p>\n",
       "</div>"
      ],
      "text/plain": [
       "   CLIENTNUM     Attrition_Flag  Customer_Age Gender  Dependent_count  \\\n",
       "0  768805383  Existing Customer            45      M                3   \n",
       "1  818770008  Existing Customer            49      F                5   \n",
       "2  713982108  Existing Customer            51      M                3   \n",
       "3  769911858  Existing Customer            40      F                4   \n",
       "4  709106358  Existing Customer            40      M                3   \n",
       "\n",
       "  Education_Level Marital_Status Income_Category Card_Category  \\\n",
       "0     High School        Married     $60K - $80K          Blue   \n",
       "1        Graduate         Single  Less than $40K          Blue   \n",
       "2        Graduate        Married    $80K - $120K          Blue   \n",
       "3     High School        Unknown  Less than $40K          Blue   \n",
       "4      Uneducated        Married     $60K - $80K          Blue   \n",
       "\n",
       "   Months_on_book  ...  Avg_Open_To_Buy  Total_Amt_Chng_Q4_Q1  \\\n",
       "0            39.0  ...          11914.0                 1.335   \n",
       "1            44.0  ...           7392.0                 1.541   \n",
       "2            36.0  ...           3418.0                 2.594   \n",
       "3            34.0  ...            796.0                 1.405   \n",
       "4            21.0  ...           4716.0                 2.175   \n",
       "\n",
       "   Total_Trans_Amt  Total_Trans_Ct  Total_Ct_Chng_Q4_Q1  \\\n",
       "0             1144              42                1.625   \n",
       "1             1291              33                3.714   \n",
       "2             1887              20                2.333   \n",
       "3             1171              20                2.333   \n",
       "4              816              28                2.500   \n",
       "\n",
       "   Avg_Utilization_Ratio  gender_card    education_card  maritalStatus_card  \\\n",
       "0                  0.061       M_Blue  High School_Blue        Married_Blue   \n",
       "1                  0.105       F_Blue     Graduate_Blue         Single_Blue   \n",
       "2                  0.000       M_Blue     Graduate_Blue        Married_Blue   \n",
       "3                  0.760       F_Blue  High School_Blue        Unknown_Blue   \n",
       "4                  0.000       M_Blue   Uneducated_Blue        Married_Blue   \n",
       "\n",
       "           income_card  \n",
       "0     $60K - $80K_Blue  \n",
       "1  Less than $40K_Blue  \n",
       "2    $80K - $120K_Blue  \n",
       "3  Less than $40K_Blue  \n",
       "4     $60K - $80K_Blue  \n",
       "\n",
       "[5 rows x 25 columns]"
      ]
     },
     "execution_count": 15,
     "metadata": {},
     "output_type": "execute_result"
    }
   ],
   "source": [
    "dataset.head()"
   ]
  },
  {
   "cell_type": "code",
   "execution_count": 16,
   "metadata": {},
   "outputs": [],
   "source": [
    "dataset['Amt_Per_Trans'] = round((dataset.Total_Trans_Amt / dataset.Total_Trans_Ct), 2)"
   ]
  },
  {
   "cell_type": "code",
   "execution_count": 17,
   "metadata": {},
   "outputs": [],
   "source": [
    "dataset['Amt_Per_Person'] = round((dataset.Total_Trans_Amt / (dataset.Dependent_count + 1)), 2)"
   ]
  },
  {
   "cell_type": "code",
   "execution_count": 18,
   "metadata": {
    "scrolled": true
   },
   "outputs": [
    {
     "data": {
      "text/html": [
       "<div>\n",
       "<style scoped>\n",
       "    .dataframe tbody tr th:only-of-type {\n",
       "        vertical-align: middle;\n",
       "    }\n",
       "\n",
       "    .dataframe tbody tr th {\n",
       "        vertical-align: top;\n",
       "    }\n",
       "\n",
       "    .dataframe thead th {\n",
       "        text-align: right;\n",
       "    }\n",
       "</style>\n",
       "<table border=\"1\" class=\"dataframe\">\n",
       "  <thead>\n",
       "    <tr style=\"text-align: right;\">\n",
       "      <th></th>\n",
       "      <th>CLIENTNUM</th>\n",
       "      <th>Attrition_Flag</th>\n",
       "      <th>Customer_Age</th>\n",
       "      <th>Gender</th>\n",
       "      <th>Dependent_count</th>\n",
       "      <th>Education_Level</th>\n",
       "      <th>Marital_Status</th>\n",
       "      <th>Income_Category</th>\n",
       "      <th>Card_Category</th>\n",
       "      <th>Months_on_book</th>\n",
       "      <th>...</th>\n",
       "      <th>Total_Trans_Amt</th>\n",
       "      <th>Total_Trans_Ct</th>\n",
       "      <th>Total_Ct_Chng_Q4_Q1</th>\n",
       "      <th>Avg_Utilization_Ratio</th>\n",
       "      <th>gender_card</th>\n",
       "      <th>education_card</th>\n",
       "      <th>maritalStatus_card</th>\n",
       "      <th>income_card</th>\n",
       "      <th>Amt_Per_Trans</th>\n",
       "      <th>Amt_Per_Person</th>\n",
       "    </tr>\n",
       "  </thead>\n",
       "  <tbody>\n",
       "    <tr>\n",
       "      <td>0</td>\n",
       "      <td>768805383</td>\n",
       "      <td>Existing Customer</td>\n",
       "      <td>45</td>\n",
       "      <td>M</td>\n",
       "      <td>3</td>\n",
       "      <td>High School</td>\n",
       "      <td>Married</td>\n",
       "      <td>$60K - $80K</td>\n",
       "      <td>Blue</td>\n",
       "      <td>39.0</td>\n",
       "      <td>...</td>\n",
       "      <td>1144</td>\n",
       "      <td>42</td>\n",
       "      <td>1.625</td>\n",
       "      <td>0.061</td>\n",
       "      <td>M_Blue</td>\n",
       "      <td>High School_Blue</td>\n",
       "      <td>Married_Blue</td>\n",
       "      <td>$60K - $80K_Blue</td>\n",
       "      <td>27.24</td>\n",
       "      <td>286.00</td>\n",
       "    </tr>\n",
       "    <tr>\n",
       "      <td>1</td>\n",
       "      <td>818770008</td>\n",
       "      <td>Existing Customer</td>\n",
       "      <td>49</td>\n",
       "      <td>F</td>\n",
       "      <td>5</td>\n",
       "      <td>Graduate</td>\n",
       "      <td>Single</td>\n",
       "      <td>Less than $40K</td>\n",
       "      <td>Blue</td>\n",
       "      <td>44.0</td>\n",
       "      <td>...</td>\n",
       "      <td>1291</td>\n",
       "      <td>33</td>\n",
       "      <td>3.714</td>\n",
       "      <td>0.105</td>\n",
       "      <td>F_Blue</td>\n",
       "      <td>Graduate_Blue</td>\n",
       "      <td>Single_Blue</td>\n",
       "      <td>Less than $40K_Blue</td>\n",
       "      <td>39.12</td>\n",
       "      <td>215.17</td>\n",
       "    </tr>\n",
       "    <tr>\n",
       "      <td>2</td>\n",
       "      <td>713982108</td>\n",
       "      <td>Existing Customer</td>\n",
       "      <td>51</td>\n",
       "      <td>M</td>\n",
       "      <td>3</td>\n",
       "      <td>Graduate</td>\n",
       "      <td>Married</td>\n",
       "      <td>$80K - $120K</td>\n",
       "      <td>Blue</td>\n",
       "      <td>36.0</td>\n",
       "      <td>...</td>\n",
       "      <td>1887</td>\n",
       "      <td>20</td>\n",
       "      <td>2.333</td>\n",
       "      <td>0.000</td>\n",
       "      <td>M_Blue</td>\n",
       "      <td>Graduate_Blue</td>\n",
       "      <td>Married_Blue</td>\n",
       "      <td>$80K - $120K_Blue</td>\n",
       "      <td>94.35</td>\n",
       "      <td>471.75</td>\n",
       "    </tr>\n",
       "    <tr>\n",
       "      <td>3</td>\n",
       "      <td>769911858</td>\n",
       "      <td>Existing Customer</td>\n",
       "      <td>40</td>\n",
       "      <td>F</td>\n",
       "      <td>4</td>\n",
       "      <td>High School</td>\n",
       "      <td>Unknown</td>\n",
       "      <td>Less than $40K</td>\n",
       "      <td>Blue</td>\n",
       "      <td>34.0</td>\n",
       "      <td>...</td>\n",
       "      <td>1171</td>\n",
       "      <td>20</td>\n",
       "      <td>2.333</td>\n",
       "      <td>0.760</td>\n",
       "      <td>F_Blue</td>\n",
       "      <td>High School_Blue</td>\n",
       "      <td>Unknown_Blue</td>\n",
       "      <td>Less than $40K_Blue</td>\n",
       "      <td>58.55</td>\n",
       "      <td>234.20</td>\n",
       "    </tr>\n",
       "    <tr>\n",
       "      <td>4</td>\n",
       "      <td>709106358</td>\n",
       "      <td>Existing Customer</td>\n",
       "      <td>40</td>\n",
       "      <td>M</td>\n",
       "      <td>3</td>\n",
       "      <td>Uneducated</td>\n",
       "      <td>Married</td>\n",
       "      <td>$60K - $80K</td>\n",
       "      <td>Blue</td>\n",
       "      <td>21.0</td>\n",
       "      <td>...</td>\n",
       "      <td>816</td>\n",
       "      <td>28</td>\n",
       "      <td>2.500</td>\n",
       "      <td>0.000</td>\n",
       "      <td>M_Blue</td>\n",
       "      <td>Uneducated_Blue</td>\n",
       "      <td>Married_Blue</td>\n",
       "      <td>$60K - $80K_Blue</td>\n",
       "      <td>29.14</td>\n",
       "      <td>204.00</td>\n",
       "    </tr>\n",
       "  </tbody>\n",
       "</table>\n",
       "<p>5 rows × 27 columns</p>\n",
       "</div>"
      ],
      "text/plain": [
       "   CLIENTNUM     Attrition_Flag  Customer_Age Gender  Dependent_count  \\\n",
       "0  768805383  Existing Customer            45      M                3   \n",
       "1  818770008  Existing Customer            49      F                5   \n",
       "2  713982108  Existing Customer            51      M                3   \n",
       "3  769911858  Existing Customer            40      F                4   \n",
       "4  709106358  Existing Customer            40      M                3   \n",
       "\n",
       "  Education_Level Marital_Status Income_Category Card_Category  \\\n",
       "0     High School        Married     $60K - $80K          Blue   \n",
       "1        Graduate         Single  Less than $40K          Blue   \n",
       "2        Graduate        Married    $80K - $120K          Blue   \n",
       "3     High School        Unknown  Less than $40K          Blue   \n",
       "4      Uneducated        Married     $60K - $80K          Blue   \n",
       "\n",
       "   Months_on_book  ...  Total_Trans_Amt  Total_Trans_Ct  Total_Ct_Chng_Q4_Q1  \\\n",
       "0            39.0  ...             1144              42                1.625   \n",
       "1            44.0  ...             1291              33                3.714   \n",
       "2            36.0  ...             1887              20                2.333   \n",
       "3            34.0  ...             1171              20                2.333   \n",
       "4            21.0  ...              816              28                2.500   \n",
       "\n",
       "   Avg_Utilization_Ratio  gender_card    education_card  maritalStatus_card  \\\n",
       "0                  0.061       M_Blue  High School_Blue        Married_Blue   \n",
       "1                  0.105       F_Blue     Graduate_Blue         Single_Blue   \n",
       "2                  0.000       M_Blue     Graduate_Blue        Married_Blue   \n",
       "3                  0.760       F_Blue  High School_Blue        Unknown_Blue   \n",
       "4                  0.000       M_Blue   Uneducated_Blue        Married_Blue   \n",
       "\n",
       "           income_card  Amt_Per_Trans  Amt_Per_Person  \n",
       "0     $60K - $80K_Blue          27.24          286.00  \n",
       "1  Less than $40K_Blue          39.12          215.17  \n",
       "2    $80K - $120K_Blue          94.35          471.75  \n",
       "3  Less than $40K_Blue          58.55          234.20  \n",
       "4     $60K - $80K_Blue          29.14          204.00  \n",
       "\n",
       "[5 rows x 27 columns]"
      ]
     },
     "execution_count": 18,
     "metadata": {},
     "output_type": "execute_result"
    }
   ],
   "source": [
    "dataset.head()"
   ]
  },
  {
   "cell_type": "markdown",
   "metadata": {
    "id": "qcK1sU4iSXyw"
   },
   "source": [
    "## 1. Data preprocessing, normalization, missing data, categorical data"
   ]
  },
  {
   "cell_type": "code",
   "execution_count": 19,
   "metadata": {},
   "outputs": [
    {
     "name": "stdout",
     "output_type": "stream",
     "text": [
      "Numeric columns\n",
      "CLIENTNUM\n",
      "Customer_Age\n",
      "Dependent_count\n",
      "Months_on_book\n",
      "Total_Relationship_Count\n",
      "Months_Inactive_12_mon\n",
      "Contacts_Count_12_mon\n",
      "Credit_Limit\n",
      "Total_Revolving_Bal\n",
      "Avg_Open_To_Buy\n",
      "Total_Amt_Chng_Q4_Q1\n",
      "Total_Trans_Amt\n",
      "Total_Trans_Ct\n",
      "Total_Ct_Chng_Q4_Q1\n",
      "Avg_Utilization_Ratio\n",
      "Amt_Per_Trans\n",
      "Amt_Per_Person\n",
      "----------------------------------\n",
      "Category columns\n",
      "Attrition_Flag\n",
      "Gender\n",
      "Education_Level\n",
      "Marital_Status\n",
      "Income_Category\n",
      "Card_Category\n",
      "gender_card\n",
      "education_card\n",
      "maritalStatus_card\n",
      "income_card\n"
     ]
    }
   ],
   "source": [
    "# Which columns are numeric, which are category.\n",
    "\n",
    "from pandas.api.types import is_string_dtype\n",
    "from pandas.api.types import is_numeric_dtype\n",
    "\n",
    "\n",
    "print(\"Numeric columns\")\n",
    "for column in dataset.columns:\n",
    "    if is_numeric_dtype(dataset[column]):\n",
    "        print(column)\n",
    "print(\"----------------------------------\")        \n",
    "print(\"Category columns\")        \n",
    "for column in dataset.columns:\n",
    "    if is_string_dtype(dataset[column]):\n",
    "        print(column)"
   ]
  },
  {
   "cell_type": "code",
   "execution_count": 20,
   "metadata": {
    "id": "kgOelHW2SXyx"
   },
   "outputs": [],
   "source": [
    "# Check if there are missing data\n",
    "\n",
    "for column in dataset.columns:\n",
    "    if dataset[column].isnull().values.any():\n",
    "        print(column)"
   ]
  },
  {
   "cell_type": "code",
   "execution_count": 21,
   "metadata": {},
   "outputs": [
    {
     "data": {
      "text/plain": [
       "array([ 3.90000000e+01,  4.40000000e+01,  3.60000000e+01,  3.40000000e+01,\n",
       "        2.10000000e+01,  4.60000000e+01,  2.70000000e+01,  3.10000000e+01,\n",
       "        5.40000000e+01,  3.00000000e+01,  4.80000000e+01,  3.70000000e+01,\n",
       "        5.60000000e+01,  4.20000000e+01,  4.90000000e+01,  3.30000000e+01,\n",
       "        2.80000000e+01,  3.80000000e+01,  4.10000000e+01,  4.30000000e+01,\n",
       "        4.50000000e+01,  5.20000000e+01,  4.00000000e+01,  5.00000000e+01,\n",
       "        3.50000000e+01,  4.70000000e+01,  3.20000000e+01,  2.00000000e+01,\n",
       "        2.90000000e+01,  2.50000000e+01,  5.30000000e+01,  2.40000000e+01,\n",
       "        5.50000000e+01,  2.30000000e+01,  2.20000000e+01,  2.60000000e+01,\n",
       "        2.14748365e+09,  1.30000000e+01,  5.10000000e+01,  1.90000000e+01,\n",
       "        1.50000000e+01,  1.70000000e+01,  1.80000000e+01, -2.14748365e+09,\n",
       "        1.60000000e+01,  1.40000000e+01,  3.21000000e+11])"
      ]
     },
     "execution_count": 21,
     "metadata": {},
     "output_type": "execute_result"
    }
   ],
   "source": [
    "dataset['Months_on_book'].unique()"
   ]
  },
  {
   "cell_type": "code",
   "execution_count": 22,
   "metadata": {},
   "outputs": [],
   "source": [
    "dataset['Months_on_book'] = dataset.Months_on_book.replace({-2147483647: 'None', \n",
    "                                                              2147483647: 'None', \n",
    "                                                              3.21E+11: 'None'})"
   ]
  },
  {
   "cell_type": "code",
   "execution_count": 23,
   "metadata": {},
   "outputs": [
    {
     "data": {
      "text/plain": [
       "array([39.0, 44.0, 36.0, 34.0, 21.0, 46.0, 27.0, 31.0, 54.0, 30.0, 48.0,\n",
       "       37.0, 56.0, 42.0, 49.0, 33.0, 28.0, 38.0, 41.0, 43.0, 45.0, 52.0,\n",
       "       40.0, 50.0, 35.0, 47.0, 32.0, 20.0, 29.0, 25.0, 53.0, 24.0, 55.0,\n",
       "       23.0, 22.0, 26.0, 'None', 13.0, 51.0, 19.0, 15.0, 17.0, 18.0, 16.0,\n",
       "       14.0], dtype=object)"
      ]
     },
     "execution_count": 23,
     "metadata": {},
     "output_type": "execute_result"
    }
   ],
   "source": [
    "dataset['Months_on_book'].unique()"
   ]
  },
  {
   "cell_type": "code",
   "execution_count": 24,
   "metadata": {},
   "outputs": [
    {
     "data": {
      "text/plain": [
       "36.0    2417\n",
       "37.0     358\n",
       "34.0     351\n",
       "38.0     347\n",
       "39.0     341\n",
       "40.0     333\n",
       "31.0     318\n",
       "35.0     314\n",
       "33.0     304\n",
       "30.0     300\n",
       "41.0     297\n",
       "32.0     289\n",
       "28.0     275\n",
       "43.0     273\n",
       "42.0     271\n",
       "29.0     241\n",
       "44.0     230\n",
       "45.0     227\n",
       "27.0     206\n",
       "46.0     197\n",
       "26.0     186\n",
       "47.0     171\n",
       "25.0     165\n",
       "48.0     162\n",
       "24.0     160\n",
       "49.0     141\n",
       "23.0     116\n",
       "22.0     105\n",
       "56.0     103\n",
       "50.0      96\n",
       "21.0      83\n",
       "51.0      80\n",
       "53.0      78\n",
       "20.0      74\n",
       "13.0      70\n",
       "19.0      63\n",
       "52.0      62\n",
       "18.0      58\n",
       "54.0      53\n",
       "None      52\n",
       "55.0      42\n",
       "17.0      39\n",
       "15.0      34\n",
       "16.0      29\n",
       "14.0      16\n",
       "Name: Months_on_book, dtype: int64"
      ]
     },
     "execution_count": 24,
     "metadata": {},
     "output_type": "execute_result"
    }
   ],
   "source": [
    "dataset['Months_on_book'].value_counts()"
   ]
  },
  {
   "cell_type": "code",
   "execution_count": 25,
   "metadata": {},
   "outputs": [],
   "source": [
    "dataset['Months_on_book'] = dataset['Months_on_book'].replace('None', np.nan)"
   ]
  },
  {
   "cell_type": "code",
   "execution_count": 26,
   "metadata": {},
   "outputs": [],
   "source": [
    "from sklearn.impute import KNNImputer\n",
    "\n",
    "transformer = KNNImputer(n_neighbors=2)\n",
    "\n",
    "columns = ['Months_on_book']\n",
    "dataset[columns] = transformer.fit_transform(dataset[columns])"
   ]
  },
  {
   "cell_type": "code",
   "execution_count": 27,
   "metadata": {},
   "outputs": [
    {
     "data": {
      "text/plain": [
       "array([39.        , 44.        , 36.        , 34.        , 21.        ,\n",
       "       46.        , 27.        , 31.        , 54.        , 30.        ,\n",
       "       48.        , 37.        , 56.        , 42.        , 49.        ,\n",
       "       33.        , 28.        , 38.        , 41.        , 43.        ,\n",
       "       45.        , 52.        , 40.        , 50.        , 35.        ,\n",
       "       47.        , 32.        , 20.        , 29.        , 25.        ,\n",
       "       53.        , 24.        , 55.        , 23.        , 22.        ,\n",
       "       26.        , 35.92903226, 13.        , 51.        , 19.        ,\n",
       "       15.        , 17.        , 18.        , 16.        , 14.        ])"
      ]
     },
     "execution_count": 27,
     "metadata": {},
     "output_type": "execute_result"
    }
   ],
   "source": [
    "dataset['Months_on_book'].unique()"
   ]
  },
  {
   "cell_type": "code",
   "execution_count": 28,
   "metadata": {},
   "outputs": [
    {
     "data": {
      "text/plain": [
       "<matplotlib.axes._subplots.AxesSubplot at 0x258fe54c908>"
      ]
     },
     "execution_count": 28,
     "metadata": {},
     "output_type": "execute_result"
    },
    {
     "data": {
      "image/png": "[encoded data removed]",
      "text/plain": [
       "<Figure size 1440x720 with 1 Axes>"
      ]
     },
     "metadata": {
      "needs_background": "light"
     },
     "output_type": "display_data"
    }
   ],
   "source": [
    "dataset['Months_on_book'].value_counts().plot.bar(figsize=(20,10),title='Months_on_book')"
   ]
  },
  {
   "cell_type": "code",
   "execution_count": 29,
   "metadata": {},
   "outputs": [
    {
     "data": {
      "text/plain": [
       "<matplotlib.axes._subplots.AxesSubplot at 0x258a056dc08>"
      ]
     },
     "execution_count": 29,
     "metadata": {},
     "output_type": "execute_result"
    },
    {
     "data": {
      "image/png": "[encoded data removed]",
      "text/plain": [
       "<Figure size 1440x360 with 2 Axes>"
      ]
     },
     "metadata": {
      "needs_background": "light"
     },
     "output_type": "display_data"
    }
   ],
   "source": [
    "plt.figure(figsize=(20,5))\n",
    "\n",
    "plt.subplot(121)\n",
    "sns.distplot(dataset['Months_on_book'], label='Months_on_book')\n",
    "\n",
    "plt.subplot(122)\n",
    "dataset['Months_on_book'].plot(kind='box', label=\"Months_on_book\")"
   ]
  },
  {
   "cell_type": "code",
   "execution_count": 30,
   "metadata": {},
   "outputs": [
    {
     "data": {
      "text/plain": [
       "36.000000    2417\n",
       "37.000000     358\n",
       "34.000000     351\n",
       "38.000000     347\n",
       "39.000000     341\n",
       "40.000000     333\n",
       "31.000000     318\n",
       "35.000000     314\n",
       "33.000000     304\n",
       "30.000000     300\n",
       "41.000000     297\n",
       "32.000000     289\n",
       "28.000000     275\n",
       "43.000000     273\n",
       "42.000000     271\n",
       "29.000000     241\n",
       "44.000000     230\n",
       "45.000000     227\n",
       "27.000000     206\n",
       "46.000000     197\n",
       "26.000000     186\n",
       "47.000000     171\n",
       "25.000000     165\n",
       "48.000000     162\n",
       "24.000000     160\n",
       "49.000000     141\n",
       "23.000000     116\n",
       "22.000000     105\n",
       "56.000000     103\n",
       "50.000000      96\n",
       "21.000000      83\n",
       "51.000000      80\n",
       "53.000000      78\n",
       "20.000000      74\n",
       "13.000000      70\n",
       "19.000000      63\n",
       "52.000000      62\n",
       "18.000000      58\n",
       "54.000000      53\n",
       "35.929032      52\n",
       "55.000000      42\n",
       "17.000000      39\n",
       "15.000000      34\n",
       "16.000000      29\n",
       "14.000000      16\n",
       "Name: Months_on_book, dtype: int64"
      ]
     },
     "execution_count": 30,
     "metadata": {},
     "output_type": "execute_result"
    }
   ],
   "source": [
    "dataset['Months_on_book'].value_counts()"
   ]
  },
  {
   "cell_type": "code",
   "execution_count": 31,
   "metadata": {},
   "outputs": [],
   "source": [
    "# Conclusion: According to the plots and numbers, the outliers of the feature Months_on book would be: 13, 14, 15, 16, 17, \n",
    "# 18, 19, 52, 54 and 55. Number of months 35.929 is not taken as an outlier because is a product of KNNImputer. As a \n",
    "# rounded number it is 36, and it is the majority of data."
   ]
  },
  {
   "cell_type": "code",
   "execution_count": 32,
   "metadata": {},
   "outputs": [],
   "source": [
    "# Remove ID values\n",
    "\n",
    "dataset.drop(['CLIENTNUM'], inplace=True, axis='columns')"
   ]
  },
  {
   "cell_type": "code",
   "execution_count": 33,
   "metadata": {},
   "outputs": [
    {
     "data": {
      "text/html": [
       "<div>\n",
       "<style scoped>\n",
       "    .dataframe tbody tr th:only-of-type {\n",
       "        vertical-align: middle;\n",
       "    }\n",
       "\n",
       "    .dataframe tbody tr th {\n",
       "        vertical-align: top;\n",
       "    }\n",
       "\n",
       "    .dataframe thead th {\n",
       "        text-align: right;\n",
       "    }\n",
       "</style>\n",
       "<table border=\"1\" class=\"dataframe\">\n",
       "  <thead>\n",
       "    <tr style=\"text-align: right;\">\n",
       "      <th></th>\n",
       "      <th>Attrition_Flag</th>\n",
       "      <th>Customer_Age</th>\n",
       "      <th>Gender</th>\n",
       "      <th>Dependent_count</th>\n",
       "      <th>Education_Level</th>\n",
       "      <th>Marital_Status</th>\n",
       "      <th>Income_Category</th>\n",
       "      <th>Card_Category</th>\n",
       "      <th>Months_on_book</th>\n",
       "      <th>Total_Relationship_Count</th>\n",
       "      <th>...</th>\n",
       "      <th>Total_Trans_Amt</th>\n",
       "      <th>Total_Trans_Ct</th>\n",
       "      <th>Total_Ct_Chng_Q4_Q1</th>\n",
       "      <th>Avg_Utilization_Ratio</th>\n",
       "      <th>gender_card</th>\n",
       "      <th>education_card</th>\n",
       "      <th>maritalStatus_card</th>\n",
       "      <th>income_card</th>\n",
       "      <th>Amt_Per_Trans</th>\n",
       "      <th>Amt_Per_Person</th>\n",
       "    </tr>\n",
       "  </thead>\n",
       "  <tbody>\n",
       "    <tr>\n",
       "      <td>0</td>\n",
       "      <td>Existing Customer</td>\n",
       "      <td>45</td>\n",
       "      <td>M</td>\n",
       "      <td>3</td>\n",
       "      <td>High School</td>\n",
       "      <td>Married</td>\n",
       "      <td>$60K - $80K</td>\n",
       "      <td>Blue</td>\n",
       "      <td>39.0</td>\n",
       "      <td>5</td>\n",
       "      <td>...</td>\n",
       "      <td>1144</td>\n",
       "      <td>42</td>\n",
       "      <td>1.625</td>\n",
       "      <td>0.061</td>\n",
       "      <td>M_Blue</td>\n",
       "      <td>High School_Blue</td>\n",
       "      <td>Married_Blue</td>\n",
       "      <td>$60K - $80K_Blue</td>\n",
       "      <td>27.24</td>\n",
       "      <td>286.00</td>\n",
       "    </tr>\n",
       "    <tr>\n",
       "      <td>1</td>\n",
       "      <td>Existing Customer</td>\n",
       "      <td>49</td>\n",
       "      <td>F</td>\n",
       "      <td>5</td>\n",
       "      <td>Graduate</td>\n",
       "      <td>Single</td>\n",
       "      <td>Less than $40K</td>\n",
       "      <td>Blue</td>\n",
       "      <td>44.0</td>\n",
       "      <td>6</td>\n",
       "      <td>...</td>\n",
       "      <td>1291</td>\n",
       "      <td>33</td>\n",
       "      <td>3.714</td>\n",
       "      <td>0.105</td>\n",
       "      <td>F_Blue</td>\n",
       "      <td>Graduate_Blue</td>\n",
       "      <td>Single_Blue</td>\n",
       "      <td>Less than $40K_Blue</td>\n",
       "      <td>39.12</td>\n",
       "      <td>215.17</td>\n",
       "    </tr>\n",
       "    <tr>\n",
       "      <td>2</td>\n",
       "      <td>Existing Customer</td>\n",
       "      <td>51</td>\n",
       "      <td>M</td>\n",
       "      <td>3</td>\n",
       "      <td>Graduate</td>\n",
       "      <td>Married</td>\n",
       "      <td>$80K - $120K</td>\n",
       "      <td>Blue</td>\n",
       "      <td>36.0</td>\n",
       "      <td>4</td>\n",
       "      <td>...</td>\n",
       "      <td>1887</td>\n",
       "      <td>20</td>\n",
       "      <td>2.333</td>\n",
       "      <td>0.000</td>\n",
       "      <td>M_Blue</td>\n",
       "      <td>Graduate_Blue</td>\n",
       "      <td>Married_Blue</td>\n",
       "      <td>$80K - $120K_Blue</td>\n",
       "      <td>94.35</td>\n",
       "      <td>471.75</td>\n",
       "    </tr>\n",
       "    <tr>\n",
       "      <td>3</td>\n",
       "      <td>Existing Customer</td>\n",
       "      <td>40</td>\n",
       "      <td>F</td>\n",
       "      <td>4</td>\n",
       "      <td>High School</td>\n",
       "      <td>Unknown</td>\n",
       "      <td>Less than $40K</td>\n",
       "      <td>Blue</td>\n",
       "      <td>34.0</td>\n",
       "      <td>3</td>\n",
       "      <td>...</td>\n",
       "      <td>1171</td>\n",
       "      <td>20</td>\n",
       "      <td>2.333</td>\n",
       "      <td>0.760</td>\n",
       "      <td>F_Blue</td>\n",
       "      <td>High School_Blue</td>\n",
       "      <td>Unknown_Blue</td>\n",
       "      <td>Less than $40K_Blue</td>\n",
       "      <td>58.55</td>\n",
       "      <td>234.20</td>\n",
       "    </tr>\n",
       "    <tr>\n",
       "      <td>4</td>\n",
       "      <td>Existing Customer</td>\n",
       "      <td>40</td>\n",
       "      <td>M</td>\n",
       "      <td>3</td>\n",
       "      <td>Uneducated</td>\n",
       "      <td>Married</td>\n",
       "      <td>$60K - $80K</td>\n",
       "      <td>Blue</td>\n",
       "      <td>21.0</td>\n",
       "      <td>5</td>\n",
       "      <td>...</td>\n",
       "      <td>816</td>\n",
       "      <td>28</td>\n",
       "      <td>2.500</td>\n",
       "      <td>0.000</td>\n",
       "      <td>M_Blue</td>\n",
       "      <td>Uneducated_Blue</td>\n",
       "      <td>Married_Blue</td>\n",
       "      <td>$60K - $80K_Blue</td>\n",
       "      <td>29.14</td>\n",
       "      <td>204.00</td>\n",
       "    </tr>\n",
       "  </tbody>\n",
       "</table>\n",
       "<p>5 rows × 26 columns</p>\n",
       "</div>"
      ],
      "text/plain": [
       "      Attrition_Flag  Customer_Age Gender  Dependent_count Education_Level  \\\n",
       "0  Existing Customer            45      M                3     High School   \n",
       "1  Existing Customer            49      F                5        Graduate   \n",
       "2  Existing Customer            51      M                3        Graduate   \n",
       "3  Existing Customer            40      F                4     High School   \n",
       "4  Existing Customer            40      M                3      Uneducated   \n",
       "\n",
       "  Marital_Status Income_Category Card_Category  Months_on_book  \\\n",
       "0        Married     $60K - $80K          Blue            39.0   \n",
       "1         Single  Less than $40K          Blue            44.0   \n",
       "2        Married    $80K - $120K          Blue            36.0   \n",
       "3        Unknown  Less than $40K          Blue            34.0   \n",
       "4        Married     $60K - $80K          Blue            21.0   \n",
       "\n",
       "   Total_Relationship_Count  ...  Total_Trans_Amt  Total_Trans_Ct  \\\n",
       "0                         5  ...             1144              42   \n",
       "1                         6  ...             1291              33   \n",
       "2                         4  ...             1887              20   \n",
       "3                         3  ...             1171              20   \n",
       "4                         5  ...              816              28   \n",
       "\n",
       "   Total_Ct_Chng_Q4_Q1  Avg_Utilization_Ratio  gender_card    education_card  \\\n",
       "0                1.625                  0.061       M_Blue  High School_Blue   \n",
       "1                3.714                  0.105       F_Blue     Graduate_Blue   \n",
       "2                2.333                  0.000       M_Blue     Graduate_Blue   \n",
       "3                2.333                  0.760       F_Blue  High School_Blue   \n",
       "4                2.500                  0.000       M_Blue   Uneducated_Blue   \n",
       "\n",
       "   maritalStatus_card          income_card  Amt_Per_Trans  Amt_Per_Person  \n",
       "0        Married_Blue     $60K - $80K_Blue          27.24          286.00  \n",
       "1         Single_Blue  Less than $40K_Blue          39.12          215.17  \n",
       "2        Married_Blue    $80K - $120K_Blue          94.35          471.75  \n",
       "3        Unknown_Blue  Less than $40K_Blue          58.55          234.20  \n",
       "4        Married_Blue     $60K - $80K_Blue          29.14          204.00  \n",
       "\n",
       "[5 rows x 26 columns]"
      ]
     },
     "execution_count": 33,
     "metadata": {},
     "output_type": "execute_result"
    }
   ],
   "source": [
    "dataset.head()"
   ]
  },
  {
   "cell_type": "code",
   "execution_count": 34,
   "metadata": {},
   "outputs": [
    {
     "data": {
      "text/plain": [
       "array([45, 49, 51, 40, 44, 32, 37, 48, 42, 65, 56, 35, 57, 41, 61, 47, 62,\n",
       "       54, 59, 63, 53, 58, 55, 66, 50, 38, 46, 52, 39, 43, 64, 68, 67, 60,\n",
       "       73, 70, 36, 34, 33, 26, 31, 29, 30, 28, 27], dtype=int64)"
      ]
     },
     "execution_count": 34,
     "metadata": {},
     "output_type": "execute_result"
    }
   ],
   "source": [
    "dataset['Customer_Age'].unique()"
   ]
  },
  {
   "cell_type": "code",
   "execution_count": 35,
   "metadata": {},
   "outputs": [],
   "source": [
    "from sklearn.preprocessing import StandardScaler\n",
    "\n",
    "\n",
    "def scale(dataset, columns):\n",
    "    dataset_new = dataset.copy()\n",
    "    standard_scaller = StandardScaler() \n",
    "    dataset_new[columns] = standard_scaller.fit_transform(dataset_new[columns])\n",
    "\n",
    "    \n",
    "    return dataset_new\n",
    "\n",
    "dataset_scaled = scale(dataset, columns=['Customer_Age', 'Dependent_count', 'Months_on_book', 'Total_Relationship_Count', \n",
    "                                         'Months_Inactive_12_mon', 'Contacts_Count_12_mon', 'Credit_Limit', \n",
    "                                         'Total_Revolving_Bal', 'Avg_Open_To_Buy', 'Total_Amt_Chng_Q4_Q1', \n",
    "                                         'Total_Trans_Amt', 'Total_Trans_Ct', 'Total_Ct_Chng_Q4_Q1', \n",
    "                                         'Avg_Utilization_Ratio', 'Amt_Per_Trans', 'Amt_Per_Person'])"
   ]
  },
  {
   "cell_type": "code",
   "execution_count": 36,
   "metadata": {
    "scrolled": true
   },
   "outputs": [
    {
     "data": {
      "text/html": [
       "<div>\n",
       "<style scoped>\n",
       "    .dataframe tbody tr th:only-of-type {\n",
       "        vertical-align: middle;\n",
       "    }\n",
       "\n",
       "    .dataframe tbody tr th {\n",
       "        vertical-align: top;\n",
       "    }\n",
       "\n",
       "    .dataframe thead th {\n",
       "        text-align: right;\n",
       "    }\n",
       "</style>\n",
       "<table border=\"1\" class=\"dataframe\">\n",
       "  <thead>\n",
       "    <tr style=\"text-align: right;\">\n",
       "      <th></th>\n",
       "      <th>Attrition_Flag</th>\n",
       "      <th>Customer_Age</th>\n",
       "      <th>Gender</th>\n",
       "      <th>Dependent_count</th>\n",
       "      <th>Education_Level</th>\n",
       "      <th>Marital_Status</th>\n",
       "      <th>Income_Category</th>\n",
       "      <th>Card_Category</th>\n",
       "      <th>Months_on_book</th>\n",
       "      <th>Total_Relationship_Count</th>\n",
       "      <th>...</th>\n",
       "      <th>Total_Trans_Amt</th>\n",
       "      <th>Total_Trans_Ct</th>\n",
       "      <th>Total_Ct_Chng_Q4_Q1</th>\n",
       "      <th>Avg_Utilization_Ratio</th>\n",
       "      <th>gender_card</th>\n",
       "      <th>education_card</th>\n",
       "      <th>maritalStatus_card</th>\n",
       "      <th>income_card</th>\n",
       "      <th>Amt_Per_Trans</th>\n",
       "      <th>Amt_Per_Person</th>\n",
       "    </tr>\n",
       "  </thead>\n",
       "  <tbody>\n",
       "    <tr>\n",
       "      <td>0</td>\n",
       "      <td>Existing Customer</td>\n",
       "      <td>-0.165406</td>\n",
       "      <td>M</td>\n",
       "      <td>0.503368</td>\n",
       "      <td>High School</td>\n",
       "      <td>Married</td>\n",
       "      <td>$60K - $80K</td>\n",
       "      <td>Blue</td>\n",
       "      <td>0.384548</td>\n",
       "      <td>0.763943</td>\n",
       "      <td>...</td>\n",
       "      <td>-0.959707</td>\n",
       "      <td>-0.973895</td>\n",
       "      <td>3.834003</td>\n",
       "      <td>-0.775882</td>\n",
       "      <td>M_Blue</td>\n",
       "      <td>High School_Blue</td>\n",
       "      <td>Married_Blue</td>\n",
       "      <td>$60K - $80K_Blue</td>\n",
       "      <td>-1.339734</td>\n",
       "      <td>-0.766493</td>\n",
       "    </tr>\n",
       "    <tr>\n",
       "      <td>1</td>\n",
       "      <td>Existing Customer</td>\n",
       "      <td>0.333570</td>\n",
       "      <td>F</td>\n",
       "      <td>2.043199</td>\n",
       "      <td>Graduate</td>\n",
       "      <td>Single</td>\n",
       "      <td>Less than $40K</td>\n",
       "      <td>Blue</td>\n",
       "      <td>1.010652</td>\n",
       "      <td>1.407306</td>\n",
       "      <td>...</td>\n",
       "      <td>-0.916433</td>\n",
       "      <td>-1.357340</td>\n",
       "      <td>12.608573</td>\n",
       "      <td>-0.616276</td>\n",
       "      <td>F_Blue</td>\n",
       "      <td>Graduate_Blue</td>\n",
       "      <td>Single_Blue</td>\n",
       "      <td>Less than $40K_Blue</td>\n",
       "      <td>-0.889782</td>\n",
       "      <td>-0.807122</td>\n",
       "    </tr>\n",
       "    <tr>\n",
       "      <td>2</td>\n",
       "      <td>Existing Customer</td>\n",
       "      <td>0.583058</td>\n",
       "      <td>M</td>\n",
       "      <td>0.503368</td>\n",
       "      <td>Graduate</td>\n",
       "      <td>Married</td>\n",
       "      <td>$80K - $120K</td>\n",
       "      <td>Blue</td>\n",
       "      <td>0.008887</td>\n",
       "      <td>0.120579</td>\n",
       "      <td>...</td>\n",
       "      <td>-0.740982</td>\n",
       "      <td>-1.911206</td>\n",
       "      <td>6.807864</td>\n",
       "      <td>-0.997155</td>\n",
       "      <td>M_Blue</td>\n",
       "      <td>Graduate_Blue</td>\n",
       "      <td>Married_Blue</td>\n",
       "      <td>$80K - $120K_Blue</td>\n",
       "      <td>1.202039</td>\n",
       "      <td>-0.659944</td>\n",
       "    </tr>\n",
       "    <tr>\n",
       "      <td>3</td>\n",
       "      <td>Existing Customer</td>\n",
       "      <td>-0.789126</td>\n",
       "      <td>F</td>\n",
       "      <td>1.273283</td>\n",
       "      <td>High School</td>\n",
       "      <td>Unknown</td>\n",
       "      <td>Less than $40K</td>\n",
       "      <td>Blue</td>\n",
       "      <td>-0.241555</td>\n",
       "      <td>-0.522785</td>\n",
       "      <td>...</td>\n",
       "      <td>-0.951758</td>\n",
       "      <td>-1.911206</td>\n",
       "      <td>6.807864</td>\n",
       "      <td>1.759686</td>\n",
       "      <td>F_Blue</td>\n",
       "      <td>High School_Blue</td>\n",
       "      <td>Unknown_Blue</td>\n",
       "      <td>Less than $40K_Blue</td>\n",
       "      <td>-0.153876</td>\n",
       "      <td>-0.796206</td>\n",
       "    </tr>\n",
       "    <tr>\n",
       "      <td>4</td>\n",
       "      <td>Existing Customer</td>\n",
       "      <td>-0.789126</td>\n",
       "      <td>M</td>\n",
       "      <td>0.503368</td>\n",
       "      <td>Uneducated</td>\n",
       "      <td>Married</td>\n",
       "      <td>$60K - $80K</td>\n",
       "      <td>Blue</td>\n",
       "      <td>-1.869423</td>\n",
       "      <td>0.763943</td>\n",
       "      <td>...</td>\n",
       "      <td>-1.056263</td>\n",
       "      <td>-1.570365</td>\n",
       "      <td>7.509325</td>\n",
       "      <td>-0.997155</td>\n",
       "      <td>M_Blue</td>\n",
       "      <td>Uneducated_Blue</td>\n",
       "      <td>Married_Blue</td>\n",
       "      <td>$60K - $80K_Blue</td>\n",
       "      <td>-1.267772</td>\n",
       "      <td>-0.813529</td>\n",
       "    </tr>\n",
       "  </tbody>\n",
       "</table>\n",
       "<p>5 rows × 26 columns</p>\n",
       "</div>"
      ],
      "text/plain": [
       "      Attrition_Flag  Customer_Age Gender  Dependent_count Education_Level  \\\n",
       "0  Existing Customer     -0.165406      M         0.503368     High School   \n",
       "1  Existing Customer      0.333570      F         2.043199        Graduate   \n",
       "2  Existing Customer      0.583058      M         0.503368        Graduate   \n",
       "3  Existing Customer     -0.789126      F         1.273283     High School   \n",
       "4  Existing Customer     -0.789126      M         0.503368      Uneducated   \n",
       "\n",
       "  Marital_Status Income_Category Card_Category  Months_on_book  \\\n",
       "0        Married     $60K - $80K          Blue        0.384548   \n",
       "1         Single  Less than $40K          Blue        1.010652   \n",
       "2        Married    $80K - $120K          Blue        0.008887   \n",
       "3        Unknown  Less than $40K          Blue       -0.241555   \n",
       "4        Married     $60K - $80K          Blue       -1.869423   \n",
       "\n",
       "   Total_Relationship_Count  ...  Total_Trans_Amt  Total_Trans_Ct  \\\n",
       "0                  0.763943  ...        -0.959707       -0.973895   \n",
       "1                  1.407306  ...        -0.916433       -1.357340   \n",
       "2                  0.120579  ...        -0.740982       -1.911206   \n",
       "3                 -0.522785  ...        -0.951758       -1.911206   \n",
       "4                  0.763943  ...        -1.056263       -1.570365   \n",
       "\n",
       "   Total_Ct_Chng_Q4_Q1  Avg_Utilization_Ratio  gender_card    education_card  \\\n",
       "0             3.834003              -0.775882       M_Blue  High School_Blue   \n",
       "1            12.608573              -0.616276       F_Blue     Graduate_Blue   \n",
       "2             6.807864              -0.997155       M_Blue     Graduate_Blue   \n",
       "3             6.807864               1.759686       F_Blue  High School_Blue   \n",
       "4             7.509325              -0.997155       M_Blue   Uneducated_Blue   \n",
       "\n",
       "   maritalStatus_card          income_card  Amt_Per_Trans  Amt_Per_Person  \n",
       "0        Married_Blue     $60K - $80K_Blue      -1.339734       -0.766493  \n",
       "1         Single_Blue  Less than $40K_Blue      -0.889782       -0.807122  \n",
       "2        Married_Blue    $80K - $120K_Blue       1.202039       -0.659944  \n",
       "3        Unknown_Blue  Less than $40K_Blue      -0.153876       -0.796206  \n",
       "4        Married_Blue     $60K - $80K_Blue      -1.267772       -0.813529  \n",
       "\n",
       "[5 rows x 26 columns]"
      ]
     },
     "execution_count": 36,
     "metadata": {},
     "output_type": "execute_result"
    }
   ],
   "source": [
    "dataset_scaled.head()"
   ]
  },
  {
   "cell_type": "code",
   "execution_count": 37,
   "metadata": {},
   "outputs": [
    {
     "name": "stdout",
     "output_type": "stream",
     "text": [
      "Attrition_Flag 2\n",
      "Gender 2\n",
      "Education_Level 7\n",
      "Marital_Status 4\n",
      "Income_Category 6\n",
      "Card_Category 4\n",
      "gender_card 8\n",
      "education_card 27\n",
      "maritalStatus_card 16\n",
      "income_card 24\n"
     ]
    }
   ],
   "source": [
    "# List the categorical features and their number of categories\n",
    "\n",
    "from pandas.api.types import is_string_dtype\n",
    "\n",
    "for i in dataset_scaled.columns:\n",
    "    if is_string_dtype(dataset_scaled[i]):\n",
    "        print(i, len(dataset_scaled[i].unique()))"
   ]
  },
  {
   "cell_type": "code",
   "execution_count": 38,
   "metadata": {},
   "outputs": [],
   "source": [
    "from sklearn.preprocessing import LabelEncoder\n",
    "\n",
    "def label_encoding_notordinal(dataset, columns):\n",
    "    dataset_ = dataset.copy()\n",
    "    transformer = LabelEncoder()\n",
    "    for column in columns:\n",
    "        dataset_[column]  = transformer.fit_transform(dataset_[column])\n",
    "    return dataset_"
   ]
  },
  {
   "cell_type": "code",
   "execution_count": 39,
   "metadata": {},
   "outputs": [],
   "source": [
    "dataset_label_encoded = label_encoding_notordinal(dataset_scaled, columns=['Education_Level', 'Income_Category', \n",
    "                                                                           'Attrition_Flag', 'gender_card', \n",
    "                                                                           'education_card', 'maritalStatus_card', \n",
    "                                                                           'income_card'])\n",
    "#                                                                            , 'gender_education', \n",
    "#                                                                            'gender_maritalStatus', 'gender_income', \n",
    "#                                                                            'education_maritalStatus', 'education_income', \n",
    "#                                                                            'maritalStatus_Income'])"
   ]
  },
  {
   "cell_type": "code",
   "execution_count": 40,
   "metadata": {
    "scrolled": true
   },
   "outputs": [
    {
     "data": {
      "text/html": [
       "<div>\n",
       "<style scoped>\n",
       "    .dataframe tbody tr th:only-of-type {\n",
       "        vertical-align: middle;\n",
       "    }\n",
       "\n",
       "    .dataframe tbody tr th {\n",
       "        vertical-align: top;\n",
       "    }\n",
       "\n",
       "    .dataframe thead th {\n",
       "        text-align: right;\n",
       "    }\n",
       "</style>\n",
       "<table border=\"1\" class=\"dataframe\">\n",
       "  <thead>\n",
       "    <tr style=\"text-align: right;\">\n",
       "      <th></th>\n",
       "      <th>Attrition_Flag</th>\n",
       "      <th>Customer_Age</th>\n",
       "      <th>Gender</th>\n",
       "      <th>Dependent_count</th>\n",
       "      <th>Education_Level</th>\n",
       "      <th>Marital_Status</th>\n",
       "      <th>Income_Category</th>\n",
       "      <th>Card_Category</th>\n",
       "      <th>Months_on_book</th>\n",
       "      <th>Total_Relationship_Count</th>\n",
       "      <th>...</th>\n",
       "      <th>Total_Trans_Amt</th>\n",
       "      <th>Total_Trans_Ct</th>\n",
       "      <th>Total_Ct_Chng_Q4_Q1</th>\n",
       "      <th>Avg_Utilization_Ratio</th>\n",
       "      <th>gender_card</th>\n",
       "      <th>education_card</th>\n",
       "      <th>maritalStatus_card</th>\n",
       "      <th>income_card</th>\n",
       "      <th>Amt_Per_Trans</th>\n",
       "      <th>Amt_Per_Person</th>\n",
       "    </tr>\n",
       "  </thead>\n",
       "  <tbody>\n",
       "    <tr>\n",
       "      <td>0</td>\n",
       "      <td>1</td>\n",
       "      <td>-0.165406</td>\n",
       "      <td>M</td>\n",
       "      <td>0.503368</td>\n",
       "      <td>3</td>\n",
       "      <td>Married</td>\n",
       "      <td>2</td>\n",
       "      <td>Blue</td>\n",
       "      <td>0.384548</td>\n",
       "      <td>0.763943</td>\n",
       "      <td>...</td>\n",
       "      <td>-0.959707</td>\n",
       "      <td>-0.973895</td>\n",
       "      <td>3.834003</td>\n",
       "      <td>-0.775882</td>\n",
       "      <td>4</td>\n",
       "      <td>11</td>\n",
       "      <td>4</td>\n",
       "      <td>8</td>\n",
       "      <td>-1.339734</td>\n",
       "      <td>-0.766493</td>\n",
       "    </tr>\n",
       "    <tr>\n",
       "      <td>1</td>\n",
       "      <td>1</td>\n",
       "      <td>0.333570</td>\n",
       "      <td>F</td>\n",
       "      <td>2.043199</td>\n",
       "      <td>2</td>\n",
       "      <td>Single</td>\n",
       "      <td>4</td>\n",
       "      <td>Blue</td>\n",
       "      <td>1.010652</td>\n",
       "      <td>1.407306</td>\n",
       "      <td>...</td>\n",
       "      <td>-0.916433</td>\n",
       "      <td>-1.357340</td>\n",
       "      <td>12.608573</td>\n",
       "      <td>-0.616276</td>\n",
       "      <td>0</td>\n",
       "      <td>7</td>\n",
       "      <td>8</td>\n",
       "      <td>16</td>\n",
       "      <td>-0.889782</td>\n",
       "      <td>-0.807122</td>\n",
       "    </tr>\n",
       "    <tr>\n",
       "      <td>2</td>\n",
       "      <td>1</td>\n",
       "      <td>0.583058</td>\n",
       "      <td>M</td>\n",
       "      <td>0.503368</td>\n",
       "      <td>2</td>\n",
       "      <td>Married</td>\n",
       "      <td>3</td>\n",
       "      <td>Blue</td>\n",
       "      <td>0.008887</td>\n",
       "      <td>0.120579</td>\n",
       "      <td>...</td>\n",
       "      <td>-0.740982</td>\n",
       "      <td>-1.911206</td>\n",
       "      <td>6.807864</td>\n",
       "      <td>-0.997155</td>\n",
       "      <td>4</td>\n",
       "      <td>7</td>\n",
       "      <td>4</td>\n",
       "      <td>12</td>\n",
       "      <td>1.202039</td>\n",
       "      <td>-0.659944</td>\n",
       "    </tr>\n",
       "    <tr>\n",
       "      <td>3</td>\n",
       "      <td>1</td>\n",
       "      <td>-0.789126</td>\n",
       "      <td>F</td>\n",
       "      <td>1.273283</td>\n",
       "      <td>3</td>\n",
       "      <td>Unknown</td>\n",
       "      <td>4</td>\n",
       "      <td>Blue</td>\n",
       "      <td>-0.241555</td>\n",
       "      <td>-0.522785</td>\n",
       "      <td>...</td>\n",
       "      <td>-0.951758</td>\n",
       "      <td>-1.911206</td>\n",
       "      <td>6.807864</td>\n",
       "      <td>1.759686</td>\n",
       "      <td>0</td>\n",
       "      <td>11</td>\n",
       "      <td>12</td>\n",
       "      <td>16</td>\n",
       "      <td>-0.153876</td>\n",
       "      <td>-0.796206</td>\n",
       "    </tr>\n",
       "    <tr>\n",
       "      <td>4</td>\n",
       "      <td>1</td>\n",
       "      <td>-0.789126</td>\n",
       "      <td>M</td>\n",
       "      <td>0.503368</td>\n",
       "      <td>5</td>\n",
       "      <td>Married</td>\n",
       "      <td>2</td>\n",
       "      <td>Blue</td>\n",
       "      <td>-1.869423</td>\n",
       "      <td>0.763943</td>\n",
       "      <td>...</td>\n",
       "      <td>-1.056263</td>\n",
       "      <td>-1.570365</td>\n",
       "      <td>7.509325</td>\n",
       "      <td>-0.997155</td>\n",
       "      <td>4</td>\n",
       "      <td>19</td>\n",
       "      <td>4</td>\n",
       "      <td>8</td>\n",
       "      <td>-1.267772</td>\n",
       "      <td>-0.813529</td>\n",
       "    </tr>\n",
       "  </tbody>\n",
       "</table>\n",
       "<p>5 rows × 26 columns</p>\n",
       "</div>"
      ],
      "text/plain": [
       "   Attrition_Flag  Customer_Age Gender  Dependent_count  Education_Level  \\\n",
       "0               1     -0.165406      M         0.503368                3   \n",
       "1               1      0.333570      F         2.043199                2   \n",
       "2               1      0.583058      M         0.503368                2   \n",
       "3               1     -0.789126      F         1.273283                3   \n",
       "4               1     -0.789126      M         0.503368                5   \n",
       "\n",
       "  Marital_Status  Income_Category Card_Category  Months_on_book  \\\n",
       "0        Married                2          Blue        0.384548   \n",
       "1         Single                4          Blue        1.010652   \n",
       "2        Married                3          Blue        0.008887   \n",
       "3        Unknown                4          Blue       -0.241555   \n",
       "4        Married                2          Blue       -1.869423   \n",
       "\n",
       "   Total_Relationship_Count  ...  Total_Trans_Amt  Total_Trans_Ct  \\\n",
       "0                  0.763943  ...        -0.959707       -0.973895   \n",
       "1                  1.407306  ...        -0.916433       -1.357340   \n",
       "2                  0.120579  ...        -0.740982       -1.911206   \n",
       "3                 -0.522785  ...        -0.951758       -1.911206   \n",
       "4                  0.763943  ...        -1.056263       -1.570365   \n",
       "\n",
       "   Total_Ct_Chng_Q4_Q1  Avg_Utilization_Ratio  gender_card  education_card  \\\n",
       "0             3.834003              -0.775882            4              11   \n",
       "1            12.608573              -0.616276            0               7   \n",
       "2             6.807864              -0.997155            4               7   \n",
       "3             6.807864               1.759686            0              11   \n",
       "4             7.509325              -0.997155            4              19   \n",
       "\n",
       "   maritalStatus_card  income_card  Amt_Per_Trans  Amt_Per_Person  \n",
       "0                   4            8      -1.339734       -0.766493  \n",
       "1                   8           16      -0.889782       -0.807122  \n",
       "2                   4           12       1.202039       -0.659944  \n",
       "3                  12           16      -0.153876       -0.796206  \n",
       "4                   4            8      -1.267772       -0.813529  \n",
       "\n",
       "[5 rows x 26 columns]"
      ]
     },
     "execution_count": 40,
     "metadata": {},
     "output_type": "execute_result"
    }
   ],
   "source": [
    "dataset_label_encoded.head()"
   ]
  },
  {
   "cell_type": "code",
   "execution_count": 41,
   "metadata": {},
   "outputs": [],
   "source": [
    "X = dataset_label_encoded.drop(['Attrition_Flag'], axis=1)\n",
    "y = dataset_label_encoded['Attrition_Flag']"
   ]
  },
  {
   "cell_type": "code",
   "execution_count": 42,
   "metadata": {},
   "outputs": [
    {
     "data": {
      "text/html": [
       "<div>\n",
       "<style scoped>\n",
       "    .dataframe tbody tr th:only-of-type {\n",
       "        vertical-align: middle;\n",
       "    }\n",
       "\n",
       "    .dataframe tbody tr th {\n",
       "        vertical-align: top;\n",
       "    }\n",
       "\n",
       "    .dataframe thead th {\n",
       "        text-align: right;\n",
       "    }\n",
       "</style>\n",
       "<table border=\"1\" class=\"dataframe\">\n",
       "  <thead>\n",
       "    <tr style=\"text-align: right;\">\n",
       "      <th></th>\n",
       "      <th>Customer_Age</th>\n",
       "      <th>Gender</th>\n",
       "      <th>Dependent_count</th>\n",
       "      <th>Education_Level</th>\n",
       "      <th>Marital_Status</th>\n",
       "      <th>Income_Category</th>\n",
       "      <th>Card_Category</th>\n",
       "      <th>Months_on_book</th>\n",
       "      <th>Total_Relationship_Count</th>\n",
       "      <th>Months_Inactive_12_mon</th>\n",
       "      <th>...</th>\n",
       "      <th>Total_Trans_Amt</th>\n",
       "      <th>Total_Trans_Ct</th>\n",
       "      <th>Total_Ct_Chng_Q4_Q1</th>\n",
       "      <th>Avg_Utilization_Ratio</th>\n",
       "      <th>gender_card</th>\n",
       "      <th>education_card</th>\n",
       "      <th>maritalStatus_card</th>\n",
       "      <th>income_card</th>\n",
       "      <th>Amt_Per_Trans</th>\n",
       "      <th>Amt_Per_Person</th>\n",
       "    </tr>\n",
       "  </thead>\n",
       "  <tbody>\n",
       "    <tr>\n",
       "      <td>0</td>\n",
       "      <td>-0.165406</td>\n",
       "      <td>M</td>\n",
       "      <td>0.503368</td>\n",
       "      <td>3</td>\n",
       "      <td>Married</td>\n",
       "      <td>2</td>\n",
       "      <td>Blue</td>\n",
       "      <td>0.384548</td>\n",
       "      <td>0.763943</td>\n",
       "      <td>-1.327136</td>\n",
       "      <td>...</td>\n",
       "      <td>-0.959707</td>\n",
       "      <td>-0.973895</td>\n",
       "      <td>3.834003</td>\n",
       "      <td>-0.775882</td>\n",
       "      <td>4</td>\n",
       "      <td>11</td>\n",
       "      <td>4</td>\n",
       "      <td>8</td>\n",
       "      <td>-1.339734</td>\n",
       "      <td>-0.766493</td>\n",
       "    </tr>\n",
       "    <tr>\n",
       "      <td>1</td>\n",
       "      <td>0.333570</td>\n",
       "      <td>F</td>\n",
       "      <td>2.043199</td>\n",
       "      <td>2</td>\n",
       "      <td>Single</td>\n",
       "      <td>4</td>\n",
       "      <td>Blue</td>\n",
       "      <td>1.010652</td>\n",
       "      <td>1.407306</td>\n",
       "      <td>-1.327136</td>\n",
       "      <td>...</td>\n",
       "      <td>-0.916433</td>\n",
       "      <td>-1.357340</td>\n",
       "      <td>12.608573</td>\n",
       "      <td>-0.616276</td>\n",
       "      <td>0</td>\n",
       "      <td>7</td>\n",
       "      <td>8</td>\n",
       "      <td>16</td>\n",
       "      <td>-0.889782</td>\n",
       "      <td>-0.807122</td>\n",
       "    </tr>\n",
       "    <tr>\n",
       "      <td>2</td>\n",
       "      <td>0.583058</td>\n",
       "      <td>M</td>\n",
       "      <td>0.503368</td>\n",
       "      <td>2</td>\n",
       "      <td>Married</td>\n",
       "      <td>3</td>\n",
       "      <td>Blue</td>\n",
       "      <td>0.008887</td>\n",
       "      <td>0.120579</td>\n",
       "      <td>-1.327136</td>\n",
       "      <td>...</td>\n",
       "      <td>-0.740982</td>\n",
       "      <td>-1.911206</td>\n",
       "      <td>6.807864</td>\n",
       "      <td>-0.997155</td>\n",
       "      <td>4</td>\n",
       "      <td>7</td>\n",
       "      <td>4</td>\n",
       "      <td>12</td>\n",
       "      <td>1.202039</td>\n",
       "      <td>-0.659944</td>\n",
       "    </tr>\n",
       "    <tr>\n",
       "      <td>3</td>\n",
       "      <td>-0.789126</td>\n",
       "      <td>F</td>\n",
       "      <td>1.273283</td>\n",
       "      <td>3</td>\n",
       "      <td>Unknown</td>\n",
       "      <td>4</td>\n",
       "      <td>Blue</td>\n",
       "      <td>-0.241555</td>\n",
       "      <td>-0.522785</td>\n",
       "      <td>1.641478</td>\n",
       "      <td>...</td>\n",
       "      <td>-0.951758</td>\n",
       "      <td>-1.911206</td>\n",
       "      <td>6.807864</td>\n",
       "      <td>1.759686</td>\n",
       "      <td>0</td>\n",
       "      <td>11</td>\n",
       "      <td>12</td>\n",
       "      <td>16</td>\n",
       "      <td>-0.153876</td>\n",
       "      <td>-0.796206</td>\n",
       "    </tr>\n",
       "    <tr>\n",
       "      <td>4</td>\n",
       "      <td>-0.789126</td>\n",
       "      <td>M</td>\n",
       "      <td>0.503368</td>\n",
       "      <td>5</td>\n",
       "      <td>Married</td>\n",
       "      <td>2</td>\n",
       "      <td>Blue</td>\n",
       "      <td>-1.869423</td>\n",
       "      <td>0.763943</td>\n",
       "      <td>-1.327136</td>\n",
       "      <td>...</td>\n",
       "      <td>-1.056263</td>\n",
       "      <td>-1.570365</td>\n",
       "      <td>7.509325</td>\n",
       "      <td>-0.997155</td>\n",
       "      <td>4</td>\n",
       "      <td>19</td>\n",
       "      <td>4</td>\n",
       "      <td>8</td>\n",
       "      <td>-1.267772</td>\n",
       "      <td>-0.813529</td>\n",
       "    </tr>\n",
       "  </tbody>\n",
       "</table>\n",
       "<p>5 rows × 25 columns</p>\n",
       "</div>"
      ],
      "text/plain": [
       "   Customer_Age Gender  Dependent_count  Education_Level Marital_Status  \\\n",
       "0     -0.165406      M         0.503368                3        Married   \n",
       "1      0.333570      F         2.043199                2         Single   \n",
       "2      0.583058      M         0.503368                2        Married   \n",
       "3     -0.789126      F         1.273283                3        Unknown   \n",
       "4     -0.789126      M         0.503368                5        Married   \n",
       "\n",
       "   Income_Category Card_Category  Months_on_book  Total_Relationship_Count  \\\n",
       "0                2          Blue        0.384548                  0.763943   \n",
       "1                4          Blue        1.010652                  1.407306   \n",
       "2                3          Blue        0.008887                  0.120579   \n",
       "3                4          Blue       -0.241555                 -0.522785   \n",
       "4                2          Blue       -1.869423                  0.763943   \n",
       "\n",
       "   Months_Inactive_12_mon  ...  Total_Trans_Amt  Total_Trans_Ct  \\\n",
       "0               -1.327136  ...        -0.959707       -0.973895   \n",
       "1               -1.327136  ...        -0.916433       -1.357340   \n",
       "2               -1.327136  ...        -0.740982       -1.911206   \n",
       "3                1.641478  ...        -0.951758       -1.911206   \n",
       "4               -1.327136  ...        -1.056263       -1.570365   \n",
       "\n",
       "   Total_Ct_Chng_Q4_Q1  Avg_Utilization_Ratio  gender_card  education_card  \\\n",
       "0             3.834003              -0.775882            4              11   \n",
       "1            12.608573              -0.616276            0               7   \n",
       "2             6.807864              -0.997155            4               7   \n",
       "3             6.807864               1.759686            0              11   \n",
       "4             7.509325              -0.997155            4              19   \n",
       "\n",
       "   maritalStatus_card  income_card  Amt_Per_Trans  Amt_Per_Person  \n",
       "0                   4            8      -1.339734       -0.766493  \n",
       "1                   8           16      -0.889782       -0.807122  \n",
       "2                   4           12       1.202039       -0.659944  \n",
       "3                  12           16      -0.153876       -0.796206  \n",
       "4                   4            8      -1.267772       -0.813529  \n",
       "\n",
       "[5 rows x 25 columns]"
      ]
     },
     "execution_count": 42,
     "metadata": {},
     "output_type": "execute_result"
    }
   ],
   "source": [
    "X.head()"
   ]
  },
  {
   "cell_type": "code",
   "execution_count": 43,
   "metadata": {},
   "outputs": [],
   "source": [
    "# CatBoost encoding\n",
    "\n",
    "import category_encoders as ce\n",
    "\n",
    "cat_features = ['Gender', 'Marital_Status', 'Card_Category']\n",
    "\n",
    "count_encoder = ce.CatBoostEncoder(cols=cat_features)\n",
    "\n",
    "X[cat_features] = count_encoder.fit_transform(X[cat_features], y)"
   ]
  },
  {
   "cell_type": "code",
   "execution_count": 44,
   "metadata": {},
   "outputs": [
    {
     "data": {
      "text/html": [
       "<div>\n",
       "<style scoped>\n",
       "    .dataframe tbody tr th:only-of-type {\n",
       "        vertical-align: middle;\n",
       "    }\n",
       "\n",
       "    .dataframe tbody tr th {\n",
       "        vertical-align: top;\n",
       "    }\n",
       "\n",
       "    .dataframe thead th {\n",
       "        text-align: right;\n",
       "    }\n",
       "</style>\n",
       "<table border=\"1\" class=\"dataframe\">\n",
       "  <thead>\n",
       "    <tr style=\"text-align: right;\">\n",
       "      <th></th>\n",
       "      <th>Attrition_Flag</th>\n",
       "      <th>Customer_Age</th>\n",
       "      <th>Gender</th>\n",
       "      <th>Dependent_count</th>\n",
       "      <th>Education_Level</th>\n",
       "      <th>Marital_Status</th>\n",
       "      <th>Income_Category</th>\n",
       "      <th>Card_Category</th>\n",
       "      <th>Months_on_book</th>\n",
       "      <th>Total_Relationship_Count</th>\n",
       "      <th>...</th>\n",
       "      <th>Total_Trans_Amt</th>\n",
       "      <th>Total_Trans_Ct</th>\n",
       "      <th>Total_Ct_Chng_Q4_Q1</th>\n",
       "      <th>Avg_Utilization_Ratio</th>\n",
       "      <th>gender_card</th>\n",
       "      <th>education_card</th>\n",
       "      <th>maritalStatus_card</th>\n",
       "      <th>income_card</th>\n",
       "      <th>Amt_Per_Trans</th>\n",
       "      <th>Amt_Per_Person</th>\n",
       "    </tr>\n",
       "  </thead>\n",
       "  <tbody>\n",
       "    <tr>\n",
       "      <td>0</td>\n",
       "      <td>1</td>\n",
       "      <td>-0.165406</td>\n",
       "      <td>M</td>\n",
       "      <td>0.503368</td>\n",
       "      <td>3</td>\n",
       "      <td>Married</td>\n",
       "      <td>2</td>\n",
       "      <td>Blue</td>\n",
       "      <td>0.384548</td>\n",
       "      <td>0.763943</td>\n",
       "      <td>...</td>\n",
       "      <td>-0.959707</td>\n",
       "      <td>-0.973895</td>\n",
       "      <td>3.834003</td>\n",
       "      <td>-0.775882</td>\n",
       "      <td>4</td>\n",
       "      <td>11</td>\n",
       "      <td>4</td>\n",
       "      <td>8</td>\n",
       "      <td>-1.339734</td>\n",
       "      <td>-0.766493</td>\n",
       "    </tr>\n",
       "    <tr>\n",
       "      <td>1</td>\n",
       "      <td>1</td>\n",
       "      <td>0.333570</td>\n",
       "      <td>F</td>\n",
       "      <td>2.043199</td>\n",
       "      <td>2</td>\n",
       "      <td>Single</td>\n",
       "      <td>4</td>\n",
       "      <td>Blue</td>\n",
       "      <td>1.010652</td>\n",
       "      <td>1.407306</td>\n",
       "      <td>...</td>\n",
       "      <td>-0.916433</td>\n",
       "      <td>-1.357340</td>\n",
       "      <td>12.608573</td>\n",
       "      <td>-0.616276</td>\n",
       "      <td>0</td>\n",
       "      <td>7</td>\n",
       "      <td>8</td>\n",
       "      <td>16</td>\n",
       "      <td>-0.889782</td>\n",
       "      <td>-0.807122</td>\n",
       "    </tr>\n",
       "    <tr>\n",
       "      <td>2</td>\n",
       "      <td>1</td>\n",
       "      <td>0.583058</td>\n",
       "      <td>M</td>\n",
       "      <td>0.503368</td>\n",
       "      <td>2</td>\n",
       "      <td>Married</td>\n",
       "      <td>3</td>\n",
       "      <td>Blue</td>\n",
       "      <td>0.008887</td>\n",
       "      <td>0.120579</td>\n",
       "      <td>...</td>\n",
       "      <td>-0.740982</td>\n",
       "      <td>-1.911206</td>\n",
       "      <td>6.807864</td>\n",
       "      <td>-0.997155</td>\n",
       "      <td>4</td>\n",
       "      <td>7</td>\n",
       "      <td>4</td>\n",
       "      <td>12</td>\n",
       "      <td>1.202039</td>\n",
       "      <td>-0.659944</td>\n",
       "    </tr>\n",
       "    <tr>\n",
       "      <td>3</td>\n",
       "      <td>1</td>\n",
       "      <td>-0.789126</td>\n",
       "      <td>F</td>\n",
       "      <td>1.273283</td>\n",
       "      <td>3</td>\n",
       "      <td>Unknown</td>\n",
       "      <td>4</td>\n",
       "      <td>Blue</td>\n",
       "      <td>-0.241555</td>\n",
       "      <td>-0.522785</td>\n",
       "      <td>...</td>\n",
       "      <td>-0.951758</td>\n",
       "      <td>-1.911206</td>\n",
       "      <td>6.807864</td>\n",
       "      <td>1.759686</td>\n",
       "      <td>0</td>\n",
       "      <td>11</td>\n",
       "      <td>12</td>\n",
       "      <td>16</td>\n",
       "      <td>-0.153876</td>\n",
       "      <td>-0.796206</td>\n",
       "    </tr>\n",
       "    <tr>\n",
       "      <td>4</td>\n",
       "      <td>1</td>\n",
       "      <td>-0.789126</td>\n",
       "      <td>M</td>\n",
       "      <td>0.503368</td>\n",
       "      <td>5</td>\n",
       "      <td>Married</td>\n",
       "      <td>2</td>\n",
       "      <td>Blue</td>\n",
       "      <td>-1.869423</td>\n",
       "      <td>0.763943</td>\n",
       "      <td>...</td>\n",
       "      <td>-1.056263</td>\n",
       "      <td>-1.570365</td>\n",
       "      <td>7.509325</td>\n",
       "      <td>-0.997155</td>\n",
       "      <td>4</td>\n",
       "      <td>19</td>\n",
       "      <td>4</td>\n",
       "      <td>8</td>\n",
       "      <td>-1.267772</td>\n",
       "      <td>-0.813529</td>\n",
       "    </tr>\n",
       "  </tbody>\n",
       "</table>\n",
       "<p>5 rows × 26 columns</p>\n",
       "</div>"
      ],
      "text/plain": [
       "   Attrition_Flag  Customer_Age Gender  Dependent_count  Education_Level  \\\n",
       "0               1     -0.165406      M         0.503368                3   \n",
       "1               1      0.333570      F         2.043199                2   \n",
       "2               1      0.583058      M         0.503368                2   \n",
       "3               1     -0.789126      F         1.273283                3   \n",
       "4               1     -0.789126      M         0.503368                5   \n",
       "\n",
       "  Marital_Status  Income_Category Card_Category  Months_on_book  \\\n",
       "0        Married                2          Blue        0.384548   \n",
       "1         Single                4          Blue        1.010652   \n",
       "2        Married                3          Blue        0.008887   \n",
       "3        Unknown                4          Blue       -0.241555   \n",
       "4        Married                2          Blue       -1.869423   \n",
       "\n",
       "   Total_Relationship_Count  ...  Total_Trans_Amt  Total_Trans_Ct  \\\n",
       "0                  0.763943  ...        -0.959707       -0.973895   \n",
       "1                  1.407306  ...        -0.916433       -1.357340   \n",
       "2                  0.120579  ...        -0.740982       -1.911206   \n",
       "3                 -0.522785  ...        -0.951758       -1.911206   \n",
       "4                  0.763943  ...        -1.056263       -1.570365   \n",
       "\n",
       "   Total_Ct_Chng_Q4_Q1  Avg_Utilization_Ratio  gender_card  education_card  \\\n",
       "0             3.834003              -0.775882            4              11   \n",
       "1            12.608573              -0.616276            0               7   \n",
       "2             6.807864              -0.997155            4               7   \n",
       "3             6.807864               1.759686            0              11   \n",
       "4             7.509325              -0.997155            4              19   \n",
       "\n",
       "   maritalStatus_card  income_card  Amt_Per_Trans  Amt_Per_Person  \n",
       "0                   4            8      -1.339734       -0.766493  \n",
       "1                   8           16      -0.889782       -0.807122  \n",
       "2                   4           12       1.202039       -0.659944  \n",
       "3                  12           16      -0.153876       -0.796206  \n",
       "4                   4            8      -1.267772       -0.813529  \n",
       "\n",
       "[5 rows x 26 columns]"
      ]
     },
     "execution_count": 44,
     "metadata": {},
     "output_type": "execute_result"
    }
   ],
   "source": [
    "dataset_label_encoded.head()"
   ]
  },
  {
   "cell_type": "code",
   "execution_count": 45,
   "metadata": {},
   "outputs": [
    {
     "name": "stdout",
     "output_type": "stream",
     "text": [
      "Attrition_Flag\n",
      "Customer_Age\n",
      "Gender\n",
      "Dependent_count\n",
      "Education_Level\n",
      "Marital_Status\n",
      "Income_Category\n",
      "Card_Category\n",
      "Months_on_book\n",
      "Total_Relationship_Count\n",
      "Months_Inactive_12_mon\n",
      "Contacts_Count_12_mon\n",
      "Credit_Limit\n",
      "Total_Revolving_Bal\n",
      "Avg_Open_To_Buy\n",
      "Total_Amt_Chng_Q4_Q1\n",
      "Total_Trans_Amt\n",
      "Total_Trans_Ct\n",
      "Total_Ct_Chng_Q4_Q1\n",
      "Avg_Utilization_Ratio\n",
      "gender_card\n",
      "education_card\n",
      "maritalStatus_card\n",
      "income_card\n",
      "Amt_Per_Trans\n",
      "Amt_Per_Person\n"
     ]
    }
   ],
   "source": [
    "for column in dataset.columns:\n",
    "    print(column)"
   ]
  },
  {
   "cell_type": "markdown",
   "metadata": {
    "id": "XiazHmxRSXy0"
   },
   "source": [
    "## 2. Feature Anaysis, Extraction & Selection\n",
    "(you may need to perform feature selection after creating default models and compare to them)"
   ]
  },
  {
   "cell_type": "code",
   "execution_count": null,
   "metadata": {},
   "outputs": [],
   "source": []
  },
  {
   "cell_type": "markdown",
   "metadata": {
    "id": "92THQSXGSXy3"
   },
   "source": [
    "## 3. Classification models\n",
    "- classical classification models\n",
    "- deep neural networks"
   ]
  },
  {
   "cell_type": "code",
   "execution_count": 46,
   "metadata": {
    "id": "ve5_cjilSXy4"
   },
   "outputs": [],
   "source": [
    "# Make train/test split : with train(80%), test(20%)\n",
    "\n",
    "from sklearn.model_selection import train_test_split\n",
    "\n",
    "# X = dataset_one_hot_encoded.drop(['Attrition_Flag'], axis=1)\n",
    "# y = dataset_one_hot_encoded['Attrition_Flag']\n",
    "\n",
    "X_train, X_test, y_train, y_test = train_test_split(X, y, test_size=0.20, random_state=0)"
   ]
  },
  {
   "cell_type": "code",
   "execution_count": 47,
   "metadata": {},
   "outputs": [
    {
     "data": {
      "text/html": [
       "<div>\n",
       "<style scoped>\n",
       "    .dataframe tbody tr th:only-of-type {\n",
       "        vertical-align: middle;\n",
       "    }\n",
       "\n",
       "    .dataframe tbody tr th {\n",
       "        vertical-align: top;\n",
       "    }\n",
       "\n",
       "    .dataframe thead th {\n",
       "        text-align: right;\n",
       "    }\n",
       "</style>\n",
       "<table border=\"1\" class=\"dataframe\">\n",
       "  <thead>\n",
       "    <tr style=\"text-align: right;\">\n",
       "      <th></th>\n",
       "      <th>Customer_Age</th>\n",
       "      <th>Gender</th>\n",
       "      <th>Dependent_count</th>\n",
       "      <th>Education_Level</th>\n",
       "      <th>Marital_Status</th>\n",
       "      <th>Income_Category</th>\n",
       "      <th>Card_Category</th>\n",
       "      <th>Months_on_book</th>\n",
       "      <th>Total_Relationship_Count</th>\n",
       "      <th>Months_Inactive_12_mon</th>\n",
       "      <th>...</th>\n",
       "      <th>Total_Trans_Amt</th>\n",
       "      <th>Total_Trans_Ct</th>\n",
       "      <th>Total_Ct_Chng_Q4_Q1</th>\n",
       "      <th>Avg_Utilization_Ratio</th>\n",
       "      <th>gender_card</th>\n",
       "      <th>education_card</th>\n",
       "      <th>maritalStatus_card</th>\n",
       "      <th>income_card</th>\n",
       "      <th>Amt_Per_Trans</th>\n",
       "      <th>Amt_Per_Person</th>\n",
       "    </tr>\n",
       "  </thead>\n",
       "  <tbody>\n",
       "    <tr>\n",
       "      <td>0</td>\n",
       "      <td>-0.165406</td>\n",
       "      <td>0.839340</td>\n",
       "      <td>0.503368</td>\n",
       "      <td>3</td>\n",
       "      <td>0.839340</td>\n",
       "      <td>2</td>\n",
       "      <td>0.839340</td>\n",
       "      <td>0.384548</td>\n",
       "      <td>0.763943</td>\n",
       "      <td>-1.327136</td>\n",
       "      <td>...</td>\n",
       "      <td>-0.959707</td>\n",
       "      <td>-0.973895</td>\n",
       "      <td>3.834003</td>\n",
       "      <td>-0.775882</td>\n",
       "      <td>4</td>\n",
       "      <td>11</td>\n",
       "      <td>4</td>\n",
       "      <td>8</td>\n",
       "      <td>-1.339734</td>\n",
       "      <td>-0.766493</td>\n",
       "    </tr>\n",
       "    <tr>\n",
       "      <td>1</td>\n",
       "      <td>0.333570</td>\n",
       "      <td>0.839340</td>\n",
       "      <td>2.043199</td>\n",
       "      <td>2</td>\n",
       "      <td>0.839340</td>\n",
       "      <td>4</td>\n",
       "      <td>0.919670</td>\n",
       "      <td>1.010652</td>\n",
       "      <td>1.407306</td>\n",
       "      <td>-1.327136</td>\n",
       "      <td>...</td>\n",
       "      <td>-0.916433</td>\n",
       "      <td>-1.357340</td>\n",
       "      <td>12.608573</td>\n",
       "      <td>-0.616276</td>\n",
       "      <td>0</td>\n",
       "      <td>7</td>\n",
       "      <td>8</td>\n",
       "      <td>16</td>\n",
       "      <td>-0.889782</td>\n",
       "      <td>-0.807122</td>\n",
       "    </tr>\n",
       "    <tr>\n",
       "      <td>2</td>\n",
       "      <td>0.583058</td>\n",
       "      <td>0.919670</td>\n",
       "      <td>0.503368</td>\n",
       "      <td>2</td>\n",
       "      <td>0.919670</td>\n",
       "      <td>3</td>\n",
       "      <td>0.946447</td>\n",
       "      <td>0.008887</td>\n",
       "      <td>0.120579</td>\n",
       "      <td>-1.327136</td>\n",
       "      <td>...</td>\n",
       "      <td>-0.740982</td>\n",
       "      <td>-1.911206</td>\n",
       "      <td>6.807864</td>\n",
       "      <td>-0.997155</td>\n",
       "      <td>4</td>\n",
       "      <td>7</td>\n",
       "      <td>4</td>\n",
       "      <td>12</td>\n",
       "      <td>1.202039</td>\n",
       "      <td>-0.659944</td>\n",
       "    </tr>\n",
       "    <tr>\n",
       "      <td>3</td>\n",
       "      <td>-0.789126</td>\n",
       "      <td>0.919670</td>\n",
       "      <td>1.273283</td>\n",
       "      <td>3</td>\n",
       "      <td>0.839340</td>\n",
       "      <td>4</td>\n",
       "      <td>0.959835</td>\n",
       "      <td>-0.241555</td>\n",
       "      <td>-0.522785</td>\n",
       "      <td>1.641478</td>\n",
       "      <td>...</td>\n",
       "      <td>-0.951758</td>\n",
       "      <td>-1.911206</td>\n",
       "      <td>6.807864</td>\n",
       "      <td>1.759686</td>\n",
       "      <td>0</td>\n",
       "      <td>11</td>\n",
       "      <td>12</td>\n",
       "      <td>16</td>\n",
       "      <td>-0.153876</td>\n",
       "      <td>-0.796206</td>\n",
       "    </tr>\n",
       "    <tr>\n",
       "      <td>4</td>\n",
       "      <td>-0.789126</td>\n",
       "      <td>0.946447</td>\n",
       "      <td>0.503368</td>\n",
       "      <td>5</td>\n",
       "      <td>0.946447</td>\n",
       "      <td>2</td>\n",
       "      <td>0.967868</td>\n",
       "      <td>-1.869423</td>\n",
       "      <td>0.763943</td>\n",
       "      <td>-1.327136</td>\n",
       "      <td>...</td>\n",
       "      <td>-1.056263</td>\n",
       "      <td>-1.570365</td>\n",
       "      <td>7.509325</td>\n",
       "      <td>-0.997155</td>\n",
       "      <td>4</td>\n",
       "      <td>19</td>\n",
       "      <td>4</td>\n",
       "      <td>8</td>\n",
       "      <td>-1.267772</td>\n",
       "      <td>-0.813529</td>\n",
       "    </tr>\n",
       "  </tbody>\n",
       "</table>\n",
       "<p>5 rows × 25 columns</p>\n",
       "</div>"
      ],
      "text/plain": [
       "   Customer_Age    Gender  Dependent_count  Education_Level  Marital_Status  \\\n",
       "0     -0.165406  0.839340         0.503368                3        0.839340   \n",
       "1      0.333570  0.839340         2.043199                2        0.839340   \n",
       "2      0.583058  0.919670         0.503368                2        0.919670   \n",
       "3     -0.789126  0.919670         1.273283                3        0.839340   \n",
       "4     -0.789126  0.946447         0.503368                5        0.946447   \n",
       "\n",
       "   Income_Category  Card_Category  Months_on_book  Total_Relationship_Count  \\\n",
       "0                2       0.839340        0.384548                  0.763943   \n",
       "1                4       0.919670        1.010652                  1.407306   \n",
       "2                3       0.946447        0.008887                  0.120579   \n",
       "3                4       0.959835       -0.241555                 -0.522785   \n",
       "4                2       0.967868       -1.869423                  0.763943   \n",
       "\n",
       "   Months_Inactive_12_mon  ...  Total_Trans_Amt  Total_Trans_Ct  \\\n",
       "0               -1.327136  ...        -0.959707       -0.973895   \n",
       "1               -1.327136  ...        -0.916433       -1.357340   \n",
       "2               -1.327136  ...        -0.740982       -1.911206   \n",
       "3                1.641478  ...        -0.951758       -1.911206   \n",
       "4               -1.327136  ...        -1.056263       -1.570365   \n",
       "\n",
       "   Total_Ct_Chng_Q4_Q1  Avg_Utilization_Ratio  gender_card  education_card  \\\n",
       "0             3.834003              -0.775882            4              11   \n",
       "1            12.608573              -0.616276            0               7   \n",
       "2             6.807864              -0.997155            4               7   \n",
       "3             6.807864               1.759686            0              11   \n",
       "4             7.509325              -0.997155            4              19   \n",
       "\n",
       "   maritalStatus_card  income_card  Amt_Per_Trans  Amt_Per_Person  \n",
       "0                   4            8      -1.339734       -0.766493  \n",
       "1                   8           16      -0.889782       -0.807122  \n",
       "2                   4           12       1.202039       -0.659944  \n",
       "3                  12           16      -0.153876       -0.796206  \n",
       "4                   4            8      -1.267772       -0.813529  \n",
       "\n",
       "[5 rows x 25 columns]"
      ]
     },
     "execution_count": 47,
     "metadata": {},
     "output_type": "execute_result"
    }
   ],
   "source": [
    "X.head()"
   ]
  },
  {
   "cell_type": "code",
   "execution_count": 48,
   "metadata": {},
   "outputs": [
    {
     "data": {
      "text/plain": [
       "0    1\n",
       "1    1\n",
       "2    1\n",
       "3    1\n",
       "4    1\n",
       "Name: Attrition_Flag, dtype: int32"
      ]
     },
     "execution_count": 48,
     "metadata": {},
     "output_type": "execute_result"
    }
   ],
   "source": [
    "y.head()"
   ]
  },
  {
   "cell_type": "markdown",
   "metadata": {},
   "source": [
    "### Naive Bayes"
   ]
  },
  {
   "cell_type": "code",
   "execution_count": 49,
   "metadata": {},
   "outputs": [
    {
     "name": "stdout",
     "output_type": "stream",
     "text": [
      "The accuracy on the training subset: 0.908\n",
      "The accuracy on the test subset: 0.905\n",
      "Model timing: 0:00:00.010004\n"
     ]
    }
   ],
   "source": [
    "from sklearn.naive_bayes import GaussianNB\n",
    "\n",
    "start_time = time.time()\n",
    "gnb = GaussianNB()\n",
    "\n",
    "gnb.fit(X_train, y_train)\n",
    "gnb_time = (time.time() - start_time)\n",
    "\n",
    "acc_gnb = gnb.score(X_test, y_test)\n",
    "\n",
    "print('The accuracy on the training subset: {:.3f}'.format(gnb.score(X_train, y_train)))\n",
    "print('The accuracy on the test subset: {:.3f}'.format(gnb.score(X_test, y_test)))\n",
    "print(\"Model timing: %s\" % datetime.timedelta(seconds=gnb_time))"
   ]
  },
  {
   "cell_type": "code",
   "execution_count": 50,
   "metadata": {},
   "outputs": [
    {
     "name": "stdout",
     "output_type": "stream",
     "text": [
      "              precision    recall  f1-score   support\n",
      "\n",
      "           0       0.69      0.68      0.68       309\n",
      "           1       0.94      0.95      0.94      1717\n",
      "\n",
      "    accuracy                           0.90      2026\n",
      "   macro avg       0.82      0.81      0.81      2026\n",
      "weighted avg       0.90      0.90      0.90      2026\n",
      "\n"
     ]
    }
   ],
   "source": [
    "from sklearn.metrics import classification_report\n",
    "\n",
    "y_pred_gnb = gnb.predict(X_test)\n",
    "y_proba_gnb = gnb.predict_proba(X_test)[:,1]\n",
    "\n",
    "print(classification_report(y_test, y_pred_gnb))"
   ]
  },
  {
   "cell_type": "code",
   "execution_count": 51,
   "metadata": {},
   "outputs": [
    {
     "data": {
      "text/plain": [
       "array([[ 209,  100],\n",
       "       [  93, 1624]], dtype=int64)"
      ]
     },
     "execution_count": 51,
     "metadata": {},
     "output_type": "execute_result"
    }
   ],
   "source": [
    "confusion_matrix(y_test, y_pred_gnb)"
   ]
  },
  {
   "cell_type": "code",
   "execution_count": 52,
   "metadata": {},
   "outputs": [
    {
     "data": {
      "text/plain": [
       "<sklearn.metrics._plot.confusion_matrix.ConfusionMatrixDisplay at 0x258a8e84148>"
      ]
     },
     "execution_count": 52,
     "metadata": {},
     "output_type": "execute_result"
    },
    {
     "data": {
      "image/png": "[encoded data removed]",
      "text/plain": [
       "<Figure size 432x288 with 2 Axes>"
      ]
     },
     "metadata": {
      "needs_background": "light"
     },
     "output_type": "display_data"
    }
   ],
   "source": [
    "cm_gnb = confusion_matrix(y_test, y_pred_gnb, labels=gnb.classes_)\n",
    "confus_gnb_disp = ConfusionMatrixDisplay(confusion_matrix=cm_gnb,\n",
    "                                         display_labels=gnb.classes_)\n",
    "confus_gnb_disp.plot()"
   ]
  },
  {
   "cell_type": "code",
   "execution_count": 53,
   "metadata": {},
   "outputs": [],
   "source": [
    "naive_bayes_results = roc_curve(y_test, y_pred_gnb)"
   ]
  },
  {
   "cell_type": "code",
   "execution_count": 54,
   "metadata": {},
   "outputs": [
    {
     "data": {
      "text/plain": [
       "<sklearn.metrics._plot.roc_curve.RocCurveDisplay at 0x258a8ed2048>"
      ]
     },
     "execution_count": 54,
     "metadata": {},
     "output_type": "execute_result"
    },
    {
     "data": {
      "image/png": "[encoded data removed]",
      "text/plain": [
       "<Figure size 432x288 with 1 Axes>"
      ]
     },
     "metadata": {
      "needs_background": "light"
     },
     "output_type": "display_data"
    }
   ],
   "source": [
    "plot_roc_curve(gnb, X_test, y_test)"
   ]
  },
  {
   "cell_type": "markdown",
   "metadata": {},
   "source": [
    "### SVM"
   ]
  },
  {
   "cell_type": "code",
   "execution_count": 55,
   "metadata": {},
   "outputs": [
    {
     "name": "stdout",
     "output_type": "stream",
     "text": [
      "The accuracy on the training subset: 0.996\n",
      "The accuracy on the test subset: 0.910\n",
      "Model timing: 0:00:05.899189\n"
     ]
    }
   ],
   "source": [
    "from sklearn.svm import SVC\n",
    "from sklearn.calibration import CalibratedClassifierCV\n",
    "\n",
    "start_time = time.time()\n",
    "svm = SVC(gamma='auto', kernel='rbf', C=15, random_state = 1)\n",
    "clf_svm = CalibratedClassifierCV(svm)\n",
    "clf_svm.fit(X_train, y_train)\n",
    "clf_svm_time = (time.time() - start_time)\n",
    "\n",
    "acc_clf_svm = clf_svm.score(X_test, y_test)\n",
    "\n",
    "print('The accuracy on the training subset: {:.3f}'.format(clf_svm.score(X_train, y_train)))\n",
    "print('The accuracy on the test subset: {:.3f}'.format(clf_svm.score(X_test, y_test)))\n",
    "print(\"Model timing: %s\" % datetime.timedelta(seconds=clf_svm_time))"
   ]
  },
  {
   "cell_type": "code",
   "execution_count": 56,
   "metadata": {},
   "outputs": [
    {
     "name": "stdout",
     "output_type": "stream",
     "text": [
      "              precision    recall  f1-score   support\n",
      "\n",
      "           0       0.80      0.55      0.65       309\n",
      "           1       0.92      0.97      0.95      1717\n",
      "\n",
      "    accuracy                           0.91      2026\n",
      "   macro avg       0.86      0.76      0.80      2026\n",
      "weighted avg       0.90      0.91      0.90      2026\n",
      "\n"
     ]
    }
   ],
   "source": [
    "y_pred_svm = clf_svm.predict(X_test)\n",
    "y_proba_svm = clf_svm.predict_proba(X_test)[:,1]\n",
    "\n",
    "print(classification_report(y_test, y_pred_svm))"
   ]
  },
  {
   "cell_type": "code",
   "execution_count": 57,
   "metadata": {},
   "outputs": [
    {
     "data": {
      "text/plain": [
       "array([[ 171,  138],\n",
       "       [  44, 1673]], dtype=int64)"
      ]
     },
     "execution_count": 57,
     "metadata": {},
     "output_type": "execute_result"
    }
   ],
   "source": [
    "confusion_matrix(y_test, y_pred_svm)"
   ]
  },
  {
   "cell_type": "code",
   "execution_count": 58,
   "metadata": {},
   "outputs": [
    {
     "data": {
      "text/plain": [
       "<sklearn.metrics._plot.confusion_matrix.ConfusionMatrixDisplay at 0x258a92e4f08>"
      ]
     },
     "execution_count": 58,
     "metadata": {},
     "output_type": "execute_result"
    },
    {
     "data": {
      "image/png": "[encoded data removed]",
      "text/plain": [
       "<Figure size 432x288 with 2 Axes>"
      ]
     },
     "metadata": {
      "needs_background": "light"
     },
     "output_type": "display_data"
    }
   ],
   "source": [
    "cm_svm = confusion_matrix(y_test, y_pred_svm, labels=clf_svm.classes_)\n",
    "confus_svm_disp = ConfusionMatrixDisplay(confusion_matrix=cm_svm,\n",
    "                                         display_labels=clf_svm.classes_)\n",
    "confus_svm_disp.plot() "
   ]
  },
  {
   "cell_type": "code",
   "execution_count": 59,
   "metadata": {},
   "outputs": [],
   "source": [
    "svm_results = roc_curve(y_test, y_pred_svm)"
   ]
  },
  {
   "cell_type": "code",
   "execution_count": 60,
   "metadata": {},
   "outputs": [
    {
     "data": {
      "text/plain": [
       "<sklearn.metrics._plot.roc_curve.RocCurveDisplay at 0x258a9373f88>"
      ]
     },
     "execution_count": 60,
     "metadata": {},
     "output_type": "execute_result"
    },
    {
     "data": {
      "image/png": "[encoded data removed]",
      "text/plain": [
       "<Figure size 432x288 with 1 Axes>"
      ]
     },
     "metadata": {
      "needs_background": "light"
     },
     "output_type": "display_data"
    }
   ],
   "source": [
    "plot_roc_curve(clf_svm, X_test, y_test)"
   ]
  },
  {
   "cell_type": "markdown",
   "metadata": {},
   "source": [
    "### Decision Tree"
   ]
  },
  {
   "cell_type": "code",
   "execution_count": 61,
   "metadata": {},
   "outputs": [
    {
     "name": "stdout",
     "output_type": "stream",
     "text": [
      "Accuracy on the training subset  1.0\n",
      "Accuracy on the test subset: 0.9565646594274433\n",
      "Model timing: 0:00:00.096043\n"
     ]
    }
   ],
   "source": [
    "from sklearn.tree import DecisionTreeClassifier\n",
    "\n",
    "start_time = time.time()\n",
    "tree = DecisionTreeClassifier(random_state = 1)\n",
    "tree.fit(X_train, y_train)\n",
    "tree_time = (time.time() - start_time)\n",
    "\n",
    "acc_tree = tree.score(X_test, y_test)\n",
    "\n",
    "print('Accuracy on the training subset ', (tree.score(X_train, y_train)))\n",
    "print('Accuracy on the test subset:', (tree.score(X_test, y_test)))\n",
    "print(\"Model timing: %s\" % datetime.timedelta(seconds=tree_time))"
   ]
  },
  {
   "cell_type": "code",
   "execution_count": 62,
   "metadata": {},
   "outputs": [
    {
     "name": "stdout",
     "output_type": "stream",
     "text": [
      "              precision    recall  f1-score   support\n",
      "\n",
      "           0       0.86      0.85      0.86       309\n",
      "           1       0.97      0.97      0.97      1717\n",
      "\n",
      "    accuracy                           0.96      2026\n",
      "   macro avg       0.92      0.91      0.92      2026\n",
      "weighted avg       0.96      0.96      0.96      2026\n",
      "\n"
     ]
    }
   ],
   "source": [
    "y_pred_tree = tree.predict(X_test)\n",
    "y_proba_tree = tree.predict_proba(X_test)[:,1]\n",
    "\n",
    "print(classification_report(y_test, y_pred_tree))"
   ]
  },
  {
   "cell_type": "code",
   "execution_count": 63,
   "metadata": {},
   "outputs": [
    {
     "data": {
      "text/plain": [
       "array([[ 264,   45],\n",
       "       [  43, 1674]], dtype=int64)"
      ]
     },
     "execution_count": 63,
     "metadata": {},
     "output_type": "execute_result"
    }
   ],
   "source": [
    "confusion_matrix(y_test, y_pred_tree)"
   ]
  },
  {
   "cell_type": "code",
   "execution_count": 64,
   "metadata": {},
   "outputs": [
    {
     "data": {
      "text/plain": [
       "<sklearn.metrics._plot.confusion_matrix.ConfusionMatrixDisplay at 0x258a93fb948>"
      ]
     },
     "execution_count": 64,
     "metadata": {},
     "output_type": "execute_result"
    },
    {
     "data": {
      "image/png": "[encoded data removed]",
      "text/plain": [
       "<Figure size 432x288 with 2 Axes>"
      ]
     },
     "metadata": {
      "needs_background": "light"
     },
     "output_type": "display_data"
    }
   ],
   "source": [
    "cm_tree = confusion_matrix(y_test, y_pred_tree, labels=tree.classes_)\n",
    "confus_tree_disp = ConfusionMatrixDisplay(confusion_matrix=cm_tree,\n",
    "                                          display_labels=tree.classes_)\n",
    "confus_tree_disp.plot() "
   ]
  },
  {
   "cell_type": "code",
   "execution_count": 65,
   "metadata": {},
   "outputs": [],
   "source": [
    "decision_tree_results = roc_curve(y_test, y_pred_tree)"
   ]
  },
  {
   "cell_type": "code",
   "execution_count": 66,
   "metadata": {},
   "outputs": [
    {
     "data": {
      "text/plain": [
       "<sklearn.metrics._plot.roc_curve.RocCurveDisplay at 0x258a940cc08>"
      ]
     },
     "execution_count": 66,
     "metadata": {},
     "output_type": "execute_result"
    },
    {
     "data": {
      "image/png": "[encoded data removed]",
      "text/plain": [
       "<Figure size 432x288 with 1 Axes>"
      ]
     },
     "metadata": {
      "needs_background": "light"
     },
     "output_type": "display_data"
    }
   ],
   "source": [
    "plot_roc_curve(tree, X_test, y_test)"
   ]
  },
  {
   "cell_type": "markdown",
   "metadata": {},
   "source": [
    "### Random Forest"
   ]
  },
  {
   "cell_type": "code",
   "execution_count": 67,
   "metadata": {},
   "outputs": [
    {
     "name": "stdout",
     "output_type": "stream",
     "text": [
      "The accuracy on the training subset: 0.989\n",
      "The accuracy on the test subset: 0.978\n",
      "Model timing: 0:00:00.963000\n"
     ]
    }
   ],
   "source": [
    "from sklearn.ensemble import RandomForestClassifier\n",
    "\n",
    "start_time = time.time()\n",
    "rf_tree = RandomForestClassifier(n_jobs=-1,\n",
    "                              max_depth=10,\n",
    "                              n_estimators=100,\n",
    "                              min_samples_leaf=4, \n",
    "                              max_leaf_nodes=150, \n",
    "                              criterion='entropy',\n",
    "                              max_features=0.5,\n",
    "                              random_state=1)\n",
    "rf_tree.fit(X_train, y_train)\n",
    "rf_tree_time = (time.time() - start_time)\n",
    "\n",
    "acc_rf_tree = rf_tree.score(X_test, y_test)\n",
    "\n",
    "print('The accuracy on the training subset: {:.3f}'.format(rf_tree.score(X_train, y_train)))\n",
    "print('The accuracy on the test subset: {:.3f}'.format(rf_tree.score(X_test, y_test)))\n",
    "print(\"Model timing: %s\" % datetime.timedelta(seconds=rf_tree_time))"
   ]
  },
  {
   "cell_type": "code",
   "execution_count": 68,
   "metadata": {},
   "outputs": [
    {
     "name": "stdout",
     "output_type": "stream",
     "text": [
      "              precision    recall  f1-score   support\n",
      "\n",
      "           0       0.96      0.89      0.93       309\n",
      "           1       0.98      0.99      0.99      1717\n",
      "\n",
      "    accuracy                           0.98      2026\n",
      "   macro avg       0.97      0.94      0.96      2026\n",
      "weighted avg       0.98      0.98      0.98      2026\n",
      "\n"
     ]
    }
   ],
   "source": [
    "y_pred_rf_tree = rf_tree.predict(X_test)\n",
    "y_proba_rf_tree = rf_tree.predict_proba(X_test)[:,1]\n",
    "\n",
    "print(classification_report(y_test, y_pred_rf_tree))"
   ]
  },
  {
   "cell_type": "markdown",
   "metadata": {},
   "source": []
  },
  {
   "cell_type": "code",
   "execution_count": 69,
   "metadata": {},
   "outputs": [
    {
     "data": {
      "text/plain": [
       "array([[ 275,   34],\n",
       "       [  10, 1707]], dtype=int64)"
      ]
     },
     "execution_count": 69,
     "metadata": {},
     "output_type": "execute_result"
    }
   ],
   "source": [
    "confusion_matrix(y_test, y_pred_rf_tree)"
   ]
  },
  {
   "cell_type": "code",
   "execution_count": 70,
   "metadata": {},
   "outputs": [
    {
     "data": {
      "text/plain": [
       "<sklearn.metrics._plot.confusion_matrix.ConfusionMatrixDisplay at 0x258fe5ad5c8>"
      ]
     },
     "execution_count": 70,
     "metadata": {},
     "output_type": "execute_result"
    },
    {
     "data": {
      "image/png": "[encoded data removed]",
      "text/plain": [
       "<Figure size 432x288 with 2 Axes>"
      ]
     },
     "metadata": {
      "needs_background": "light"
     },
     "output_type": "display_data"
    }
   ],
   "source": [
    "cm_rf_tree = confusion_matrix(y_test, y_pred_rf_tree, labels=rf_tree.classes_)\n",
    "confus_rf_tree_disp = ConfusionMatrixDisplay(confusion_matrix=cm_rf_tree,\n",
    "                                             display_labels=rf_tree.classes_)\n",
    "confus_rf_tree_disp.plot()"
   ]
  },
  {
   "cell_type": "code",
   "execution_count": 71,
   "metadata": {},
   "outputs": [],
   "source": [
    "random_forest_results = roc_curve(y_test, y_pred_rf_tree)"
   ]
  },
  {
   "cell_type": "code",
   "execution_count": 72,
   "metadata": {},
   "outputs": [
    {
     "data": {
      "text/plain": [
       "<sklearn.metrics._plot.roc_curve.RocCurveDisplay at 0x258e03e02c8>"
      ]
     },
     "execution_count": 72,
     "metadata": {},
     "output_type": "execute_result"
    },
    {
     "data": {
      "image/png": "[encoded data removed]",
      "text/plain": [
       "<Figure size 432x288 with 1 Axes>"
      ]
     },
     "metadata": {
      "needs_background": "light"
     },
     "output_type": "display_data"
    }
   ],
   "source": [
    "plot_roc_curve(rf_tree, X_test, y_test)"
   ]
  },
  {
   "cell_type": "markdown",
   "metadata": {},
   "source": [
    "### KNN"
   ]
  },
  {
   "cell_type": "code",
   "execution_count": 73,
   "metadata": {},
   "outputs": [
    {
     "name": "stdout",
     "output_type": "stream",
     "text": [
      "Accuracy on training data :  0.8874213060116035\n",
      "Accuracy on test data :  0.8721618953603159\n",
      "Model timing: 0:00:00.059553\n"
     ]
    }
   ],
   "source": [
    "from sklearn.neighbors import KNeighborsClassifier\n",
    "\n",
    "start_time = time.time()\n",
    "knn = KNeighborsClassifier(n_neighbors=7)\n",
    "\n",
    "knn.fit(X_train, y_train)\n",
    "knn_time = (time.time() - start_time)\n",
    "\n",
    "acc_knn = knn.score(X_test, y_test)\n",
    "\n",
    "print(\"Accuracy on training data : \", knn.score(X_train,y_train))\n",
    "print(\"Accuracy on test data : \", knn.score(X_test,y_test))\n",
    "print(\"Model timing: %s\" % datetime.timedelta(seconds=knn_time))"
   ]
  },
  {
   "cell_type": "code",
   "execution_count": 74,
   "metadata": {},
   "outputs": [
    {
     "name": "stdout",
     "output_type": "stream",
     "text": [
      "              precision    recall  f1-score   support\n",
      "\n",
      "           0       0.75      0.24      0.37       309\n",
      "           1       0.88      0.99      0.93      1717\n",
      "\n",
      "    accuracy                           0.87      2026\n",
      "   macro avg       0.81      0.61      0.65      2026\n",
      "weighted avg       0.86      0.87      0.84      2026\n",
      "\n"
     ]
    }
   ],
   "source": [
    "y_pred_knn = knn.predict(X_test)\n",
    "y_proba_knn = knn.predict_proba(X_test)[:,1]\n",
    "\n",
    "print(classification_report(y_test, y_pred_knn))"
   ]
  },
  {
   "cell_type": "code",
   "execution_count": 75,
   "metadata": {},
   "outputs": [
    {
     "data": {
      "text/plain": [
       "array([[  75,  234],\n",
       "       [  25, 1692]], dtype=int64)"
      ]
     },
     "execution_count": 75,
     "metadata": {},
     "output_type": "execute_result"
    }
   ],
   "source": [
    "confusion_matrix(y_test, y_pred_knn)"
   ]
  },
  {
   "cell_type": "code",
   "execution_count": 76,
   "metadata": {},
   "outputs": [
    {
     "data": {
      "text/plain": [
       "<sklearn.metrics._plot.confusion_matrix.ConfusionMatrixDisplay at 0x258ae5647c8>"
      ]
     },
     "execution_count": 76,
     "metadata": {},
     "output_type": "execute_result"
    },
    {
     "data": {
      "image/png": "[encoded data removed]",
      "text/plain": [
       "<Figure size 432x288 with 2 Axes>"
      ]
     },
     "metadata": {
      "needs_background": "light"
     },
     "output_type": "display_data"
    }
   ],
   "source": [
    "cm_knn = confusion_matrix(y_test, y_pred_knn, labels=knn.classes_)\n",
    "confus_knn_disp = ConfusionMatrixDisplay(confusion_matrix=cm_knn,\n",
    "                                         display_labels=knn.classes_)\n",
    "confus_knn_disp.plot()"
   ]
  },
  {
   "cell_type": "code",
   "execution_count": 77,
   "metadata": {},
   "outputs": [],
   "source": [
    "knn_results = roc_curve(y_test, y_pred_knn)"
   ]
  },
  {
   "cell_type": "code",
   "execution_count": 78,
   "metadata": {
    "scrolled": true
   },
   "outputs": [
    {
     "data": {
      "text/plain": [
       "<sklearn.metrics._plot.roc_curve.RocCurveDisplay at 0x258ae909ac8>"
      ]
     },
     "execution_count": 78,
     "metadata": {},
     "output_type": "execute_result"
    },
    {
     "data": {
      "image/png": "[encoded data removed]",
      "text/plain": [
       "<Figure size 432x288 with 1 Axes>"
      ]
     },
     "metadata": {
      "needs_background": "light"
     },
     "output_type": "display_data"
    }
   ],
   "source": [
    "plot_roc_curve(knn, X_test, y_test)"
   ]
  },
  {
   "cell_type": "markdown",
   "metadata": {},
   "source": [
    "## Gradient Boosting Tree"
   ]
  },
  {
   "cell_type": "code",
   "execution_count": 79,
   "metadata": {},
   "outputs": [
    {
     "data": {
      "text/plain": [
       "dict_keys(['ccp_alpha', 'criterion', 'init', 'learning_rate', 'loss', 'max_depth', 'max_features', 'max_leaf_nodes', 'min_impurity_decrease', 'min_impurity_split', 'min_samples_leaf', 'min_samples_split', 'min_weight_fraction_leaf', 'n_estimators', 'n_iter_no_change', 'presort', 'random_state', 'subsample', 'tol', 'validation_fraction', 'verbose', 'warm_start'])"
      ]
     },
     "execution_count": 79,
     "metadata": {},
     "output_type": "execute_result"
    }
   ],
   "source": [
    "# Which are the parameters?\n",
    "\n",
    "estimator = GradientBoostingClassifier()\n",
    "estimator.get_params().keys()"
   ]
  },
  {
   "cell_type": "code",
   "execution_count": 80,
   "metadata": {},
   "outputs": [
    {
     "name": "stdout",
     "output_type": "stream",
     "text": [
      "The accuracy on the training subset: 0.988\n",
      "The accuracy on the test subset: 0.978\n",
      "Model timing: 0:00:07.220484\n"
     ]
    }
   ],
   "source": [
    "start_time = time.time()\n",
    "gb_tree = GradientBoostingClassifier(learning_rate = 0.1,\n",
    "                                     max_depth = None,\n",
    "                                     max_features = 'auto',\n",
    "                                     max_leaf_nodes = None,\n",
    "                                     min_samples_leaf = 8,\n",
    "                                     min_samples_split = 0.5,\n",
    "                                     n_estimators = 200,\n",
    "                                     random_state = 1)\n",
    "\n",
    "gb_tree.fit(X_train, y_train)\n",
    "gb_tree_time = (time.time() - start_time)\n",
    "\n",
    "acc_gb_tree = gb_tree.score(X_test, y_test)\n",
    "\n",
    "print('The accuracy on the training subset: {:.3f}'.format(gb_tree.score(X_train, y_train)))\n",
    "print('The accuracy on the test subset: {:.3f}'.format(gb_tree.score(X_test, y_test)))\n",
    "print(\"Model timing: %s\" % datetime.timedelta(seconds=gb_tree_time))"
   ]
  },
  {
   "cell_type": "code",
   "execution_count": 81,
   "metadata": {},
   "outputs": [
    {
     "name": "stdout",
     "output_type": "stream",
     "text": [
      "              precision    recall  f1-score   support\n",
      "\n",
      "           0       0.96      0.89      0.92       309\n",
      "           1       0.98      0.99      0.99      1717\n",
      "\n",
      "    accuracy                           0.98      2026\n",
      "   macro avg       0.97      0.94      0.96      2026\n",
      "weighted avg       0.98      0.98      0.98      2026\n",
      "\n"
     ]
    }
   ],
   "source": [
    "y_pred_gb_tree = gb_tree.predict(X_test)\n",
    "y_proba_gb_tree = gb_tree.predict_proba(X_test)[:,1]\n",
    "\n",
    "print(classification_report(y_test, y_pred_gb_tree))"
   ]
  },
  {
   "cell_type": "code",
   "execution_count": 82,
   "metadata": {},
   "outputs": [
    {
     "data": {
      "text/plain": [
       "array([[ 276,   33],\n",
       "       [  12, 1705]], dtype=int64)"
      ]
     },
     "execution_count": 82,
     "metadata": {},
     "output_type": "execute_result"
    }
   ],
   "source": [
    "confusion_matrix(y_test, y_pred_gb_tree)"
   ]
  },
  {
   "cell_type": "code",
   "execution_count": 83,
   "metadata": {},
   "outputs": [
    {
     "data": {
      "text/plain": [
       "<sklearn.metrics._plot.confusion_matrix.ConfusionMatrixDisplay at 0x258ae908088>"
      ]
     },
     "execution_count": 83,
     "metadata": {},
     "output_type": "execute_result"
    },
    {
     "data": {
      "image/png": "[encoded data removed]",
      "text/plain": [
       "<Figure size 432x288 with 2 Axes>"
      ]
     },
     "metadata": {
      "needs_background": "light"
     },
     "output_type": "display_data"
    }
   ],
   "source": [
    "cm_gb_tree = confusion_matrix(y_test, y_pred_gb_tree, labels=gb_tree.classes_)\n",
    "confus_gb_tree_disp = ConfusionMatrixDisplay(confusion_matrix=cm_gb_tree,\n",
    "                                         display_labels=gb_tree.classes_)\n",
    "confus_gb_tree_disp.plot()"
   ]
  },
  {
   "cell_type": "code",
   "execution_count": 84,
   "metadata": {},
   "outputs": [],
   "source": [
    "gb_tree_results = roc_curve(y_test, y_pred_gb_tree)"
   ]
  },
  {
   "cell_type": "code",
   "execution_count": 85,
   "metadata": {},
   "outputs": [
    {
     "data": {
      "text/plain": [
       "<sklearn.metrics._plot.roc_curve.RocCurveDisplay at 0x258aea37d48>"
      ]
     },
     "execution_count": 85,
     "metadata": {},
     "output_type": "execute_result"
    },
    {
     "data": {
      "image/png": "[encoded data removed]",
      "text/plain": [
       "<Figure size 432x288 with 1 Axes>"
      ]
     },
     "metadata": {
      "needs_background": "light"
     },
     "output_type": "display_data"
    }
   ],
   "source": [
    "plot_roc_curve(gb_tree, X_test, y_test)"
   ]
  },
  {
   "cell_type": "markdown",
   "metadata": {},
   "source": [
    "## XGBoost"
   ]
  },
  {
   "cell_type": "code",
   "execution_count": 86,
   "metadata": {},
   "outputs": [],
   "source": [
    "# !pip install xgboost"
   ]
  },
  {
   "cell_type": "code",
   "execution_count": 87,
   "metadata": {},
   "outputs": [
    {
     "name": "stdout",
     "output_type": "stream",
     "text": [
      "Accuracy on training data: 1.000\n",
      "Accuracy on test data: 0.984\n",
      "Model timing: 0:00:00.510968\n"
     ]
    }
   ],
   "source": [
    "from xgboost import XGBClassifier\n",
    "\n",
    "start_time = time.time()\n",
    "xgb = XGBClassifier(random_state = 1)\n",
    "\n",
    "xgb.fit(X_train, y_train)\n",
    "xgb_time = (time.time() - start_time)\n",
    "\n",
    "acc_xgb = xgb.score(X_test, y_test)\n",
    "\n",
    "print(\"Accuracy on training data: {:.3f}\".format(xgb.score(X_train,y_train)))\n",
    "print(\"Accuracy on test data: {:.3f}\".format(xgb.score(X_test,y_test)))\n",
    "print(\"Model timing: %s\" % datetime.timedelta(seconds=xgb_time))"
   ]
  },
  {
   "cell_type": "code",
   "execution_count": 88,
   "metadata": {},
   "outputs": [
    {
     "name": "stdout",
     "output_type": "stream",
     "text": [
      "              precision    recall  f1-score   support\n",
      "\n",
      "           0       0.97      0.93      0.95       309\n",
      "           1       0.99      0.99      0.99      1717\n",
      "\n",
      "    accuracy                           0.98      2026\n",
      "   macro avg       0.98      0.96      0.97      2026\n",
      "weighted avg       0.98      0.98      0.98      2026\n",
      "\n"
     ]
    }
   ],
   "source": [
    "y_pred_xgb = xgb.predict(X_test)\n",
    "y_proba_xgb = xgb.predict_proba(X_test)[:,1]\n",
    "\n",
    "print(classification_report(y_test, y_pred_xgb))"
   ]
  },
  {
   "cell_type": "code",
   "execution_count": 89,
   "metadata": {},
   "outputs": [
    {
     "data": {
      "text/plain": [
       "array([[ 286,   23],\n",
       "       [   9, 1708]], dtype=int64)"
      ]
     },
     "execution_count": 89,
     "metadata": {},
     "output_type": "execute_result"
    }
   ],
   "source": [
    "confusion_matrix(y_test, y_pred_xgb)"
   ]
  },
  {
   "cell_type": "code",
   "execution_count": 90,
   "metadata": {},
   "outputs": [
    {
     "data": {
      "text/plain": [
       "<sklearn.metrics._plot.confusion_matrix.ConfusionMatrixDisplay at 0x258aea49088>"
      ]
     },
     "execution_count": 90,
     "metadata": {},
     "output_type": "execute_result"
    },
    {
     "data": {
      "image/png": "[encoded data removed]",
      "text/plain": [
       "<Figure size 432x288 with 2 Axes>"
      ]
     },
     "metadata": {
      "needs_background": "light"
     },
     "output_type": "display_data"
    }
   ],
   "source": [
    "cm_xgb = confusion_matrix(y_test, y_pred_xgb, labels=xgb.classes_)\n",
    "confus_xgb_disp = ConfusionMatrixDisplay(confusion_matrix=cm_xgb,\n",
    "                                               display_labels=xgb.classes_)\n",
    "confus_xgb_disp.plot()"
   ]
  },
  {
   "cell_type": "code",
   "execution_count": 91,
   "metadata": {},
   "outputs": [],
   "source": [
    "xgb_results = roc_curve(y_test, y_pred_xgb)"
   ]
  },
  {
   "cell_type": "code",
   "execution_count": 92,
   "metadata": {},
   "outputs": [
    {
     "data": {
      "text/plain": [
       "<sklearn.metrics._plot.roc_curve.RocCurveDisplay at 0x258aea95688>"
      ]
     },
     "execution_count": 92,
     "metadata": {},
     "output_type": "execute_result"
    },
    {
     "data": {
      "image/png": "[encoded data removed]",
      "text/plain": [
       "<Figure size 432x288 with 1 Axes>"
      ]
     },
     "metadata": {
      "needs_background": "light"
     },
     "output_type": "display_data"
    }
   ],
   "source": [
    "plot_roc_curve(xgb, X_test, y_test)"
   ]
  },
  {
   "cell_type": "code",
   "execution_count": 93,
   "metadata": {},
   "outputs": [
    {
     "data": {
      "image/png": "[encoded data removed]",
      "text/plain": [
       "<Figure size 720x720 with 1 Axes>"
      ]
     },
     "metadata": {},
     "output_type": "display_data"
    }
   ],
   "source": [
    "plt.style.use('seaborn-whitegrid')\n",
    "fig = plt.figure(figsize=(10,10)) \n",
    "\n",
    "models = [\n",
    "    'Naive Bayes', \n",
    "    'SVM', \n",
    "    'Decision Tree', \n",
    "    'Random Forest', \n",
    "    'KNN', \n",
    "    'Gradient Boosting Tree',\n",
    "    'XGBoost'\n",
    "]\n",
    "probs = [\n",
    "    y_proba_gnb,\n",
    "    y_proba_svm,\n",
    "    y_proba_tree,\n",
    "    y_proba_rf_tree,\n",
    "    y_proba_knn,\n",
    "    y_proba_gb_tree,\n",
    "    y_proba_xgb\n",
    "]\n",
    "colors = [\n",
    "    'blue',\n",
    "    'green',\n",
    "    'red',\n",
    "    'cyan',\n",
    "    'magenta',\n",
    "    'yellow',\n",
    "    'black'\n",
    "]\n",
    "\n",
    "plt.title('Receiver Operating Characteristic')\n",
    "plt.plot([0, 1], [0, 1],'r--')\n",
    "plt.xlim([-0.01, 1.01])\n",
    "plt.ylim([-0.01, 1.01])\n",
    "plt.ylabel('True Positive Rate')\n",
    "plt.xlabel('False Positive Rate')\n",
    "\n",
    "def plot_roc_curves(y_test, prob, model):\n",
    "    fpr, tpr, threshold = roc_curve(y_test, prob)\n",
    "    roc_auc = auc(fpr, tpr)\n",
    "    plt.plot(fpr, tpr, 'b', label = model + ' AUC = %0.3f' % roc_auc, color=colors[i])\n",
    "    plt.legend(loc = 'lower right')\n",
    "    \n",
    "for i, model in list(enumerate(models)):\n",
    "    plot_roc_curves(y_test, probs[i], models[i])\n",
    "    \n",
    "plt.show()"
   ]
  },
  {
   "cell_type": "markdown",
   "metadata": {
    "id": "JGyhoU96SXy7"
   },
   "source": [
    "## 4. Comparison of the models"
   ]
  },
  {
   "cell_type": "code",
   "execution_count": 94,
   "metadata": {
    "id": "L0_vsmimSXy8"
   },
   "outputs": [
    {
     "data": {
      "text/html": [
       "<div>\n",
       "<style scoped>\n",
       "    .dataframe tbody tr th:only-of-type {\n",
       "        vertical-align: middle;\n",
       "    }\n",
       "\n",
       "    .dataframe tbody tr th {\n",
       "        vertical-align: top;\n",
       "    }\n",
       "\n",
       "    .dataframe thead th {\n",
       "        text-align: right;\n",
       "    }\n",
       "</style>\n",
       "<table border=\"1\" class=\"dataframe\">\n",
       "  <thead>\n",
       "    <tr style=\"text-align: right;\">\n",
       "      <th></th>\n",
       "      <th>Model</th>\n",
       "      <th>Accuracy</th>\n",
       "      <th>Model time</th>\n",
       "    </tr>\n",
       "  </thead>\n",
       "  <tbody>\n",
       "    <tr>\n",
       "      <td>6</td>\n",
       "      <td>XGBoost</td>\n",
       "      <td>98.42</td>\n",
       "      <td>00:00:00.510968</td>\n",
       "    </tr>\n",
       "    <tr>\n",
       "      <td>3</td>\n",
       "      <td>Random Forest</td>\n",
       "      <td>97.83</td>\n",
       "      <td>00:00:00.963000</td>\n",
       "    </tr>\n",
       "    <tr>\n",
       "      <td>5</td>\n",
       "      <td>Gradient Boosting Tree</td>\n",
       "      <td>97.78</td>\n",
       "      <td>00:00:07.220484</td>\n",
       "    </tr>\n",
       "    <tr>\n",
       "      <td>2</td>\n",
       "      <td>Decision Tree</td>\n",
       "      <td>96.00</td>\n",
       "      <td>00:00:00.096043</td>\n",
       "    </tr>\n",
       "    <tr>\n",
       "      <td>1</td>\n",
       "      <td>SVM</td>\n",
       "      <td>91.02</td>\n",
       "      <td>00:00:05.899189</td>\n",
       "    </tr>\n",
       "    <tr>\n",
       "      <td>0</td>\n",
       "      <td>Naive Bayes</td>\n",
       "      <td>90.47</td>\n",
       "      <td>00:00:00.010004</td>\n",
       "    </tr>\n",
       "    <tr>\n",
       "      <td>4</td>\n",
       "      <td>KNN</td>\n",
       "      <td>87.22</td>\n",
       "      <td>00:00:00.059553</td>\n",
       "    </tr>\n",
       "  </tbody>\n",
       "</table>\n",
       "</div>"
      ],
      "text/plain": [
       "                    Model  Accuracy      Model time\n",
       "6                 XGBoost     98.42 00:00:00.510968\n",
       "3           Random Forest     97.83 00:00:00.963000\n",
       "5  Gradient Boosting Tree     97.78 00:00:07.220484\n",
       "2           Decision Tree     96.00 00:00:00.096043\n",
       "1                     SVM     91.02 00:00:05.899189\n",
       "0             Naive Bayes     90.47 00:00:00.010004\n",
       "4                     KNN     87.22 00:00:00.059553"
      ]
     },
     "execution_count": 94,
     "metadata": {},
     "output_type": "execute_result"
    }
   ],
   "source": [
    "models = pd.DataFrame({\n",
    "    'Model': ['Naive Bayes', 'SVM', 'Decision Tree', 'Random Forest', 'KNN', 'Gradient Boosting Tree', 'XGBoost'],\n",
    "    'Accuracy': [round((acc_gnb)*100,2), round((acc_clf_svm)*100,2), round((acc_tree)*100), round((acc_rf_tree)*100,2), \n",
    "              round((acc_knn)*100,2), round((acc_gb_tree)*100,2), round((acc_xgb)*100,2)],\n",
    "    'Model time':[datetime.timedelta(seconds=gnb_time), datetime.timedelta(seconds=clf_svm_time), \n",
    "                  datetime.timedelta(seconds=tree_time), datetime.timedelta(seconds=rf_tree_time), \n",
    "                    datetime.timedelta(seconds=knn_time), datetime.timedelta(seconds=gb_tree_time),\n",
    "                    datetime.timedelta(seconds=xgb_time)]\n",
    "    })\n",
    "models.sort_values(by='Accuracy', ascending=False)"
   ]
  },
  {
   "cell_type": "markdown",
   "metadata": {},
   "source": [
    "### Correlation matrix"
   ]
  },
  {
   "cell_type": "code",
   "execution_count": 111,
   "metadata": {
    "scrolled": false
   },
   "outputs": [
    {
     "data": {
      "image/png": "[encoded data removed]",
      "text/plain": [
       "<Figure size 1080x1440 with 2 Axes>"
      ]
     },
     "metadata": {},
     "output_type": "display_data"
    }
   ],
   "source": [
    "# import pandas as pd\n",
    "\n",
    "# X = dataset_one_hot_encoded.drop(['Attrition_Flag'], axis=1)\n",
    "# y = dataset_one_hot_encoded['Attrition_Flag']\n",
    "\n",
    "result = pd.concat([X, y], axis=1)\n",
    "correlation_train=result.corr()\n",
    "plt.figure(figsize=(15, 20))\n",
    "sns.heatmap(correlation_train, annot=True, fmt='.3f', cmap='Greens')\n",
    "plt.show()"
   ]
  },
  {
   "cell_type": "code",
   "execution_count": 96,
   "metadata": {},
   "outputs": [],
   "source": [
    "def drawheatmap(df):\n",
    "    '''Builds the heat map for the given data'''\n",
    "    f, ax = plt.subplots(figsize=(15, 15))\n",
    "    sns.heatmap(df.corr(method='spearman'), annot=False, cmap='coolwarm')"
   ]
  },
  {
   "cell_type": "code",
   "execution_count": 97,
   "metadata": {},
   "outputs": [
    {
     "data": {
      "image/png": "[encoded data removed]",
      "text/plain": [
       "<Figure size 1080x1080 with 2 Axes>"
      ]
     },
     "metadata": {},
     "output_type": "display_data"
    }
   ],
   "source": [
    "drawheatmap(X)"
   ]
  },
  {
   "cell_type": "markdown",
   "metadata": {},
   "source": [
    "# Save the best model"
   ]
  },
  {
   "cell_type": "code",
   "execution_count": 98,
   "metadata": {},
   "outputs": [],
   "source": [
    "# # Save the model in a file\n",
    "\n",
    "# filename = 'banking_churn_pred_model.pickle'\n",
    "# pickle.dump(xgb, open(filename, 'wb'))"
   ]
  },
  {
   "cell_type": "code",
   "execution_count": 99,
   "metadata": {},
   "outputs": [],
   "source": [
    "# loaded_model = pickle.load(open(filename, 'rb'))\n",
    "# loaded_model.predict(X_test)"
   ]
  },
  {
   "cell_type": "code",
   "execution_count": 100,
   "metadata": {},
   "outputs": [],
   "source": [
    "# # The second file\n",
    "# filename = 'banking_churn_pred_model.pickle'\n",
    "# loaded_model = pickle.load(open(filename, 'rb'))"
   ]
  },
  {
   "cell_type": "code",
   "execution_count": 101,
   "metadata": {},
   "outputs": [],
   "source": [
    "# import gc\n",
    "# gc.collect()"
   ]
  },
  {
   "cell_type": "code",
   "execution_count": 102,
   "metadata": {},
   "outputs": [],
   "source": [
    "# import numpy\n",
    "\n",
    "# niza  = np.array([3213,12,321,312,])\n",
    "# print(np.max(niza))"
   ]
  },
  {
   "cell_type": "markdown",
   "metadata": {},
   "source": []
  }
 ],
 "metadata": {
  "colab": {
   "collapsed_sections": [],
   "name": "Bank_template.ipynb",
   "provenance": []
  },
  "kernelspec": {
   "display_name": "Python 3",
   "language": "python",
   "name": "python3"
  },
  "language_info": {
   "codemirror_mode": {
    "name": "ipython",
    "version": 3
   },
   "file_extension": ".py",
   "mimetype": "text/x-python",
   "name": "python",
   "nbconvert_exporter": "python",
   "pygments_lexer": "ipython3",
   "version": "3.7.4"
  }
 },
 "nbformat": 4,
 "nbformat_minor": 1
}
